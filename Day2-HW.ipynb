{
 "cells": [
  {
   "cell_type": "markdown",
   "id": "1cc1bdae-fb8c-4df5-bceb-e966ef5872c5",
   "metadata": {},
   "source": [
    "## Introduction to Data Science\n",
    "\n",
    "#### University of Redlands - DATA 101\n",
    "#### Prof: Joanna Bieri [joanna_bieri@redlands.edu](mailto:joanna_bieri@redlands.edu)\n",
    "#### [Class Website: data101.joannabieri.com](https://joannabieri.com/data101.html)\n",
    "\n",
    "---------------------------------------\n",
    "# Homework Day 2\n",
    "---------------------------------------\n",
    "\n",
    "GOALS:\n",
    "\n",
    "1. Start using Python\n",
    "2. Start looking at Data!\n",
    "\n",
    "----------------------------------------------------------\n",
    "\n",
    "This homework has **TWO** warm-up problems and **FOUR** problems."
   ]
  },
  {
   "cell_type": "markdown",
   "id": "b2c39d80-a1fd-479b-910c-6ad341ad5310",
   "metadata": {},
   "source": [
    "\n",
    "## Hello World!\n",
    "\n",
    "### Warm up Problem 1\n",
    "\n",
    "Write python code that will print your name and run the cell."
   ]
  },
  {
   "cell_type": "code",
   "execution_count": 9,
   "id": "0a219b6a-b87f-456d-b991-c392fe5cc5b6",
   "metadata": {},
   "outputs": [
    {
     "name": "stdout",
     "output_type": "stream",
     "text": [
      "Uriel Martinez\n"
     ]
    }
   ],
   "source": [
    "print(\"Uriel Martinez\")\n"
   ]
  },
  {
   "cell_type": "markdown",
   "id": "e2b797c2-cfcd-4a3f-acf2-3ad6f0183192",
   "metadata": {},
   "source": [
    "## Installing Modules\n",
    "\n",
    "### Warm up Problem 2\n",
    "\n",
    "Install the modules that you will need to run the rest of the code. You can copy and paste the commands from the class notes. This might take a minute or two to run... go get a cup of coffee :)"
   ]
  },
  {
   "cell_type": "code",
   "execution_count": 93,
   "id": "7d0b61b4-204e-4c77-be7d-a318cd32e40a",
   "metadata": {},
   "outputs": [
    {
     "name": "stdout",
     "output_type": "stream",
     "text": [
      "Channels:\n",
      " - conda-forge\n",
      " - defaults\n",
      "Platform: osx-arm64\n",
      "Collecting package metadata (repodata.json): done\n",
      "Solving environment: done\n",
      "\n",
      "# All requested packages already installed.\n",
      "\n",
      "Channels:\n",
      " - conda-forge\n",
      " - defaults\n",
      "Platform: osx-arm64\n",
      "Collecting package metadata (repodata.json): done\n",
      "Solving environment: done\n",
      "\n",
      "# All requested packages already installed.\n",
      "\n",
      "Channels:\n",
      " - conda-forge\n",
      " - defaults\n",
      "Platform: osx-arm64\n",
      "Collecting package metadata (repodata.json): done\n",
      "Solving environment: done\n",
      "\n",
      "# All requested packages already installed.\n",
      "\n",
      "Channels:\n",
      " - conda-forge\n",
      " - defaults\n",
      "Platform: osx-arm64\n",
      "Collecting package metadata (repodata.json): done\n",
      "Solving environment: done\n",
      "\n",
      "# All requested packages already installed.\n",
      "\n",
      "Channels:\n",
      " - conda-forge\n",
      " - defaults\n",
      "Platform: osx-arm64\n",
      "Collecting package metadata (repodata.json): done\n",
      "Solving environment: done\n",
      "\n",
      "# All requested packages already installed.\n",
      "\n",
      "Channels:\n",
      " - conda-forge\n",
      " - defaults\n",
      "Platform: osx-arm64\n",
      "Collecting package metadata (repodata.json): done\n",
      "Solving environment: done\n",
      "\n",
      "# All requested packages already installed.\n",
      "\n",
      "Channels:\n",
      " - conda-forge\n",
      " - defaults\n",
      "Platform: osx-arm64\n",
      "Collecting package metadata (repodata.json): done\n",
      "Solving environment: done\n",
      "\n",
      "# All requested packages already installed.\n",
      "\n"
     ]
    }
   ],
   "source": [
    "# Copy and paste the code here:\n",
    "### This will take a while to run - just let it go.\n",
    "!conda install -y numpy\n",
    "!conda install -y pandas\n",
    "!conda install -y matplotlib\n",
    "!conda install -y plotly\n",
    "!conda install -y itables\n",
    "!conda install -y statsmodels\n",
    "!conda install -y -c conda-forge python-kaleido"
   ]
  },
  {
   "cell_type": "markdown",
   "id": "56b03eae-6df6-424b-8325-0f40ca79e8c1",
   "metadata": {},
   "source": [
    "## Let's do some Data Science.\n",
    "\n",
    "We will explore some data about how countries vote at the United Nations General Assembly. You should follow along with the notes and/or class video.\n",
    "\n",
    "I am breaking this into parts and having you copy and paste the code so you can start to identify what the different parts of the code do."
   ]
  },
  {
   "cell_type": "markdown",
   "id": "b375e170-9404-4a45-b5ac-9896c009fdff",
   "metadata": {},
   "source": [
    "-------------------------------\n",
    "### Importing Packages:\n",
    "-------------------------------\n",
    "\n",
    "Every time we start a new project we will import the packages that will help us do the analysis. Copy and paste all of the imports in the cell below.\n",
    "\n",
    "* numpy = mathematical and number packages for python\n",
    "* pandas = pretty tables, dataframes, and data analysis packages\n",
    "* matplotlib.pyplot = nice looking graphs\n",
    "* plotly = nice looking graphs.\n",
    "* itables = pretty looking tables that have a search bar"
   ]
  },
  {
   "cell_type": "code",
   "execution_count": 92,
   "id": "d377d0c6-d6b9-4bbf-9561-02402781a58d",
   "metadata": {},
   "outputs": [],
   "source": [
    "import numpy as np\n",
    "import pandas as pd\n",
    "\n",
    "import matplotlib.pyplot as plt\n",
    "import plotly.express as px\n",
    "from plotly.subplots import make_subplots\n",
    "\n",
    "from itables import show"
   ]
  },
  {
   "cell_type": "markdown",
   "id": "2d0f1b4e-0edd-4c16-a40b-fe13d095e15c",
   "metadata": {},
   "source": [
    "-------------------------------\n",
    "### Get the Data:\n",
    "-------------------------------\n",
    "\n",
    "We will practice all sorts of ways to get data into our notebooks. When you use Pandas (pd) to read a csv:\n",
    "\n",
    "    DF = pd.read_csv(file_location)\n",
    "\n",
    "you are basically reading in a spreadsheet (Excel). The data for today is stored on my website.\n",
    "\n",
    "It might take a minute for the data to load."
   ]
  },
  {
   "cell_type": "code",
   "execution_count": 91,
   "id": "1253d511-c553-454f-a94b-2d0a6f97bd1f",
   "metadata": {},
   "outputs": [],
   "source": [
    "# Note this takes about a minute to run\n",
    "file_location = 'https://joannabieri.com/introdatascience/data/unvotes.csv'\n",
    "DF = pd.read_csv(file_location)\n",
    "years = [int(d.split('-')[0]) for d in DF['date']]\n",
    "DF['year'] = years\n",
    "DF = DF.drop('Unnamed: 0',axis=1)\n"
   ]
  },
  {
   "cell_type": "markdown",
   "id": "4775aa78-8ca3-4d32-bf28-ea0f2eff5650",
   "metadata": {},
   "source": [
    "\n",
    "-------------------------------\n",
    "### Initial Data Exploration:\n",
    "-------------------------------\n",
    "-------------------------------\n",
    "### Show the Data:\n",
    "-------------------------------\n",
    "\n",
    "We want to look at what we have. The data is now represented by the variable DF."
   ]
  },
  {
   "cell_type": "code",
   "execution_count": 35,
   "id": "da556aed-fa86-4049-bc8b-9cfc8c3666b3",
   "metadata": {
    "scrolled": true
   },
   "outputs": [
    {
     "data": {
      "text/html": [
       "<table id=\"itables_c133a307_e3cd_403a_889a_22bce8010a14\" class=\"display nowrap\" data-quarto-disable-processing=\"true\" style=\"table-layout:auto;width:auto;margin:auto;caption-side:bottom\">\n",
       "<thead>\n",
       "    <tr style=\"text-align: right;\">\n",
       "      \n",
       "      <th>rcid</th>\n",
       "      <th>country</th>\n",
       "      <th>country_code</th>\n",
       "      <th>vote</th>\n",
       "      <th>session</th>\n",
       "      <th>importantvote</th>\n",
       "      <th>date</th>\n",
       "      <th>unres</th>\n",
       "      <th>amend</th>\n",
       "      <th>para</th>\n",
       "      <th>short</th>\n",
       "      <th>descr</th>\n",
       "      <th>short_name</th>\n",
       "      <th>issue</th>\n",
       "      <th>year</th>\n",
       "    </tr>\n",
       "  </thead><tbody><tr>\n",
       "<td style=\"vertical-align:middle; text-align:left\">\n",
       "<div style=\"float:left; margin-right: 10px;\">\n",
       "<a href=https://mwouts.github.io/itables/><svg class=\"main-svg\" xmlns=\"http://www.w3.org/2000/svg\" xmlns:xlink=\"http://www.w3.org/1999/xlink\"\n",
       "width=\"64\" viewBox=\"0 0 500 400\" style=\"font-family: 'Droid Sans', sans-serif;\">\n",
       "    <g style=\"fill:#d9d7fc\">\n",
       "        <path d=\"M100,400H500V357H100Z\" />\n",
       "        <path d=\"M100,300H400V257H100Z\" />\n",
       "        <path d=\"M0,200H400V157H0Z\" />\n",
       "        <path d=\"M100,100H500V57H100Z\" />\n",
       "        <path d=\"M100,350H500V307H100Z\" />\n",
       "        <path d=\"M100,250H400V207H100Z\" />\n",
       "        <path d=\"M0,150H400V107H0Z\" />\n",
       "        <path d=\"M100,50H500V7H100Z\" />\n",
       "    </g>\n",
       "    <g style=\"fill:#1a1366;stroke:#1a1366;\">\n",
       "   <rect x=\"100\" y=\"7\" width=\"400\" height=\"43\">\n",
       "    <animate\n",
       "      attributeName=\"width\"\n",
       "      values=\"0;400;0\"\n",
       "      dur=\"5s\"\n",
       "      repeatCount=\"indefinite\" />\n",
       "      <animate\n",
       "      attributeName=\"x\"\n",
       "      values=\"100;100;500\"\n",
       "      dur=\"5s\"\n",
       "      repeatCount=\"indefinite\" />\n",
       "  </rect>\n",
       "        <rect x=\"0\" y=\"107\" width=\"400\" height=\"43\">\n",
       "    <animate\n",
       "      attributeName=\"width\"\n",
       "      values=\"0;400;0\"\n",
       "      dur=\"3.5s\"\n",
       "      repeatCount=\"indefinite\" />\n",
       "    <animate\n",
       "      attributeName=\"x\"\n",
       "      values=\"0;0;400\"\n",
       "      dur=\"3.5s\"\n",
       "      repeatCount=\"indefinite\" />\n",
       "  </rect>\n",
       "        <rect x=\"100\" y=\"207\" width=\"300\" height=\"43\">\n",
       "    <animate\n",
       "      attributeName=\"width\"\n",
       "      values=\"0;300;0\"\n",
       "      dur=\"3s\"\n",
       "      repeatCount=\"indefinite\" />\n",
       "    <animate\n",
       "      attributeName=\"x\"\n",
       "      values=\"100;100;400\"\n",
       "      dur=\"3s\"\n",
       "      repeatCount=\"indefinite\" />\n",
       "  </rect>\n",
       "        <rect x=\"100\" y=\"307\" width=\"400\" height=\"43\">\n",
       "    <animate\n",
       "      attributeName=\"width\"\n",
       "      values=\"0;400;0\"\n",
       "      dur=\"4s\"\n",
       "      repeatCount=\"indefinite\" />\n",
       "      <animate\n",
       "      attributeName=\"x\"\n",
       "      values=\"100;100;500\"\n",
       "      dur=\"4s\"\n",
       "      repeatCount=\"indefinite\" />\n",
       "  </rect>\n",
       "        <g style=\"fill:transparent;stroke-width:8; stroke-linejoin:round\" rx=\"5\">\n",
       "            <g transform=\"translate(45 50) rotate(-45)\">\n",
       "                <circle r=\"33\" cx=\"0\" cy=\"0\" />\n",
       "                <rect x=\"-8\" y=\"32\" width=\"16\" height=\"30\" />\n",
       "            </g>\n",
       "\n",
       "            <g transform=\"translate(450 152)\">\n",
       "                <polyline points=\"-15,-20 -35,-20 -35,40 25,40 25,20\" />\n",
       "                <rect x=\"-15\" y=\"-40\" width=\"60\" height=\"60\" />\n",
       "            </g>\n",
       "\n",
       "            <g transform=\"translate(50 352)\">\n",
       "                <polygon points=\"-35,-5 0,-40 35,-5\" />\n",
       "                <polygon points=\"-35,10 0,45 35,10\" />\n",
       "            </g>\n",
       "\n",
       "            <g transform=\"translate(75 250)\">\n",
       "                <polyline points=\"-30,30 -60,0 -30,-30\" />\n",
       "                <polyline points=\"0,30 -30,0 0,-30\" />\n",
       "            </g>\n",
       "\n",
       "            <g transform=\"translate(425 250) rotate(180)\">\n",
       "                <polyline points=\"-30,30 -60,0 -30,-30\" />\n",
       "                <polyline points=\"0,30 -30,0 0,-30\" />\n",
       "            </g>\n",
       "        </g>\n",
       "    </g>\n",
       "</svg>\n",
       "</a>\n",
       "</div>\n",
       "<div>\n",
       "Loading ITables v2.1.4 from the internet...\n",
       "(need <a href=https://mwouts.github.io/itables/troubleshooting.html>help</a>?)</td>\n",
       "</div>\n",
       "</tr></tbody>\n",
       "\n",
       "</table>\n",
       "<link href=\"https://www.unpkg.com/dt_for_itables@2.0.11/dt_bundle.css\" rel=\"stylesheet\">\n",
       "<script type=\"module\">\n",
       "    import {DataTable, jQuery as $} from 'https://www.unpkg.com/dt_for_itables@2.0.11/dt_bundle.js';\n",
       "\n",
       "    document.querySelectorAll(\"#itables_c133a307_e3cd_403a_889a_22bce8010a14:not(.dataTable)\").forEach(table => {\n",
       "        // Define the table data\n",
       "        const data = [[6, \"United States\", \"US\", \"no\", 1, 0.0, \"1946-01-04\", \"R/1/107\", 0.0, 0.0, \"DECLARATION OF HUMAN RIGHTS\", \"TO ADOPT A CUBAN PROPOSAL (A/3-C) THAT AN ITEM ON A DECLARATION OF THE RIGHTS AND DUTIES OF MAN BE TABLED.\", \"hr\", \"Human rights\", 1946], [6, \"Canada\", \"CA\", \"no\", 1, 0.0, \"1946-01-04\", \"R/1/107\", 0.0, 0.0, \"DECLARATION OF HUMAN RIGHTS\", \"TO ADOPT A CUBAN PROPOSAL (A/3-C) THAT AN ITEM ON A DECLARATION OF THE RIGHTS AND DUTIES OF MAN BE TABLED.\", \"hr\", \"Human rights\", 1946], [6, \"Cuba\", \"CU\", \"yes\", 1, 0.0, \"1946-01-04\", \"R/1/107\", 0.0, 0.0, \"DECLARATION OF HUMAN RIGHTS\", \"TO ADOPT A CUBAN PROPOSAL (A/3-C) THAT AN ITEM ON A DECLARATION OF THE RIGHTS AND DUTIES OF MAN BE TABLED.\", \"hr\", \"Human rights\", 1946], [6, \"Dominican Republic\", \"DO\", \"abstain\", 1, 0.0, \"1946-01-04\", \"R/1/107\", 0.0, 0.0, \"DECLARATION OF HUMAN RIGHTS\", \"TO ADOPT A CUBAN PROPOSAL (A/3-C) THAT AN ITEM ON A DECLARATION OF THE RIGHTS AND DUTIES OF MAN BE TABLED.\", \"hr\", \"Human rights\", 1946], [6, \"Mexico\", \"MX\", \"yes\", 1, 0.0, \"1946-01-04\", \"R/1/107\", 0.0, 0.0, \"DECLARATION OF HUMAN RIGHTS\", \"TO ADOPT A CUBAN PROPOSAL (A/3-C) THAT AN ITEM ON A DECLARATION OF THE RIGHTS AND DUTIES OF MAN BE TABLED.\", \"hr\", \"Human rights\", 1946], [6, \"Guatemala\", \"GT\", \"no\", 1, 0.0, \"1946-01-04\", \"R/1/107\", 0.0, 0.0, \"DECLARATION OF HUMAN RIGHTS\", \"TO ADOPT A CUBAN PROPOSAL (A/3-C) THAT AN ITEM ON A DECLARATION OF THE RIGHTS AND DUTIES OF MAN BE TABLED.\", \"hr\", \"Human rights\", 1946], [6, \"Honduras\", \"HN\", \"yes\", 1, 0.0, \"1946-01-04\", \"R/1/107\", 0.0, 0.0, \"DECLARATION OF HUMAN RIGHTS\", \"TO ADOPT A CUBAN PROPOSAL (A/3-C) THAT AN ITEM ON A DECLARATION OF THE RIGHTS AND DUTIES OF MAN BE TABLED.\", \"hr\", \"Human rights\", 1946], [6, \"El Salvador\", \"SV\", \"abstain\", 1, 0.0, \"1946-01-04\", \"R/1/107\", 0.0, 0.0, \"DECLARATION OF HUMAN RIGHTS\", \"TO ADOPT A CUBAN PROPOSAL (A/3-C) THAT AN ITEM ON A DECLARATION OF THE RIGHTS AND DUTIES OF MAN BE TABLED.\", \"hr\", \"Human rights\", 1946], [6, \"Nicaragua\", \"NI\", \"yes\", 1, 0.0, \"1946-01-04\", \"R/1/107\", 0.0, 0.0, \"DECLARATION OF HUMAN RIGHTS\", \"TO ADOPT A CUBAN PROPOSAL (A/3-C) THAT AN ITEM ON A DECLARATION OF THE RIGHTS AND DUTIES OF MAN BE TABLED.\", \"hr\", \"Human rights\", 1946], [6, \"Panama\", \"PA\", \"abstain\", 1, 0.0, \"1946-01-04\", \"R/1/107\", 0.0, 0.0, \"DECLARATION OF HUMAN RIGHTS\", \"TO ADOPT A CUBAN PROPOSAL (A/3-C) THAT AN ITEM ON A DECLARATION OF THE RIGHTS AND DUTIES OF MAN BE TABLED.\", \"hr\", \"Human rights\", 1946], [6, \"Colombia\", \"CO\", \"abstain\", 1, 0.0, \"1946-01-04\", \"R/1/107\", 0.0, 0.0, \"DECLARATION OF HUMAN RIGHTS\", \"TO ADOPT A CUBAN PROPOSAL (A/3-C) THAT AN ITEM ON A DECLARATION OF THE RIGHTS AND DUTIES OF MAN BE TABLED.\", \"hr\", \"Human rights\", 1946], [6, \"Venezuela\", \"VE\", \"no\", 1, 0.0, \"1946-01-04\", \"R/1/107\", 0.0, 0.0, \"DECLARATION OF HUMAN RIGHTS\", \"TO ADOPT A CUBAN PROPOSAL (A/3-C) THAT AN ITEM ON A DECLARATION OF THE RIGHTS AND DUTIES OF MAN BE TABLED.\", \"hr\", \"Human rights\", 1946], [6, \"Ecuador\", \"EC\", \"yes\", 1, 0.0, \"1946-01-04\", \"R/1/107\", 0.0, 0.0, \"DECLARATION OF HUMAN RIGHTS\", \"TO ADOPT A CUBAN PROPOSAL (A/3-C) THAT AN ITEM ON A DECLARATION OF THE RIGHTS AND DUTIES OF MAN BE TABLED.\", \"hr\", \"Human rights\", 1946], [6, \"Peru\", \"PE\", \"yes\", 1, 0.0, \"1946-01-04\", \"R/1/107\", 0.0, 0.0, \"DECLARATION OF HUMAN RIGHTS\", \"TO ADOPT A CUBAN PROPOSAL (A/3-C) THAT AN ITEM ON A DECLARATION OF THE RIGHTS AND DUTIES OF MAN BE TABLED.\", \"hr\", \"Human rights\", 1946], [6, \"Brazil\", \"BR\", \"no\", 1, 0.0, \"1946-01-04\", \"R/1/107\", 0.0, 0.0, \"DECLARATION OF HUMAN RIGHTS\", \"TO ADOPT A CUBAN PROPOSAL (A/3-C) THAT AN ITEM ON A DECLARATION OF THE RIGHTS AND DUTIES OF MAN BE TABLED.\", \"hr\", \"Human rights\", 1946], [6, \"Bolivia\", \"BO\", \"no\", 1, 0.0, \"1946-01-04\", \"R/1/107\", 0.0, 0.0, \"DECLARATION OF HUMAN RIGHTS\", \"TO ADOPT A CUBAN PROPOSAL (A/3-C) THAT AN ITEM ON A DECLARATION OF THE RIGHTS AND DUTIES OF MAN BE TABLED.\", \"hr\", \"Human rights\", 1946], [6, \"Paraguay\", \"PY\", \"abstain\", 1, 0.0, \"1946-01-04\", \"R/1/107\", 0.0, 0.0, \"DECLARATION OF HUMAN RIGHTS\", \"TO ADOPT A CUBAN PROPOSAL (A/3-C) THAT AN ITEM ON A DECLARATION OF THE RIGHTS AND DUTIES OF MAN BE TABLED.\", \"hr\", \"Human rights\", 1946], [6, \"Chile\", \"CL\", \"yes\", 1, 0.0, \"1946-01-04\", \"R/1/107\", 0.0, 0.0, \"DECLARATION OF HUMAN RIGHTS\", \"TO ADOPT A CUBAN PROPOSAL (A/3-C) THAT AN ITEM ON A DECLARATION OF THE RIGHTS AND DUTIES OF MAN BE TABLED.\", \"hr\", \"Human rights\", 1946], [6, \"Argentina\", \"AR\", \"abstain\", 1, 0.0, \"1946-01-04\", \"R/1/107\", 0.0, 0.0, \"DECLARATION OF HUMAN RIGHTS\", \"TO ADOPT A CUBAN PROPOSAL (A/3-C) THAT AN ITEM ON A DECLARATION OF THE RIGHTS AND DUTIES OF MAN BE TABLED.\", \"hr\", \"Human rights\", 1946], [6, \"Uruguay\", \"UY\", \"yes\", 1, 0.0, \"1946-01-04\", \"R/1/107\", 0.0, 0.0, \"DECLARATION OF HUMAN RIGHTS\", \"TO ADOPT A CUBAN PROPOSAL (A/3-C) THAT AN ITEM ON A DECLARATION OF THE RIGHTS AND DUTIES OF MAN BE TABLED.\", \"hr\", \"Human rights\", 1946], [6, \"United Kingdom\", \"GB\", \"no\", 1, 0.0, \"1946-01-04\", \"R/1/107\", 0.0, 0.0, \"DECLARATION OF HUMAN RIGHTS\", \"TO ADOPT A CUBAN PROPOSAL (A/3-C) THAT AN ITEM ON A DECLARATION OF THE RIGHTS AND DUTIES OF MAN BE TABLED.\", \"hr\", \"Human rights\", 1946], [6, \"Netherlands\", \"NL\", \"no\", 1, 0.0, \"1946-01-04\", \"R/1/107\", 0.0, 0.0, \"DECLARATION OF HUMAN RIGHTS\", \"TO ADOPT A CUBAN PROPOSAL (A/3-C) THAT AN ITEM ON A DECLARATION OF THE RIGHTS AND DUTIES OF MAN BE TABLED.\", \"hr\", \"Human rights\", 1946], [6, \"Belgium\", \"BE\", \"no\", 1, 0.0, \"1946-01-04\", \"R/1/107\", 0.0, 0.0, \"DECLARATION OF HUMAN RIGHTS\", \"TO ADOPT A CUBAN PROPOSAL (A/3-C) THAT AN ITEM ON A DECLARATION OF THE RIGHTS AND DUTIES OF MAN BE TABLED.\", \"hr\", \"Human rights\", 1946], [6, \"Luxembourg\", \"LU\", \"no\", 1, 0.0, \"1946-01-04\", \"R/1/107\", 0.0, 0.0, \"DECLARATION OF HUMAN RIGHTS\", \"TO ADOPT A CUBAN PROPOSAL (A/3-C) THAT AN ITEM ON A DECLARATION OF THE RIGHTS AND DUTIES OF MAN BE TABLED.\", \"hr\", \"Human rights\", 1946], [6, \"France\", \"FR\", \"no\", 1, 0.0, \"1946-01-04\", \"R/1/107\", 0.0, 0.0, \"DECLARATION OF HUMAN RIGHTS\", \"TO ADOPT A CUBAN PROPOSAL (A/3-C) THAT AN ITEM ON A DECLARATION OF THE RIGHTS AND DUTIES OF MAN BE TABLED.\", \"hr\", \"Human rights\", 1946], [6, \"Poland\", \"PL\", \"no\", 1, 0.0, \"1946-01-04\", \"R/1/107\", 0.0, 0.0, \"DECLARATION OF HUMAN RIGHTS\", \"TO ADOPT A CUBAN PROPOSAL (A/3-C) THAT AN ITEM ON A DECLARATION OF THE RIGHTS AND DUTIES OF MAN BE TABLED.\", \"hr\", \"Human rights\", 1946], [6, \"Czechoslovakia\", \"CS\", \"no\", 1, 0.0, \"1946-01-04\", \"R/1/107\", 0.0, 0.0, \"DECLARATION OF HUMAN RIGHTS\", \"TO ADOPT A CUBAN PROPOSAL (A/3-C) THAT AN ITEM ON A DECLARATION OF THE RIGHTS AND DUTIES OF MAN BE TABLED.\", \"hr\", \"Human rights\", 1946], [6, \"Yugoslavia\", \"YU\", \"no\", 1, 0.0, \"1946-01-04\", \"R/1/107\", 0.0, 0.0, \"DECLARATION OF HUMAN RIGHTS\", \"TO ADOPT A CUBAN PROPOSAL (A/3-C) THAT AN ITEM ON A DECLARATION OF THE RIGHTS AND DUTIES OF MAN BE TABLED.\", \"hr\", \"Human rights\", 1946], [6, \"Greece\", \"GR\", \"no\", 1, 0.0, \"1946-01-04\", \"R/1/107\", 0.0, 0.0, \"DECLARATION OF HUMAN RIGHTS\", \"TO ADOPT A CUBAN PROPOSAL (A/3-C) THAT AN ITEM ON A DECLARATION OF THE RIGHTS AND DUTIES OF MAN BE TABLED.\", \"hr\", \"Human rights\", 1946], [6, \"Russia\", \"RU\", \"no\", 1, 0.0, \"1946-01-04\", \"R/1/107\", 0.0, 0.0, \"DECLARATION OF HUMAN RIGHTS\", \"TO ADOPT A CUBAN PROPOSAL (A/3-C) THAT AN ITEM ON A DECLARATION OF THE RIGHTS AND DUTIES OF MAN BE TABLED.\", \"hr\", \"Human rights\", 1946], [6, \"Ukraine\", \"UA\", \"no\", 1, 0.0, \"1946-01-04\", \"R/1/107\", 0.0, 0.0, \"DECLARATION OF HUMAN RIGHTS\", \"TO ADOPT A CUBAN PROPOSAL (A/3-C) THAT AN ITEM ON A DECLARATION OF THE RIGHTS AND DUTIES OF MAN BE TABLED.\", \"hr\", \"Human rights\", 1946], [6, \"Belarus\", \"BY\", \"no\", 1, 0.0, \"1946-01-04\", \"R/1/107\", 0.0, 0.0, \"DECLARATION OF HUMAN RIGHTS\", \"TO ADOPT A CUBAN PROPOSAL (A/3-C) THAT AN ITEM ON A DECLARATION OF THE RIGHTS AND DUTIES OF MAN BE TABLED.\", \"hr\", \"Human rights\", 1946], [6, \"Norway\", \"NO\", \"no\", 1, 0.0, \"1946-01-04\", \"R/1/107\", 0.0, 0.0, \"DECLARATION OF HUMAN RIGHTS\", \"TO ADOPT A CUBAN PROPOSAL (A/3-C) THAT AN ITEM ON A DECLARATION OF THE RIGHTS AND DUTIES OF MAN BE TABLED.\", \"hr\", \"Human rights\", 1946], [6, \"Denmark\", \"DK\", \"no\", 1, 0.0, \"1946-01-04\", \"R/1/107\", 0.0, 0.0, \"DECLARATION OF HUMAN RIGHTS\", \"TO ADOPT A CUBAN PROPOSAL (A/3-C) THAT AN ITEM ON A DECLARATION OF THE RIGHTS AND DUTIES OF MAN BE TABLED.\", \"hr\", \"Human rights\", 1946], [6, \"Liberia\", \"LR\", \"no\", 1, 0.0, \"1946-01-04\", \"R/1/107\", 0.0, 0.0, \"DECLARATION OF HUMAN RIGHTS\", \"TO ADOPT A CUBAN PROPOSAL (A/3-C) THAT AN ITEM ON A DECLARATION OF THE RIGHTS AND DUTIES OF MAN BE TABLED.\", \"hr\", \"Human rights\", 1946], [6, \"Ethiopia\", \"ET\", \"abstain\", 1, 0.0, \"1946-01-04\", \"R/1/107\", 0.0, 0.0, \"DECLARATION OF HUMAN RIGHTS\", \"TO ADOPT A CUBAN PROPOSAL (A/3-C) THAT AN ITEM ON A DECLARATION OF THE RIGHTS AND DUTIES OF MAN BE TABLED.\", \"hr\", \"Human rights\", 1946], [6, \"South Africa\", \"ZA\", \"no\", 1, 0.0, \"1946-01-04\", \"R/1/107\", 0.0, 0.0, \"DECLARATION OF HUMAN RIGHTS\", \"TO ADOPT A CUBAN PROPOSAL (A/3-C) THAT AN ITEM ON A DECLARATION OF THE RIGHTS AND DUTIES OF MAN BE TABLED.\", \"hr\", \"Human rights\", 1946], [6, \"Iran\", \"IR\", \"yes\", 1, 0.0, \"1946-01-04\", \"R/1/107\", 0.0, 0.0, \"DECLARATION OF HUMAN RIGHTS\", \"TO ADOPT A CUBAN PROPOSAL (A/3-C) THAT AN ITEM ON A DECLARATION OF THE RIGHTS AND DUTIES OF MAN BE TABLED.\", \"hr\", \"Human rights\", 1946], [6, \"Turkey\", \"TR\", \"no\", 1, 0.0, \"1946-01-04\", \"R/1/107\", 0.0, 0.0, \"DECLARATION OF HUMAN RIGHTS\", \"TO ADOPT A CUBAN PROPOSAL (A/3-C) THAT AN ITEM ON A DECLARATION OF THE RIGHTS AND DUTIES OF MAN BE TABLED.\", \"hr\", \"Human rights\", 1946], [6, \"Iraq\", \"IQ\", \"abstain\", 1, 0.0, \"1946-01-04\", \"R/1/107\", 0.0, 0.0, \"DECLARATION OF HUMAN RIGHTS\", \"TO ADOPT A CUBAN PROPOSAL (A/3-C) THAT AN ITEM ON A DECLARATION OF THE RIGHTS AND DUTIES OF MAN BE TABLED.\", \"hr\", \"Human rights\", 1946], [6, \"Egypt\", \"EG\", \"abstain\", 1, 0.0, \"1946-01-04\", \"R/1/107\", 0.0, 0.0, \"DECLARATION OF HUMAN RIGHTS\", \"TO ADOPT A CUBAN PROPOSAL (A/3-C) THAT AN ITEM ON A DECLARATION OF THE RIGHTS AND DUTIES OF MAN BE TABLED.\", \"hr\", \"Human rights\", 1946], [6, \"Syria\", \"SY\", \"no\", 1, 0.0, \"1946-01-04\", \"R/1/107\", 0.0, 0.0, \"DECLARATION OF HUMAN RIGHTS\", \"TO ADOPT A CUBAN PROPOSAL (A/3-C) THAT AN ITEM ON A DECLARATION OF THE RIGHTS AND DUTIES OF MAN BE TABLED.\", \"hr\", \"Human rights\", 1946], [6, \"Lebanon\", \"LB\", \"yes\", 1, 0.0, \"1946-01-04\", \"R/1/107\", 0.0, 0.0, \"DECLARATION OF HUMAN RIGHTS\", \"TO ADOPT A CUBAN PROPOSAL (A/3-C) THAT AN ITEM ON A DECLARATION OF THE RIGHTS AND DUTIES OF MAN BE TABLED.\", \"hr\", \"Human rights\", 1946], [6, \"Saudi Arabia\", \"SA\", \"abstain\", 1, 0.0, \"1946-01-04\", \"R/1/107\", 0.0, 0.0, \"DECLARATION OF HUMAN RIGHTS\", \"TO ADOPT A CUBAN PROPOSAL (A/3-C) THAT AN ITEM ON A DECLARATION OF THE RIGHTS AND DUTIES OF MAN BE TABLED.\", \"hr\", \"Human rights\", 1946], [6, \"Taiwan\", \"TW\", \"no\", 1, 0.0, \"1946-01-04\", \"R/1/107\", 0.0, 0.0, \"DECLARATION OF HUMAN RIGHTS\", \"TO ADOPT A CUBAN PROPOSAL (A/3-C) THAT AN ITEM ON A DECLARATION OF THE RIGHTS AND DUTIES OF MAN BE TABLED.\", \"hr\", \"Human rights\", 1946], [6, \"India\", \"IN\", \"no\", 1, 0.0, \"1946-01-04\", \"R/1/107\", 0.0, 0.0, \"DECLARATION OF HUMAN RIGHTS\", \"TO ADOPT A CUBAN PROPOSAL (A/3-C) THAT AN ITEM ON A DECLARATION OF THE RIGHTS AND DUTIES OF MAN BE TABLED.\", \"hr\", \"Human rights\", 1946], [6, \"Philippines\", \"PH\", \"yes\", 1, 0.0, \"1946-01-04\", \"R/1/107\", 0.0, 0.0, \"DECLARATION OF HUMAN RIGHTS\", \"TO ADOPT A CUBAN PROPOSAL (A/3-C) THAT AN ITEM ON A DECLARATION OF THE RIGHTS AND DUTIES OF MAN BE TABLED.\", \"hr\", \"Human rights\", 1946], [6, \"Australia\", \"AU\", \"yes\", 1, 0.0, \"1946-01-04\", \"R/1/107\", 0.0, 0.0, \"DECLARATION OF HUMAN RIGHTS\", \"TO ADOPT A CUBAN PROPOSAL (A/3-C) THAT AN ITEM ON A DECLARATION OF THE RIGHTS AND DUTIES OF MAN BE TABLED.\", \"hr\", \"Human rights\", 1946], [6, \"New Zealand\", \"NZ\", \"no\", 1, 0.0, \"1946-01-04\", \"R/1/107\", 0.0, 0.0, \"DECLARATION OF HUMAN RIGHTS\", \"TO ADOPT A CUBAN PROPOSAL (A/3-C) THAT AN ITEM ON A DECLARATION OF THE RIGHTS AND DUTIES OF MAN BE TABLED.\", \"hr\", \"Human rights\", 1946], [8, \"United States\", \"US\", \"no\", 1, 0.0, \"1946-01-05\", \"R/1/297\", 1.0, 0.0, \"ECOSOC POWERS\", \"TO ADOPT A SECOND 6TH COMM. AMENDMENT (A/14) TO THE PROVISIONAL RULES OF PROCEDURE, WHICH AMENDMENT EPLACES PROVISIONAL RULE T WITH A NEW TEXT AUTHORIZING THE ECONOMIC & SOC. COUNCIL TO CALL INTERNATIONAL CONFERENCES ON ANY MATTER WITHIN ITS CO\", \"ec\", \"Economic development\", 1946], [8, \"Canada\", \"CA\", \"yes\", 1, 0.0, \"1946-01-05\", \"R/1/297\", 1.0, 0.0, \"ECOSOC POWERS\", \"TO ADOPT A SECOND 6TH COMM. AMENDMENT (A/14) TO THE PROVISIONAL RULES OF PROCEDURE, WHICH AMENDMENT EPLACES PROVISIONAL RULE T WITH A NEW TEXT AUTHORIZING THE ECONOMIC & SOC. COUNCIL TO CALL INTERNATIONAL CONFERENCES ON ANY MATTER WITHIN ITS CO\", \"ec\", \"Economic development\", 1946], [8, \"Cuba\", \"CU\", \"yes\", 1, 0.0, \"1946-01-05\", \"R/1/297\", 1.0, 0.0, \"ECOSOC POWERS\", \"TO ADOPT A SECOND 6TH COMM. AMENDMENT (A/14) TO THE PROVISIONAL RULES OF PROCEDURE, WHICH AMENDMENT EPLACES PROVISIONAL RULE T WITH A NEW TEXT AUTHORIZING THE ECONOMIC & SOC. COUNCIL TO CALL INTERNATIONAL CONFERENCES ON ANY MATTER WITHIN ITS CO\", \"ec\", \"Economic development\", 1946], [8, \"Dominican Republic\", \"DO\", \"yes\", 1, 0.0, \"1946-01-05\", \"R/1/297\", 1.0, 0.0, \"ECOSOC POWERS\", \"TO ADOPT A SECOND 6TH COMM. AMENDMENT (A/14) TO THE PROVISIONAL RULES OF PROCEDURE, WHICH AMENDMENT EPLACES PROVISIONAL RULE T WITH A NEW TEXT AUTHORIZING THE ECONOMIC & SOC. COUNCIL TO CALL INTERNATIONAL CONFERENCES ON ANY MATTER WITHIN ITS CO\", \"ec\", \"Economic development\", 1946], [8, \"Mexico\", \"MX\", \"yes\", 1, 0.0, \"1946-01-05\", \"R/1/297\", 1.0, 0.0, \"ECOSOC POWERS\", \"TO ADOPT A SECOND 6TH COMM. AMENDMENT (A/14) TO THE PROVISIONAL RULES OF PROCEDURE, WHICH AMENDMENT EPLACES PROVISIONAL RULE T WITH A NEW TEXT AUTHORIZING THE ECONOMIC & SOC. COUNCIL TO CALL INTERNATIONAL CONFERENCES ON ANY MATTER WITHIN ITS CO\", \"ec\", \"Economic development\", 1946], [8, \"Guatemala\", \"GT\", \"yes\", 1, 0.0, \"1946-01-05\", \"R/1/297\", 1.0, 0.0, \"ECOSOC POWERS\", \"TO ADOPT A SECOND 6TH COMM. AMENDMENT (A/14) TO THE PROVISIONAL RULES OF PROCEDURE, WHICH AMENDMENT EPLACES PROVISIONAL RULE T WITH A NEW TEXT AUTHORIZING THE ECONOMIC & SOC. COUNCIL TO CALL INTERNATIONAL CONFERENCES ON ANY MATTER WITHIN ITS CO\", \"ec\", \"Economic development\", 1946], [8, \"Costa Rica\", \"CR\", \"yes\", 1, 0.0, \"1946-01-05\", \"R/1/297\", 1.0, 0.0, \"ECOSOC POWERS\", \"TO ADOPT A SECOND 6TH COMM. AMENDMENT (A/14) TO THE PROVISIONAL RULES OF PROCEDURE, WHICH AMENDMENT EPLACES PROVISIONAL RULE T WITH A NEW TEXT AUTHORIZING THE ECONOMIC & SOC. COUNCIL TO CALL INTERNATIONAL CONFERENCES ON ANY MATTER WITHIN ITS CO\", \"ec\", \"Economic development\", 1946], [8, \"Colombia\", \"CO\", \"yes\", 1, 0.0, \"1946-01-05\", \"R/1/297\", 1.0, 0.0, \"ECOSOC POWERS\", \"TO ADOPT A SECOND 6TH COMM. AMENDMENT (A/14) TO THE PROVISIONAL RULES OF PROCEDURE, WHICH AMENDMENT EPLACES PROVISIONAL RULE T WITH A NEW TEXT AUTHORIZING THE ECONOMIC & SOC. COUNCIL TO CALL INTERNATIONAL CONFERENCES ON ANY MATTER WITHIN ITS CO\", \"ec\", \"Economic development\", 1946], [8, \"Ecuador\", \"EC\", \"yes\", 1, 0.0, \"1946-01-05\", \"R/1/297\", 1.0, 0.0, \"ECOSOC POWERS\", \"TO ADOPT A SECOND 6TH COMM. AMENDMENT (A/14) TO THE PROVISIONAL RULES OF PROCEDURE, WHICH AMENDMENT EPLACES PROVISIONAL RULE T WITH A NEW TEXT AUTHORIZING THE ECONOMIC & SOC. COUNCIL TO CALL INTERNATIONAL CONFERENCES ON ANY MATTER WITHIN ITS CO\", \"ec\", \"Economic development\", 1946], [8, \"Peru\", \"PE\", \"yes\", 1, 0.0, \"1946-01-05\", \"R/1/297\", 1.0, 0.0, \"ECOSOC POWERS\", \"TO ADOPT A SECOND 6TH COMM. AMENDMENT (A/14) TO THE PROVISIONAL RULES OF PROCEDURE, WHICH AMENDMENT EPLACES PROVISIONAL RULE T WITH A NEW TEXT AUTHORIZING THE ECONOMIC & SOC. COUNCIL TO CALL INTERNATIONAL CONFERENCES ON ANY MATTER WITHIN ITS CO\", \"ec\", \"Economic development\", 1946], [8, \"Brazil\", \"BR\", \"yes\", 1, 0.0, \"1946-01-05\", \"R/1/297\", 1.0, 0.0, \"ECOSOC POWERS\", \"TO ADOPT A SECOND 6TH COMM. AMENDMENT (A/14) TO THE PROVISIONAL RULES OF PROCEDURE, WHICH AMENDMENT EPLACES PROVISIONAL RULE T WITH A NEW TEXT AUTHORIZING THE ECONOMIC & SOC. COUNCIL TO CALL INTERNATIONAL CONFERENCES ON ANY MATTER WITHIN ITS CO\", \"ec\", \"Economic development\", 1946], [8, \"Bolivia\", \"BO\", \"yes\", 1, 0.0, \"1946-01-05\", \"R/1/297\", 1.0, 0.0, \"ECOSOC POWERS\", \"TO ADOPT A SECOND 6TH COMM. AMENDMENT (A/14) TO THE PROVISIONAL RULES OF PROCEDURE, WHICH AMENDMENT EPLACES PROVISIONAL RULE T WITH A NEW TEXT AUTHORIZING THE ECONOMIC & SOC. COUNCIL TO CALL INTERNATIONAL CONFERENCES ON ANY MATTER WITHIN ITS CO\", \"ec\", \"Economic development\", 1946], [8, \"Chile\", \"CL\", \"yes\", 1, 0.0, \"1946-01-05\", \"R/1/297\", 1.0, 0.0, \"ECOSOC POWERS\", \"TO ADOPT A SECOND 6TH COMM. AMENDMENT (A/14) TO THE PROVISIONAL RULES OF PROCEDURE, WHICH AMENDMENT EPLACES PROVISIONAL RULE T WITH A NEW TEXT AUTHORIZING THE ECONOMIC & SOC. COUNCIL TO CALL INTERNATIONAL CONFERENCES ON ANY MATTER WITHIN ITS CO\", \"ec\", \"Economic development\", 1946], [8, \"Argentina\", \"AR\", \"yes\", 1, 0.0, \"1946-01-05\", \"R/1/297\", 1.0, 0.0, \"ECOSOC POWERS\", \"TO ADOPT A SECOND 6TH COMM. AMENDMENT (A/14) TO THE PROVISIONAL RULES OF PROCEDURE, WHICH AMENDMENT EPLACES PROVISIONAL RULE T WITH A NEW TEXT AUTHORIZING THE ECONOMIC & SOC. COUNCIL TO CALL INTERNATIONAL CONFERENCES ON ANY MATTER WITHIN ITS CO\", \"ec\", \"Economic development\", 1946], [8, \"Uruguay\", \"UY\", \"yes\", 1, 0.0, \"1946-01-05\", \"R/1/297\", 1.0, 0.0, \"ECOSOC POWERS\", \"TO ADOPT A SECOND 6TH COMM. AMENDMENT (A/14) TO THE PROVISIONAL RULES OF PROCEDURE, WHICH AMENDMENT EPLACES PROVISIONAL RULE T WITH A NEW TEXT AUTHORIZING THE ECONOMIC & SOC. COUNCIL TO CALL INTERNATIONAL CONFERENCES ON ANY MATTER WITHIN ITS CO\", \"ec\", \"Economic development\", 1946], [8, \"United Kingdom\", \"GB\", \"yes\", 1, 0.0, \"1946-01-05\", \"R/1/297\", 1.0, 0.0, \"ECOSOC POWERS\", \"TO ADOPT A SECOND 6TH COMM. AMENDMENT (A/14) TO THE PROVISIONAL RULES OF PROCEDURE, WHICH AMENDMENT EPLACES PROVISIONAL RULE T WITH A NEW TEXT AUTHORIZING THE ECONOMIC & SOC. COUNCIL TO CALL INTERNATIONAL CONFERENCES ON ANY MATTER WITHIN ITS CO\", \"ec\", \"Economic development\", 1946], [8, \"Netherlands\", \"NL\", \"yes\", 1, 0.0, \"1946-01-05\", \"R/1/297\", 1.0, 0.0, \"ECOSOC POWERS\", \"TO ADOPT A SECOND 6TH COMM. AMENDMENT (A/14) TO THE PROVISIONAL RULES OF PROCEDURE, WHICH AMENDMENT EPLACES PROVISIONAL RULE T WITH A NEW TEXT AUTHORIZING THE ECONOMIC & SOC. COUNCIL TO CALL INTERNATIONAL CONFERENCES ON ANY MATTER WITHIN ITS CO\", \"ec\", \"Economic development\", 1946], [8, \"Belgium\", \"BE\", \"yes\", 1, 0.0, \"1946-01-05\", \"R/1/297\", 1.0, 0.0, \"ECOSOC POWERS\", \"TO ADOPT A SECOND 6TH COMM. AMENDMENT (A/14) TO THE PROVISIONAL RULES OF PROCEDURE, WHICH AMENDMENT EPLACES PROVISIONAL RULE T WITH A NEW TEXT AUTHORIZING THE ECONOMIC & SOC. COUNCIL TO CALL INTERNATIONAL CONFERENCES ON ANY MATTER WITHIN ITS CO\", \"ec\", \"Economic development\", 1946], [8, \"Luxembourg\", \"LU\", \"yes\", 1, 0.0, \"1946-01-05\", \"R/1/297\", 1.0, 0.0, \"ECOSOC POWERS\", \"TO ADOPT A SECOND 6TH COMM. AMENDMENT (A/14) TO THE PROVISIONAL RULES OF PROCEDURE, WHICH AMENDMENT EPLACES PROVISIONAL RULE T WITH A NEW TEXT AUTHORIZING THE ECONOMIC & SOC. COUNCIL TO CALL INTERNATIONAL CONFERENCES ON ANY MATTER WITHIN ITS CO\", \"ec\", \"Economic development\", 1946], [8, \"France\", \"FR\", \"yes\", 1, 0.0, \"1946-01-05\", \"R/1/297\", 1.0, 0.0, \"ECOSOC POWERS\", \"TO ADOPT A SECOND 6TH COMM. AMENDMENT (A/14) TO THE PROVISIONAL RULES OF PROCEDURE, WHICH AMENDMENT EPLACES PROVISIONAL RULE T WITH A NEW TEXT AUTHORIZING THE ECONOMIC & SOC. COUNCIL TO CALL INTERNATIONAL CONFERENCES ON ANY MATTER WITHIN ITS CO\", \"ec\", \"Economic development\", 1946], [8, \"Poland\", \"PL\", \"yes\", 1, 0.0, \"1946-01-05\", \"R/1/297\", 1.0, 0.0, \"ECOSOC POWERS\", \"TO ADOPT A SECOND 6TH COMM. AMENDMENT (A/14) TO THE PROVISIONAL RULES OF PROCEDURE, WHICH AMENDMENT EPLACES PROVISIONAL RULE T WITH A NEW TEXT AUTHORIZING THE ECONOMIC & SOC. COUNCIL TO CALL INTERNATIONAL CONFERENCES ON ANY MATTER WITHIN ITS CO\", \"ec\", \"Economic development\", 1946], [8, \"Czechoslovakia\", \"CS\", \"yes\", 1, 0.0, \"1946-01-05\", \"R/1/297\", 1.0, 0.0, \"ECOSOC POWERS\", \"TO ADOPT A SECOND 6TH COMM. AMENDMENT (A/14) TO THE PROVISIONAL RULES OF PROCEDURE, WHICH AMENDMENT EPLACES PROVISIONAL RULE T WITH A NEW TEXT AUTHORIZING THE ECONOMIC & SOC. COUNCIL TO CALL INTERNATIONAL CONFERENCES ON ANY MATTER WITHIN ITS CO\", \"ec\", \"Economic development\", 1946], [8, \"Yugoslavia\", \"YU\", \"yes\", 1, 0.0, \"1946-01-05\", \"R/1/297\", 1.0, 0.0, \"ECOSOC POWERS\", \"TO ADOPT A SECOND 6TH COMM. AMENDMENT (A/14) TO THE PROVISIONAL RULES OF PROCEDURE, WHICH AMENDMENT EPLACES PROVISIONAL RULE T WITH A NEW TEXT AUTHORIZING THE ECONOMIC & SOC. COUNCIL TO CALL INTERNATIONAL CONFERENCES ON ANY MATTER WITHIN ITS CO\", \"ec\", \"Economic development\", 1946], [8, \"Greece\", \"GR\", \"yes\", 1, 0.0, \"1946-01-05\", \"R/1/297\", 1.0, 0.0, \"ECOSOC POWERS\", \"TO ADOPT A SECOND 6TH COMM. AMENDMENT (A/14) TO THE PROVISIONAL RULES OF PROCEDURE, WHICH AMENDMENT EPLACES PROVISIONAL RULE T WITH A NEW TEXT AUTHORIZING THE ECONOMIC & SOC. COUNCIL TO CALL INTERNATIONAL CONFERENCES ON ANY MATTER WITHIN ITS CO\", \"ec\", \"Economic development\", 1946], [8, \"Russia\", \"RU\", \"yes\", 1, 0.0, \"1946-01-05\", \"R/1/297\", 1.0, 0.0, \"ECOSOC POWERS\", \"TO ADOPT A SECOND 6TH COMM. AMENDMENT (A/14) TO THE PROVISIONAL RULES OF PROCEDURE, WHICH AMENDMENT EPLACES PROVISIONAL RULE T WITH A NEW TEXT AUTHORIZING THE ECONOMIC & SOC. COUNCIL TO CALL INTERNATIONAL CONFERENCES ON ANY MATTER WITHIN ITS CO\", \"ec\", \"Economic development\", 1946], [8, \"Ukraine\", \"UA\", \"yes\", 1, 0.0, \"1946-01-05\", \"R/1/297\", 1.0, 0.0, \"ECOSOC POWERS\", \"TO ADOPT A SECOND 6TH COMM. AMENDMENT (A/14) TO THE PROVISIONAL RULES OF PROCEDURE, WHICH AMENDMENT EPLACES PROVISIONAL RULE T WITH A NEW TEXT AUTHORIZING THE ECONOMIC & SOC. COUNCIL TO CALL INTERNATIONAL CONFERENCES ON ANY MATTER WITHIN ITS CO\", \"ec\", \"Economic development\", 1946], [8, \"Belarus\", \"BY\", \"yes\", 1, 0.0, \"1946-01-05\", \"R/1/297\", 1.0, 0.0, \"ECOSOC POWERS\", \"TO ADOPT A SECOND 6TH COMM. AMENDMENT (A/14) TO THE PROVISIONAL RULES OF PROCEDURE, WHICH AMENDMENT EPLACES PROVISIONAL RULE T WITH A NEW TEXT AUTHORIZING THE ECONOMIC & SOC. COUNCIL TO CALL INTERNATIONAL CONFERENCES ON ANY MATTER WITHIN ITS CO\", \"ec\", \"Economic development\", 1946], [8, \"Norway\", \"NO\", \"abstain\", 1, 0.0, \"1946-01-05\", \"R/1/297\", 1.0, 0.0, \"ECOSOC POWERS\", \"TO ADOPT A SECOND 6TH COMM. AMENDMENT (A/14) TO THE PROVISIONAL RULES OF PROCEDURE, WHICH AMENDMENT EPLACES PROVISIONAL RULE T WITH A NEW TEXT AUTHORIZING THE ECONOMIC & SOC. COUNCIL TO CALL INTERNATIONAL CONFERENCES ON ANY MATTER WITHIN ITS CO\", \"ec\", \"Economic development\", 1946], [8, \"Denmark\", \"DK\", \"abstain\", 1, 0.0, \"1946-01-05\", \"R/1/297\", 1.0, 0.0, \"ECOSOC POWERS\", \"TO ADOPT A SECOND 6TH COMM. AMENDMENT (A/14) TO THE PROVISIONAL RULES OF PROCEDURE, WHICH AMENDMENT EPLACES PROVISIONAL RULE T WITH A NEW TEXT AUTHORIZING THE ECONOMIC & SOC. COUNCIL TO CALL INTERNATIONAL CONFERENCES ON ANY MATTER WITHIN ITS CO\", \"ec\", \"Economic development\", 1946], [8, \"Liberia\", \"LR\", \"yes\", 1, 0.0, \"1946-01-05\", \"R/1/297\", 1.0, 0.0, \"ECOSOC POWERS\", \"TO ADOPT A SECOND 6TH COMM. AMENDMENT (A/14) TO THE PROVISIONAL RULES OF PROCEDURE, WHICH AMENDMENT EPLACES PROVISIONAL RULE T WITH A NEW TEXT AUTHORIZING THE ECONOMIC & SOC. COUNCIL TO CALL INTERNATIONAL CONFERENCES ON ANY MATTER WITHIN ITS CO\", \"ec\", \"Economic development\", 1946], [8, \"South Africa\", \"ZA\", \"yes\", 1, 0.0, \"1946-01-05\", \"R/1/297\", 1.0, 0.0, \"ECOSOC POWERS\", \"TO ADOPT A SECOND 6TH COMM. AMENDMENT (A/14) TO THE PROVISIONAL RULES OF PROCEDURE, WHICH AMENDMENT EPLACES PROVISIONAL RULE T WITH A NEW TEXT AUTHORIZING THE ECONOMIC & SOC. COUNCIL TO CALL INTERNATIONAL CONFERENCES ON ANY MATTER WITHIN ITS CO\", \"ec\", \"Economic development\", 1946], [8, \"Turkey\", \"TR\", \"yes\", 1, 0.0, \"1946-01-05\", \"R/1/297\", 1.0, 0.0, \"ECOSOC POWERS\", \"TO ADOPT A SECOND 6TH COMM. AMENDMENT (A/14) TO THE PROVISIONAL RULES OF PROCEDURE, WHICH AMENDMENT EPLACES PROVISIONAL RULE T WITH A NEW TEXT AUTHORIZING THE ECONOMIC & SOC. COUNCIL TO CALL INTERNATIONAL CONFERENCES ON ANY MATTER WITHIN ITS CO\", \"ec\", \"Economic development\", 1946], [8, \"Iraq\", \"IQ\", \"yes\", 1, 0.0, \"1946-01-05\", \"R/1/297\", 1.0, 0.0, \"ECOSOC POWERS\", \"TO ADOPT A SECOND 6TH COMM. AMENDMENT (A/14) TO THE PROVISIONAL RULES OF PROCEDURE, WHICH AMENDMENT EPLACES PROVISIONAL RULE T WITH A NEW TEXT AUTHORIZING THE ECONOMIC & SOC. COUNCIL TO CALL INTERNATIONAL CONFERENCES ON ANY MATTER WITHIN ITS CO\", \"ec\", \"Economic development\", 1946], [8, \"Egypt\", \"EG\", \"yes\", 1, 0.0, \"1946-01-05\", \"R/1/297\", 1.0, 0.0, \"ECOSOC POWERS\", \"TO ADOPT A SECOND 6TH COMM. AMENDMENT (A/14) TO THE PROVISIONAL RULES OF PROCEDURE, WHICH AMENDMENT EPLACES PROVISIONAL RULE T WITH A NEW TEXT AUTHORIZING THE ECONOMIC & SOC. COUNCIL TO CALL INTERNATIONAL CONFERENCES ON ANY MATTER WITHIN ITS CO\", \"ec\", \"Economic development\", 1946], [8, \"Syria\", \"SY\", \"yes\", 1, 0.0, \"1946-01-05\", \"R/1/297\", 1.0, 0.0, \"ECOSOC POWERS\", \"TO ADOPT A SECOND 6TH COMM. AMENDMENT (A/14) TO THE PROVISIONAL RULES OF PROCEDURE, WHICH AMENDMENT EPLACES PROVISIONAL RULE T WITH A NEW TEXT AUTHORIZING THE ECONOMIC & SOC. COUNCIL TO CALL INTERNATIONAL CONFERENCES ON ANY MATTER WITHIN ITS CO\", \"ec\", \"Economic development\", 1946], [8, \"Lebanon\", \"LB\", \"yes\", 1, 0.0, \"1946-01-05\", \"R/1/297\", 1.0, 0.0, \"ECOSOC POWERS\", \"TO ADOPT A SECOND 6TH COMM. AMENDMENT (A/14) TO THE PROVISIONAL RULES OF PROCEDURE, WHICH AMENDMENT EPLACES PROVISIONAL RULE T WITH A NEW TEXT AUTHORIZING THE ECONOMIC & SOC. COUNCIL TO CALL INTERNATIONAL CONFERENCES ON ANY MATTER WITHIN ITS CO\", \"ec\", \"Economic development\", 1946], [8, \"Taiwan\", \"TW\", \"yes\", 1, 0.0, \"1946-01-05\", \"R/1/297\", 1.0, 0.0, \"ECOSOC POWERS\", \"TO ADOPT A SECOND 6TH COMM. AMENDMENT (A/14) TO THE PROVISIONAL RULES OF PROCEDURE, WHICH AMENDMENT EPLACES PROVISIONAL RULE T WITH A NEW TEXT AUTHORIZING THE ECONOMIC & SOC. COUNCIL TO CALL INTERNATIONAL CONFERENCES ON ANY MATTER WITHIN ITS CO\", \"ec\", \"Economic development\", 1946], [8, \"India\", \"IN\", \"yes\", 1, 0.0, \"1946-01-05\", \"R/1/297\", 1.0, 0.0, \"ECOSOC POWERS\", \"TO ADOPT A SECOND 6TH COMM. AMENDMENT (A/14) TO THE PROVISIONAL RULES OF PROCEDURE, WHICH AMENDMENT EPLACES PROVISIONAL RULE T WITH A NEW TEXT AUTHORIZING THE ECONOMIC & SOC. COUNCIL TO CALL INTERNATIONAL CONFERENCES ON ANY MATTER WITHIN ITS CO\", \"ec\", \"Economic development\", 1946], [8, \"Philippines\", \"PH\", \"yes\", 1, 0.0, \"1946-01-05\", \"R/1/297\", 1.0, 0.0, \"ECOSOC POWERS\", \"TO ADOPT A SECOND 6TH COMM. AMENDMENT (A/14) TO THE PROVISIONAL RULES OF PROCEDURE, WHICH AMENDMENT EPLACES PROVISIONAL RULE T WITH A NEW TEXT AUTHORIZING THE ECONOMIC & SOC. COUNCIL TO CALL INTERNATIONAL CONFERENCES ON ANY MATTER WITHIN ITS CO\", \"ec\", \"Economic development\", 1946], [8, \"Australia\", \"AU\", \"yes\", 1, 0.0, \"1946-01-05\", \"R/1/297\", 1.0, 0.0, \"ECOSOC POWERS\", \"TO ADOPT A SECOND 6TH COMM. AMENDMENT (A/14) TO THE PROVISIONAL RULES OF PROCEDURE, WHICH AMENDMENT EPLACES PROVISIONAL RULE T WITH A NEW TEXT AUTHORIZING THE ECONOMIC & SOC. COUNCIL TO CALL INTERNATIONAL CONFERENCES ON ANY MATTER WITHIN ITS CO\", \"ec\", \"Economic development\", 1946], [8, \"New Zealand\", \"NZ\", \"yes\", 1, 0.0, \"1946-01-05\", \"R/1/297\", 1.0, 0.0, \"ECOSOC POWERS\", \"TO ADOPT A SECOND 6TH COMM. AMENDMENT (A/14) TO THE PROVISIONAL RULES OF PROCEDURE, WHICH AMENDMENT EPLACES PROVISIONAL RULE T WITH A NEW TEXT AUTHORIZING THE ECONOMIC & SOC. COUNCIL TO CALL INTERNATIONAL CONFERENCES ON ANY MATTER WITHIN ITS CO\", \"ec\", \"Economic development\", 1946], [11, \"United States\", \"US\", \"yes\", 1, 0.0, \"1946-02-05\", \"R/1/376\", 0.0, 0.0, \"TRUSTEESHIP AMENDMENTS\", \"TO ADOPT DRAFT RESOLUTIONS I AND II AS A WHOLE, OF THE 4TH COMM. REPORT (A/34) ON NON-SELF-GOVERNING TERRITORIES. RESOLUTION I PROVIDES TO PROMOTE THE POLITICAL, SOCIAL, ECONOMIC, AND EDUCATIONAL ASPIRATIONS OF NON-SELF-GOVERNING PEOPLES THROUG\", \"co\", \"Colonialism\", 1946], [11, \"United States\", \"US\", \"yes\", 1, 0.0, \"1946-02-05\", \"R/1/376\", 0.0, 0.0, \"TRUSTEESHIP AMENDMENTS\", \"TO ADOPT DRAFT RESOLUTIONS I AND II AS A WHOLE, OF THE 4TH COMM. REPORT (A/34) ON NON-SELF-GOVERNING TERRITORIES. RESOLUTION I PROVIDES TO PROMOTE THE POLITICAL, SOCIAL, ECONOMIC, AND EDUCATIONAL ASPIRATIONS OF NON-SELF-GOVERNING PEOPLES THROUG\", \"ec\", \"Economic development\", 1946], [11, \"Canada\", \"CA\", \"yes\", 1, 0.0, \"1946-02-05\", \"R/1/376\", 0.0, 0.0, \"TRUSTEESHIP AMENDMENTS\", \"TO ADOPT DRAFT RESOLUTIONS I AND II AS A WHOLE, OF THE 4TH COMM. REPORT (A/34) ON NON-SELF-GOVERNING TERRITORIES. RESOLUTION I PROVIDES TO PROMOTE THE POLITICAL, SOCIAL, ECONOMIC, AND EDUCATIONAL ASPIRATIONS OF NON-SELF-GOVERNING PEOPLES THROUG\", \"co\", \"Colonialism\", 1946], [11, \"Canada\", \"CA\", \"yes\", 1, 0.0, \"1946-02-05\", \"R/1/376\", 0.0, 0.0, \"TRUSTEESHIP AMENDMENTS\", \"TO ADOPT DRAFT RESOLUTIONS I AND II AS A WHOLE, OF THE 4TH COMM. REPORT (A/34) ON NON-SELF-GOVERNING TERRITORIES. RESOLUTION I PROVIDES TO PROMOTE THE POLITICAL, SOCIAL, ECONOMIC, AND EDUCATIONAL ASPIRATIONS OF NON-SELF-GOVERNING PEOPLES THROUG\", \"ec\", \"Economic development\", 1946], [11, \"Cuba\", \"CU\", \"yes\", 1, 0.0, \"1946-02-05\", \"R/1/376\", 0.0, 0.0, \"TRUSTEESHIP AMENDMENTS\", \"TO ADOPT DRAFT RESOLUTIONS I AND II AS A WHOLE, OF THE 4TH COMM. REPORT (A/34) ON NON-SELF-GOVERNING TERRITORIES. RESOLUTION I PROVIDES TO PROMOTE THE POLITICAL, SOCIAL, ECONOMIC, AND EDUCATIONAL ASPIRATIONS OF NON-SELF-GOVERNING PEOPLES THROUG\", \"co\", \"Colonialism\", 1946], [11, \"Cuba\", \"CU\", \"yes\", 1, 0.0, \"1946-02-05\", \"R/1/376\", 0.0, 0.0, \"TRUSTEESHIP AMENDMENTS\", \"TO ADOPT DRAFT RESOLUTIONS I AND II AS A WHOLE, OF THE 4TH COMM. REPORT (A/34) ON NON-SELF-GOVERNING TERRITORIES. RESOLUTION I PROVIDES TO PROMOTE THE POLITICAL, SOCIAL, ECONOMIC, AND EDUCATIONAL ASPIRATIONS OF NON-SELF-GOVERNING PEOPLES THROUG\", \"ec\", \"Economic development\", 1946], [11, \"Dominican Republic\", \"DO\", \"yes\", 1, 0.0, \"1946-02-05\", \"R/1/376\", 0.0, 0.0, \"TRUSTEESHIP AMENDMENTS\", \"TO ADOPT DRAFT RESOLUTIONS I AND II AS A WHOLE, OF THE 4TH COMM. REPORT (A/34) ON NON-SELF-GOVERNING TERRITORIES. RESOLUTION I PROVIDES TO PROMOTE THE POLITICAL, SOCIAL, ECONOMIC, AND EDUCATIONAL ASPIRATIONS OF NON-SELF-GOVERNING PEOPLES THROUG\", \"co\", \"Colonialism\", 1946], [11, \"Dominican Republic\", \"DO\", \"yes\", 1, 0.0, \"1946-02-05\", \"R/1/376\", 0.0, 0.0, \"TRUSTEESHIP AMENDMENTS\", \"TO ADOPT DRAFT RESOLUTIONS I AND II AS A WHOLE, OF THE 4TH COMM. REPORT (A/34) ON NON-SELF-GOVERNING TERRITORIES. RESOLUTION I PROVIDES TO PROMOTE THE POLITICAL, SOCIAL, ECONOMIC, AND EDUCATIONAL ASPIRATIONS OF NON-SELF-GOVERNING PEOPLES THROUG\", \"ec\", \"Economic development\", 1946], [11, \"Honduras\", \"HN\", \"yes\", 1, 0.0, \"1946-02-05\", \"R/1/376\", 0.0, 0.0, \"TRUSTEESHIP AMENDMENTS\", \"TO ADOPT DRAFT RESOLUTIONS I AND II AS A WHOLE, OF THE 4TH COMM. REPORT (A/34) ON NON-SELF-GOVERNING TERRITORIES. RESOLUTION I PROVIDES TO PROMOTE THE POLITICAL, SOCIAL, ECONOMIC, AND EDUCATIONAL ASPIRATIONS OF NON-SELF-GOVERNING PEOPLES THROUG\", \"co\", \"Colonialism\", 1946], [11, \"Honduras\", \"HN\", \"yes\", 1, 0.0, \"1946-02-05\", \"R/1/376\", 0.0, 0.0, \"TRUSTEESHIP AMENDMENTS\", \"TO ADOPT DRAFT RESOLUTIONS I AND II AS A WHOLE, OF THE 4TH COMM. REPORT (A/34) ON NON-SELF-GOVERNING TERRITORIES. RESOLUTION I PROVIDES TO PROMOTE THE POLITICAL, SOCIAL, ECONOMIC, AND EDUCATIONAL ASPIRATIONS OF NON-SELF-GOVERNING PEOPLES THROUG\", \"ec\", \"Economic development\", 1946], [11, \"Venezuela\", \"VE\", \"yes\", 1, 0.0, \"1946-02-05\", \"R/1/376\", 0.0, 0.0, \"TRUSTEESHIP AMENDMENTS\", \"TO ADOPT DRAFT RESOLUTIONS I AND II AS A WHOLE, OF THE 4TH COMM. REPORT (A/34) ON NON-SELF-GOVERNING TERRITORIES. RESOLUTION I PROVIDES TO PROMOTE THE POLITICAL, SOCIAL, ECONOMIC, AND EDUCATIONAL ASPIRATIONS OF NON-SELF-GOVERNING PEOPLES THROUG\", \"co\", \"Colonialism\", 1946], [11, \"Venezuela\", \"VE\", \"yes\", 1, 0.0, \"1946-02-05\", \"R/1/376\", 0.0, 0.0, \"TRUSTEESHIP AMENDMENTS\", \"TO ADOPT DRAFT RESOLUTIONS I AND II AS A WHOLE, OF THE 4TH COMM. REPORT (A/34) ON NON-SELF-GOVERNING TERRITORIES. RESOLUTION I PROVIDES TO PROMOTE THE POLITICAL, SOCIAL, ECONOMIC, AND EDUCATIONAL ASPIRATIONS OF NON-SELF-GOVERNING PEOPLES THROUG\", \"ec\", \"Economic development\", 1946], [11, \"Ecuador\", \"EC\", \"yes\", 1, 0.0, \"1946-02-05\", \"R/1/376\", 0.0, 0.0, \"TRUSTEESHIP AMENDMENTS\", \"TO ADOPT DRAFT RESOLUTIONS I AND II AS A WHOLE, OF THE 4TH COMM. REPORT (A/34) ON NON-SELF-GOVERNING TERRITORIES. RESOLUTION I PROVIDES TO PROMOTE THE POLITICAL, SOCIAL, ECONOMIC, AND EDUCATIONAL ASPIRATIONS OF NON-SELF-GOVERNING PEOPLES THROUG\", \"co\", \"Colonialism\", 1946], [11, \"Ecuador\", \"EC\", \"yes\", 1, 0.0, \"1946-02-05\", \"R/1/376\", 0.0, 0.0, \"TRUSTEESHIP AMENDMENTS\", \"TO ADOPT DRAFT RESOLUTIONS I AND II AS A WHOLE, OF THE 4TH COMM. REPORT (A/34) ON NON-SELF-GOVERNING TERRITORIES. RESOLUTION I PROVIDES TO PROMOTE THE POLITICAL, SOCIAL, ECONOMIC, AND EDUCATIONAL ASPIRATIONS OF NON-SELF-GOVERNING PEOPLES THROUG\", \"ec\", \"Economic development\", 1946], [11, \"Peru\", \"PE\", \"yes\", 1, 0.0, \"1946-02-05\", \"R/1/376\", 0.0, 0.0, \"TRUSTEESHIP AMENDMENTS\", \"TO ADOPT DRAFT RESOLUTIONS I AND II AS A WHOLE, OF THE 4TH COMM. REPORT (A/34) ON NON-SELF-GOVERNING TERRITORIES. RESOLUTION I PROVIDES TO PROMOTE THE POLITICAL, SOCIAL, ECONOMIC, AND EDUCATIONAL ASPIRATIONS OF NON-SELF-GOVERNING PEOPLES THROUG\", \"co\", \"Colonialism\", 1946], [11, \"Peru\", \"PE\", \"yes\", 1, 0.0, \"1946-02-05\", \"R/1/376\", 0.0, 0.0, \"TRUSTEESHIP AMENDMENTS\", \"TO ADOPT DRAFT RESOLUTIONS I AND II AS A WHOLE, OF THE 4TH COMM. REPORT (A/34) ON NON-SELF-GOVERNING TERRITORIES. RESOLUTION I PROVIDES TO PROMOTE THE POLITICAL, SOCIAL, ECONOMIC, AND EDUCATIONAL ASPIRATIONS OF NON-SELF-GOVERNING PEOPLES THROUG\", \"ec\", \"Economic development\", 1946], [11, \"Brazil\", \"BR\", \"yes\", 1, 0.0, \"1946-02-05\", \"R/1/376\", 0.0, 0.0, \"TRUSTEESHIP AMENDMENTS\", \"TO ADOPT DRAFT RESOLUTIONS I AND II AS A WHOLE, OF THE 4TH COMM. REPORT (A/34) ON NON-SELF-GOVERNING TERRITORIES. RESOLUTION I PROVIDES TO PROMOTE THE POLITICAL, SOCIAL, ECONOMIC, AND EDUCATIONAL ASPIRATIONS OF NON-SELF-GOVERNING PEOPLES THROUG\", \"co\", \"Colonialism\", 1946], [11, \"Brazil\", \"BR\", \"yes\", 1, 0.0, \"1946-02-05\", \"R/1/376\", 0.0, 0.0, \"TRUSTEESHIP AMENDMENTS\", \"TO ADOPT DRAFT RESOLUTIONS I AND II AS A WHOLE, OF THE 4TH COMM. REPORT (A/34) ON NON-SELF-GOVERNING TERRITORIES. RESOLUTION I PROVIDES TO PROMOTE THE POLITICAL, SOCIAL, ECONOMIC, AND EDUCATIONAL ASPIRATIONS OF NON-SELF-GOVERNING PEOPLES THROUG\", \"ec\", \"Economic development\", 1946], [11, \"Bolivia\", \"BO\", \"yes\", 1, 0.0, \"1946-02-05\", \"R/1/376\", 0.0, 0.0, \"TRUSTEESHIP AMENDMENTS\", \"TO ADOPT DRAFT RESOLUTIONS I AND II AS A WHOLE, OF THE 4TH COMM. REPORT (A/34) ON NON-SELF-GOVERNING TERRITORIES. RESOLUTION I PROVIDES TO PROMOTE THE POLITICAL, SOCIAL, ECONOMIC, AND EDUCATIONAL ASPIRATIONS OF NON-SELF-GOVERNING PEOPLES THROUG\", \"co\", \"Colonialism\", 1946], [11, \"Bolivia\", \"BO\", \"yes\", 1, 0.0, \"1946-02-05\", \"R/1/376\", 0.0, 0.0, \"TRUSTEESHIP AMENDMENTS\", \"TO ADOPT DRAFT RESOLUTIONS I AND II AS A WHOLE, OF THE 4TH COMM. REPORT (A/34) ON NON-SELF-GOVERNING TERRITORIES. RESOLUTION I PROVIDES TO PROMOTE THE POLITICAL, SOCIAL, ECONOMIC, AND EDUCATIONAL ASPIRATIONS OF NON-SELF-GOVERNING PEOPLES THROUG\", \"ec\", \"Economic development\", 1946], [11, \"Paraguay\", \"PY\", \"yes\", 1, 0.0, \"1946-02-05\", \"R/1/376\", 0.0, 0.0, \"TRUSTEESHIP AMENDMENTS\", \"TO ADOPT DRAFT RESOLUTIONS I AND II AS A WHOLE, OF THE 4TH COMM. REPORT (A/34) ON NON-SELF-GOVERNING TERRITORIES. RESOLUTION I PROVIDES TO PROMOTE THE POLITICAL, SOCIAL, ECONOMIC, AND EDUCATIONAL ASPIRATIONS OF NON-SELF-GOVERNING PEOPLES THROUG\", \"co\", \"Colonialism\", 1946], [11, \"Paraguay\", \"PY\", \"yes\", 1, 0.0, \"1946-02-05\", \"R/1/376\", 0.0, 0.0, \"TRUSTEESHIP AMENDMENTS\", \"TO ADOPT DRAFT RESOLUTIONS I AND II AS A WHOLE, OF THE 4TH COMM. REPORT (A/34) ON NON-SELF-GOVERNING TERRITORIES. RESOLUTION I PROVIDES TO PROMOTE THE POLITICAL, SOCIAL, ECONOMIC, AND EDUCATIONAL ASPIRATIONS OF NON-SELF-GOVERNING PEOPLES THROUG\", \"ec\", \"Economic development\", 1946], [11, \"Chile\", \"CL\", \"yes\", 1, 0.0, \"1946-02-05\", \"R/1/376\", 0.0, 0.0, \"TRUSTEESHIP AMENDMENTS\", \"TO ADOPT DRAFT RESOLUTIONS I AND II AS A WHOLE, OF THE 4TH COMM. REPORT (A/34) ON NON-SELF-GOVERNING TERRITORIES. RESOLUTION I PROVIDES TO PROMOTE THE POLITICAL, SOCIAL, ECONOMIC, AND EDUCATIONAL ASPIRATIONS OF NON-SELF-GOVERNING PEOPLES THROUG\", \"co\", \"Colonialism\", 1946], [11, \"Chile\", \"CL\", \"yes\", 1, 0.0, \"1946-02-05\", \"R/1/376\", 0.0, 0.0, \"TRUSTEESHIP AMENDMENTS\", \"TO ADOPT DRAFT RESOLUTIONS I AND II AS A WHOLE, OF THE 4TH COMM. REPORT (A/34) ON NON-SELF-GOVERNING TERRITORIES. RESOLUTION I PROVIDES TO PROMOTE THE POLITICAL, SOCIAL, ECONOMIC, AND EDUCATIONAL ASPIRATIONS OF NON-SELF-GOVERNING PEOPLES THROUG\", \"ec\", \"Economic development\", 1946], [11, \"Argentina\", \"AR\", \"yes\", 1, 0.0, \"1946-02-05\", \"R/1/376\", 0.0, 0.0, \"TRUSTEESHIP AMENDMENTS\", \"TO ADOPT DRAFT RESOLUTIONS I AND II AS A WHOLE, OF THE 4TH COMM. REPORT (A/34) ON NON-SELF-GOVERNING TERRITORIES. RESOLUTION I PROVIDES TO PROMOTE THE POLITICAL, SOCIAL, ECONOMIC, AND EDUCATIONAL ASPIRATIONS OF NON-SELF-GOVERNING PEOPLES THROUG\", \"co\", \"Colonialism\", 1946], [11, \"Argentina\", \"AR\", \"yes\", 1, 0.0, \"1946-02-05\", \"R/1/376\", 0.0, 0.0, \"TRUSTEESHIP AMENDMENTS\", \"TO ADOPT DRAFT RESOLUTIONS I AND II AS A WHOLE, OF THE 4TH COMM. REPORT (A/34) ON NON-SELF-GOVERNING TERRITORIES. RESOLUTION I PROVIDES TO PROMOTE THE POLITICAL, SOCIAL, ECONOMIC, AND EDUCATIONAL ASPIRATIONS OF NON-SELF-GOVERNING PEOPLES THROUG\", \"ec\", \"Economic development\", 1946], [11, \"Uruguay\", \"UY\", \"yes\", 1, 0.0, \"1946-02-05\", \"R/1/376\", 0.0, 0.0, \"TRUSTEESHIP AMENDMENTS\", \"TO ADOPT DRAFT RESOLUTIONS I AND II AS A WHOLE, OF THE 4TH COMM. REPORT (A/34) ON NON-SELF-GOVERNING TERRITORIES. RESOLUTION I PROVIDES TO PROMOTE THE POLITICAL, SOCIAL, ECONOMIC, AND EDUCATIONAL ASPIRATIONS OF NON-SELF-GOVERNING PEOPLES THROUG\", \"co\", \"Colonialism\", 1946], [11, \"Uruguay\", \"UY\", \"yes\", 1, 0.0, \"1946-02-05\", \"R/1/376\", 0.0, 0.0, \"TRUSTEESHIP AMENDMENTS\", \"TO ADOPT DRAFT RESOLUTIONS I AND II AS A WHOLE, OF THE 4TH COMM. REPORT (A/34) ON NON-SELF-GOVERNING TERRITORIES. RESOLUTION I PROVIDES TO PROMOTE THE POLITICAL, SOCIAL, ECONOMIC, AND EDUCATIONAL ASPIRATIONS OF NON-SELF-GOVERNING PEOPLES THROUG\", \"ec\", \"Economic development\", 1946], [11, \"United Kingdom\", \"GB\", \"yes\", 1, 0.0, \"1946-02-05\", \"R/1/376\", 0.0, 0.0, \"TRUSTEESHIP AMENDMENTS\", \"TO ADOPT DRAFT RESOLUTIONS I AND II AS A WHOLE, OF THE 4TH COMM. REPORT (A/34) ON NON-SELF-GOVERNING TERRITORIES. RESOLUTION I PROVIDES TO PROMOTE THE POLITICAL, SOCIAL, ECONOMIC, AND EDUCATIONAL ASPIRATIONS OF NON-SELF-GOVERNING PEOPLES THROUG\", \"co\", \"Colonialism\", 1946], [11, \"United Kingdom\", \"GB\", \"yes\", 1, 0.0, \"1946-02-05\", \"R/1/376\", 0.0, 0.0, \"TRUSTEESHIP AMENDMENTS\", \"TO ADOPT DRAFT RESOLUTIONS I AND II AS A WHOLE, OF THE 4TH COMM. REPORT (A/34) ON NON-SELF-GOVERNING TERRITORIES. RESOLUTION I PROVIDES TO PROMOTE THE POLITICAL, SOCIAL, ECONOMIC, AND EDUCATIONAL ASPIRATIONS OF NON-SELF-GOVERNING PEOPLES THROUG\", \"ec\", \"Economic development\", 1946], [11, \"Belgium\", \"BE\", \"yes\", 1, 0.0, \"1946-02-05\", \"R/1/376\", 0.0, 0.0, \"TRUSTEESHIP AMENDMENTS\", \"TO ADOPT DRAFT RESOLUTIONS I AND II AS A WHOLE, OF THE 4TH COMM. REPORT (A/34) ON NON-SELF-GOVERNING TERRITORIES. RESOLUTION I PROVIDES TO PROMOTE THE POLITICAL, SOCIAL, ECONOMIC, AND EDUCATIONAL ASPIRATIONS OF NON-SELF-GOVERNING PEOPLES THROUG\", \"co\", \"Colonialism\", 1946], [11, \"Belgium\", \"BE\", \"yes\", 1, 0.0, \"1946-02-05\", \"R/1/376\", 0.0, 0.0, \"TRUSTEESHIP AMENDMENTS\", \"TO ADOPT DRAFT RESOLUTIONS I AND II AS A WHOLE, OF THE 4TH COMM. REPORT (A/34) ON NON-SELF-GOVERNING TERRITORIES. RESOLUTION I PROVIDES TO PROMOTE THE POLITICAL, SOCIAL, ECONOMIC, AND EDUCATIONAL ASPIRATIONS OF NON-SELF-GOVERNING PEOPLES THROUG\", \"ec\", \"Economic development\", 1946], [11, \"France\", \"FR\", \"yes\", 1, 0.0, \"1946-02-05\", \"R/1/376\", 0.0, 0.0, \"TRUSTEESHIP AMENDMENTS\", \"TO ADOPT DRAFT RESOLUTIONS I AND II AS A WHOLE, OF THE 4TH COMM. REPORT (A/34) ON NON-SELF-GOVERNING TERRITORIES. RESOLUTION I PROVIDES TO PROMOTE THE POLITICAL, SOCIAL, ECONOMIC, AND EDUCATIONAL ASPIRATIONS OF NON-SELF-GOVERNING PEOPLES THROUG\", \"co\", \"Colonialism\", 1946], [11, \"France\", \"FR\", \"yes\", 1, 0.0, \"1946-02-05\", \"R/1/376\", 0.0, 0.0, \"TRUSTEESHIP AMENDMENTS\", \"TO ADOPT DRAFT RESOLUTIONS I AND II AS A WHOLE, OF THE 4TH COMM. REPORT (A/34) ON NON-SELF-GOVERNING TERRITORIES. RESOLUTION I PROVIDES TO PROMOTE THE POLITICAL, SOCIAL, ECONOMIC, AND EDUCATIONAL ASPIRATIONS OF NON-SELF-GOVERNING PEOPLES THROUG\", \"ec\", \"Economic development\", 1946], [11, \"Poland\", \"PL\", \"yes\", 1, 0.0, \"1946-02-05\", \"R/1/376\", 0.0, 0.0, \"TRUSTEESHIP AMENDMENTS\", \"TO ADOPT DRAFT RESOLUTIONS I AND II AS A WHOLE, OF THE 4TH COMM. REPORT (A/34) ON NON-SELF-GOVERNING TERRITORIES. RESOLUTION I PROVIDES TO PROMOTE THE POLITICAL, SOCIAL, ECONOMIC, AND EDUCATIONAL ASPIRATIONS OF NON-SELF-GOVERNING PEOPLES THROUG\", \"co\", \"Colonialism\", 1946], [11, \"Poland\", \"PL\", \"yes\", 1, 0.0, \"1946-02-05\", \"R/1/376\", 0.0, 0.0, \"TRUSTEESHIP AMENDMENTS\", \"TO ADOPT DRAFT RESOLUTIONS I AND II AS A WHOLE, OF THE 4TH COMM. REPORT (A/34) ON NON-SELF-GOVERNING TERRITORIES. RESOLUTION I PROVIDES TO PROMOTE THE POLITICAL, SOCIAL, ECONOMIC, AND EDUCATIONAL ASPIRATIONS OF NON-SELF-GOVERNING PEOPLES THROUG\", \"ec\", \"Economic development\", 1946], [11, \"Czechoslovakia\", \"CS\", \"yes\", 1, 0.0, \"1946-02-05\", \"R/1/376\", 0.0, 0.0, \"TRUSTEESHIP AMENDMENTS\", \"TO ADOPT DRAFT RESOLUTIONS I AND II AS A WHOLE, OF THE 4TH COMM. REPORT (A/34) ON NON-SELF-GOVERNING TERRITORIES. RESOLUTION I PROVIDES TO PROMOTE THE POLITICAL, SOCIAL, ECONOMIC, AND EDUCATIONAL ASPIRATIONS OF NON-SELF-GOVERNING PEOPLES THROUG\", \"co\", \"Colonialism\", 1946], [11, \"Czechoslovakia\", \"CS\", \"yes\", 1, 0.0, \"1946-02-05\", \"R/1/376\", 0.0, 0.0, \"TRUSTEESHIP AMENDMENTS\", \"TO ADOPT DRAFT RESOLUTIONS I AND II AS A WHOLE, OF THE 4TH COMM. REPORT (A/34) ON NON-SELF-GOVERNING TERRITORIES. RESOLUTION I PROVIDES TO PROMOTE THE POLITICAL, SOCIAL, ECONOMIC, AND EDUCATIONAL ASPIRATIONS OF NON-SELF-GOVERNING PEOPLES THROUG\", \"ec\", \"Economic development\", 1946], [11, \"Yugoslavia\", \"YU\", \"yes\", 1, 0.0, \"1946-02-05\", \"R/1/376\", 0.0, 0.0, \"TRUSTEESHIP AMENDMENTS\", \"TO ADOPT DRAFT RESOLUTIONS I AND II AS A WHOLE, OF THE 4TH COMM. REPORT (A/34) ON NON-SELF-GOVERNING TERRITORIES. RESOLUTION I PROVIDES TO PROMOTE THE POLITICAL, SOCIAL, ECONOMIC, AND EDUCATIONAL ASPIRATIONS OF NON-SELF-GOVERNING PEOPLES THROUG\", \"co\", \"Colonialism\", 1946], [11, \"Yugoslavia\", \"YU\", \"yes\", 1, 0.0, \"1946-02-05\", \"R/1/376\", 0.0, 0.0, \"TRUSTEESHIP AMENDMENTS\", \"TO ADOPT DRAFT RESOLUTIONS I AND II AS A WHOLE, OF THE 4TH COMM. REPORT (A/34) ON NON-SELF-GOVERNING TERRITORIES. RESOLUTION I PROVIDES TO PROMOTE THE POLITICAL, SOCIAL, ECONOMIC, AND EDUCATIONAL ASPIRATIONS OF NON-SELF-GOVERNING PEOPLES THROUG\", \"ec\", \"Economic development\", 1946], [11, \"Greece\", \"GR\", \"yes\", 1, 0.0, \"1946-02-05\", \"R/1/376\", 0.0, 0.0, \"TRUSTEESHIP AMENDMENTS\", \"TO ADOPT DRAFT RESOLUTIONS I AND II AS A WHOLE, OF THE 4TH COMM. REPORT (A/34) ON NON-SELF-GOVERNING TERRITORIES. RESOLUTION I PROVIDES TO PROMOTE THE POLITICAL, SOCIAL, ECONOMIC, AND EDUCATIONAL ASPIRATIONS OF NON-SELF-GOVERNING PEOPLES THROUG\", \"co\", \"Colonialism\", 1946], [11, \"Greece\", \"GR\", \"yes\", 1, 0.0, \"1946-02-05\", \"R/1/376\", 0.0, 0.0, \"TRUSTEESHIP AMENDMENTS\", \"TO ADOPT DRAFT RESOLUTIONS I AND II AS A WHOLE, OF THE 4TH COMM. REPORT (A/34) ON NON-SELF-GOVERNING TERRITORIES. RESOLUTION I PROVIDES TO PROMOTE THE POLITICAL, SOCIAL, ECONOMIC, AND EDUCATIONAL ASPIRATIONS OF NON-SELF-GOVERNING PEOPLES THROUG\", \"ec\", \"Economic development\", 1946], [11, \"Russia\", \"RU\", \"yes\", 1, 0.0, \"1946-02-05\", \"R/1/376\", 0.0, 0.0, \"TRUSTEESHIP AMENDMENTS\", \"TO ADOPT DRAFT RESOLUTIONS I AND II AS A WHOLE, OF THE 4TH COMM. REPORT (A/34) ON NON-SELF-GOVERNING TERRITORIES. RESOLUTION I PROVIDES TO PROMOTE THE POLITICAL, SOCIAL, ECONOMIC, AND EDUCATIONAL ASPIRATIONS OF NON-SELF-GOVERNING PEOPLES THROUG\", \"co\", \"Colonialism\", 1946], [11, \"Russia\", \"RU\", \"yes\", 1, 0.0, \"1946-02-05\", \"R/1/376\", 0.0, 0.0, \"TRUSTEESHIP AMENDMENTS\", \"TO ADOPT DRAFT RESOLUTIONS I AND II AS A WHOLE, OF THE 4TH COMM. REPORT (A/34) ON NON-SELF-GOVERNING TERRITORIES. RESOLUTION I PROVIDES TO PROMOTE THE POLITICAL, SOCIAL, ECONOMIC, AND EDUCATIONAL ASPIRATIONS OF NON-SELF-GOVERNING PEOPLES THROUG\", \"ec\", \"Economic development\", 1946], [11, \"Ukraine\", \"UA\", \"yes\", 1, 0.0, \"1946-02-05\", \"R/1/376\", 0.0, 0.0, \"TRUSTEESHIP AMENDMENTS\", \"TO ADOPT DRAFT RESOLUTIONS I AND II AS A WHOLE, OF THE 4TH COMM. REPORT (A/34) ON NON-SELF-GOVERNING TERRITORIES. RESOLUTION I PROVIDES TO PROMOTE THE POLITICAL, SOCIAL, ECONOMIC, AND EDUCATIONAL ASPIRATIONS OF NON-SELF-GOVERNING PEOPLES THROUG\", \"co\", \"Colonialism\", 1946], [11, \"Ukraine\", \"UA\", \"yes\", 1, 0.0, \"1946-02-05\", \"R/1/376\", 0.0, 0.0, \"TRUSTEESHIP AMENDMENTS\", \"TO ADOPT DRAFT RESOLUTIONS I AND II AS A WHOLE, OF THE 4TH COMM. REPORT (A/34) ON NON-SELF-GOVERNING TERRITORIES. RESOLUTION I PROVIDES TO PROMOTE THE POLITICAL, SOCIAL, ECONOMIC, AND EDUCATIONAL ASPIRATIONS OF NON-SELF-GOVERNING PEOPLES THROUG\", \"ec\", \"Economic development\", 1946], [11, \"Belarus\", \"BY\", \"yes\", 1, 0.0, \"1946-02-05\", \"R/1/376\", 0.0, 0.0, \"TRUSTEESHIP AMENDMENTS\", \"TO ADOPT DRAFT RESOLUTIONS I AND II AS A WHOLE, OF THE 4TH COMM. REPORT (A/34) ON NON-SELF-GOVERNING TERRITORIES. RESOLUTION I PROVIDES TO PROMOTE THE POLITICAL, SOCIAL, ECONOMIC, AND EDUCATIONAL ASPIRATIONS OF NON-SELF-GOVERNING PEOPLES THROUG\", \"co\", \"Colonialism\", 1946], [11, \"Belarus\", \"BY\", \"yes\", 1, 0.0, \"1946-02-05\", \"R/1/376\", 0.0, 0.0, \"TRUSTEESHIP AMENDMENTS\", \"TO ADOPT DRAFT RESOLUTIONS I AND II AS A WHOLE, OF THE 4TH COMM. REPORT (A/34) ON NON-SELF-GOVERNING TERRITORIES. RESOLUTION I PROVIDES TO PROMOTE THE POLITICAL, SOCIAL, ECONOMIC, AND EDUCATIONAL ASPIRATIONS OF NON-SELF-GOVERNING PEOPLES THROUG\", \"ec\", \"Economic development\", 1946], [11, \"Norway\", \"NO\", \"yes\", 1, 0.0, \"1946-02-05\", \"R/1/376\", 0.0, 0.0, \"TRUSTEESHIP AMENDMENTS\", \"TO ADOPT DRAFT RESOLUTIONS I AND II AS A WHOLE, OF THE 4TH COMM. REPORT (A/34) ON NON-SELF-GOVERNING TERRITORIES. RESOLUTION I PROVIDES TO PROMOTE THE POLITICAL, SOCIAL, ECONOMIC, AND EDUCATIONAL ASPIRATIONS OF NON-SELF-GOVERNING PEOPLES THROUG\", \"co\", \"Colonialism\", 1946], [11, \"Norway\", \"NO\", \"yes\", 1, 0.0, \"1946-02-05\", \"R/1/376\", 0.0, 0.0, \"TRUSTEESHIP AMENDMENTS\", \"TO ADOPT DRAFT RESOLUTIONS I AND II AS A WHOLE, OF THE 4TH COMM. REPORT (A/34) ON NON-SELF-GOVERNING TERRITORIES. RESOLUTION I PROVIDES TO PROMOTE THE POLITICAL, SOCIAL, ECONOMIC, AND EDUCATIONAL ASPIRATIONS OF NON-SELF-GOVERNING PEOPLES THROUG\", \"ec\", \"Economic development\", 1946], [11, \"Denmark\", \"DK\", \"yes\", 1, 0.0, \"1946-02-05\", \"R/1/376\", 0.0, 0.0, \"TRUSTEESHIP AMENDMENTS\", \"TO ADOPT DRAFT RESOLUTIONS I AND II AS A WHOLE, OF THE 4TH COMM. REPORT (A/34) ON NON-SELF-GOVERNING TERRITORIES. RESOLUTION I PROVIDES TO PROMOTE THE POLITICAL, SOCIAL, ECONOMIC, AND EDUCATIONAL ASPIRATIONS OF NON-SELF-GOVERNING PEOPLES THROUG\", \"co\", \"Colonialism\", 1946], [11, \"Denmark\", \"DK\", \"yes\", 1, 0.0, \"1946-02-05\", \"R/1/376\", 0.0, 0.0, \"TRUSTEESHIP AMENDMENTS\", \"TO ADOPT DRAFT RESOLUTIONS I AND II AS A WHOLE, OF THE 4TH COMM. REPORT (A/34) ON NON-SELF-GOVERNING TERRITORIES. RESOLUTION I PROVIDES TO PROMOTE THE POLITICAL, SOCIAL, ECONOMIC, AND EDUCATIONAL ASPIRATIONS OF NON-SELF-GOVERNING PEOPLES THROUG\", \"ec\", \"Economic development\", 1946], [11, \"Liberia\", \"LR\", \"yes\", 1, 0.0, \"1946-02-05\", \"R/1/376\", 0.0, 0.0, \"TRUSTEESHIP AMENDMENTS\", \"TO ADOPT DRAFT RESOLUTIONS I AND II AS A WHOLE, OF THE 4TH COMM. REPORT (A/34) ON NON-SELF-GOVERNING TERRITORIES. RESOLUTION I PROVIDES TO PROMOTE THE POLITICAL, SOCIAL, ECONOMIC, AND EDUCATIONAL ASPIRATIONS OF NON-SELF-GOVERNING PEOPLES THROUG\", \"co\", \"Colonialism\", 1946], [11, \"Liberia\", \"LR\", \"yes\", 1, 0.0, \"1946-02-05\", \"R/1/376\", 0.0, 0.0, \"TRUSTEESHIP AMENDMENTS\", \"TO ADOPT DRAFT RESOLUTIONS I AND II AS A WHOLE, OF THE 4TH COMM. REPORT (A/34) ON NON-SELF-GOVERNING TERRITORIES. RESOLUTION I PROVIDES TO PROMOTE THE POLITICAL, SOCIAL, ECONOMIC, AND EDUCATIONAL ASPIRATIONS OF NON-SELF-GOVERNING PEOPLES THROUG\", \"ec\", \"Economic development\", 1946], [11, \"Ethiopia\", \"ET\", \"yes\", 1, 0.0, \"1946-02-05\", \"R/1/376\", 0.0, 0.0, \"TRUSTEESHIP AMENDMENTS\", \"TO ADOPT DRAFT RESOLUTIONS I AND II AS A WHOLE, OF THE 4TH COMM. REPORT (A/34) ON NON-SELF-GOVERNING TERRITORIES. RESOLUTION I PROVIDES TO PROMOTE THE POLITICAL, SOCIAL, ECONOMIC, AND EDUCATIONAL ASPIRATIONS OF NON-SELF-GOVERNING PEOPLES THROUG\", \"co\", \"Colonialism\", 1946], [11, \"Ethiopia\", \"ET\", \"yes\", 1, 0.0, \"1946-02-05\", \"R/1/376\", 0.0, 0.0, \"TRUSTEESHIP AMENDMENTS\", \"TO ADOPT DRAFT RESOLUTIONS I AND II AS A WHOLE, OF THE 4TH COMM. REPORT (A/34) ON NON-SELF-GOVERNING TERRITORIES. RESOLUTION I PROVIDES TO PROMOTE THE POLITICAL, SOCIAL, ECONOMIC, AND EDUCATIONAL ASPIRATIONS OF NON-SELF-GOVERNING PEOPLES THROUG\", \"ec\", \"Economic development\", 1946], [11, \"South Africa\", \"ZA\", \"yes\", 1, 0.0, \"1946-02-05\", \"R/1/376\", 0.0, 0.0, \"TRUSTEESHIP AMENDMENTS\", \"TO ADOPT DRAFT RESOLUTIONS I AND II AS A WHOLE, OF THE 4TH COMM. REPORT (A/34) ON NON-SELF-GOVERNING TERRITORIES. RESOLUTION I PROVIDES TO PROMOTE THE POLITICAL, SOCIAL, ECONOMIC, AND EDUCATIONAL ASPIRATIONS OF NON-SELF-GOVERNING PEOPLES THROUG\", \"co\", \"Colonialism\", 1946], [11, \"South Africa\", \"ZA\", \"yes\", 1, 0.0, \"1946-02-05\", \"R/1/376\", 0.0, 0.0, \"TRUSTEESHIP AMENDMENTS\", \"TO ADOPT DRAFT RESOLUTIONS I AND II AS A WHOLE, OF THE 4TH COMM. REPORT (A/34) ON NON-SELF-GOVERNING TERRITORIES. RESOLUTION I PROVIDES TO PROMOTE THE POLITICAL, SOCIAL, ECONOMIC, AND EDUCATIONAL ASPIRATIONS OF NON-SELF-GOVERNING PEOPLES THROUG\", \"ec\", \"Economic development\", 1946], [11, \"Iran\", \"IR\", \"yes\", 1, 0.0, \"1946-02-05\", \"R/1/376\", 0.0, 0.0, \"TRUSTEESHIP AMENDMENTS\", \"TO ADOPT DRAFT RESOLUTIONS I AND II AS A WHOLE, OF THE 4TH COMM. REPORT (A/34) ON NON-SELF-GOVERNING TERRITORIES. RESOLUTION I PROVIDES TO PROMOTE THE POLITICAL, SOCIAL, ECONOMIC, AND EDUCATIONAL ASPIRATIONS OF NON-SELF-GOVERNING PEOPLES THROUG\", \"co\", \"Colonialism\", 1946], [11, \"Iran\", \"IR\", \"yes\", 1, 0.0, \"1946-02-05\", \"R/1/376\", 0.0, 0.0, \"TRUSTEESHIP AMENDMENTS\", \"TO ADOPT DRAFT RESOLUTIONS I AND II AS A WHOLE, OF THE 4TH COMM. REPORT (A/34) ON NON-SELF-GOVERNING TERRITORIES. RESOLUTION I PROVIDES TO PROMOTE THE POLITICAL, SOCIAL, ECONOMIC, AND EDUCATIONAL ASPIRATIONS OF NON-SELF-GOVERNING PEOPLES THROUG\", \"ec\", \"Economic development\", 1946], [11, \"Turkey\", \"TR\", \"yes\", 1, 0.0, \"1946-02-05\", \"R/1/376\", 0.0, 0.0, \"TRUSTEESHIP AMENDMENTS\", \"TO ADOPT DRAFT RESOLUTIONS I AND II AS A WHOLE, OF THE 4TH COMM. REPORT (A/34) ON NON-SELF-GOVERNING TERRITORIES. RESOLUTION I PROVIDES TO PROMOTE THE POLITICAL, SOCIAL, ECONOMIC, AND EDUCATIONAL ASPIRATIONS OF NON-SELF-GOVERNING PEOPLES THROUG\", \"co\", \"Colonialism\", 1946], [11, \"Turkey\", \"TR\", \"yes\", 1, 0.0, \"1946-02-05\", \"R/1/376\", 0.0, 0.0, \"TRUSTEESHIP AMENDMENTS\", \"TO ADOPT DRAFT RESOLUTIONS I AND II AS A WHOLE, OF THE 4TH COMM. REPORT (A/34) ON NON-SELF-GOVERNING TERRITORIES. RESOLUTION I PROVIDES TO PROMOTE THE POLITICAL, SOCIAL, ECONOMIC, AND EDUCATIONAL ASPIRATIONS OF NON-SELF-GOVERNING PEOPLES THROUG\", \"ec\", \"Economic development\", 1946], [11, \"Iraq\", \"IQ\", \"yes\", 1, 0.0, \"1946-02-05\", \"R/1/376\", 0.0, 0.0, \"TRUSTEESHIP AMENDMENTS\", \"TO ADOPT DRAFT RESOLUTIONS I AND II AS A WHOLE, OF THE 4TH COMM. REPORT (A/34) ON NON-SELF-GOVERNING TERRITORIES. RESOLUTION I PROVIDES TO PROMOTE THE POLITICAL, SOCIAL, ECONOMIC, AND EDUCATIONAL ASPIRATIONS OF NON-SELF-GOVERNING PEOPLES THROUG\", \"co\", \"Colonialism\", 1946], [11, \"Iraq\", \"IQ\", \"yes\", 1, 0.0, \"1946-02-05\", \"R/1/376\", 0.0, 0.0, \"TRUSTEESHIP AMENDMENTS\", \"TO ADOPT DRAFT RESOLUTIONS I AND II AS A WHOLE, OF THE 4TH COMM. REPORT (A/34) ON NON-SELF-GOVERNING TERRITORIES. RESOLUTION I PROVIDES TO PROMOTE THE POLITICAL, SOCIAL, ECONOMIC, AND EDUCATIONAL ASPIRATIONS OF NON-SELF-GOVERNING PEOPLES THROUG\", \"ec\", \"Economic development\", 1946], [11, \"Egypt\", \"EG\", \"yes\", 1, 0.0, \"1946-02-05\", \"R/1/376\", 0.0, 0.0, \"TRUSTEESHIP AMENDMENTS\", \"TO ADOPT DRAFT RESOLUTIONS I AND II AS A WHOLE, OF THE 4TH COMM. REPORT (A/34) ON NON-SELF-GOVERNING TERRITORIES. RESOLUTION I PROVIDES TO PROMOTE THE POLITICAL, SOCIAL, ECONOMIC, AND EDUCATIONAL ASPIRATIONS OF NON-SELF-GOVERNING PEOPLES THROUG\", \"co\", \"Colonialism\", 1946], [11, \"Egypt\", \"EG\", \"yes\", 1, 0.0, \"1946-02-05\", \"R/1/376\", 0.0, 0.0, \"TRUSTEESHIP AMENDMENTS\", \"TO ADOPT DRAFT RESOLUTIONS I AND II AS A WHOLE, OF THE 4TH COMM. REPORT (A/34) ON NON-SELF-GOVERNING TERRITORIES. RESOLUTION I PROVIDES TO PROMOTE THE POLITICAL, SOCIAL, ECONOMIC, AND EDUCATIONAL ASPIRATIONS OF NON-SELF-GOVERNING PEOPLES THROUG\", \"ec\", \"Economic development\", 1946], [11, \"Syria\", \"SY\", \"yes\", 1, 0.0, \"1946-02-05\", \"R/1/376\", 0.0, 0.0, \"TRUSTEESHIP AMENDMENTS\", \"TO ADOPT DRAFT RESOLUTIONS I AND II AS A WHOLE, OF THE 4TH COMM. REPORT (A/34) ON NON-SELF-GOVERNING TERRITORIES. RESOLUTION I PROVIDES TO PROMOTE THE POLITICAL, SOCIAL, ECONOMIC, AND EDUCATIONAL ASPIRATIONS OF NON-SELF-GOVERNING PEOPLES THROUG\", \"co\", \"Colonialism\", 1946], [11, \"Syria\", \"SY\", \"yes\", 1, 0.0, \"1946-02-05\", \"R/1/376\", 0.0, 0.0, \"TRUSTEESHIP AMENDMENTS\", \"TO ADOPT DRAFT RESOLUTIONS I AND II AS A WHOLE, OF THE 4TH COMM. REPORT (A/34) ON NON-SELF-GOVERNING TERRITORIES. RESOLUTION I PROVIDES TO PROMOTE THE POLITICAL, SOCIAL, ECONOMIC, AND EDUCATIONAL ASPIRATIONS OF NON-SELF-GOVERNING PEOPLES THROUG\", \"ec\", \"Economic development\", 1946], [11, \"Lebanon\", \"LB\", \"yes\", 1, 0.0, \"1946-02-05\", \"R/1/376\", 0.0, 0.0, \"TRUSTEESHIP AMENDMENTS\", \"TO ADOPT DRAFT RESOLUTIONS I AND II AS A WHOLE, OF THE 4TH COMM. REPORT (A/34) ON NON-SELF-GOVERNING TERRITORIES. RESOLUTION I PROVIDES TO PROMOTE THE POLITICAL, SOCIAL, ECONOMIC, AND EDUCATIONAL ASPIRATIONS OF NON-SELF-GOVERNING PEOPLES THROUG\", \"co\", \"Colonialism\", 1946], [11, \"Lebanon\", \"LB\", \"yes\", 1, 0.0, \"1946-02-05\", \"R/1/376\", 0.0, 0.0, \"TRUSTEESHIP AMENDMENTS\", \"TO ADOPT DRAFT RESOLUTIONS I AND II AS A WHOLE, OF THE 4TH COMM. REPORT (A/34) ON NON-SELF-GOVERNING TERRITORIES. RESOLUTION I PROVIDES TO PROMOTE THE POLITICAL, SOCIAL, ECONOMIC, AND EDUCATIONAL ASPIRATIONS OF NON-SELF-GOVERNING PEOPLES THROUG\", \"ec\", \"Economic development\", 1946], [11, \"Saudi Arabia\", \"SA\", \"yes\", 1, 0.0, \"1946-02-05\", \"R/1/376\", 0.0, 0.0, \"TRUSTEESHIP AMENDMENTS\", \"TO ADOPT DRAFT RESOLUTIONS I AND II AS A WHOLE, OF THE 4TH COMM. REPORT (A/34) ON NON-SELF-GOVERNING TERRITORIES. RESOLUTION I PROVIDES TO PROMOTE THE POLITICAL, SOCIAL, ECONOMIC, AND EDUCATIONAL ASPIRATIONS OF NON-SELF-GOVERNING PEOPLES THROUG\", \"co\", \"Colonialism\", 1946], [11, \"Saudi Arabia\", \"SA\", \"yes\", 1, 0.0, \"1946-02-05\", \"R/1/376\", 0.0, 0.0, \"TRUSTEESHIP AMENDMENTS\", \"TO ADOPT DRAFT RESOLUTIONS I AND II AS A WHOLE, OF THE 4TH COMM. REPORT (A/34) ON NON-SELF-GOVERNING TERRITORIES. RESOLUTION I PROVIDES TO PROMOTE THE POLITICAL, SOCIAL, ECONOMIC, AND EDUCATIONAL ASPIRATIONS OF NON-SELF-GOVERNING PEOPLES THROUG\", \"ec\", \"Economic development\", 1946], [11, \"Taiwan\", \"TW\", \"yes\", 1, 0.0, \"1946-02-05\", \"R/1/376\", 0.0, 0.0, \"TRUSTEESHIP AMENDMENTS\", \"TO ADOPT DRAFT RESOLUTIONS I AND II AS A WHOLE, OF THE 4TH COMM. REPORT (A/34) ON NON-SELF-GOVERNING TERRITORIES. RESOLUTION I PROVIDES TO PROMOTE THE POLITICAL, SOCIAL, ECONOMIC, AND EDUCATIONAL ASPIRATIONS OF NON-SELF-GOVERNING PEOPLES THROUG\", \"co\", \"Colonialism\", 1946], [11, \"Taiwan\", \"TW\", \"yes\", 1, 0.0, \"1946-02-05\", \"R/1/376\", 0.0, 0.0, \"TRUSTEESHIP AMENDMENTS\", \"TO ADOPT DRAFT RESOLUTIONS I AND II AS A WHOLE, OF THE 4TH COMM. REPORT (A/34) ON NON-SELF-GOVERNING TERRITORIES. RESOLUTION I PROVIDES TO PROMOTE THE POLITICAL, SOCIAL, ECONOMIC, AND EDUCATIONAL ASPIRATIONS OF NON-SELF-GOVERNING PEOPLES THROUG\", \"ec\", \"Economic development\", 1946], [11, \"India\", \"IN\", \"yes\", 1, 0.0, \"1946-02-05\", \"R/1/376\", 0.0, 0.0, \"TRUSTEESHIP AMENDMENTS\", \"TO ADOPT DRAFT RESOLUTIONS I AND II AS A WHOLE, OF THE 4TH COMM. REPORT (A/34) ON NON-SELF-GOVERNING TERRITORIES. RESOLUTION I PROVIDES TO PROMOTE THE POLITICAL, SOCIAL, ECONOMIC, AND EDUCATIONAL ASPIRATIONS OF NON-SELF-GOVERNING PEOPLES THROUG\", \"co\", \"Colonialism\", 1946], [11, \"India\", \"IN\", \"yes\", 1, 0.0, \"1946-02-05\", \"R/1/376\", 0.0, 0.0, \"TRUSTEESHIP AMENDMENTS\", \"TO ADOPT DRAFT RESOLUTIONS I AND II AS A WHOLE, OF THE 4TH COMM. REPORT (A/34) ON NON-SELF-GOVERNING TERRITORIES. RESOLUTION I PROVIDES TO PROMOTE THE POLITICAL, SOCIAL, ECONOMIC, AND EDUCATIONAL ASPIRATIONS OF NON-SELF-GOVERNING PEOPLES THROUG\", \"ec\", \"Economic development\", 1946], [11, \"Philippines\", \"PH\", \"yes\", 1, 0.0, \"1946-02-05\", \"R/1/376\", 0.0, 0.0, \"TRUSTEESHIP AMENDMENTS\", \"TO ADOPT DRAFT RESOLUTIONS I AND II AS A WHOLE, OF THE 4TH COMM. REPORT (A/34) ON NON-SELF-GOVERNING TERRITORIES. RESOLUTION I PROVIDES TO PROMOTE THE POLITICAL, SOCIAL, ECONOMIC, AND EDUCATIONAL ASPIRATIONS OF NON-SELF-GOVERNING PEOPLES THROUG\", \"co\", \"Colonialism\", 1946], [11, \"Philippines\", \"PH\", \"yes\", 1, 0.0, \"1946-02-05\", \"R/1/376\", 0.0, 0.0, \"TRUSTEESHIP AMENDMENTS\", \"TO ADOPT DRAFT RESOLUTIONS I AND II AS A WHOLE, OF THE 4TH COMM. REPORT (A/34) ON NON-SELF-GOVERNING TERRITORIES. RESOLUTION I PROVIDES TO PROMOTE THE POLITICAL, SOCIAL, ECONOMIC, AND EDUCATIONAL ASPIRATIONS OF NON-SELF-GOVERNING PEOPLES THROUG\", \"ec\", \"Economic development\", 1946], [11, \"Australia\", \"AU\", \"yes\", 1, 0.0, \"1946-02-05\", \"R/1/376\", 0.0, 0.0, \"TRUSTEESHIP AMENDMENTS\", \"TO ADOPT DRAFT RESOLUTIONS I AND II AS A WHOLE, OF THE 4TH COMM. REPORT (A/34) ON NON-SELF-GOVERNING TERRITORIES. RESOLUTION I PROVIDES TO PROMOTE THE POLITICAL, SOCIAL, ECONOMIC, AND EDUCATIONAL ASPIRATIONS OF NON-SELF-GOVERNING PEOPLES THROUG\", \"co\", \"Colonialism\", 1946], [11, \"Australia\", \"AU\", \"yes\", 1, 0.0, \"1946-02-05\", \"R/1/376\", 0.0, 0.0, \"TRUSTEESHIP AMENDMENTS\", \"TO ADOPT DRAFT RESOLUTIONS I AND II AS A WHOLE, OF THE 4TH COMM. REPORT (A/34) ON NON-SELF-GOVERNING TERRITORIES. RESOLUTION I PROVIDES TO PROMOTE THE POLITICAL, SOCIAL, ECONOMIC, AND EDUCATIONAL ASPIRATIONS OF NON-SELF-GOVERNING PEOPLES THROUG\", \"ec\", \"Economic development\", 1946], [11, \"New Zealand\", \"NZ\", \"yes\", 1, 0.0, \"1946-02-05\", \"R/1/376\", 0.0, 0.0, \"TRUSTEESHIP AMENDMENTS\", \"TO ADOPT DRAFT RESOLUTIONS I AND II AS A WHOLE, OF THE 4TH COMM. REPORT (A/34) ON NON-SELF-GOVERNING TERRITORIES. RESOLUTION I PROVIDES TO PROMOTE THE POLITICAL, SOCIAL, ECONOMIC, AND EDUCATIONAL ASPIRATIONS OF NON-SELF-GOVERNING PEOPLES THROUG\", \"co\", \"Colonialism\", 1946], [11, \"New Zealand\", \"NZ\", \"yes\", 1, 0.0, \"1946-02-05\", \"R/1/376\", 0.0, 0.0, \"TRUSTEESHIP AMENDMENTS\", \"TO ADOPT DRAFT RESOLUTIONS I AND II AS A WHOLE, OF THE 4TH COMM. REPORT (A/34) ON NON-SELF-GOVERNING TERRITORIES. RESOLUTION I PROVIDES TO PROMOTE THE POLITICAL, SOCIAL, ECONOMIC, AND EDUCATIONAL ASPIRATIONS OF NON-SELF-GOVERNING PEOPLES THROUG\", \"ec\", \"Economic development\", 1946], [18, \"United States\", \"US\", \"no\", 1, 0.0, \"1946-02-03\", \"R/1/532\", 1.0, 0.0, \"ECOSOC CONSULTANTS\", \"TO ADOPT USSR (ORAL) AMENDMENT REPLACING THE 1ST COMM. DRAFT RESOLUTION (A/54/REV.1) WITH THE FOLLOWING:  \\\\TAKING INTO CONSIDERATION THE QUESTION RAISED BY THE WORLD FEDERATION OF TRADE UNIONS CONCERNING ITS PARTICIPATION IN THE WORK OF THE ECO\", \"ec\", \"Economic development\", 1946], [18, \"Canada\", \"CA\", \"no\", 1, 0.0, \"1946-02-03\", \"R/1/532\", 1.0, 0.0, \"ECOSOC CONSULTANTS\", \"TO ADOPT USSR (ORAL) AMENDMENT REPLACING THE 1ST COMM. DRAFT RESOLUTION (A/54/REV.1) WITH THE FOLLOWING:  \\\\TAKING INTO CONSIDERATION THE QUESTION RAISED BY THE WORLD FEDERATION OF TRADE UNIONS CONCERNING ITS PARTICIPATION IN THE WORK OF THE ECO\", \"ec\", \"Economic development\", 1946], [18, \"Cuba\", \"CU\", \"no\", 1, 0.0, \"1946-02-03\", \"R/1/532\", 1.0, 0.0, \"ECOSOC CONSULTANTS\", \"TO ADOPT USSR (ORAL) AMENDMENT REPLACING THE 1ST COMM. DRAFT RESOLUTION (A/54/REV.1) WITH THE FOLLOWING:  \\\\TAKING INTO CONSIDERATION THE QUESTION RAISED BY THE WORLD FEDERATION OF TRADE UNIONS CONCERNING ITS PARTICIPATION IN THE WORK OF THE ECO\", \"ec\", \"Economic development\", 1946], [18, \"Haiti\", \"HT\", \"no\", 1, 0.0, \"1946-02-03\", \"R/1/532\", 1.0, 0.0, \"ECOSOC CONSULTANTS\", \"TO ADOPT USSR (ORAL) AMENDMENT REPLACING THE 1ST COMM. DRAFT RESOLUTION (A/54/REV.1) WITH THE FOLLOWING:  \\\\TAKING INTO CONSIDERATION THE QUESTION RAISED BY THE WORLD FEDERATION OF TRADE UNIONS CONCERNING ITS PARTICIPATION IN THE WORK OF THE ECO\", \"ec\", \"Economic development\", 1946], [18, \"Dominican Republic\", \"DO\", \"no\", 1, 0.0, \"1946-02-03\", \"R/1/532\", 1.0, 0.0, \"ECOSOC CONSULTANTS\", \"TO ADOPT USSR (ORAL) AMENDMENT REPLACING THE 1ST COMM. DRAFT RESOLUTION (A/54/REV.1) WITH THE FOLLOWING:  \\\\TAKING INTO CONSIDERATION THE QUESTION RAISED BY THE WORLD FEDERATION OF TRADE UNIONS CONCERNING ITS PARTICIPATION IN THE WORK OF THE ECO\", \"ec\", \"Economic development\", 1946], [18, \"Mexico\", \"MX\", \"abstain\", 1, 0.0, \"1946-02-03\", \"R/1/532\", 1.0, 0.0, \"ECOSOC CONSULTANTS\", \"TO ADOPT USSR (ORAL) AMENDMENT REPLACING THE 1ST COMM. DRAFT RESOLUTION (A/54/REV.1) WITH THE FOLLOWING:  \\\\TAKING INTO CONSIDERATION THE QUESTION RAISED BY THE WORLD FEDERATION OF TRADE UNIONS CONCERNING ITS PARTICIPATION IN THE WORK OF THE ECO\", \"ec\", \"Economic development\", 1946], [18, \"Guatemala\", \"GT\", \"yes\", 1, 0.0, \"1946-02-03\", \"R/1/532\", 1.0, 0.0, \"ECOSOC CONSULTANTS\", \"TO ADOPT USSR (ORAL) AMENDMENT REPLACING THE 1ST COMM. DRAFT RESOLUTION (A/54/REV.1) WITH THE FOLLOWING:  \\\\TAKING INTO CONSIDERATION THE QUESTION RAISED BY THE WORLD FEDERATION OF TRADE UNIONS CONCERNING ITS PARTICIPATION IN THE WORK OF THE ECO\", \"ec\", \"Economic development\", 1946], [18, \"Nicaragua\", \"NI\", \"abstain\", 1, 0.0, \"1946-02-03\", \"R/1/532\", 1.0, 0.0, \"ECOSOC CONSULTANTS\", \"TO ADOPT USSR (ORAL) AMENDMENT REPLACING THE 1ST COMM. DRAFT RESOLUTION (A/54/REV.1) WITH THE FOLLOWING:  \\\\TAKING INTO CONSIDERATION THE QUESTION RAISED BY THE WORLD FEDERATION OF TRADE UNIONS CONCERNING ITS PARTICIPATION IN THE WORK OF THE ECO\", \"ec\", \"Economic development\", 1946], [18, \"Panama\", \"PA\", \"abstain\", 1, 0.0, \"1946-02-03\", \"R/1/532\", 1.0, 0.0, \"ECOSOC CONSULTANTS\", \"TO ADOPT USSR (ORAL) AMENDMENT REPLACING THE 1ST COMM. DRAFT RESOLUTION (A/54/REV.1) WITH THE FOLLOWING:  \\\\TAKING INTO CONSIDERATION THE QUESTION RAISED BY THE WORLD FEDERATION OF TRADE UNIONS CONCERNING ITS PARTICIPATION IN THE WORK OF THE ECO\", \"ec\", \"Economic development\", 1946], [18, \"Colombia\", \"CO\", \"yes\", 1, 0.0, \"1946-02-03\", \"R/1/532\", 1.0, 0.0, \"ECOSOC CONSULTANTS\", \"TO ADOPT USSR (ORAL) AMENDMENT REPLACING THE 1ST COMM. DRAFT RESOLUTION (A/54/REV.1) WITH THE FOLLOWING:  \\\\TAKING INTO CONSIDERATION THE QUESTION RAISED BY THE WORLD FEDERATION OF TRADE UNIONS CONCERNING ITS PARTICIPATION IN THE WORK OF THE ECO\", \"ec\", \"Economic development\", 1946], [18, \"Venezuela\", \"VE\", \"no\", 1, 0.0, \"1946-02-03\", \"R/1/532\", 1.0, 0.0, \"ECOSOC CONSULTANTS\", \"TO ADOPT USSR (ORAL) AMENDMENT REPLACING THE 1ST COMM. DRAFT RESOLUTION (A/54/REV.1) WITH THE FOLLOWING:  \\\\TAKING INTO CONSIDERATION THE QUESTION RAISED BY THE WORLD FEDERATION OF TRADE UNIONS CONCERNING ITS PARTICIPATION IN THE WORK OF THE ECO\", \"ec\", \"Economic development\", 1946], [18, \"Ecuador\", \"EC\", \"no\", 1, 0.0, \"1946-02-03\", \"R/1/532\", 1.0, 0.0, \"ECOSOC CONSULTANTS\", \"TO ADOPT USSR (ORAL) AMENDMENT REPLACING THE 1ST COMM. DRAFT RESOLUTION (A/54/REV.1) WITH THE FOLLOWING:  \\\\TAKING INTO CONSIDERATION THE QUESTION RAISED BY THE WORLD FEDERATION OF TRADE UNIONS CONCERNING ITS PARTICIPATION IN THE WORK OF THE ECO\", \"ec\", \"Economic development\", 1946], [18, \"Peru\", \"PE\", \"no\", 1, 0.0, \"1946-02-03\", \"R/1/532\", 1.0, 0.0, \"ECOSOC CONSULTANTS\", \"TO ADOPT USSR (ORAL) AMENDMENT REPLACING THE 1ST COMM. DRAFT RESOLUTION (A/54/REV.1) WITH THE FOLLOWING:  \\\\TAKING INTO CONSIDERATION THE QUESTION RAISED BY THE WORLD FEDERATION OF TRADE UNIONS CONCERNING ITS PARTICIPATION IN THE WORK OF THE ECO\", \"ec\", \"Economic development\", 1946], [18, \"Brazil\", \"BR\", \"no\", 1, 0.0, \"1946-02-03\", \"R/1/532\", 1.0, 0.0, \"ECOSOC CONSULTANTS\", \"TO ADOPT USSR (ORAL) AMENDMENT REPLACING THE 1ST COMM. DRAFT RESOLUTION (A/54/REV.1) WITH THE FOLLOWING:  \\\\TAKING INTO CONSIDERATION THE QUESTION RAISED BY THE WORLD FEDERATION OF TRADE UNIONS CONCERNING ITS PARTICIPATION IN THE WORK OF THE ECO\", \"ec\", \"Economic development\", 1946], [18, \"Bolivia\", \"BO\", \"yes\", 1, 0.0, \"1946-02-03\", \"R/1/532\", 1.0, 0.0, \"ECOSOC CONSULTANTS\", \"TO ADOPT USSR (ORAL) AMENDMENT REPLACING THE 1ST COMM. DRAFT RESOLUTION (A/54/REV.1) WITH THE FOLLOWING:  \\\\TAKING INTO CONSIDERATION THE QUESTION RAISED BY THE WORLD FEDERATION OF TRADE UNIONS CONCERNING ITS PARTICIPATION IN THE WORK OF THE ECO\", \"ec\", \"Economic development\", 1946], [18, \"Chile\", \"CL\", \"yes\", 1, 0.0, \"1946-02-03\", \"R/1/532\", 1.0, 0.0, \"ECOSOC CONSULTANTS\", \"TO ADOPT USSR (ORAL) AMENDMENT REPLACING THE 1ST COMM. DRAFT RESOLUTION (A/54/REV.1) WITH THE FOLLOWING:  \\\\TAKING INTO CONSIDERATION THE QUESTION RAISED BY THE WORLD FEDERATION OF TRADE UNIONS CONCERNING ITS PARTICIPATION IN THE WORK OF THE ECO\", \"ec\", \"Economic development\", 1946], [18, \"Argentina\", \"AR\", \"no\", 1, 0.0, \"1946-02-03\", \"R/1/532\", 1.0, 0.0, \"ECOSOC CONSULTANTS\", \"TO ADOPT USSR (ORAL) AMENDMENT REPLACING THE 1ST COMM. DRAFT RESOLUTION (A/54/REV.1) WITH THE FOLLOWING:  \\\\TAKING INTO CONSIDERATION THE QUESTION RAISED BY THE WORLD FEDERATION OF TRADE UNIONS CONCERNING ITS PARTICIPATION IN THE WORK OF THE ECO\", \"ec\", \"Economic development\", 1946], [18, \"Uruguay\", \"UY\", \"no\", 1, 0.0, \"1946-02-03\", \"R/1/532\", 1.0, 0.0, \"ECOSOC CONSULTANTS\", \"TO ADOPT USSR (ORAL) AMENDMENT REPLACING THE 1ST COMM. DRAFT RESOLUTION (A/54/REV.1) WITH THE FOLLOWING:  \\\\TAKING INTO CONSIDERATION THE QUESTION RAISED BY THE WORLD FEDERATION OF TRADE UNIONS CONCERNING ITS PARTICIPATION IN THE WORK OF THE ECO\", \"ec\", \"Economic development\", 1946], [18, \"United Kingdom\", \"GB\", \"no\", 1, 0.0, \"1946-02-03\", \"R/1/532\", 1.0, 0.0, \"ECOSOC CONSULTANTS\", \"TO ADOPT USSR (ORAL) AMENDMENT REPLACING THE 1ST COMM. DRAFT RESOLUTION (A/54/REV.1) WITH THE FOLLOWING:  \\\\TAKING INTO CONSIDERATION THE QUESTION RAISED BY THE WORLD FEDERATION OF TRADE UNIONS CONCERNING ITS PARTICIPATION IN THE WORK OF THE ECO\", \"ec\", \"Economic development\", 1946], [18, \"Netherlands\", \"NL\", \"no\", 1, 0.0, \"1946-02-03\", \"R/1/532\", 1.0, 0.0, \"ECOSOC CONSULTANTS\", \"TO ADOPT USSR (ORAL) AMENDMENT REPLACING THE 1ST COMM. DRAFT RESOLUTION (A/54/REV.1) WITH THE FOLLOWING:  \\\\TAKING INTO CONSIDERATION THE QUESTION RAISED BY THE WORLD FEDERATION OF TRADE UNIONS CONCERNING ITS PARTICIPATION IN THE WORK OF THE ECO\", \"ec\", \"Economic development\", 1946], [18, \"Belgium\", \"BE\", \"abstain\", 1, 0.0, \"1946-02-03\", \"R/1/532\", 1.0, 0.0, \"ECOSOC CONSULTANTS\", \"TO ADOPT USSR (ORAL) AMENDMENT REPLACING THE 1ST COMM. DRAFT RESOLUTION (A/54/REV.1) WITH THE FOLLOWING:  \\\\TAKING INTO CONSIDERATION THE QUESTION RAISED BY THE WORLD FEDERATION OF TRADE UNIONS CONCERNING ITS PARTICIPATION IN THE WORK OF THE ECO\", \"ec\", \"Economic development\", 1946], [18, \"Luxembourg\", \"LU\", \"no\", 1, 0.0, \"1946-02-03\", \"R/1/532\", 1.0, 0.0, \"ECOSOC CONSULTANTS\", \"TO ADOPT USSR (ORAL) AMENDMENT REPLACING THE 1ST COMM. DRAFT RESOLUTION (A/54/REV.1) WITH THE FOLLOWING:  \\\\TAKING INTO CONSIDERATION THE QUESTION RAISED BY THE WORLD FEDERATION OF TRADE UNIONS CONCERNING ITS PARTICIPATION IN THE WORK OF THE ECO\", \"ec\", \"Economic development\", 1946], [18, \"France\", \"FR\", \"yes\", 1, 0.0, \"1946-02-03\", \"R/1/532\", 1.0, 0.0, \"ECOSOC CONSULTANTS\", \"TO ADOPT USSR (ORAL) AMENDMENT REPLACING THE 1ST COMM. DRAFT RESOLUTION (A/54/REV.1) WITH THE FOLLOWING:  \\\\TAKING INTO CONSIDERATION THE QUESTION RAISED BY THE WORLD FEDERATION OF TRADE UNIONS CONCERNING ITS PARTICIPATION IN THE WORK OF THE ECO\", \"ec\", \"Economic development\", 1946], [18, \"Poland\", \"PL\", \"yes\", 1, 0.0, \"1946-02-03\", \"R/1/532\", 1.0, 0.0, \"ECOSOC CONSULTANTS\", \"TO ADOPT USSR (ORAL) AMENDMENT REPLACING THE 1ST COMM. DRAFT RESOLUTION (A/54/REV.1) WITH THE FOLLOWING:  \\\\TAKING INTO CONSIDERATION THE QUESTION RAISED BY THE WORLD FEDERATION OF TRADE UNIONS CONCERNING ITS PARTICIPATION IN THE WORK OF THE ECO\", \"ec\", \"Economic development\", 1946], [18, \"Czechoslovakia\", \"CS\", \"yes\", 1, 0.0, \"1946-02-03\", \"R/1/532\", 1.0, 0.0, \"ECOSOC CONSULTANTS\", \"TO ADOPT USSR (ORAL) AMENDMENT REPLACING THE 1ST COMM. DRAFT RESOLUTION (A/54/REV.1) WITH THE FOLLOWING:  \\\\TAKING INTO CONSIDERATION THE QUESTION RAISED BY THE WORLD FEDERATION OF TRADE UNIONS CONCERNING ITS PARTICIPATION IN THE WORK OF THE ECO\", \"ec\", \"Economic development\", 1946], [18, \"Yugoslavia\", \"YU\", \"yes\", 1, 0.0, \"1946-02-03\", \"R/1/532\", 1.0, 0.0, \"ECOSOC CONSULTANTS\", \"TO ADOPT USSR (ORAL) AMENDMENT REPLACING THE 1ST COMM. DRAFT RESOLUTION (A/54/REV.1) WITH THE FOLLOWING:  \\\\TAKING INTO CONSIDERATION THE QUESTION RAISED BY THE WORLD FEDERATION OF TRADE UNIONS CONCERNING ITS PARTICIPATION IN THE WORK OF THE ECO\", \"ec\", \"Economic development\", 1946], [18, \"Greece\", \"GR\", \"no\", 1, 0.0, \"1946-02-03\", \"R/1/532\", 1.0, 0.0, \"ECOSOC CONSULTANTS\", \"TO ADOPT USSR (ORAL) AMENDMENT REPLACING THE 1ST COMM. DRAFT RESOLUTION (A/54/REV.1) WITH THE FOLLOWING:  \\\\TAKING INTO CONSIDERATION THE QUESTION RAISED BY THE WORLD FEDERATION OF TRADE UNIONS CONCERNING ITS PARTICIPATION IN THE WORK OF THE ECO\", \"ec\", \"Economic development\", 1946], [18, \"Russia\", \"RU\", \"yes\", 1, 0.0, \"1946-02-03\", \"R/1/532\", 1.0, 0.0, \"ECOSOC CONSULTANTS\", \"TO ADOPT USSR (ORAL) AMENDMENT REPLACING THE 1ST COMM. DRAFT RESOLUTION (A/54/REV.1) WITH THE FOLLOWING:  \\\\TAKING INTO CONSIDERATION THE QUESTION RAISED BY THE WORLD FEDERATION OF TRADE UNIONS CONCERNING ITS PARTICIPATION IN THE WORK OF THE ECO\", \"ec\", \"Economic development\", 1946], [18, \"Ukraine\", \"UA\", \"yes\", 1, 0.0, \"1946-02-03\", \"R/1/532\", 1.0, 0.0, \"ECOSOC CONSULTANTS\", \"TO ADOPT USSR (ORAL) AMENDMENT REPLACING THE 1ST COMM. DRAFT RESOLUTION (A/54/REV.1) WITH THE FOLLOWING:  \\\\TAKING INTO CONSIDERATION THE QUESTION RAISED BY THE WORLD FEDERATION OF TRADE UNIONS CONCERNING ITS PARTICIPATION IN THE WORK OF THE ECO\", \"ec\", \"Economic development\", 1946], [18, \"Belarus\", \"BY\", \"yes\", 1, 0.0, \"1946-02-03\", \"R/1/532\", 1.0, 0.0, \"ECOSOC CONSULTANTS\", \"TO ADOPT USSR (ORAL) AMENDMENT REPLACING THE 1ST COMM. DRAFT RESOLUTION (A/54/REV.1) WITH THE FOLLOWING:  \\\\TAKING INTO CONSIDERATION THE QUESTION RAISED BY THE WORLD FEDERATION OF TRADE UNIONS CONCERNING ITS PARTICIPATION IN THE WORK OF THE ECO\", \"ec\", \"Economic development\", 1946], [18, \"Norway\", \"NO\", \"no\", 1, 0.0, \"1946-02-03\", \"R/1/532\", 1.0, 0.0, \"ECOSOC CONSULTANTS\", \"TO ADOPT USSR (ORAL) AMENDMENT REPLACING THE 1ST COMM. DRAFT RESOLUTION (A/54/REV.1) WITH THE FOLLOWING:  \\\\TAKING INTO CONSIDERATION THE QUESTION RAISED BY THE WORLD FEDERATION OF TRADE UNIONS CONCERNING ITS PARTICIPATION IN THE WORK OF THE ECO\", \"ec\", \"Economic development\", 1946], [18, \"Denmark\", \"DK\", \"no\", 1, 0.0, \"1946-02-03\", \"R/1/532\", 1.0, 0.0, \"ECOSOC CONSULTANTS\", \"TO ADOPT USSR (ORAL) AMENDMENT REPLACING THE 1ST COMM. DRAFT RESOLUTION (A/54/REV.1) WITH THE FOLLOWING:  \\\\TAKING INTO CONSIDERATION THE QUESTION RAISED BY THE WORLD FEDERATION OF TRADE UNIONS CONCERNING ITS PARTICIPATION IN THE WORK OF THE ECO\", \"ec\", \"Economic development\", 1946], [18, \"Liberia\", \"LR\", \"no\", 1, 0.0, \"1946-02-03\", \"R/1/532\", 1.0, 0.0, \"ECOSOC CONSULTANTS\", \"TO ADOPT USSR (ORAL) AMENDMENT REPLACING THE 1ST COMM. DRAFT RESOLUTION (A/54/REV.1) WITH THE FOLLOWING:  \\\\TAKING INTO CONSIDERATION THE QUESTION RAISED BY THE WORLD FEDERATION OF TRADE UNIONS CONCERNING ITS PARTICIPATION IN THE WORK OF THE ECO\", \"ec\", \"Economic development\", 1946], [18, \"Ethiopia\", \"ET\", \"no\", 1, 0.0, \"1946-02-03\", \"R/1/532\", 1.0, 0.0, \"ECOSOC CONSULTANTS\", \"TO ADOPT USSR (ORAL) AMENDMENT REPLACING THE 1ST COMM. DRAFT RESOLUTION (A/54/REV.1) WITH THE FOLLOWING:  \\\\TAKING INTO CONSIDERATION THE QUESTION RAISED BY THE WORLD FEDERATION OF TRADE UNIONS CONCERNING ITS PARTICIPATION IN THE WORK OF THE ECO\", \"ec\", \"Economic development\", 1946], [18, \"South Africa\", \"ZA\", \"no\", 1, 0.0, \"1946-02-03\", \"R/1/532\", 1.0, 0.0, \"ECOSOC CONSULTANTS\", \"TO ADOPT USSR (ORAL) AMENDMENT REPLACING THE 1ST COMM. DRAFT RESOLUTION (A/54/REV.1) WITH THE FOLLOWING:  \\\\TAKING INTO CONSIDERATION THE QUESTION RAISED BY THE WORLD FEDERATION OF TRADE UNIONS CONCERNING ITS PARTICIPATION IN THE WORK OF THE ECO\", \"ec\", \"Economic development\", 1946], [18, \"Iran\", \"IR\", \"abstain\", 1, 0.0, \"1946-02-03\", \"R/1/532\", 1.0, 0.0, \"ECOSOC CONSULTANTS\", \"TO ADOPT USSR (ORAL) AMENDMENT REPLACING THE 1ST COMM. DRAFT RESOLUTION (A/54/REV.1) WITH THE FOLLOWING:  \\\\TAKING INTO CONSIDERATION THE QUESTION RAISED BY THE WORLD FEDERATION OF TRADE UNIONS CONCERNING ITS PARTICIPATION IN THE WORK OF THE ECO\", \"ec\", \"Economic development\", 1946], [18, \"Turkey\", \"TR\", \"no\", 1, 0.0, \"1946-02-03\", \"R/1/532\", 1.0, 0.0, \"ECOSOC CONSULTANTS\", \"TO ADOPT USSR (ORAL) AMENDMENT REPLACING THE 1ST COMM. DRAFT RESOLUTION (A/54/REV.1) WITH THE FOLLOWING:  \\\\TAKING INTO CONSIDERATION THE QUESTION RAISED BY THE WORLD FEDERATION OF TRADE UNIONS CONCERNING ITS PARTICIPATION IN THE WORK OF THE ECO\", \"ec\", \"Economic development\", 1946], [18, \"Iraq\", \"IQ\", \"yes\", 1, 0.0, \"1946-02-03\", \"R/1/532\", 1.0, 0.0, \"ECOSOC CONSULTANTS\", \"TO ADOPT USSR (ORAL) AMENDMENT REPLACING THE 1ST COMM. DRAFT RESOLUTION (A/54/REV.1) WITH THE FOLLOWING:  \\\\TAKING INTO CONSIDERATION THE QUESTION RAISED BY THE WORLD FEDERATION OF TRADE UNIONS CONCERNING ITS PARTICIPATION IN THE WORK OF THE ECO\", \"ec\", \"Economic development\", 1946], [18, \"Egypt\", \"EG\", \"abstain\", 1, 0.0, \"1946-02-03\", \"R/1/532\", 1.0, 0.0, \"ECOSOC CONSULTANTS\", \"TO ADOPT USSR (ORAL) AMENDMENT REPLACING THE 1ST COMM. DRAFT RESOLUTION (A/54/REV.1) WITH THE FOLLOWING:  \\\\TAKING INTO CONSIDERATION THE QUESTION RAISED BY THE WORLD FEDERATION OF TRADE UNIONS CONCERNING ITS PARTICIPATION IN THE WORK OF THE ECO\", \"ec\", \"Economic development\", 1946], [18, \"Syria\", \"SY\", \"abstain\", 1, 0.0, \"1946-02-03\", \"R/1/532\", 1.0, 0.0, \"ECOSOC CONSULTANTS\", \"TO ADOPT USSR (ORAL) AMENDMENT REPLACING THE 1ST COMM. DRAFT RESOLUTION (A/54/REV.1) WITH THE FOLLOWING:  \\\\TAKING INTO CONSIDERATION THE QUESTION RAISED BY THE WORLD FEDERATION OF TRADE UNIONS CONCERNING ITS PARTICIPATION IN THE WORK OF THE ECO\", \"ec\", \"Economic development\", 1946], [18, \"Lebanon\", \"LB\", \"abstain\", 1, 0.0, \"1946-02-03\", \"R/1/532\", 1.0, 0.0, \"ECOSOC CONSULTANTS\", \"TO ADOPT USSR (ORAL) AMENDMENT REPLACING THE 1ST COMM. DRAFT RESOLUTION (A/54/REV.1) WITH THE FOLLOWING:  \\\\TAKING INTO CONSIDERATION THE QUESTION RAISED BY THE WORLD FEDERATION OF TRADE UNIONS CONCERNING ITS PARTICIPATION IN THE WORK OF THE ECO\", \"ec\", \"Economic development\", 1946], [18, \"Saudi Arabia\", \"SA\", \"abstain\", 1, 0.0, \"1946-02-03\", \"R/1/532\", 1.0, 0.0, \"ECOSOC CONSULTANTS\", \"TO ADOPT USSR (ORAL) AMENDMENT REPLACING THE 1ST COMM. DRAFT RESOLUTION (A/54/REV.1) WITH THE FOLLOWING:  \\\\TAKING INTO CONSIDERATION THE QUESTION RAISED BY THE WORLD FEDERATION OF TRADE UNIONS CONCERNING ITS PARTICIPATION IN THE WORK OF THE ECO\", \"ec\", \"Economic development\", 1946], [18, \"Taiwan\", \"TW\", \"no\", 1, 0.0, \"1946-02-03\", \"R/1/532\", 1.0, 0.0, \"ECOSOC CONSULTANTS\", \"TO ADOPT USSR (ORAL) AMENDMENT REPLACING THE 1ST COMM. DRAFT RESOLUTION (A/54/REV.1) WITH THE FOLLOWING:  \\\\TAKING INTO CONSIDERATION THE QUESTION RAISED BY THE WORLD FEDERATION OF TRADE UNIONS CONCERNING ITS PARTICIPATION IN THE WORK OF THE ECO\", \"ec\", \"Economic development\", 1946], [18, \"India\", \"IN\", \"no\", 1, 0.0, \"1946-02-03\", \"R/1/532\", 1.0, 0.0, \"ECOSOC CONSULTANTS\", \"TO ADOPT USSR (ORAL) AMENDMENT REPLACING THE 1ST COMM. DRAFT RESOLUTION (A/54/REV.1) WITH THE FOLLOWING:  \\\\TAKING INTO CONSIDERATION THE QUESTION RAISED BY THE WORLD FEDERATION OF TRADE UNIONS CONCERNING ITS PARTICIPATION IN THE WORK OF THE ECO\", \"ec\", \"Economic development\", 1946], [18, \"Philippines\", \"PH\", \"no\", 1, 0.0, \"1946-02-03\", \"R/1/532\", 1.0, 0.0, \"ECOSOC CONSULTANTS\", \"TO ADOPT USSR (ORAL) AMENDMENT REPLACING THE 1ST COMM. DRAFT RESOLUTION (A/54/REV.1) WITH THE FOLLOWING:  \\\\TAKING INTO CONSIDERATION THE QUESTION RAISED BY THE WORLD FEDERATION OF TRADE UNIONS CONCERNING ITS PARTICIPATION IN THE WORK OF THE ECO\", \"ec\", \"Economic development\", 1946], [18, \"Australia\", \"AU\", \"no\", 1, 0.0, \"1946-02-03\", \"R/1/532\", 1.0, 0.0, \"ECOSOC CONSULTANTS\", \"TO ADOPT USSR (ORAL) AMENDMENT REPLACING THE 1ST COMM. DRAFT RESOLUTION (A/54/REV.1) WITH THE FOLLOWING:  \\\\TAKING INTO CONSIDERATION THE QUESTION RAISED BY THE WORLD FEDERATION OF TRADE UNIONS CONCERNING ITS PARTICIPATION IN THE WORK OF THE ECO\", \"ec\", \"Economic development\", 1946], [18, \"New Zealand\", \"NZ\", \"no\", 1, 0.0, \"1946-02-03\", \"R/1/532\", 1.0, 0.0, \"ECOSOC CONSULTANTS\", \"TO ADOPT USSR (ORAL) AMENDMENT REPLACING THE 1ST COMM. DRAFT RESOLUTION (A/54/REV.1) WITH THE FOLLOWING:  \\\\TAKING INTO CONSIDERATION THE QUESTION RAISED BY THE WORLD FEDERATION OF TRADE UNIONS CONCERNING ITS PARTICIPATION IN THE WORK OF THE ECO\", \"ec\", \"Economic development\", 1946], [19, \"United States\", \"US\", \"yes\", 1, 0.0, \"1946-02-03\", \"R/1/534\", 0.0, 0.0, \"ECOSOC CONSULTANTS\", \"TO ADOPT THE 1ST COMM. DRAFT RESOLUTION (A/54/REV.1) PROVIDING THAT THE E.S.C. ARRANGE FOR CONSULTATIVE COLLABORATION WITH NON-GOVERNMENTAL ORGANIZATIONS, INTERNATIONAL, NATIONAL OR REGIONAL.\", \"ec\", \"Economic development\", 1946], [19, \"Canada\", \"CA\", \"yes\", 1, 0.0, \"1946-02-03\", \"R/1/534\", 0.0, 0.0, \"ECOSOC CONSULTANTS\", \"TO ADOPT THE 1ST COMM. DRAFT RESOLUTION (A/54/REV.1) PROVIDING THAT THE E.S.C. ARRANGE FOR CONSULTATIVE COLLABORATION WITH NON-GOVERNMENTAL ORGANIZATIONS, INTERNATIONAL, NATIONAL OR REGIONAL.\", \"ec\", \"Economic development\", 1946], [19, \"Cuba\", \"CU\", \"yes\", 1, 0.0, \"1946-02-03\", \"R/1/534\", 0.0, 0.0, \"ECOSOC CONSULTANTS\", \"TO ADOPT THE 1ST COMM. DRAFT RESOLUTION (A/54/REV.1) PROVIDING THAT THE E.S.C. ARRANGE FOR CONSULTATIVE COLLABORATION WITH NON-GOVERNMENTAL ORGANIZATIONS, INTERNATIONAL, NATIONAL OR REGIONAL.\", \"ec\", \"Economic development\", 1946], [19, \"Haiti\", \"HT\", \"yes\", 1, 0.0, \"1946-02-03\", \"R/1/534\", 0.0, 0.0, \"ECOSOC CONSULTANTS\", \"TO ADOPT THE 1ST COMM. DRAFT RESOLUTION (A/54/REV.1) PROVIDING THAT THE E.S.C. ARRANGE FOR CONSULTATIVE COLLABORATION WITH NON-GOVERNMENTAL ORGANIZATIONS, INTERNATIONAL, NATIONAL OR REGIONAL.\", \"ec\", \"Economic development\", 1946], [19, \"Dominican Republic\", \"DO\", \"yes\", 1, 0.0, \"1946-02-03\", \"R/1/534\", 0.0, 0.0, \"ECOSOC CONSULTANTS\", \"TO ADOPT THE 1ST COMM. DRAFT RESOLUTION (A/54/REV.1) PROVIDING THAT THE E.S.C. ARRANGE FOR CONSULTATIVE COLLABORATION WITH NON-GOVERNMENTAL ORGANIZATIONS, INTERNATIONAL, NATIONAL OR REGIONAL.\", \"ec\", \"Economic development\", 1946], [19, \"Mexico\", \"MX\", \"abstain\", 1, 0.0, \"1946-02-03\", \"R/1/534\", 0.0, 0.0, \"ECOSOC CONSULTANTS\", \"TO ADOPT THE 1ST COMM. DRAFT RESOLUTION (A/54/REV.1) PROVIDING THAT THE E.S.C. ARRANGE FOR CONSULTATIVE COLLABORATION WITH NON-GOVERNMENTAL ORGANIZATIONS, INTERNATIONAL, NATIONAL OR REGIONAL.\", \"ec\", \"Economic development\", 1946], [19, \"Honduras\", \"HN\", \"yes\", 1, 0.0, \"1946-02-03\", \"R/1/534\", 0.0, 0.0, \"ECOSOC CONSULTANTS\", \"TO ADOPT THE 1ST COMM. DRAFT RESOLUTION (A/54/REV.1) PROVIDING THAT THE E.S.C. ARRANGE FOR CONSULTATIVE COLLABORATION WITH NON-GOVERNMENTAL ORGANIZATIONS, INTERNATIONAL, NATIONAL OR REGIONAL.\", \"ec\", \"Economic development\", 1946], [19, \"El Salvador\", \"SV\", \"yes\", 1, 0.0, \"1946-02-03\", \"R/1/534\", 0.0, 0.0, \"ECOSOC CONSULTANTS\", \"TO ADOPT THE 1ST COMM. DRAFT RESOLUTION (A/54/REV.1) PROVIDING THAT THE E.S.C. ARRANGE FOR CONSULTATIVE COLLABORATION WITH NON-GOVERNMENTAL ORGANIZATIONS, INTERNATIONAL, NATIONAL OR REGIONAL.\", \"ec\", \"Economic development\", 1946], [19, \"Nicaragua\", \"NI\", \"yes\", 1, 0.0, \"1946-02-03\", \"R/1/534\", 0.0, 0.0, \"ECOSOC CONSULTANTS\", \"TO ADOPT THE 1ST COMM. DRAFT RESOLUTION (A/54/REV.1) PROVIDING THAT THE E.S.C. ARRANGE FOR CONSULTATIVE COLLABORATION WITH NON-GOVERNMENTAL ORGANIZATIONS, INTERNATIONAL, NATIONAL OR REGIONAL.\", \"ec\", \"Economic development\", 1946], [19, \"Panama\", \"PA\", \"yes\", 1, 0.0, \"1946-02-03\", \"R/1/534\", 0.0, 0.0, \"ECOSOC CONSULTANTS\", \"TO ADOPT THE 1ST COMM. DRAFT RESOLUTION (A/54/REV.1) PROVIDING THAT THE E.S.C. ARRANGE FOR CONSULTATIVE COLLABORATION WITH NON-GOVERNMENTAL ORGANIZATIONS, INTERNATIONAL, NATIONAL OR REGIONAL.\", \"ec\", \"Economic development\", 1946], [19, \"Colombia\", \"CO\", \"abstain\", 1, 0.0, \"1946-02-03\", \"R/1/534\", 0.0, 0.0, \"ECOSOC CONSULTANTS\", \"TO ADOPT THE 1ST COMM. DRAFT RESOLUTION (A/54/REV.1) PROVIDING THAT THE E.S.C. ARRANGE FOR CONSULTATIVE COLLABORATION WITH NON-GOVERNMENTAL ORGANIZATIONS, INTERNATIONAL, NATIONAL OR REGIONAL.\", \"ec\", \"Economic development\", 1946], [19, \"Venezuela\", \"VE\", \"yes\", 1, 0.0, \"1946-02-03\", \"R/1/534\", 0.0, 0.0, \"ECOSOC CONSULTANTS\", \"TO ADOPT THE 1ST COMM. DRAFT RESOLUTION (A/54/REV.1) PROVIDING THAT THE E.S.C. ARRANGE FOR CONSULTATIVE COLLABORATION WITH NON-GOVERNMENTAL ORGANIZATIONS, INTERNATIONAL, NATIONAL OR REGIONAL.\", \"ec\", \"Economic development\", 1946], [19, \"Ecuador\", \"EC\", \"yes\", 1, 0.0, \"1946-02-03\", \"R/1/534\", 0.0, 0.0, \"ECOSOC CONSULTANTS\", \"TO ADOPT THE 1ST COMM. DRAFT RESOLUTION (A/54/REV.1) PROVIDING THAT THE E.S.C. ARRANGE FOR CONSULTATIVE COLLABORATION WITH NON-GOVERNMENTAL ORGANIZATIONS, INTERNATIONAL, NATIONAL OR REGIONAL.\", \"ec\", \"Economic development\", 1946], [19, \"Peru\", \"PE\", \"yes\", 1, 0.0, \"1946-02-03\", \"R/1/534\", 0.0, 0.0, \"ECOSOC CONSULTANTS\", \"TO ADOPT THE 1ST COMM. DRAFT RESOLUTION (A/54/REV.1) PROVIDING THAT THE E.S.C. ARRANGE FOR CONSULTATIVE COLLABORATION WITH NON-GOVERNMENTAL ORGANIZATIONS, INTERNATIONAL, NATIONAL OR REGIONAL.\", \"ec\", \"Economic development\", 1946], [19, \"Brazil\", \"BR\", \"yes\", 1, 0.0, \"1946-02-03\", \"R/1/534\", 0.0, 0.0, \"ECOSOC CONSULTANTS\", \"TO ADOPT THE 1ST COMM. DRAFT RESOLUTION (A/54/REV.1) PROVIDING THAT THE E.S.C. ARRANGE FOR CONSULTATIVE COLLABORATION WITH NON-GOVERNMENTAL ORGANIZATIONS, INTERNATIONAL, NATIONAL OR REGIONAL.\", \"ec\", \"Economic development\", 1946], [19, \"Bolivia\", \"BO\", \"yes\", 1, 0.0, \"1946-02-03\", \"R/1/534\", 0.0, 0.0, \"ECOSOC CONSULTANTS\", \"TO ADOPT THE 1ST COMM. DRAFT RESOLUTION (A/54/REV.1) PROVIDING THAT THE E.S.C. ARRANGE FOR CONSULTATIVE COLLABORATION WITH NON-GOVERNMENTAL ORGANIZATIONS, INTERNATIONAL, NATIONAL OR REGIONAL.\", \"ec\", \"Economic development\", 1946], [19, \"Paraguay\", \"PY\", \"yes\", 1, 0.0, \"1946-02-03\", \"R/1/534\", 0.0, 0.0, \"ECOSOC CONSULTANTS\", \"TO ADOPT THE 1ST COMM. DRAFT RESOLUTION (A/54/REV.1) PROVIDING THAT THE E.S.C. ARRANGE FOR CONSULTATIVE COLLABORATION WITH NON-GOVERNMENTAL ORGANIZATIONS, INTERNATIONAL, NATIONAL OR REGIONAL.\", \"ec\", \"Economic development\", 1946], [19, \"Chile\", \"CL\", \"abstain\", 1, 0.0, \"1946-02-03\", \"R/1/534\", 0.0, 0.0, \"ECOSOC CONSULTANTS\", \"TO ADOPT THE 1ST COMM. DRAFT RESOLUTION (A/54/REV.1) PROVIDING THAT THE E.S.C. ARRANGE FOR CONSULTATIVE COLLABORATION WITH NON-GOVERNMENTAL ORGANIZATIONS, INTERNATIONAL, NATIONAL OR REGIONAL.\", \"ec\", \"Economic development\", 1946], [19, \"Argentina\", \"AR\", \"yes\", 1, 0.0, \"1946-02-03\", \"R/1/534\", 0.0, 0.0, \"ECOSOC CONSULTANTS\", \"TO ADOPT THE 1ST COMM. DRAFT RESOLUTION (A/54/REV.1) PROVIDING THAT THE E.S.C. ARRANGE FOR CONSULTATIVE COLLABORATION WITH NON-GOVERNMENTAL ORGANIZATIONS, INTERNATIONAL, NATIONAL OR REGIONAL.\", \"ec\", \"Economic development\", 1946], [19, \"Uruguay\", \"UY\", \"yes\", 1, 0.0, \"1946-02-03\", \"R/1/534\", 0.0, 0.0, \"ECOSOC CONSULTANTS\", \"TO ADOPT THE 1ST COMM. DRAFT RESOLUTION (A/54/REV.1) PROVIDING THAT THE E.S.C. ARRANGE FOR CONSULTATIVE COLLABORATION WITH NON-GOVERNMENTAL ORGANIZATIONS, INTERNATIONAL, NATIONAL OR REGIONAL.\", \"ec\", \"Economic development\", 1946], [19, \"United Kingdom\", \"GB\", \"yes\", 1, 0.0, \"1946-02-03\", \"R/1/534\", 0.0, 0.0, \"ECOSOC CONSULTANTS\", \"TO ADOPT THE 1ST COMM. DRAFT RESOLUTION (A/54/REV.1) PROVIDING THAT THE E.S.C. ARRANGE FOR CONSULTATIVE COLLABORATION WITH NON-GOVERNMENTAL ORGANIZATIONS, INTERNATIONAL, NATIONAL OR REGIONAL.\", \"ec\", \"Economic development\", 1946], [19, \"Netherlands\", \"NL\", \"yes\", 1, 0.0, \"1946-02-03\", \"R/1/534\", 0.0, 0.0, \"ECOSOC CONSULTANTS\", \"TO ADOPT THE 1ST COMM. DRAFT RESOLUTION (A/54/REV.1) PROVIDING THAT THE E.S.C. ARRANGE FOR CONSULTATIVE COLLABORATION WITH NON-GOVERNMENTAL ORGANIZATIONS, INTERNATIONAL, NATIONAL OR REGIONAL.\", \"ec\", \"Economic development\", 1946], [19, \"Belgium\", \"BE\", \"abstain\", 1, 0.0, \"1946-02-03\", \"R/1/534\", 0.0, 0.0, \"ECOSOC CONSULTANTS\", \"TO ADOPT THE 1ST COMM. DRAFT RESOLUTION (A/54/REV.1) PROVIDING THAT THE E.S.C. ARRANGE FOR CONSULTATIVE COLLABORATION WITH NON-GOVERNMENTAL ORGANIZATIONS, INTERNATIONAL, NATIONAL OR REGIONAL.\", \"ec\", \"Economic development\", 1946], [19, \"Luxembourg\", \"LU\", \"yes\", 1, 0.0, \"1946-02-03\", \"R/1/534\", 0.0, 0.0, \"ECOSOC CONSULTANTS\", \"TO ADOPT THE 1ST COMM. DRAFT RESOLUTION (A/54/REV.1) PROVIDING THAT THE E.S.C. ARRANGE FOR CONSULTATIVE COLLABORATION WITH NON-GOVERNMENTAL ORGANIZATIONS, INTERNATIONAL, NATIONAL OR REGIONAL.\", \"ec\", \"Economic development\", 1946], [19, \"France\", \"FR\", \"abstain\", 1, 0.0, \"1946-02-03\", \"R/1/534\", 0.0, 0.0, \"ECOSOC CONSULTANTS\", \"TO ADOPT THE 1ST COMM. DRAFT RESOLUTION (A/54/REV.1) PROVIDING THAT THE E.S.C. ARRANGE FOR CONSULTATIVE COLLABORATION WITH NON-GOVERNMENTAL ORGANIZATIONS, INTERNATIONAL, NATIONAL OR REGIONAL.\", \"ec\", \"Economic development\", 1946], [19, \"Poland\", \"PL\", \"no\", 1, 0.0, \"1946-02-03\", \"R/1/534\", 0.0, 0.0, \"ECOSOC CONSULTANTS\", \"TO ADOPT THE 1ST COMM. DRAFT RESOLUTION (A/54/REV.1) PROVIDING THAT THE E.S.C. ARRANGE FOR CONSULTATIVE COLLABORATION WITH NON-GOVERNMENTAL ORGANIZATIONS, INTERNATIONAL, NATIONAL OR REGIONAL.\", \"ec\", \"Economic development\", 1946], [19, \"Czechoslovakia\", \"CS\", \"no\", 1, 0.0, \"1946-02-03\", \"R/1/534\", 0.0, 0.0, \"ECOSOC CONSULTANTS\", \"TO ADOPT THE 1ST COMM. DRAFT RESOLUTION (A/54/REV.1) PROVIDING THAT THE E.S.C. ARRANGE FOR CONSULTATIVE COLLABORATION WITH NON-GOVERNMENTAL ORGANIZATIONS, INTERNATIONAL, NATIONAL OR REGIONAL.\", \"ec\", \"Economic development\", 1946], [19, \"Yugoslavia\", \"YU\", \"no\", 1, 0.0, \"1946-02-03\", \"R/1/534\", 0.0, 0.0, \"ECOSOC CONSULTANTS\", \"TO ADOPT THE 1ST COMM. DRAFT RESOLUTION (A/54/REV.1) PROVIDING THAT THE E.S.C. ARRANGE FOR CONSULTATIVE COLLABORATION WITH NON-GOVERNMENTAL ORGANIZATIONS, INTERNATIONAL, NATIONAL OR REGIONAL.\", \"ec\", \"Economic development\", 1946], [19, \"Greece\", \"GR\", \"yes\", 1, 0.0, \"1946-02-03\", \"R/1/534\", 0.0, 0.0, \"ECOSOC CONSULTANTS\", \"TO ADOPT THE 1ST COMM. DRAFT RESOLUTION (A/54/REV.1) PROVIDING THAT THE E.S.C. ARRANGE FOR CONSULTATIVE COLLABORATION WITH NON-GOVERNMENTAL ORGANIZATIONS, INTERNATIONAL, NATIONAL OR REGIONAL.\", \"ec\", \"Economic development\", 1946], [19, \"Russia\", \"RU\", \"no\", 1, 0.0, \"1946-02-03\", \"R/1/534\", 0.0, 0.0, \"ECOSOC CONSULTANTS\", \"TO ADOPT THE 1ST COMM. DRAFT RESOLUTION (A/54/REV.1) PROVIDING THAT THE E.S.C. ARRANGE FOR CONSULTATIVE COLLABORATION WITH NON-GOVERNMENTAL ORGANIZATIONS, INTERNATIONAL, NATIONAL OR REGIONAL.\", \"ec\", \"Economic development\", 1946], [19, \"Ukraine\", \"UA\", \"no\", 1, 0.0, \"1946-02-03\", \"R/1/534\", 0.0, 0.0, \"ECOSOC CONSULTANTS\", \"TO ADOPT THE 1ST COMM. DRAFT RESOLUTION (A/54/REV.1) PROVIDING THAT THE E.S.C. ARRANGE FOR CONSULTATIVE COLLABORATION WITH NON-GOVERNMENTAL ORGANIZATIONS, INTERNATIONAL, NATIONAL OR REGIONAL.\", \"ec\", \"Economic development\", 1946], [19, \"Belarus\", \"BY\", \"no\", 1, 0.0, \"1946-02-03\", \"R/1/534\", 0.0, 0.0, \"ECOSOC CONSULTANTS\", \"TO ADOPT THE 1ST COMM. DRAFT RESOLUTION (A/54/REV.1) PROVIDING THAT THE E.S.C. ARRANGE FOR CONSULTATIVE COLLABORATION WITH NON-GOVERNMENTAL ORGANIZATIONS, INTERNATIONAL, NATIONAL OR REGIONAL.\", \"ec\", \"Economic development\", 1946], [19, \"Norway\", \"NO\", \"yes\", 1, 0.0, \"1946-02-03\", \"R/1/534\", 0.0, 0.0, \"ECOSOC CONSULTANTS\", \"TO ADOPT THE 1ST COMM. DRAFT RESOLUTION (A/54/REV.1) PROVIDING THAT THE E.S.C. ARRANGE FOR CONSULTATIVE COLLABORATION WITH NON-GOVERNMENTAL ORGANIZATIONS, INTERNATIONAL, NATIONAL OR REGIONAL.\", \"ec\", \"Economic development\", 1946], [19, \"Denmark\", \"DK\", \"yes\", 1, 0.0, \"1946-02-03\", \"R/1/534\", 0.0, 0.0, \"ECOSOC CONSULTANTS\", \"TO ADOPT THE 1ST COMM. DRAFT RESOLUTION (A/54/REV.1) PROVIDING THAT THE E.S.C. ARRANGE FOR CONSULTATIVE COLLABORATION WITH NON-GOVERNMENTAL ORGANIZATIONS, INTERNATIONAL, NATIONAL OR REGIONAL.\", \"ec\", \"Economic development\", 1946], [19, \"Liberia\", \"LR\", \"yes\", 1, 0.0, \"1946-02-03\", \"R/1/534\", 0.0, 0.0, \"ECOSOC CONSULTANTS\", \"TO ADOPT THE 1ST COMM. DRAFT RESOLUTION (A/54/REV.1) PROVIDING THAT THE E.S.C. ARRANGE FOR CONSULTATIVE COLLABORATION WITH NON-GOVERNMENTAL ORGANIZATIONS, INTERNATIONAL, NATIONAL OR REGIONAL.\", \"ec\", \"Economic development\", 1946], [19, \"Ethiopia\", \"ET\", \"yes\", 1, 0.0, \"1946-02-03\", \"R/1/534\", 0.0, 0.0, \"ECOSOC CONSULTANTS\", \"TO ADOPT THE 1ST COMM. DRAFT RESOLUTION (A/54/REV.1) PROVIDING THAT THE E.S.C. ARRANGE FOR CONSULTATIVE COLLABORATION WITH NON-GOVERNMENTAL ORGANIZATIONS, INTERNATIONAL, NATIONAL OR REGIONAL.\", \"ec\", \"Economic development\", 1946], [19, \"South Africa\", \"ZA\", \"yes\", 1, 0.0, \"1946-02-03\", \"R/1/534\", 0.0, 0.0, \"ECOSOC CONSULTANTS\", \"TO ADOPT THE 1ST COMM. DRAFT RESOLUTION (A/54/REV.1) PROVIDING THAT THE E.S.C. ARRANGE FOR CONSULTATIVE COLLABORATION WITH NON-GOVERNMENTAL ORGANIZATIONS, INTERNATIONAL, NATIONAL OR REGIONAL.\", \"ec\", \"Economic development\", 1946], [19, \"Iran\", \"IR\", \"abstain\", 1, 0.0, \"1946-02-03\", \"R/1/534\", 0.0, 0.0, \"ECOSOC CONSULTANTS\", \"TO ADOPT THE 1ST COMM. DRAFT RESOLUTION (A/54/REV.1) PROVIDING THAT THE E.S.C. ARRANGE FOR CONSULTATIVE COLLABORATION WITH NON-GOVERNMENTAL ORGANIZATIONS, INTERNATIONAL, NATIONAL OR REGIONAL.\", \"ec\", \"Economic development\", 1946], [19, \"Turkey\", \"TR\", \"yes\", 1, 0.0, \"1946-02-03\", \"R/1/534\", 0.0, 0.0, \"ECOSOC CONSULTANTS\", \"TO ADOPT THE 1ST COMM. DRAFT RESOLUTION (A/54/REV.1) PROVIDING THAT THE E.S.C. ARRANGE FOR CONSULTATIVE COLLABORATION WITH NON-GOVERNMENTAL ORGANIZATIONS, INTERNATIONAL, NATIONAL OR REGIONAL.\", \"ec\", \"Economic development\", 1946], [19, \"Iraq\", \"IQ\", \"abstain\", 1, 0.0, \"1946-02-03\", \"R/1/534\", 0.0, 0.0, \"ECOSOC CONSULTANTS\", \"TO ADOPT THE 1ST COMM. DRAFT RESOLUTION (A/54/REV.1) PROVIDING THAT THE E.S.C. ARRANGE FOR CONSULTATIVE COLLABORATION WITH NON-GOVERNMENTAL ORGANIZATIONS, INTERNATIONAL, NATIONAL OR REGIONAL.\", \"ec\", \"Economic development\", 1946], [19, \"Egypt\", \"EG\", \"abstain\", 1, 0.0, \"1946-02-03\", \"R/1/534\", 0.0, 0.0, \"ECOSOC CONSULTANTS\", \"TO ADOPT THE 1ST COMM. DRAFT RESOLUTION (A/54/REV.1) PROVIDING THAT THE E.S.C. ARRANGE FOR CONSULTATIVE COLLABORATION WITH NON-GOVERNMENTAL ORGANIZATIONS, INTERNATIONAL, NATIONAL OR REGIONAL.\", \"ec\", \"Economic development\", 1946], [19, \"Syria\", \"SY\", \"abstain\", 1, 0.0, \"1946-02-03\", \"R/1/534\", 0.0, 0.0, \"ECOSOC CONSULTANTS\", \"TO ADOPT THE 1ST COMM. DRAFT RESOLUTION (A/54/REV.1) PROVIDING THAT THE E.S.C. ARRANGE FOR CONSULTATIVE COLLABORATION WITH NON-GOVERNMENTAL ORGANIZATIONS, INTERNATIONAL, NATIONAL OR REGIONAL.\", \"ec\", \"Economic development\", 1946], [19, \"Lebanon\", \"LB\", \"abstain\", 1, 0.0, \"1946-02-03\", \"R/1/534\", 0.0, 0.0, \"ECOSOC CONSULTANTS\", \"TO ADOPT THE 1ST COMM. DRAFT RESOLUTION (A/54/REV.1) PROVIDING THAT THE E.S.C. ARRANGE FOR CONSULTATIVE COLLABORATION WITH NON-GOVERNMENTAL ORGANIZATIONS, INTERNATIONAL, NATIONAL OR REGIONAL.\", \"ec\", \"Economic development\", 1946], [19, \"Saudi Arabia\", \"SA\", \"abstain\", 1, 0.0, \"1946-02-03\", \"R/1/534\", 0.0, 0.0, \"ECOSOC CONSULTANTS\", \"TO ADOPT THE 1ST COMM. DRAFT RESOLUTION (A/54/REV.1) PROVIDING THAT THE E.S.C. ARRANGE FOR CONSULTATIVE COLLABORATION WITH NON-GOVERNMENTAL ORGANIZATIONS, INTERNATIONAL, NATIONAL OR REGIONAL.\", \"ec\", \"Economic development\", 1946], [19, \"Taiwan\", \"TW\", \"yes\", 1, 0.0, \"1946-02-03\", \"R/1/534\", 0.0, 0.0, \"ECOSOC CONSULTANTS\", \"TO ADOPT THE 1ST COMM. DRAFT RESOLUTION (A/54/REV.1) PROVIDING THAT THE E.S.C. ARRANGE FOR CONSULTATIVE COLLABORATION WITH NON-GOVERNMENTAL ORGANIZATIONS, INTERNATIONAL, NATIONAL OR REGIONAL.\", \"ec\", \"Economic development\", 1946], [19, \"India\", \"IN\", \"yes\", 1, 0.0, \"1946-02-03\", \"R/1/534\", 0.0, 0.0, \"ECOSOC CONSULTANTS\", \"TO ADOPT THE 1ST COMM. DRAFT RESOLUTION (A/54/REV.1) PROVIDING THAT THE E.S.C. ARRANGE FOR CONSULTATIVE COLLABORATION WITH NON-GOVERNMENTAL ORGANIZATIONS, INTERNATIONAL, NATIONAL OR REGIONAL.\", \"ec\", \"Economic development\", 1946], [19, \"Philippines\", \"PH\", \"yes\", 1, 0.0, \"1946-02-03\", \"R/1/534\", 0.0, 0.0, \"ECOSOC CONSULTANTS\", \"TO ADOPT THE 1ST COMM. DRAFT RESOLUTION (A/54/REV.1) PROVIDING THAT THE E.S.C. ARRANGE FOR CONSULTATIVE COLLABORATION WITH NON-GOVERNMENTAL ORGANIZATIONS, INTERNATIONAL, NATIONAL OR REGIONAL.\", \"ec\", \"Economic development\", 1946], [19, \"Australia\", \"AU\", \"yes\", 1, 0.0, \"1946-02-03\", \"R/1/534\", 0.0, 0.0, \"ECOSOC CONSULTANTS\", \"TO ADOPT THE 1ST COMM. DRAFT RESOLUTION (A/54/REV.1) PROVIDING THAT THE E.S.C. ARRANGE FOR CONSULTATIVE COLLABORATION WITH NON-GOVERNMENTAL ORGANIZATIONS, INTERNATIONAL, NATIONAL OR REGIONAL.\", \"ec\", \"Economic development\", 1946], [19, \"New Zealand\", \"NZ\", \"yes\", 1, 0.0, \"1946-02-03\", \"R/1/534\", 0.0, 0.0, \"ECOSOC CONSULTANTS\", \"TO ADOPT THE 1ST COMM. DRAFT RESOLUTION (A/54/REV.1) PROVIDING THAT THE E.S.C. ARRANGE FOR CONSULTATIVE COLLABORATION WITH NON-GOVERNMENTAL ORGANIZATIONS, INTERNATIONAL, NATIONAL OR REGIONAL.\", \"ec\", \"Economic development\", 1946], [24, \"United States\", \"US\", \"yes\", 1, 0.0, \"1946-12-05\", \"R/1/1229\", 0.0, 0.0, \"ECOSOC ELECTIONS\", \"TO ADOPT BELGIAN ORAL PROPOSAL TO SURRENDER BELGIUM'S SEAT IN THE E.S.C., PROVIDING THAT THE NETHERLANDS AND TURKEY BE THEREBY ELECTED TO THE 2 REMAINING VACANCIES.\", \"ec\", \"Economic development\", 1946], [24, \"Canada\", \"CA\", \"yes\", 1, 0.0, \"1946-12-05\", \"R/1/1229\", 0.0, 0.0, \"ECOSOC ELECTIONS\", \"TO ADOPT BELGIAN ORAL PROPOSAL TO SURRENDER BELGIUM'S SEAT IN THE E.S.C., PROVIDING THAT THE NETHERLANDS AND TURKEY BE THEREBY ELECTED TO THE 2 REMAINING VACANCIES.\", \"ec\", \"Economic development\", 1946], [24, \"Cuba\", \"CU\", \"yes\", 1, 0.0, \"1946-12-05\", \"R/1/1229\", 0.0, 0.0, \"ECOSOC ELECTIONS\", \"TO ADOPT BELGIAN ORAL PROPOSAL TO SURRENDER BELGIUM'S SEAT IN THE E.S.C., PROVIDING THAT THE NETHERLANDS AND TURKEY BE THEREBY ELECTED TO THE 2 REMAINING VACANCIES.\", \"ec\", \"Economic development\", 1946], [24, \"Haiti\", \"HT\", \"abstain\", 1, 0.0, \"1946-12-05\", \"R/1/1229\", 0.0, 0.0, \"ECOSOC ELECTIONS\", \"TO ADOPT BELGIAN ORAL PROPOSAL TO SURRENDER BELGIUM'S SEAT IN THE E.S.C., PROVIDING THAT THE NETHERLANDS AND TURKEY BE THEREBY ELECTED TO THE 2 REMAINING VACANCIES.\", \"ec\", \"Economic development\", 1946], [24, \"Dominican Republic\", \"DO\", \"yes\", 1, 0.0, \"1946-12-05\", \"R/1/1229\", 0.0, 0.0, \"ECOSOC ELECTIONS\", \"TO ADOPT BELGIAN ORAL PROPOSAL TO SURRENDER BELGIUM'S SEAT IN THE E.S.C., PROVIDING THAT THE NETHERLANDS AND TURKEY BE THEREBY ELECTED TO THE 2 REMAINING VACANCIES.\", \"ec\", \"Economic development\", 1946], [9092, \"Sierra Leone\", \"SL\", \"yes\", 74, NaN, \"2019-12-12\", \"A/RES/74/34\", NaN, NaN, \"Further practical measures for the prevention of an arms race in outer space \", \"Further practical measures for the prevention of an arms race in outer space \", \"ec\", \"Economic development\", 2019], [9092, \"Singapore\", \"SG\", \"yes\", 74, NaN, \"2019-12-12\", \"A/RES/74/34\", NaN, NaN, \"Further practical measures for the prevention of an arms race in outer space \", \"Further practical measures for the prevention of an arms race in outer space \", \"di\", \"Arms control and disarmament\", 2019], [9092, \"Singapore\", \"SG\", \"yes\", 74, NaN, \"2019-12-12\", \"A/RES/74/34\", NaN, NaN, \"Further practical measures for the prevention of an arms race in outer space \", \"Further practical measures for the prevention of an arms race in outer space \", \"co\", \"Colonialism\", 2019], [9092, \"Singapore\", \"SG\", \"yes\", 74, NaN, \"2019-12-12\", \"A/RES/74/34\", NaN, NaN, \"Further practical measures for the prevention of an arms race in outer space \", \"Further practical measures for the prevention of an arms race in outer space \", \"ec\", \"Economic development\", 2019], [9092, \"Slovakia\", \"SK\", \"abstain\", 74, NaN, \"2019-12-12\", \"A/RES/74/34\", NaN, NaN, \"Further practical measures for the prevention of an arms race in outer space \", \"Further practical measures for the prevention of an arms race in outer space \", \"di\", \"Arms control and disarmament\", 2019], [9092, \"Slovakia\", \"SK\", \"abstain\", 74, NaN, \"2019-12-12\", \"A/RES/74/34\", NaN, NaN, \"Further practical measures for the prevention of an arms race in outer space \", \"Further practical measures for the prevention of an arms race in outer space \", \"co\", \"Colonialism\", 2019], [9092, \"Slovakia\", \"SK\", \"abstain\", 74, NaN, \"2019-12-12\", \"A/RES/74/34\", NaN, NaN, \"Further practical measures for the prevention of an arms race in outer space \", \"Further practical measures for the prevention of an arms race in outer space \", \"ec\", \"Economic development\", 2019], [9092, \"Slovenia\", \"SI\", \"abstain\", 74, NaN, \"2019-12-12\", \"A/RES/74/34\", NaN, NaN, \"Further practical measures for the prevention of an arms race in outer space \", \"Further practical measures for the prevention of an arms race in outer space \", \"di\", \"Arms control and disarmament\", 2019], [9092, \"Slovenia\", \"SI\", \"abstain\", 74, NaN, \"2019-12-12\", \"A/RES/74/34\", NaN, NaN, \"Further practical measures for the prevention of an arms race in outer space \", \"Further practical measures for the prevention of an arms race in outer space \", \"co\", \"Colonialism\", 2019], [9092, \"Slovenia\", \"SI\", \"abstain\", 74, NaN, \"2019-12-12\", \"A/RES/74/34\", NaN, NaN, \"Further practical measures for the prevention of an arms race in outer space \", \"Further practical measures for the prevention of an arms race in outer space \", \"ec\", \"Economic development\", 2019], [9092, \"Solomon Islands\", \"SB\", \"yes\", 74, NaN, \"2019-12-12\", \"A/RES/74/34\", NaN, NaN, \"Further practical measures for the prevention of an arms race in outer space \", \"Further practical measures for the prevention of an arms race in outer space \", \"di\", \"Arms control and disarmament\", 2019], [9092, \"Solomon Islands\", \"SB\", \"yes\", 74, NaN, \"2019-12-12\", \"A/RES/74/34\", NaN, NaN, \"Further practical measures for the prevention of an arms race in outer space \", \"Further practical measures for the prevention of an arms race in outer space \", \"co\", \"Colonialism\", 2019], [9092, \"Solomon Islands\", \"SB\", \"yes\", 74, NaN, \"2019-12-12\", \"A/RES/74/34\", NaN, NaN, \"Further practical measures for the prevention of an arms race in outer space \", \"Further practical measures for the prevention of an arms race in outer space \", \"ec\", \"Economic development\", 2019], [9092, \"South Africa\", \"ZA\", \"yes\", 74, NaN, \"2019-12-12\", \"A/RES/74/34\", NaN, NaN, \"Further practical measures for the prevention of an arms race in outer space \", \"Further practical measures for the prevention of an arms race in outer space \", \"di\", \"Arms control and disarmament\", 2019], [9092, \"South Africa\", \"ZA\", \"yes\", 74, NaN, \"2019-12-12\", \"A/RES/74/34\", NaN, NaN, \"Further practical measures for the prevention of an arms race in outer space \", \"Further practical measures for the prevention of an arms race in outer space \", \"co\", \"Colonialism\", 2019], [9092, \"South Africa\", \"ZA\", \"yes\", 74, NaN, \"2019-12-12\", \"A/RES/74/34\", NaN, NaN, \"Further practical measures for the prevention of an arms race in outer space \", \"Further practical measures for the prevention of an arms race in outer space \", \"ec\", \"Economic development\", 2019], [9092, \"South Sudan\", \"SS\", \"yes\", 74, NaN, \"2019-12-12\", \"A/RES/74/34\", NaN, NaN, \"Further practical measures for the prevention of an arms race in outer space \", \"Further practical measures for the prevention of an arms race in outer space \", \"di\", \"Arms control and disarmament\", 2019], [9092, \"South Sudan\", \"SS\", \"yes\", 74, NaN, \"2019-12-12\", \"A/RES/74/34\", NaN, NaN, \"Further practical measures for the prevention of an arms race in outer space \", \"Further practical measures for the prevention of an arms race in outer space \", \"co\", \"Colonialism\", 2019], [9092, \"South Sudan\", \"SS\", \"yes\", 74, NaN, \"2019-12-12\", \"A/RES/74/34\", NaN, NaN, \"Further practical measures for the prevention of an arms race in outer space \", \"Further practical measures for the prevention of an arms race in outer space \", \"ec\", \"Economic development\", 2019], [9092, \"Spain\", \"ES\", \"abstain\", 74, NaN, \"2019-12-12\", \"A/RES/74/34\", NaN, NaN, \"Further practical measures for the prevention of an arms race in outer space \", \"Further practical measures for the prevention of an arms race in outer space \", \"di\", \"Arms control and disarmament\", 2019], [9092, \"Spain\", \"ES\", \"abstain\", 74, NaN, \"2019-12-12\", \"A/RES/74/34\", NaN, NaN, \"Further practical measures for the prevention of an arms race in outer space \", \"Further practical measures for the prevention of an arms race in outer space \", \"co\", \"Colonialism\", 2019], [9092, \"Spain\", \"ES\", \"abstain\", 74, NaN, \"2019-12-12\", \"A/RES/74/34\", NaN, NaN, \"Further practical measures for the prevention of an arms race in outer space \", \"Further practical measures for the prevention of an arms race in outer space \", \"ec\", \"Economic development\", 2019], [9092, \"Sri Lanka\", \"LK\", \"yes\", 74, NaN, \"2019-12-12\", \"A/RES/74/34\", NaN, NaN, \"Further practical measures for the prevention of an arms race in outer space \", \"Further practical measures for the prevention of an arms race in outer space \", \"di\", \"Arms control and disarmament\", 2019], [9092, \"Sri Lanka\", \"LK\", \"yes\", 74, NaN, \"2019-12-12\", \"A/RES/74/34\", NaN, NaN, \"Further practical measures for the prevention of an arms race in outer space \", \"Further practical measures for the prevention of an arms race in outer space \", \"co\", \"Colonialism\", 2019], [9092, \"Sri Lanka\", \"LK\", \"yes\", 74, NaN, \"2019-12-12\", \"A/RES/74/34\", NaN, NaN, \"Further practical measures for the prevention of an arms race in outer space \", \"Further practical measures for the prevention of an arms race in outer space \", \"ec\", \"Economic development\", 2019], [9092, \"Sudan\", \"SD\", \"yes\", 74, NaN, \"2019-12-12\", \"A/RES/74/34\", NaN, NaN, \"Further practical measures for the prevention of an arms race in outer space \", \"Further practical measures for the prevention of an arms race in outer space \", \"di\", \"Arms control and disarmament\", 2019], [9092, \"Sudan\", \"SD\", \"yes\", 74, NaN, \"2019-12-12\", \"A/RES/74/34\", NaN, NaN, \"Further practical measures for the prevention of an arms race in outer space \", \"Further practical measures for the prevention of an arms race in outer space \", \"co\", \"Colonialism\", 2019], [9092, \"Sudan\", \"SD\", \"yes\", 74, NaN, \"2019-12-12\", \"A/RES/74/34\", NaN, NaN, \"Further practical measures for the prevention of an arms race in outer space \", \"Further practical measures for the prevention of an arms race in outer space \", \"ec\", \"Economic development\", 2019], [9092, \"Suriname\", \"SR\", \"yes\", 74, NaN, \"2019-12-12\", \"A/RES/74/34\", NaN, NaN, \"Further practical measures for the prevention of an arms race in outer space \", \"Further practical measures for the prevention of an arms race in outer space \", \"di\", \"Arms control and disarmament\", 2019], [9092, \"Suriname\", \"SR\", \"yes\", 74, NaN, \"2019-12-12\", \"A/RES/74/34\", NaN, NaN, \"Further practical measures for the prevention of an arms race in outer space \", \"Further practical measures for the prevention of an arms race in outer space \", \"co\", \"Colonialism\", 2019], [9092, \"Suriname\", \"SR\", \"yes\", 74, NaN, \"2019-12-12\", \"A/RES/74/34\", NaN, NaN, \"Further practical measures for the prevention of an arms race in outer space \", \"Further practical measures for the prevention of an arms race in outer space \", \"ec\", \"Economic development\", 2019], [9092, \"Sweden\", \"SE\", \"abstain\", 74, NaN, \"2019-12-12\", \"A/RES/74/34\", NaN, NaN, \"Further practical measures for the prevention of an arms race in outer space \", \"Further practical measures for the prevention of an arms race in outer space \", \"di\", \"Arms control and disarmament\", 2019], [9092, \"Sweden\", \"SE\", \"abstain\", 74, NaN, \"2019-12-12\", \"A/RES/74/34\", NaN, NaN, \"Further practical measures for the prevention of an arms race in outer space \", \"Further practical measures for the prevention of an arms race in outer space \", \"co\", \"Colonialism\", 2019], [9092, \"Sweden\", \"SE\", \"abstain\", 74, NaN, \"2019-12-12\", \"A/RES/74/34\", NaN, NaN, \"Further practical measures for the prevention of an arms race in outer space \", \"Further practical measures for the prevention of an arms race in outer space \", \"ec\", \"Economic development\", 2019], [9092, \"Switzerland\", \"CH\", \"abstain\", 74, NaN, \"2019-12-12\", \"A/RES/74/34\", NaN, NaN, \"Further practical measures for the prevention of an arms race in outer space \", \"Further practical measures for the prevention of an arms race in outer space \", \"di\", \"Arms control and disarmament\", 2019], [9092, \"Switzerland\", \"CH\", \"abstain\", 74, NaN, \"2019-12-12\", \"A/RES/74/34\", NaN, NaN, \"Further practical measures for the prevention of an arms race in outer space \", \"Further practical measures for the prevention of an arms race in outer space \", \"co\", \"Colonialism\", 2019], [9092, \"Switzerland\", \"CH\", \"abstain\", 74, NaN, \"2019-12-12\", \"A/RES/74/34\", NaN, NaN, \"Further practical measures for the prevention of an arms race in outer space \", \"Further practical measures for the prevention of an arms race in outer space \", \"ec\", \"Economic development\", 2019], [9092, \"Syria\", \"SY\", \"yes\", 74, NaN, \"2019-12-12\", \"A/RES/74/34\", NaN, NaN, \"Further practical measures for the prevention of an arms race in outer space \", \"Further practical measures for the prevention of an arms race in outer space \", \"di\", \"Arms control and disarmament\", 2019], [9092, \"Syria\", \"SY\", \"yes\", 74, NaN, \"2019-12-12\", \"A/RES/74/34\", NaN, NaN, \"Further practical measures for the prevention of an arms race in outer space \", \"Further practical measures for the prevention of an arms race in outer space \", \"co\", \"Colonialism\", 2019], [9092, \"Syria\", \"SY\", \"yes\", 74, NaN, \"2019-12-12\", \"A/RES/74/34\", NaN, NaN, \"Further practical measures for the prevention of an arms race in outer space \", \"Further practical measures for the prevention of an arms race in outer space \", \"ec\", \"Economic development\", 2019], [9092, \"Tajikistan\", \"TJ\", \"yes\", 74, NaN, \"2019-12-12\", \"A/RES/74/34\", NaN, NaN, \"Further practical measures for the prevention of an arms race in outer space \", \"Further practical measures for the prevention of an arms race in outer space \", \"di\", \"Arms control and disarmament\", 2019], [9092, \"Tajikistan\", \"TJ\", \"yes\", 74, NaN, \"2019-12-12\", \"A/RES/74/34\", NaN, NaN, \"Further practical measures for the prevention of an arms race in outer space \", \"Further practical measures for the prevention of an arms race in outer space \", \"co\", \"Colonialism\", 2019], [9092, \"Tajikistan\", \"TJ\", \"yes\", 74, NaN, \"2019-12-12\", \"A/RES/74/34\", NaN, NaN, \"Further practical measures for the prevention of an arms race in outer space \", \"Further practical measures for the prevention of an arms race in outer space \", \"ec\", \"Economic development\", 2019], [9092, \"Thailand\", \"TH\", \"yes\", 74, NaN, \"2019-12-12\", \"A/RES/74/34\", NaN, NaN, \"Further practical measures for the prevention of an arms race in outer space \", \"Further practical measures for the prevention of an arms race in outer space \", \"di\", \"Arms control and disarmament\", 2019], [9092, \"Thailand\", \"TH\", \"yes\", 74, NaN, \"2019-12-12\", \"A/RES/74/34\", NaN, NaN, \"Further practical measures for the prevention of an arms race in outer space \", \"Further practical measures for the prevention of an arms race in outer space \", \"co\", \"Colonialism\", 2019], [9092, \"Thailand\", \"TH\", \"yes\", 74, NaN, \"2019-12-12\", \"A/RES/74/34\", NaN, NaN, \"Further practical measures for the prevention of an arms race in outer space \", \"Further practical measures for the prevention of an arms race in outer space \", \"ec\", \"Economic development\", 2019], [9092, \"Timor-Leste\", \"TL\", \"yes\", 74, NaN, \"2019-12-12\", \"A/RES/74/34\", NaN, NaN, \"Further practical measures for the prevention of an arms race in outer space \", \"Further practical measures for the prevention of an arms race in outer space \", \"di\", \"Arms control and disarmament\", 2019], [9092, \"Timor-Leste\", \"TL\", \"yes\", 74, NaN, \"2019-12-12\", \"A/RES/74/34\", NaN, NaN, \"Further practical measures for the prevention of an arms race in outer space \", \"Further practical measures for the prevention of an arms race in outer space \", \"co\", \"Colonialism\", 2019], [9092, \"Timor-Leste\", \"TL\", \"yes\", 74, NaN, \"2019-12-12\", \"A/RES/74/34\", NaN, NaN, \"Further practical measures for the prevention of an arms race in outer space \", \"Further practical measures for the prevention of an arms race in outer space \", \"ec\", \"Economic development\", 2019], [9092, \"Togo\", \"TG\", \"yes\", 74, NaN, \"2019-12-12\", \"A/RES/74/34\", NaN, NaN, \"Further practical measures for the prevention of an arms race in outer space \", \"Further practical measures for the prevention of an arms race in outer space \", \"di\", \"Arms control and disarmament\", 2019], [9092, \"Togo\", \"TG\", \"yes\", 74, NaN, \"2019-12-12\", \"A/RES/74/34\", NaN, NaN, \"Further practical measures for the prevention of an arms race in outer space \", \"Further practical measures for the prevention of an arms race in outer space \", \"co\", \"Colonialism\", 2019], [9092, \"Togo\", \"TG\", \"yes\", 74, NaN, \"2019-12-12\", \"A/RES/74/34\", NaN, NaN, \"Further practical measures for the prevention of an arms race in outer space \", \"Further practical measures for the prevention of an arms race in outer space \", \"ec\", \"Economic development\", 2019], [9092, \"Trinidad & Tobago\", \"TT\", \"yes\", 74, NaN, \"2019-12-12\", \"A/RES/74/34\", NaN, NaN, \"Further practical measures for the prevention of an arms race in outer space \", \"Further practical measures for the prevention of an arms race in outer space \", \"di\", \"Arms control and disarmament\", 2019], [9092, \"Trinidad & Tobago\", \"TT\", \"yes\", 74, NaN, \"2019-12-12\", \"A/RES/74/34\", NaN, NaN, \"Further practical measures for the prevention of an arms race in outer space \", \"Further practical measures for the prevention of an arms race in outer space \", \"co\", \"Colonialism\", 2019], [9092, \"Trinidad & Tobago\", \"TT\", \"yes\", 74, NaN, \"2019-12-12\", \"A/RES/74/34\", NaN, NaN, \"Further practical measures for the prevention of an arms race in outer space \", \"Further practical measures for the prevention of an arms race in outer space \", \"ec\", \"Economic development\", 2019], [9092, \"Tunisia\", \"TN\", \"yes\", 74, NaN, \"2019-12-12\", \"A/RES/74/34\", NaN, NaN, \"Further practical measures for the prevention of an arms race in outer space \", \"Further practical measures for the prevention of an arms race in outer space \", \"di\", \"Arms control and disarmament\", 2019], [9092, \"Tunisia\", \"TN\", \"yes\", 74, NaN, \"2019-12-12\", \"A/RES/74/34\", NaN, NaN, \"Further practical measures for the prevention of an arms race in outer space \", \"Further practical measures for the prevention of an arms race in outer space \", \"co\", \"Colonialism\", 2019], [9092, \"Tunisia\", \"TN\", \"yes\", 74, NaN, \"2019-12-12\", \"A/RES/74/34\", NaN, NaN, \"Further practical measures for the prevention of an arms race in outer space \", \"Further practical measures for the prevention of an arms race in outer space \", \"ec\", \"Economic development\", 2019], [9092, \"Turkey\", \"TR\", \"abstain\", 74, NaN, \"2019-12-12\", \"A/RES/74/34\", NaN, NaN, \"Further practical measures for the prevention of an arms race in outer space \", \"Further practical measures for the prevention of an arms race in outer space \", \"di\", \"Arms control and disarmament\", 2019], [9092, \"Turkey\", \"TR\", \"abstain\", 74, NaN, \"2019-12-12\", \"A/RES/74/34\", NaN, NaN, \"Further practical measures for the prevention of an arms race in outer space \", \"Further practical measures for the prevention of an arms race in outer space \", \"co\", \"Colonialism\", 2019], [9092, \"Turkey\", \"TR\", \"abstain\", 74, NaN, \"2019-12-12\", \"A/RES/74/34\", NaN, NaN, \"Further practical measures for the prevention of an arms race in outer space \", \"Further practical measures for the prevention of an arms race in outer space \", \"ec\", \"Economic development\", 2019], [9092, \"Turkmenistan\", \"TM\", \"yes\", 74, NaN, \"2019-12-12\", \"A/RES/74/34\", NaN, NaN, \"Further practical measures for the prevention of an arms race in outer space \", \"Further practical measures for the prevention of an arms race in outer space \", \"di\", \"Arms control and disarmament\", 2019], [9092, \"Turkmenistan\", \"TM\", \"yes\", 74, NaN, \"2019-12-12\", \"A/RES/74/34\", NaN, NaN, \"Further practical measures for the prevention of an arms race in outer space \", \"Further practical measures for the prevention of an arms race in outer space \", \"co\", \"Colonialism\", 2019], [9092, \"Turkmenistan\", \"TM\", \"yes\", 74, NaN, \"2019-12-12\", \"A/RES/74/34\", NaN, NaN, \"Further practical measures for the prevention of an arms race in outer space \", \"Further practical measures for the prevention of an arms race in outer space \", \"ec\", \"Economic development\", 2019], [9092, \"Tuvalu\", \"TV\", \"yes\", 74, NaN, \"2019-12-12\", \"A/RES/74/34\", NaN, NaN, \"Further practical measures for the prevention of an arms race in outer space \", \"Further practical measures for the prevention of an arms race in outer space \", \"di\", \"Arms control and disarmament\", 2019], [9092, \"Tuvalu\", \"TV\", \"yes\", 74, NaN, \"2019-12-12\", \"A/RES/74/34\", NaN, NaN, \"Further practical measures for the prevention of an arms race in outer space \", \"Further practical measures for the prevention of an arms race in outer space \", \"co\", \"Colonialism\", 2019], [9092, \"Tuvalu\", \"TV\", \"yes\", 74, NaN, \"2019-12-12\", \"A/RES/74/34\", NaN, NaN, \"Further practical measures for the prevention of an arms race in outer space \", \"Further practical measures for the prevention of an arms race in outer space \", \"ec\", \"Economic development\", 2019], [9092, \"Uganda\", \"UG\", \"yes\", 74, NaN, \"2019-12-12\", \"A/RES/74/34\", NaN, NaN, \"Further practical measures for the prevention of an arms race in outer space \", \"Further practical measures for the prevention of an arms race in outer space \", \"di\", \"Arms control and disarmament\", 2019], [9092, \"Uganda\", \"UG\", \"yes\", 74, NaN, \"2019-12-12\", \"A/RES/74/34\", NaN, NaN, \"Further practical measures for the prevention of an arms race in outer space \", \"Further practical measures for the prevention of an arms race in outer space \", \"co\", \"Colonialism\", 2019], [9092, \"Uganda\", \"UG\", \"yes\", 74, NaN, \"2019-12-12\", \"A/RES/74/34\", NaN, NaN, \"Further practical measures for the prevention of an arms race in outer space \", \"Further practical measures for the prevention of an arms race in outer space \", \"ec\", \"Economic development\", 2019], [9092, \"Ukraine\", \"UA\", \"no\", 74, NaN, \"2019-12-12\", \"A/RES/74/34\", NaN, NaN, \"Further practical measures for the prevention of an arms race in outer space \", \"Further practical measures for the prevention of an arms race in outer space \", \"di\", \"Arms control and disarmament\", 2019], [9092, \"Ukraine\", \"UA\", \"no\", 74, NaN, \"2019-12-12\", \"A/RES/74/34\", NaN, NaN, \"Further practical measures for the prevention of an arms race in outer space \", \"Further practical measures for the prevention of an arms race in outer space \", \"co\", \"Colonialism\", 2019], [9092, \"Ukraine\", \"UA\", \"no\", 74, NaN, \"2019-12-12\", \"A/RES/74/34\", NaN, NaN, \"Further practical measures for the prevention of an arms race in outer space \", \"Further practical measures for the prevention of an arms race in outer space \", \"ec\", \"Economic development\", 2019], [9092, \"United Arab Emirates\", \"AE\", \"yes\", 74, NaN, \"2019-12-12\", \"A/RES/74/34\", NaN, NaN, \"Further practical measures for the prevention of an arms race in outer space \", \"Further practical measures for the prevention of an arms race in outer space \", \"di\", \"Arms control and disarmament\", 2019], [9092, \"United Arab Emirates\", \"AE\", \"yes\", 74, NaN, \"2019-12-12\", \"A/RES/74/34\", NaN, NaN, \"Further practical measures for the prevention of an arms race in outer space \", \"Further practical measures for the prevention of an arms race in outer space \", \"co\", \"Colonialism\", 2019], [9092, \"United Arab Emirates\", \"AE\", \"yes\", 74, NaN, \"2019-12-12\", \"A/RES/74/34\", NaN, NaN, \"Further practical measures for the prevention of an arms race in outer space \", \"Further practical measures for the prevention of an arms race in outer space \", \"ec\", \"Economic development\", 2019], [9092, \"United Kingdom\", \"GB\", \"no\", 74, NaN, \"2019-12-12\", \"A/RES/74/34\", NaN, NaN, \"Further practical measures for the prevention of an arms race in outer space \", \"Further practical measures for the prevention of an arms race in outer space \", \"di\", \"Arms control and disarmament\", 2019], [9092, \"United Kingdom\", \"GB\", \"no\", 74, NaN, \"2019-12-12\", \"A/RES/74/34\", NaN, NaN, \"Further practical measures for the prevention of an arms race in outer space \", \"Further practical measures for the prevention of an arms race in outer space \", \"co\", \"Colonialism\", 2019], [9092, \"United Kingdom\", \"GB\", \"no\", 74, NaN, \"2019-12-12\", \"A/RES/74/34\", NaN, NaN, \"Further practical measures for the prevention of an arms race in outer space \", \"Further practical measures for the prevention of an arms race in outer space \", \"ec\", \"Economic development\", 2019], [9092, \"Tanzania\", \"TZ\", \"yes\", 74, NaN, \"2019-12-12\", \"A/RES/74/34\", NaN, NaN, \"Further practical measures for the prevention of an arms race in outer space \", \"Further practical measures for the prevention of an arms race in outer space \", \"di\", \"Arms control and disarmament\", 2019], [9092, \"Tanzania\", \"TZ\", \"yes\", 74, NaN, \"2019-12-12\", \"A/RES/74/34\", NaN, NaN, \"Further practical measures for the prevention of an arms race in outer space \", \"Further practical measures for the prevention of an arms race in outer space \", \"co\", \"Colonialism\", 2019], [9092, \"Tanzania\", \"TZ\", \"yes\", 74, NaN, \"2019-12-12\", \"A/RES/74/34\", NaN, NaN, \"Further practical measures for the prevention of an arms race in outer space \", \"Further practical measures for the prevention of an arms race in outer space \", \"ec\", \"Economic development\", 2019], [9092, \"United States\", \"US\", \"no\", 74, NaN, \"2019-12-12\", \"A/RES/74/34\", NaN, NaN, \"Further practical measures for the prevention of an arms race in outer space \", \"Further practical measures for the prevention of an arms race in outer space \", \"di\", \"Arms control and disarmament\", 2019], [9092, \"United States\", \"US\", \"no\", 74, NaN, \"2019-12-12\", \"A/RES/74/34\", NaN, NaN, \"Further practical measures for the prevention of an arms race in outer space \", \"Further practical measures for the prevention of an arms race in outer space \", \"co\", \"Colonialism\", 2019], [9092, \"United States\", \"US\", \"no\", 74, NaN, \"2019-12-12\", \"A/RES/74/34\", NaN, NaN, \"Further practical measures for the prevention of an arms race in outer space \", \"Further practical measures for the prevention of an arms race in outer space \", \"ec\", \"Economic development\", 2019], [9092, \"Uruguay\", \"UY\", \"yes\", 74, NaN, \"2019-12-12\", \"A/RES/74/34\", NaN, NaN, \"Further practical measures for the prevention of an arms race in outer space \", \"Further practical measures for the prevention of an arms race in outer space \", \"di\", \"Arms control and disarmament\", 2019], [9092, \"Uruguay\", \"UY\", \"yes\", 74, NaN, \"2019-12-12\", \"A/RES/74/34\", NaN, NaN, \"Further practical measures for the prevention of an arms race in outer space \", \"Further practical measures for the prevention of an arms race in outer space \", \"co\", \"Colonialism\", 2019], [9092, \"Uruguay\", \"UY\", \"yes\", 74, NaN, \"2019-12-12\", \"A/RES/74/34\", NaN, NaN, \"Further practical measures for the prevention of an arms race in outer space \", \"Further practical measures for the prevention of an arms race in outer space \", \"ec\", \"Economic development\", 2019], [9092, \"Uzbekistan\", \"UZ\", \"yes\", 74, NaN, \"2019-12-12\", \"A/RES/74/34\", NaN, NaN, \"Further practical measures for the prevention of an arms race in outer space \", \"Further practical measures for the prevention of an arms race in outer space \", \"di\", \"Arms control and disarmament\", 2019], [9092, \"Uzbekistan\", \"UZ\", \"yes\", 74, NaN, \"2019-12-12\", \"A/RES/74/34\", NaN, NaN, \"Further practical measures for the prevention of an arms race in outer space \", \"Further practical measures for the prevention of an arms race in outer space \", \"co\", \"Colonialism\", 2019], [9092, \"Uzbekistan\", \"UZ\", \"yes\", 74, NaN, \"2019-12-12\", \"A/RES/74/34\", NaN, NaN, \"Further practical measures for the prevention of an arms race in outer space \", \"Further practical measures for the prevention of an arms race in outer space \", \"ec\", \"Economic development\", 2019], [9092, \"Vanuatu\", \"VU\", \"yes\", 74, NaN, \"2019-12-12\", \"A/RES/74/34\", NaN, NaN, \"Further practical measures for the prevention of an arms race in outer space \", \"Further practical measures for the prevention of an arms race in outer space \", \"di\", \"Arms control and disarmament\", 2019], [9092, \"Vanuatu\", \"VU\", \"yes\", 74, NaN, \"2019-12-12\", \"A/RES/74/34\", NaN, NaN, \"Further practical measures for the prevention of an arms race in outer space \", \"Further practical measures for the prevention of an arms race in outer space \", \"co\", \"Colonialism\", 2019], [9092, \"Vanuatu\", \"VU\", \"yes\", 74, NaN, \"2019-12-12\", \"A/RES/74/34\", NaN, NaN, \"Further practical measures for the prevention of an arms race in outer space \", \"Further practical measures for the prevention of an arms race in outer space \", \"ec\", \"Economic development\", 2019], [9092, \"Venezuela\", \"VE\", \"yes\", 74, NaN, \"2019-12-12\", \"A/RES/74/34\", NaN, NaN, \"Further practical measures for the prevention of an arms race in outer space \", \"Further practical measures for the prevention of an arms race in outer space \", \"di\", \"Arms control and disarmament\", 2019], [9092, \"Venezuela\", \"VE\", \"yes\", 74, NaN, \"2019-12-12\", \"A/RES/74/34\", NaN, NaN, \"Further practical measures for the prevention of an arms race in outer space \", \"Further practical measures for the prevention of an arms race in outer space \", \"co\", \"Colonialism\", 2019], [9092, \"Venezuela\", \"VE\", \"yes\", 74, NaN, \"2019-12-12\", \"A/RES/74/34\", NaN, NaN, \"Further practical measures for the prevention of an arms race in outer space \", \"Further practical measures for the prevention of an arms race in outer space \", \"ec\", \"Economic development\", 2019], [9092, \"Vietnam\", \"VN\", \"yes\", 74, NaN, \"2019-12-12\", \"A/RES/74/34\", NaN, NaN, \"Further practical measures for the prevention of an arms race in outer space \", \"Further practical measures for the prevention of an arms race in outer space \", \"di\", \"Arms control and disarmament\", 2019], [9092, \"Vietnam\", \"VN\", \"yes\", 74, NaN, \"2019-12-12\", \"A/RES/74/34\", NaN, NaN, \"Further practical measures for the prevention of an arms race in outer space \", \"Further practical measures for the prevention of an arms race in outer space \", \"co\", \"Colonialism\", 2019], [9092, \"Vietnam\", \"VN\", \"yes\", 74, NaN, \"2019-12-12\", \"A/RES/74/34\", NaN, NaN, \"Further practical measures for the prevention of an arms race in outer space \", \"Further practical measures for the prevention of an arms race in outer space \", \"ec\", \"Economic development\", 2019], [9092, \"Yemen\", \"YE\", \"yes\", 74, NaN, \"2019-12-12\", \"A/RES/74/34\", NaN, NaN, \"Further practical measures for the prevention of an arms race in outer space \", \"Further practical measures for the prevention of an arms race in outer space \", \"di\", \"Arms control and disarmament\", 2019], [9092, \"Yemen\", \"YE\", \"yes\", 74, NaN, \"2019-12-12\", \"A/RES/74/34\", NaN, NaN, \"Further practical measures for the prevention of an arms race in outer space \", \"Further practical measures for the prevention of an arms race in outer space \", \"co\", \"Colonialism\", 2019], [9092, \"Yemen\", \"YE\", \"yes\", 74, NaN, \"2019-12-12\", \"A/RES/74/34\", NaN, NaN, \"Further practical measures for the prevention of an arms race in outer space \", \"Further practical measures for the prevention of an arms race in outer space \", \"ec\", \"Economic development\", 2019], [9092, \"Zambia\", \"ZM\", \"yes\", 74, NaN, \"2019-12-12\", \"A/RES/74/34\", NaN, NaN, \"Further practical measures for the prevention of an arms race in outer space \", \"Further practical measures for the prevention of an arms race in outer space \", \"di\", \"Arms control and disarmament\", 2019], [9092, \"Zambia\", \"ZM\", \"yes\", 74, NaN, \"2019-12-12\", \"A/RES/74/34\", NaN, NaN, \"Further practical measures for the prevention of an arms race in outer space \", \"Further practical measures for the prevention of an arms race in outer space \", \"co\", \"Colonialism\", 2019], [9092, \"Zambia\", \"ZM\", \"yes\", 74, NaN, \"2019-12-12\", \"A/RES/74/34\", NaN, NaN, \"Further practical measures for the prevention of an arms race in outer space \", \"Further practical measures for the prevention of an arms race in outer space \", \"ec\", \"Economic development\", 2019], [9092, \"Zimbabwe\", \"ZW\", \"yes\", 74, NaN, \"2019-12-12\", \"A/RES/74/34\", NaN, NaN, \"Further practical measures for the prevention of an arms race in outer space \", \"Further practical measures for the prevention of an arms race in outer space \", \"di\", \"Arms control and disarmament\", 2019], [9092, \"Zimbabwe\", \"ZW\", \"yes\", 74, NaN, \"2019-12-12\", \"A/RES/74/34\", NaN, NaN, \"Further practical measures for the prevention of an arms race in outer space \", \"Further practical measures for the prevention of an arms race in outer space \", \"co\", \"Colonialism\", 2019], [9092, \"Zimbabwe\", \"ZW\", \"yes\", 74, NaN, \"2019-12-12\", \"A/RES/74/34\", NaN, NaN, \"Further practical measures for the prevention of an arms race in outer space \", \"Further practical measures for the prevention of an arms race in outer space \", \"ec\", \"Economic development\", 2019], [9101, \"Afghanistan\", \"AF\", \"yes\", 74, NaN, \"2019-12-03\", \"A/RES/74/12\", NaN, NaN, \"Division for Palestinian Rights of the Secretariat \", \"Division for Palestinian Rights of the Secretariat \", \"me\", \"Palestinian conflict\", 2019], [9101, \"Albania\", \"AL\", \"abstain\", 74, NaN, \"2019-12-03\", \"A/RES/74/12\", NaN, NaN, \"Division for Palestinian Rights of the Secretariat \", \"Division for Palestinian Rights of the Secretariat \", \"me\", \"Palestinian conflict\", 2019], [9101, \"Algeria\", \"DZ\", \"yes\", 74, NaN, \"2019-12-03\", \"A/RES/74/12\", NaN, NaN, \"Division for Palestinian Rights of the Secretariat \", \"Division for Palestinian Rights of the Secretariat \", \"me\", \"Palestinian conflict\", 2019], [9101, \"Andorra\", \"AD\", \"abstain\", 74, NaN, \"2019-12-03\", \"A/RES/74/12\", NaN, NaN, \"Division for Palestinian Rights of the Secretariat \", \"Division for Palestinian Rights of the Secretariat \", \"me\", \"Palestinian conflict\", 2019], [9101, \"Angola\", \"AO\", \"yes\", 74, NaN, \"2019-12-03\", \"A/RES/74/12\", NaN, NaN, \"Division for Palestinian Rights of the Secretariat \", \"Division for Palestinian Rights of the Secretariat \", \"me\", \"Palestinian conflict\", 2019], [9101, \"Antigua & Barbuda\", \"AG\", \"yes\", 74, NaN, \"2019-12-03\", \"A/RES/74/12\", NaN, NaN, \"Division for Palestinian Rights of the Secretariat \", \"Division for Palestinian Rights of the Secretariat \", \"me\", \"Palestinian conflict\", 2019], [9101, \"Argentina\", \"AR\", \"abstain\", 74, NaN, \"2019-12-03\", \"A/RES/74/12\", NaN, NaN, \"Division for Palestinian Rights of the Secretariat \", \"Division for Palestinian Rights of the Secretariat \", \"me\", \"Palestinian conflict\", 2019], [9101, \"Armenia\", \"AM\", \"abstain\", 74, NaN, \"2019-12-03\", \"A/RES/74/12\", NaN, NaN, \"Division for Palestinian Rights of the Secretariat \", \"Division for Palestinian Rights of the Secretariat \", \"me\", \"Palestinian conflict\", 2019], [9101, \"Australia\", \"AU\", \"no\", 74, NaN, \"2019-12-03\", \"A/RES/74/12\", NaN, NaN, \"Division for Palestinian Rights of the Secretariat \", \"Division for Palestinian Rights of the Secretariat \", \"me\", \"Palestinian conflict\", 2019], [9101, \"Austria\", \"AT\", \"no\", 74, NaN, \"2019-12-03\", \"A/RES/74/12\", NaN, NaN, \"Division for Palestinian Rights of the Secretariat \", \"Division for Palestinian Rights of the Secretariat \", \"me\", \"Palestinian conflict\", 2019], [9101, \"Azerbaijan\", \"AZ\", \"yes\", 74, NaN, \"2019-12-03\", \"A/RES/74/12\", NaN, NaN, \"Division for Palestinian Rights of the Secretariat \", \"Division for Palestinian Rights of the Secretariat \", \"me\", \"Palestinian conflict\", 2019], [9101, \"Bahrain\", \"BH\", \"yes\", 74, NaN, \"2019-12-03\", \"A/RES/74/12\", NaN, NaN, \"Division for Palestinian Rights of the Secretariat \", \"Division for Palestinian Rights of the Secretariat \", \"me\", \"Palestinian conflict\", 2019], [9101, \"Bangladesh\", \"BD\", \"yes\", 74, NaN, \"2019-12-03\", \"A/RES/74/12\", NaN, NaN, \"Division for Palestinian Rights of the Secretariat \", \"Division for Palestinian Rights of the Secretariat \", \"me\", \"Palestinian conflict\", 2019], [9101, \"Belarus\", \"BY\", \"abstain\", 74, NaN, \"2019-12-03\", \"A/RES/74/12\", NaN, NaN, \"Division for Palestinian Rights of the Secretariat \", \"Division for Palestinian Rights of the Secretariat \", \"me\", \"Palestinian conflict\", 2019], [9101, \"Belgium\", \"BE\", \"abstain\", 74, NaN, \"2019-12-03\", \"A/RES/74/12\", NaN, NaN, \"Division for Palestinian Rights of the Secretariat \", \"Division for Palestinian Rights of the Secretariat \", \"me\", \"Palestinian conflict\", 2019], [9101, \"Belize\", \"BZ\", \"yes\", 74, NaN, \"2019-12-03\", \"A/RES/74/12\", NaN, NaN, \"Division for Palestinian Rights of the Secretariat \", \"Division for Palestinian Rights of the Secretariat \", \"me\", \"Palestinian conflict\", 2019], [9101, \"Bhutan\", \"BT\", \"yes\", 74, NaN, \"2019-12-03\", \"A/RES/74/12\", NaN, NaN, \"Division for Palestinian Rights of the Secretariat \", \"Division for Palestinian Rights of the Secretariat \", \"me\", \"Palestinian conflict\", 2019], [9101, \"Bolivia\", \"BO\", \"yes\", 74, NaN, \"2019-12-03\", \"A/RES/74/12\", NaN, NaN, \"Division for Palestinian Rights of the Secretariat \", \"Division for Palestinian Rights of the Secretariat \", \"me\", \"Palestinian conflict\", 2019], [9101, \"Bosnia & Herzegovina\", \"BA\", \"abstain\", 74, NaN, \"2019-12-03\", \"A/RES/74/12\", NaN, NaN, \"Division for Palestinian Rights of the Secretariat \", \"Division for Palestinian Rights of the Secretariat \", \"me\", \"Palestinian conflict\", 2019], [9101, \"Botswana\", \"BW\", \"yes\", 74, NaN, \"2019-12-03\", \"A/RES/74/12\", NaN, NaN, \"Division for Palestinian Rights of the Secretariat \", \"Division for Palestinian Rights of the Secretariat \", \"me\", \"Palestinian conflict\", 2019], [9101, \"Brazil\", \"BR\", \"no\", 74, NaN, \"2019-12-03\", \"A/RES/74/12\", NaN, NaN, \"Division for Palestinian Rights of the Secretariat \", \"Division for Palestinian Rights of the Secretariat \", \"me\", \"Palestinian conflict\", 2019], [9101, \"Brunei\", \"BN\", \"yes\", 74, NaN, \"2019-12-03\", \"A/RES/74/12\", NaN, NaN, \"Division for Palestinian Rights of the Secretariat \", \"Division for Palestinian Rights of the Secretariat \", \"me\", \"Palestinian conflict\", 2019], [9101, \"Bulgaria\", \"BG\", \"no\", 74, NaN, \"2019-12-03\", \"A/RES/74/12\", NaN, NaN, \"Division for Palestinian Rights of the Secretariat \", \"Division for Palestinian Rights of the Secretariat \", \"me\", \"Palestinian conflict\", 2019], [9101, \"Burundi\", \"BI\", \"yes\", 74, NaN, \"2019-12-03\", \"A/RES/74/12\", NaN, NaN, \"Division for Palestinian Rights of the Secretariat \", \"Division for Palestinian Rights of the Secretariat \", \"me\", \"Palestinian conflict\", 2019], [9101, \"Cape Verde\", \"CV\", \"abstain\", 74, NaN, \"2019-12-03\", \"A/RES/74/12\", NaN, NaN, \"Division for Palestinian Rights of the Secretariat \", \"Division for Palestinian Rights of the Secretariat \", \"me\", \"Palestinian conflict\", 2019], [9101, \"Cambodia\", \"KH\", \"yes\", 74, NaN, \"2019-12-03\", \"A/RES/74/12\", NaN, NaN, \"Division for Palestinian Rights of the Secretariat \", \"Division for Palestinian Rights of the Secretariat \", \"me\", \"Palestinian conflict\", 2019], [9101, \"Cameroon\", \"CM\", \"abstain\", 74, NaN, \"2019-12-03\", \"A/RES/74/12\", NaN, NaN, \"Division for Palestinian Rights of the Secretariat \", \"Division for Palestinian Rights of the Secretariat \", \"me\", \"Palestinian conflict\", 2019], [9101, \"Canada\", \"CA\", \"no\", 74, NaN, \"2019-12-03\", \"A/RES/74/12\", NaN, NaN, \"Division for Palestinian Rights of the Secretariat \", \"Division for Palestinian Rights of the Secretariat \", \"me\", \"Palestinian conflict\", 2019], [9101, \"Chile\", \"CL\", \"yes\", 74, NaN, \"2019-12-03\", \"A/RES/74/12\", NaN, NaN, \"Division for Palestinian Rights of the Secretariat \", \"Division for Palestinian Rights of the Secretariat \", \"me\", \"Palestinian conflict\", 2019], [9101, \"China\", \"CN\", \"yes\", 74, NaN, \"2019-12-03\", \"A/RES/74/12\", NaN, NaN, \"Division for Palestinian Rights of the Secretariat \", \"Division for Palestinian Rights of the Secretariat \", \"me\", \"Palestinian conflict\", 2019], [9101, \"Colombia\", \"CO\", \"no\", 74, NaN, \"2019-12-03\", \"A/RES/74/12\", NaN, NaN, \"Division for Palestinian Rights of the Secretariat \", \"Division for Palestinian Rights of the Secretariat \", \"me\", \"Palestinian conflict\", 2019], [9101, \"Costa Rica\", \"CR\", \"yes\", 74, NaN, \"2019-12-03\", \"A/RES/74/12\", NaN, NaN, \"Division for Palestinian Rights of the Secretariat \", \"Division for Palestinian Rights of the Secretariat \", \"me\", \"Palestinian conflict\", 2019], [9101, \"C\\u00f4te d\\u2019Ivoire\", \"CI\", \"abstain\", 74, NaN, \"2019-12-03\", \"A/RES/74/12\", NaN, NaN, \"Division for Palestinian Rights of the Secretariat \", \"Division for Palestinian Rights of the Secretariat \", \"me\", \"Palestinian conflict\", 2019], [9101, \"Croatia\", \"HR\", \"abstain\", 74, NaN, \"2019-12-03\", \"A/RES/74/12\", NaN, NaN, \"Division for Palestinian Rights of the Secretariat \", \"Division for Palestinian Rights of the Secretariat \", \"me\", \"Palestinian conflict\", 2019], [9101, \"Cuba\", \"CU\", \"yes\", 74, NaN, \"2019-12-03\", \"A/RES/74/12\", NaN, NaN, \"Division for Palestinian Rights of the Secretariat \", \"Division for Palestinian Rights of the Secretariat \", \"me\", \"Palestinian conflict\", 2019], [9101, \"Cyprus\", \"CY\", \"yes\", 74, NaN, \"2019-12-03\", \"A/RES/74/12\", NaN, NaN, \"Division for Palestinian Rights of the Secretariat \", \"Division for Palestinian Rights of the Secretariat \", \"me\", \"Palestinian conflict\", 2019], [9101, \"Czechia\", \"CZ\", \"no\", 74, NaN, \"2019-12-03\", \"A/RES/74/12\", NaN, NaN, \"Division for Palestinian Rights of the Secretariat \", \"Division for Palestinian Rights of the Secretariat \", \"me\", \"Palestinian conflict\", 2019], [9101, \"North Korea\", \"KP\", \"yes\", 74, NaN, \"2019-12-03\", \"A/RES/74/12\", NaN, NaN, \"Division for Palestinian Rights of the Secretariat \", \"Division for Palestinian Rights of the Secretariat \", \"me\", \"Palestinian conflict\", 2019], [9101, \"Denmark\", \"DK\", \"no\", 74, NaN, \"2019-12-03\", \"A/RES/74/12\", NaN, NaN, \"Division for Palestinian Rights of the Secretariat \", \"Division for Palestinian Rights of the Secretariat \", \"me\", \"Palestinian conflict\", 2019], [9101, \"Djibouti\", \"DJ\", \"yes\", 74, NaN, \"2019-12-03\", \"A/RES/74/12\", NaN, NaN, \"Division for Palestinian Rights of the Secretariat \", \"Division for Palestinian Rights of the Secretariat \", \"me\", \"Palestinian conflict\", 2019], [9101, \"Dominican Republic\", \"DO\", \"yes\", 74, NaN, \"2019-12-03\", \"A/RES/74/12\", NaN, NaN, \"Division for Palestinian Rights of the Secretariat \", \"Division for Palestinian Rights of the Secretariat \", \"me\", \"Palestinian conflict\", 2019], [9101, \"Ecuador\", \"EC\", \"yes\", 74, NaN, \"2019-12-03\", \"A/RES/74/12\", NaN, NaN, \"Division for Palestinian Rights of the Secretariat \", \"Division for Palestinian Rights of the Secretariat \", \"me\", \"Palestinian conflict\", 2019], [9101, \"Egypt\", \"EG\", \"yes\", 74, NaN, \"2019-12-03\", \"A/RES/74/12\", NaN, NaN, \"Division for Palestinian Rights of the Secretariat \", \"Division for Palestinian Rights of the Secretariat \", \"me\", \"Palestinian conflict\", 2019], [9101, \"El Salvador\", \"SV\", \"yes\", 74, NaN, \"2019-12-03\", \"A/RES/74/12\", NaN, NaN, \"Division for Palestinian Rights of the Secretariat \", \"Division for Palestinian Rights of the Secretariat \", \"me\", \"Palestinian conflict\", 2019], [9101, \"Eritrea\", \"ER\", \"yes\", 74, NaN, \"2019-12-03\", \"A/RES/74/12\", NaN, NaN, \"Division for Palestinian Rights of the Secretariat \", \"Division for Palestinian Rights of the Secretariat \", \"me\", \"Palestinian conflict\", 2019], [9101, \"Estonia\", \"EE\", \"no\", 74, NaN, \"2019-12-03\", \"A/RES/74/12\", NaN, NaN, \"Division for Palestinian Rights of the Secretariat \", \"Division for Palestinian Rights of the Secretariat \", \"me\", \"Palestinian conflict\", 2019], [9101, \"Ethiopia\", \"ET\", \"yes\", 74, NaN, \"2019-12-03\", \"A/RES/74/12\", NaN, NaN, \"Division for Palestinian Rights of the Secretariat \", \"Division for Palestinian Rights of the Secretariat \", \"me\", \"Palestinian conflict\", 2019], [9101, \"Fiji\", \"FJ\", \"abstain\", 74, NaN, \"2019-12-03\", \"A/RES/74/12\", NaN, NaN, \"Division for Palestinian Rights of the Secretariat \", \"Division for Palestinian Rights of the Secretariat \", \"me\", \"Palestinian conflict\", 2019], [9101, \"Finland\", \"FI\", \"abstain\", 74, NaN, \"2019-12-03\", \"A/RES/74/12\", NaN, NaN, \"Division for Palestinian Rights of the Secretariat \", \"Division for Palestinian Rights of the Secretariat \", \"me\", \"Palestinian conflict\", 2019], [9101, \"France\", \"FR\", \"abstain\", 74, NaN, \"2019-12-03\", \"A/RES/74/12\", NaN, NaN, \"Division for Palestinian Rights of the Secretariat \", \"Division for Palestinian Rights of the Secretariat \", \"me\", \"Palestinian conflict\", 2019], [9101, \"Gabon\", \"GA\", \"yes\", 74, NaN, \"2019-12-03\", \"A/RES/74/12\", NaN, NaN, \"Division for Palestinian Rights of the Secretariat \", \"Division for Palestinian Rights of the Secretariat \", \"me\", \"Palestinian conflict\", 2019], [9101, \"Gambia\", \"GM\", \"yes\", 74, NaN, \"2019-12-03\", \"A/RES/74/12\", NaN, NaN, \"Division for Palestinian Rights of the Secretariat \", \"Division for Palestinian Rights of the Secretariat \", \"me\", \"Palestinian conflict\", 2019], [9101, \"Georgia\", \"GE\", \"abstain\", 74, NaN, \"2019-12-03\", \"A/RES/74/12\", NaN, NaN, \"Division for Palestinian Rights of the Secretariat \", \"Division for Palestinian Rights of the Secretariat \", \"me\", \"Palestinian conflict\", 2019], [9101, \"Germany\", \"DE\", \"no\", 74, NaN, \"2019-12-03\", \"A/RES/74/12\", NaN, NaN, \"Division for Palestinian Rights of the Secretariat \", \"Division for Palestinian Rights of the Secretariat \", \"me\", \"Palestinian conflict\", 2019], [9101, \"Ghana\", \"GH\", \"abstain\", 74, NaN, \"2019-12-03\", \"A/RES/74/12\", NaN, NaN, \"Division for Palestinian Rights of the Secretariat \", \"Division for Palestinian Rights of the Secretariat \", \"me\", \"Palestinian conflict\", 2019], [9101, \"Greece\", \"GR\", \"no\", 74, NaN, \"2019-12-03\", \"A/RES/74/12\", NaN, NaN, \"Division for Palestinian Rights of the Secretariat \", \"Division for Palestinian Rights of the Secretariat \", \"me\", \"Palestinian conflict\", 2019], [9101, \"Guatemala\", \"GT\", \"no\", 74, NaN, \"2019-12-03\", \"A/RES/74/12\", NaN, NaN, \"Division for Palestinian Rights of the Secretariat \", \"Division for Palestinian Rights of the Secretariat \", \"me\", \"Palestinian conflict\", 2019], [9101, \"Guinea\", \"GN\", \"yes\", 74, NaN, \"2019-12-03\", \"A/RES/74/12\", NaN, NaN, \"Division for Palestinian Rights of the Secretariat \", \"Division for Palestinian Rights of the Secretariat \", \"me\", \"Palestinian conflict\", 2019], [9101, \"Guyana\", \"GY\", \"yes\", 74, NaN, \"2019-12-03\", \"A/RES/74/12\", NaN, NaN, \"Division for Palestinian Rights of the Secretariat \", \"Division for Palestinian Rights of the Secretariat \", \"me\", \"Palestinian conflict\", 2019], [9101, \"Honduras\", \"HN\", \"no\", 74, NaN, \"2019-12-03\", \"A/RES/74/12\", NaN, NaN, \"Division for Palestinian Rights of the Secretariat \", \"Division for Palestinian Rights of the Secretariat \", \"me\", \"Palestinian conflict\", 2019], [9101, \"Hungary\", \"HU\", \"no\", 74, NaN, \"2019-12-03\", \"A/RES/74/12\", NaN, NaN, \"Division for Palestinian Rights of the Secretariat \", \"Division for Palestinian Rights of the Secretariat \", \"me\", \"Palestinian conflict\", 2019], [9101, \"Iceland\", \"IS\", \"abstain\", 74, NaN, \"2019-12-03\", \"A/RES/74/12\", NaN, NaN, \"Division for Palestinian Rights of the Secretariat \", \"Division for Palestinian Rights of the Secretariat \", \"me\", \"Palestinian conflict\", 2019], [9101, \"India\", \"IN\", \"yes\", 74, NaN, \"2019-12-03\", \"A/RES/74/12\", NaN, NaN, \"Division for Palestinian Rights of the Secretariat \", \"Division for Palestinian Rights of the Secretariat \", \"me\", \"Palestinian conflict\", 2019], [9101, \"Indonesia\", \"ID\", \"yes\", 74, NaN, \"2019-12-03\", \"A/RES/74/12\", NaN, NaN, \"Division for Palestinian Rights of the Secretariat \", \"Division for Palestinian Rights of the Secretariat \", \"me\", \"Palestinian conflict\", 2019], [9101, \"Iran\", \"IR\", \"yes\", 74, NaN, \"2019-12-03\", \"A/RES/74/12\", NaN, NaN, \"Division for Palestinian Rights of the Secretariat \", \"Division for Palestinian Rights of the Secretariat \", \"me\", \"Palestinian conflict\", 2019], [9101, \"Iraq\", \"IQ\", \"yes\", 74, NaN, \"2019-12-03\", \"A/RES/74/12\", NaN, NaN, \"Division for Palestinian Rights of the Secretariat \", \"Division for Palestinian Rights of the Secretariat \", \"me\", \"Palestinian conflict\", 2019], [9101, \"Ireland\", \"IE\", \"abstain\", 74, NaN, \"2019-12-03\", \"A/RES/74/12\", NaN, NaN, \"Division for Palestinian Rights of the Secretariat \", \"Division for Palestinian Rights of the Secretariat \", \"me\", \"Palestinian conflict\", 2019], [9101, \"Israel\", \"IL\", \"no\", 74, NaN, \"2019-12-03\", \"A/RES/74/12\", NaN, NaN, \"Division for Palestinian Rights of the Secretariat \", \"Division for Palestinian Rights of the Secretariat \", \"me\", \"Palestinian conflict\", 2019], [9101, \"Italy\", \"IT\", \"abstain\", 74, NaN, \"2019-12-03\", \"A/RES/74/12\", NaN, NaN, \"Division for Palestinian Rights of the Secretariat \", \"Division for Palestinian Rights of the Secretariat \", \"me\", \"Palestinian conflict\", 2019], [9101, \"Jamaica\", \"JM\", \"yes\", 74, NaN, \"2019-12-03\", \"A/RES/74/12\", NaN, NaN, \"Division for Palestinian Rights of the Secretariat \", \"Division for Palestinian Rights of the Secretariat \", \"me\", \"Palestinian conflict\", 2019], [9101, \"Japan\", \"JP\", \"abstain\", 74, NaN, \"2019-12-03\", \"A/RES/74/12\", NaN, NaN, \"Division for Palestinian Rights of the Secretariat \", \"Division for Palestinian Rights of the Secretariat \", \"me\", \"Palestinian conflict\", 2019], [9101, \"Jordan\", \"JO\", \"yes\", 74, NaN, \"2019-12-03\", \"A/RES/74/12\", NaN, NaN, \"Division for Palestinian Rights of the Secretariat \", \"Division for Palestinian Rights of the Secretariat \", \"me\", \"Palestinian conflict\", 2019], [9101, \"Kazakhstan\", \"KZ\", \"yes\", 74, NaN, \"2019-12-03\", \"A/RES/74/12\", NaN, NaN, \"Division for Palestinian Rights of the Secretariat \", \"Division for Palestinian Rights of the Secretariat \", \"me\", \"Palestinian conflict\", 2019], [9101, \"Kenya\", \"KE\", \"yes\", 74, NaN, \"2019-12-03\", \"A/RES/74/12\", NaN, NaN, \"Division for Palestinian Rights of the Secretariat \", \"Division for Palestinian Rights of the Secretariat \", \"me\", \"Palestinian conflict\", 2019], [9101, \"Kuwait\", \"KW\", \"yes\", 74, NaN, \"2019-12-03\", \"A/RES/74/12\", NaN, NaN, \"Division for Palestinian Rights of the Secretariat \", \"Division for Palestinian Rights of the Secretariat \", \"me\", \"Palestinian conflict\", 2019], [9101, \"Kyrgyzstan\", \"KG\", \"yes\", 74, NaN, \"2019-12-03\", \"A/RES/74/12\", NaN, NaN, \"Division for Palestinian Rights of the Secretariat \", \"Division for Palestinian Rights of the Secretariat \", \"me\", \"Palestinian conflict\", 2019], [9101, \"Laos\", \"LA\", \"yes\", 74, NaN, \"2019-12-03\", \"A/RES/74/12\", NaN, NaN, \"Division for Palestinian Rights of the Secretariat \", \"Division for Palestinian Rights of the Secretariat \", \"me\", \"Palestinian conflict\", 2019], [9101, \"Latvia\", \"LV\", \"abstain\", 74, NaN, \"2019-12-03\", \"A/RES/74/12\", NaN, NaN, \"Division for Palestinian Rights of the Secretariat \", \"Division for Palestinian Rights of the Secretariat \", \"me\", \"Palestinian conflict\", 2019], [9101, \"Lebanon\", \"LB\", \"yes\", 74, NaN, \"2019-12-03\", \"A/RES/74/12\", NaN, NaN, \"Division for Palestinian Rights of the Secretariat \", \"Division for Palestinian Rights of the Secretariat \", \"me\", \"Palestinian conflict\", 2019], [9101, \"Lesotho\", \"LS\", \"yes\", 74, NaN, \"2019-12-03\", \"A/RES/74/12\", NaN, NaN, \"Division for Palestinian Rights of the Secretariat \", \"Division for Palestinian Rights of the Secretariat \", \"me\", \"Palestinian conflict\", 2019], [9101, \"Libya\", \"LY\", \"yes\", 74, NaN, \"2019-12-03\", \"A/RES/74/12\", NaN, NaN, \"Division for Palestinian Rights of the Secretariat \", \"Division for Palestinian Rights of the Secretariat \", \"me\", \"Palestinian conflict\", 2019], [9101, \"Liechtenstein\", \"LI\", \"abstain\", 74, NaN, \"2019-12-03\", \"A/RES/74/12\", NaN, NaN, \"Division for Palestinian Rights of the Secretariat \", \"Division for Palestinian Rights of the Secretariat \", \"me\", \"Palestinian conflict\", 2019], [9101, \"Lithuania\", \"LT\", \"no\", 74, NaN, \"2019-12-03\", \"A/RES/74/12\", NaN, NaN, \"Division for Palestinian Rights of the Secretariat \", \"Division for Palestinian Rights of the Secretariat \", \"me\", \"Palestinian conflict\", 2019], [9101, \"Luxembourg\", \"LU\", \"abstain\", 74, NaN, \"2019-12-03\", \"A/RES/74/12\", NaN, NaN, \"Division for Palestinian Rights of the Secretariat \", \"Division for Palestinian Rights of the Secretariat \", \"me\", \"Palestinian conflict\", 2019], [9101, \"Malaysia\", \"MY\", \"yes\", 74, NaN, \"2019-12-03\", \"A/RES/74/12\", NaN, NaN, \"Division for Palestinian Rights of the Secretariat \", \"Division for Palestinian Rights of the Secretariat \", \"me\", \"Palestinian conflict\", 2019], [9101, \"Maldives\", \"MV\", \"yes\", 74, NaN, \"2019-12-03\", \"A/RES/74/12\", NaN, NaN, \"Division for Palestinian Rights of the Secretariat \", \"Division for Palestinian Rights of the Secretariat \", \"me\", \"Palestinian conflict\", 2019], [9101, \"Mali\", \"ML\", \"yes\", 74, NaN, \"2019-12-03\", \"A/RES/74/12\", NaN, NaN, \"Division for Palestinian Rights of the Secretariat \", \"Division for Palestinian Rights of the Secretariat \", \"me\", \"Palestinian conflict\", 2019], [9101, \"Malta\", \"MT\", \"yes\", 74, NaN, \"2019-12-03\", \"A/RES/74/12\", NaN, NaN, \"Division for Palestinian Rights of the Secretariat \", \"Division for Palestinian Rights of the Secretariat \", \"me\", \"Palestinian conflict\", 2019], [9101, \"Marshall Islands\", \"MH\", \"no\", 74, NaN, \"2019-12-03\", \"A/RES/74/12\", NaN, NaN, \"Division for Palestinian Rights of the Secretariat \", \"Division for Palestinian Rights of the Secretariat \", \"me\", \"Palestinian conflict\", 2019], [9101, \"Mauritania\", \"MR\", \"yes\", 74, NaN, \"2019-12-03\", \"A/RES/74/12\", NaN, NaN, \"Division for Palestinian Rights of the Secretariat \", \"Division for Palestinian Rights of the Secretariat \", \"me\", \"Palestinian conflict\", 2019], [9101, \"Mauritius\", \"MU\", \"yes\", 74, NaN, \"2019-12-03\", \"A/RES/74/12\", NaN, NaN, \"Division for Palestinian Rights of the Secretariat \", \"Division for Palestinian Rights of the Secretariat \", \"me\", \"Palestinian conflict\", 2019], [9101, \"Mexico\", \"MX\", \"abstain\", 74, NaN, \"2019-12-03\", \"A/RES/74/12\", NaN, NaN, \"Division for Palestinian Rights of the Secretariat \", \"Division for Palestinian Rights of the Secretariat \", \"me\", \"Palestinian conflict\", 2019], [9101, \"Micronesia (Federated States of)\", \"FM\", \"no\", 74, NaN, \"2019-12-03\", \"A/RES/74/12\", NaN, NaN, \"Division for Palestinian Rights of the Secretariat \", \"Division for Palestinian Rights of the Secretariat \", \"me\", \"Palestinian conflict\", 2019], [9101, \"Monaco\", \"MC\", \"abstain\", 74, NaN, \"2019-12-03\", \"A/RES/74/12\", NaN, NaN, \"Division for Palestinian Rights of the Secretariat \", \"Division for Palestinian Rights of the Secretariat \", \"me\", \"Palestinian conflict\", 2019], [9101, \"Montenegro\", \"ME\", \"abstain\", 74, NaN, \"2019-12-03\", \"A/RES/74/12\", NaN, NaN, \"Division for Palestinian Rights of the Secretariat \", \"Division for Palestinian Rights of the Secretariat \", \"me\", \"Palestinian conflict\", 2019], [9101, \"Morocco\", \"MA\", \"yes\", 74, NaN, \"2019-12-03\", \"A/RES/74/12\", NaN, NaN, \"Division for Palestinian Rights of the Secretariat \", \"Division for Palestinian Rights of the Secretariat \", \"me\", \"Palestinian conflict\", 2019], [9101, \"Mozambique\", \"MZ\", \"yes\", 74, NaN, \"2019-12-03\", \"A/RES/74/12\", NaN, NaN, \"Division for Palestinian Rights of the Secretariat \", \"Division for Palestinian Rights of the Secretariat \", \"me\", \"Palestinian conflict\", 2019], [9101, \"Namibia\", \"NaN\", \"yes\", 74, NaN, \"2019-12-03\", \"A/RES/74/12\", NaN, NaN, \"Division for Palestinian Rights of the Secretariat \", \"Division for Palestinian Rights of the Secretariat \", \"me\", \"Palestinian conflict\", 2019], [9101, \"Nauru\", \"NR\", \"no\", 74, NaN, \"2019-12-03\", \"A/RES/74/12\", NaN, NaN, \"Division for Palestinian Rights of the Secretariat \", \"Division for Palestinian Rights of the Secretariat \", \"me\", \"Palestinian conflict\", 2019], [9101, \"Nepal\", \"NP\", \"yes\", 74, NaN, \"2019-12-03\", \"A/RES/74/12\", NaN, NaN, \"Division for Palestinian Rights of the Secretariat \", \"Division for Palestinian Rights of the Secretariat \", \"me\", \"Palestinian conflict\", 2019], [9101, \"Netherlands\", \"NL\", \"no\", 74, NaN, \"2019-12-03\", \"A/RES/74/12\", NaN, NaN, \"Division for Palestinian Rights of the Secretariat \", \"Division for Palestinian Rights of the Secretariat \", \"me\", \"Palestinian conflict\", 2019], [9101, \"New Zealand\", \"NZ\", \"abstain\", 74, NaN, \"2019-12-03\", \"A/RES/74/12\", NaN, NaN, \"Division for Palestinian Rights of the Secretariat \", \"Division for Palestinian Rights of the Secretariat \", \"me\", \"Palestinian conflict\", 2019], [9101, \"Nicaragua\", \"NI\", \"yes\", 74, NaN, \"2019-12-03\", \"A/RES/74/12\", NaN, NaN, \"Division for Palestinian Rights of the Secretariat \", \"Division for Palestinian Rights of the Secretariat \", \"me\", \"Palestinian conflict\", 2019], [9101, \"Nigeria\", \"NG\", \"yes\", 74, NaN, \"2019-12-03\", \"A/RES/74/12\", NaN, NaN, \"Division for Palestinian Rights of the Secretariat \", \"Division for Palestinian Rights of the Secretariat \", \"me\", \"Palestinian conflict\", 2019], [9101, \"North Macedonia\", \"MK\", \"abstain\", 74, NaN, \"2019-12-03\", \"A/RES/74/12\", NaN, NaN, \"Division for Palestinian Rights of the Secretariat \", \"Division for Palestinian Rights of the Secretariat \", \"me\", \"Palestinian conflict\", 2019], [9101, \"Norway\", \"NO\", \"abstain\", 74, NaN, \"2019-12-03\", \"A/RES/74/12\", NaN, NaN, \"Division for Palestinian Rights of the Secretariat \", \"Division for Palestinian Rights of the Secretariat \", \"me\", \"Palestinian conflict\", 2019], [9101, \"Oman\", \"OM\", \"yes\", 74, NaN, \"2019-12-03\", \"A/RES/74/12\", NaN, NaN, \"Division for Palestinian Rights of the Secretariat \", \"Division for Palestinian Rights of the Secretariat \", \"me\", \"Palestinian conflict\", 2019], [9101, \"Pakistan\", \"PK\", \"yes\", 74, NaN, \"2019-12-03\", \"A/RES/74/12\", NaN, NaN, \"Division for Palestinian Rights of the Secretariat \", \"Division for Palestinian Rights of the Secretariat \", \"me\", \"Palestinian conflict\", 2019], [9101, \"Palau\", \"PW\", \"abstain\", 74, NaN, \"2019-12-03\", \"A/RES/74/12\", NaN, NaN, \"Division for Palestinian Rights of the Secretariat \", \"Division for Palestinian Rights of the Secretariat \", \"me\", \"Palestinian conflict\", 2019], [9101, \"Panama\", \"PA\", \"abstain\", 74, NaN, \"2019-12-03\", \"A/RES/74/12\", NaN, NaN, \"Division for Palestinian Rights of the Secretariat \", \"Division for Palestinian Rights of the Secretariat \", \"me\", \"Palestinian conflict\", 2019], [9101, \"Papua New Guinea\", \"PG\", \"abstain\", 74, NaN, \"2019-12-03\", \"A/RES/74/12\", NaN, NaN, \"Division for Palestinian Rights of the Secretariat \", \"Division for Palestinian Rights of the Secretariat \", \"me\", \"Palestinian conflict\", 2019], [9101, \"Paraguay\", \"PY\", \"abstain\", 74, NaN, \"2019-12-03\", \"A/RES/74/12\", NaN, NaN, \"Division for Palestinian Rights of the Secretariat \", \"Division for Palestinian Rights of the Secretariat \", \"me\", \"Palestinian conflict\", 2019], [9101, \"Peru\", \"PE\", \"abstain\", 74, NaN, \"2019-12-03\", \"A/RES/74/12\", NaN, NaN, \"Division for Palestinian Rights of the Secretariat \", \"Division for Palestinian Rights of the Secretariat \", \"me\", \"Palestinian conflict\", 2019], [9101, \"Philippines\", \"PH\", \"yes\", 74, NaN, \"2019-12-03\", \"A/RES/74/12\", NaN, NaN, \"Division for Palestinian Rights of the Secretariat \", \"Division for Palestinian Rights of the Secretariat \", \"me\", \"Palestinian conflict\", 2019], [9101, \"Poland\", \"PL\", \"abstain\", 74, NaN, \"2019-12-03\", \"A/RES/74/12\", NaN, NaN, \"Division for Palestinian Rights of the Secretariat \", \"Division for Palestinian Rights of the Secretariat \", \"me\", \"Palestinian conflict\", 2019], [9101, \"Portugal\", \"PT\", \"abstain\", 74, NaN, \"2019-12-03\", \"A/RES/74/12\", NaN, NaN, \"Division for Palestinian Rights of the Secretariat \", \"Division for Palestinian Rights of the Secretariat \", \"me\", \"Palestinian conflict\", 2019], [9101, \"Qatar\", \"QA\", \"yes\", 74, NaN, \"2019-12-03\", \"A/RES/74/12\", NaN, NaN, \"Division for Palestinian Rights of the Secretariat \", \"Division for Palestinian Rights of the Secretariat \", \"me\", \"Palestinian conflict\", 2019], [9101, \"South Korea\", \"KR\", \"abstain\", 74, NaN, \"2019-12-03\", \"A/RES/74/12\", NaN, NaN, \"Division for Palestinian Rights of the Secretariat \", \"Division for Palestinian Rights of the Secretariat \", \"me\", \"Palestinian conflict\", 2019], [9101, \"Moldova\", \"MD\", \"abstain\", 74, NaN, \"2019-12-03\", \"A/RES/74/12\", NaN, NaN, \"Division for Palestinian Rights of the Secretariat \", \"Division for Palestinian Rights of the Secretariat \", \"me\", \"Palestinian conflict\", 2019], [9101, \"Romania\", \"RO\", \"no\", 74, NaN, \"2019-12-03\", \"A/RES/74/12\", NaN, NaN, \"Division for Palestinian Rights of the Secretariat \", \"Division for Palestinian Rights of the Secretariat \", \"me\", \"Palestinian conflict\", 2019], [9101, \"Russia\", \"RU\", \"abstain\", 74, NaN, \"2019-12-03\", \"A/RES/74/12\", NaN, NaN, \"Division for Palestinian Rights of the Secretariat \", \"Division for Palestinian Rights of the Secretariat \", \"me\", \"Palestinian conflict\", 2019], [9101, \"Rwanda\", \"RW\", \"abstain\", 74, NaN, \"2019-12-03\", \"A/RES/74/12\", NaN, NaN, \"Division for Palestinian Rights of the Secretariat \", \"Division for Palestinian Rights of the Secretariat \", \"me\", \"Palestinian conflict\", 2019], [9101, \"St. Lucia\", \"LC\", \"yes\", 74, NaN, \"2019-12-03\", \"A/RES/74/12\", NaN, NaN, \"Division for Palestinian Rights of the Secretariat \", \"Division for Palestinian Rights of the Secretariat \", \"me\", \"Palestinian conflict\", 2019], [9101, \"St. Vincent & Grenadines\", \"VC\", \"yes\", 74, NaN, \"2019-12-03\", \"A/RES/74/12\", NaN, NaN, \"Division for Palestinian Rights of the Secretariat \", \"Division for Palestinian Rights of the Secretariat \", \"me\", \"Palestinian conflict\", 2019], [9101, \"Samoa\", \"WS\", \"abstain\", 74, NaN, \"2019-12-03\", \"A/RES/74/12\", NaN, NaN, \"Division for Palestinian Rights of the Secretariat \", \"Division for Palestinian Rights of the Secretariat \", \"me\", \"Palestinian conflict\", 2019], [9101, \"San Marino\", \"SM\", \"abstain\", 74, NaN, \"2019-12-03\", \"A/RES/74/12\", NaN, NaN, \"Division for Palestinian Rights of the Secretariat \", \"Division for Palestinian Rights of the Secretariat \", \"me\", \"Palestinian conflict\", 2019], [9101, \"Saudi Arabia\", \"SA\", \"yes\", 74, NaN, \"2019-12-03\", \"A/RES/74/12\", NaN, NaN, \"Division for Palestinian Rights of the Secretariat \", \"Division for Palestinian Rights of the Secretariat \", \"me\", \"Palestinian conflict\", 2019], [9101, \"Senegal\", \"SN\", \"yes\", 74, NaN, \"2019-12-03\", \"A/RES/74/12\", NaN, NaN, \"Division for Palestinian Rights of the Secretariat \", \"Division for Palestinian Rights of the Secretariat \", \"me\", \"Palestinian conflict\", 2019], [9101, \"Yugoslavia\", \"YU\", \"abstain\", 74, NaN, \"2019-12-03\", \"A/RES/74/12\", NaN, NaN, \"Division for Palestinian Rights of the Secretariat \", \"Division for Palestinian Rights of the Secretariat \", \"me\", \"Palestinian conflict\", 2019], [9101, \"Sierra Leone\", \"SL\", \"yes\", 74, NaN, \"2019-12-03\", \"A/RES/74/12\", NaN, NaN, \"Division for Palestinian Rights of the Secretariat \", \"Division for Palestinian Rights of the Secretariat \", \"me\", \"Palestinian conflict\", 2019], [9101, \"Singapore\", \"SG\", \"yes\", 74, NaN, \"2019-12-03\", \"A/RES/74/12\", NaN, NaN, \"Division for Palestinian Rights of the Secretariat \", \"Division for Palestinian Rights of the Secretariat \", \"me\", \"Palestinian conflict\", 2019], [9101, \"Slovakia\", \"SK\", \"no\", 74, NaN, \"2019-12-03\", \"A/RES/74/12\", NaN, NaN, \"Division for Palestinian Rights of the Secretariat \", \"Division for Palestinian Rights of the Secretariat \", \"me\", \"Palestinian conflict\", 2019], [9101, \"Slovenia\", \"SI\", \"abstain\", 74, NaN, \"2019-12-03\", \"A/RES/74/12\", NaN, NaN, \"Division for Palestinian Rights of the Secretariat \", \"Division for Palestinian Rights of the Secretariat \", \"me\", \"Palestinian conflict\", 2019], [9101, \"Solomon Islands\", \"SB\", \"abstain\", 74, NaN, \"2019-12-03\", \"A/RES/74/12\", NaN, NaN, \"Division for Palestinian Rights of the Secretariat \", \"Division for Palestinian Rights of the Secretariat \", \"me\", \"Palestinian conflict\", 2019], [9101, \"Somalia\", \"SO\", \"yes\", 74, NaN, \"2019-12-03\", \"A/RES/74/12\", NaN, NaN, \"Division for Palestinian Rights of the Secretariat \", \"Division for Palestinian Rights of the Secretariat \", \"me\", \"Palestinian conflict\", 2019], [9101, \"South Africa\", \"ZA\", \"yes\", 74, NaN, \"2019-12-03\", \"A/RES/74/12\", NaN, NaN, \"Division for Palestinian Rights of the Secretariat \", \"Division for Palestinian Rights of the Secretariat \", \"me\", \"Palestinian conflict\", 2019], [9101, \"South Sudan\", \"SS\", \"abstain\", 74, NaN, \"2019-12-03\", \"A/RES/74/12\", NaN, NaN, \"Division for Palestinian Rights of the Secretariat \", \"Division for Palestinian Rights of the Secretariat \", \"me\", \"Palestinian conflict\", 2019], [9101, \"Spain\", \"ES\", \"abstain\", 74, NaN, \"2019-12-03\", \"A/RES/74/12\", NaN, NaN, \"Division for Palestinian Rights of the Secretariat \", \"Division for Palestinian Rights of the Secretariat \", \"me\", \"Palestinian conflict\", 2019], [9101, \"Sri Lanka\", \"LK\", \"yes\", 74, NaN, \"2019-12-03\", \"A/RES/74/12\", NaN, NaN, \"Division for Palestinian Rights of the Secretariat \", \"Division for Palestinian Rights of the Secretariat \", \"me\", \"Palestinian conflict\", 2019], [9101, \"Sudan\", \"SD\", \"yes\", 74, NaN, \"2019-12-03\", \"A/RES/74/12\", NaN, NaN, \"Division for Palestinian Rights of the Secretariat \", \"Division for Palestinian Rights of the Secretariat \", \"me\", \"Palestinian conflict\", 2019], [9101, \"Suriname\", \"SR\", \"yes\", 74, NaN, \"2019-12-03\", \"A/RES/74/12\", NaN, NaN, \"Division for Palestinian Rights of the Secretariat \", \"Division for Palestinian Rights of the Secretariat \", \"me\", \"Palestinian conflict\", 2019], [9101, \"Sweden\", \"SE\", \"abstain\", 74, NaN, \"2019-12-03\", \"A/RES/74/12\", NaN, NaN, \"Division for Palestinian Rights of the Secretariat \", \"Division for Palestinian Rights of the Secretariat \", \"me\", \"Palestinian conflict\", 2019], [9101, \"Switzerland\", \"CH\", \"abstain\", 74, NaN, \"2019-12-03\", \"A/RES/74/12\", NaN, NaN, \"Division for Palestinian Rights of the Secretariat \", \"Division for Palestinian Rights of the Secretariat \", \"me\", \"Palestinian conflict\", 2019], [9101, \"Syria\", \"SY\", \"yes\", 74, NaN, \"2019-12-03\", \"A/RES/74/12\", NaN, NaN, \"Division for Palestinian Rights of the Secretariat \", \"Division for Palestinian Rights of the Secretariat \", \"me\", \"Palestinian conflict\", 2019], [9101, \"Tajikistan\", \"TJ\", \"yes\", 74, NaN, \"2019-12-03\", \"A/RES/74/12\", NaN, NaN, \"Division for Palestinian Rights of the Secretariat \", \"Division for Palestinian Rights of the Secretariat \", \"me\", \"Palestinian conflict\", 2019], [9101, \"Thailand\", \"TH\", \"yes\", 74, NaN, \"2019-12-03\", \"A/RES/74/12\", NaN, NaN, \"Division for Palestinian Rights of the Secretariat \", \"Division for Palestinian Rights of the Secretariat \", \"me\", \"Palestinian conflict\", 2019], [9101, \"Togo\", \"TG\", \"abstain\", 74, NaN, \"2019-12-03\", \"A/RES/74/12\", NaN, NaN, \"Division for Palestinian Rights of the Secretariat \", \"Division for Palestinian Rights of the Secretariat \", \"me\", \"Palestinian conflict\", 2019], [9101, \"Tonga\", \"TO\", \"abstain\", 74, NaN, \"2019-12-03\", \"A/RES/74/12\", NaN, NaN, \"Division for Palestinian Rights of the Secretariat \", \"Division for Palestinian Rights of the Secretariat \", \"me\", \"Palestinian conflict\", 2019], [9101, \"Tunisia\", \"TN\", \"yes\", 74, NaN, \"2019-12-03\", \"A/RES/74/12\", NaN, NaN, \"Division for Palestinian Rights of the Secretariat \", \"Division for Palestinian Rights of the Secretariat \", \"me\", \"Palestinian conflict\", 2019], [9101, \"Turkey\", \"TR\", \"yes\", 74, NaN, \"2019-12-03\", \"A/RES/74/12\", NaN, NaN, \"Division for Palestinian Rights of the Secretariat \", \"Division for Palestinian Rights of the Secretariat \", \"me\", \"Palestinian conflict\", 2019], [9101, \"Turkmenistan\", \"TM\", \"yes\", 74, NaN, \"2019-12-03\", \"A/RES/74/12\", NaN, NaN, \"Division for Palestinian Rights of the Secretariat \", \"Division for Palestinian Rights of the Secretariat \", \"me\", \"Palestinian conflict\", 2019], [9101, \"Uganda\", \"UG\", \"yes\", 74, NaN, \"2019-12-03\", \"A/RES/74/12\", NaN, NaN, \"Division for Palestinian Rights of the Secretariat \", \"Division for Palestinian Rights of the Secretariat \", \"me\", \"Palestinian conflict\", 2019], [9101, \"Ukraine\", \"UA\", \"abstain\", 74, NaN, \"2019-12-03\", \"A/RES/74/12\", NaN, NaN, \"Division for Palestinian Rights of the Secretariat \", \"Division for Palestinian Rights of the Secretariat \", \"me\", \"Palestinian conflict\", 2019], [9101, \"United Arab Emirates\", \"AE\", \"yes\", 74, NaN, \"2019-12-03\", \"A/RES/74/12\", NaN, NaN, \"Division for Palestinian Rights of the Secretariat \", \"Division for Palestinian Rights of the Secretariat \", \"me\", \"Palestinian conflict\", 2019], [9101, \"United Kingdom\", \"GB\", \"abstain\", 74, NaN, \"2019-12-03\", \"A/RES/74/12\", NaN, NaN, \"Division for Palestinian Rights of the Secretariat \", \"Division for Palestinian Rights of the Secretariat \", \"me\", \"Palestinian conflict\", 2019], [9101, \"United States\", \"US\", \"no\", 74, NaN, \"2019-12-03\", \"A/RES/74/12\", NaN, NaN, \"Division for Palestinian Rights of the Secretariat \", \"Division for Palestinian Rights of the Secretariat \", \"me\", \"Palestinian conflict\", 2019], [9101, \"Uruguay\", \"UY\", \"yes\", 74, NaN, \"2019-12-03\", \"A/RES/74/12\", NaN, NaN, \"Division for Palestinian Rights of the Secretariat \", \"Division for Palestinian Rights of the Secretariat \", \"me\", \"Palestinian conflict\", 2019], [9101, \"Uzbekistan\", \"UZ\", \"yes\", 74, NaN, \"2019-12-03\", \"A/RES/74/12\", NaN, NaN, \"Division for Palestinian Rights of the Secretariat \", \"Division for Palestinian Rights of the Secretariat \", \"me\", \"Palestinian conflict\", 2019], [9101, \"Vanuatu\", \"VU\", \"abstain\", 74, NaN, \"2019-12-03\", \"A/RES/74/12\", NaN, NaN, \"Division for Palestinian Rights of the Secretariat \", \"Division for Palestinian Rights of the Secretariat \", \"me\", \"Palestinian conflict\", 2019], [9101, \"Venezuela\", \"VE\", \"yes\", 74, NaN, \"2019-12-03\", \"A/RES/74/12\", NaN, NaN, \"Division for Palestinian Rights of the Secretariat \", \"Division for Palestinian Rights of the Secretariat \", \"me\", \"Palestinian conflict\", 2019], [9101, \"Vietnam\", \"VN\", \"yes\", 74, NaN, \"2019-12-03\", \"A/RES/74/12\", NaN, NaN, \"Division for Palestinian Rights of the Secretariat \", \"Division for Palestinian Rights of the Secretariat \", \"me\", \"Palestinian conflict\", 2019], [9101, \"Yemen\", \"YE\", \"yes\", 74, NaN, \"2019-12-03\", \"A/RES/74/12\", NaN, NaN, \"Division for Palestinian Rights of the Secretariat \", \"Division for Palestinian Rights of the Secretariat \", \"me\", \"Palestinian conflict\", 2019], [9101, \"Zambia\", \"ZM\", \"yes\", 74, NaN, \"2019-12-03\", \"A/RES/74/12\", NaN, NaN, \"Division for Palestinian Rights of the Secretariat \", \"Division for Palestinian Rights of the Secretariat \", \"me\", \"Palestinian conflict\", 2019], [9101, \"Zimbabwe\", \"ZW\", \"yes\", 74, NaN, \"2019-12-03\", \"A/RES/74/12\", NaN, NaN, \"Division for Palestinian Rights of the Secretariat \", \"Division for Palestinian Rights of the Secretariat \", \"me\", \"Palestinian conflict\", 2019]];\n",
       "\n",
       "        // Define the dt_args\n",
       "        let dt_args = {\"layout\": {\"topStart\": \"pageLength\", \"topEnd\": \"search\", \"bottomStart\": \"info\", \"bottomEnd\": \"paging\"}, \"order\": [], \"fnInfoCallback\": function (oSettings, iStart, iEnd, iMax, iTotal, sPre) { return sPre + ' (<a href=\"https://mwouts.github.io/itables/downsampling.html\">downsampled</a> from 857,878x15 to 546x15 as maxBytes=64KB)'; }};\n",
       "        dt_args[\"data\"] = data;\n",
       "\n",
       "        \n",
       "        new DataTable(table, dt_args);\n",
       "    });\n",
       "</script>\n"
      ],
      "text/plain": [
       "<IPython.core.display.HTML object>"
      ]
     },
     "metadata": {},
     "output_type": "display_data"
    }
   ],
   "source": [
    "show(DF)"
   ]
  },
  {
   "cell_type": "markdown",
   "id": "a3fac6d0-283f-45a8-8f04-824bce2bc030",
   "metadata": {},
   "source": [
    "### Problem 1\n",
    "\n",
    "Do some initial exploration of this data and write about it in the markdown cell below.\n",
    "\n",
    "* How man columns are there?\n",
    "* There are 15 columns.\n",
    "* What do the columns represent?\n",
    "* The columns provide information to categorize data.\n",
    "* What countries are there?\n",
    "* There are 200 countries.\n",
    "* Can you search for a country you are interested in?\n",
    "* Yes you can.\n",
    "* How many rows are there?\n",
    "* There are 546 rows.\n",
    "* What other observations do you have?\n",
    "    I notice that there are filters to choose what type of data you are looking for. I also noticed it does not show all of the rows to avoid downl"
   ]
  },
  {
   "cell_type": "markdown",
   "id": "5d647175-19fd-404b-84e2-b92e627413a1",
   "metadata": {},
   "source": [
    "# Python can list all the different countries:\n",
    "country_list = list(DF['country'].unique())\n",
    "\n",
    "# Show the data in a nice way\n",
    "show(pd.DataFrame(country_list,columns=['country']))"
   ]
  },
  {
   "cell_type": "markdown",
   "id": "a5ec908c-b134-4b31-907d-93f4415315b4",
   "metadata": {},
   "source": [
    "-------------------------------\n",
    "### Make Python Explore the Data!:\n",
    "-------------------------------\n",
    "\n",
    "Copy and paste the command that will show you a list of the counties:"
   ]
  },
  {
   "cell_type": "code",
   "execution_count": 77,
   "id": "76ada79b-d012-48ff-bfe5-b110ce00ac4b",
   "metadata": {},
   "outputs": [
    {
     "data": {
      "text/html": [
       "<table id=\"itables_2e9fabd1_1217_470f_95ec_4a01626a2551\" class=\"display nowrap\" data-quarto-disable-processing=\"true\" style=\"table-layout:auto;width:auto;margin:auto;caption-side:bottom\">\n",
       "<thead>\n",
       "    <tr style=\"text-align: right;\">\n",
       "      \n",
       "      <th>country</th>\n",
       "    </tr>\n",
       "  </thead><tbody><tr>\n",
       "<td style=\"vertical-align:middle; text-align:left\">\n",
       "<div style=\"float:left; margin-right: 10px;\">\n",
       "<a href=https://mwouts.github.io/itables/><svg class=\"main-svg\" xmlns=\"http://www.w3.org/2000/svg\" xmlns:xlink=\"http://www.w3.org/1999/xlink\"\n",
       "width=\"64\" viewBox=\"0 0 500 400\" style=\"font-family: 'Droid Sans', sans-serif;\">\n",
       "    <g style=\"fill:#d9d7fc\">\n",
       "        <path d=\"M100,400H500V357H100Z\" />\n",
       "        <path d=\"M100,300H400V257H100Z\" />\n",
       "        <path d=\"M0,200H400V157H0Z\" />\n",
       "        <path d=\"M100,100H500V57H100Z\" />\n",
       "        <path d=\"M100,350H500V307H100Z\" />\n",
       "        <path d=\"M100,250H400V207H100Z\" />\n",
       "        <path d=\"M0,150H400V107H0Z\" />\n",
       "        <path d=\"M100,50H500V7H100Z\" />\n",
       "    </g>\n",
       "    <g style=\"fill:#1a1366;stroke:#1a1366;\">\n",
       "   <rect x=\"100\" y=\"7\" width=\"400\" height=\"43\">\n",
       "    <animate\n",
       "      attributeName=\"width\"\n",
       "      values=\"0;400;0\"\n",
       "      dur=\"5s\"\n",
       "      repeatCount=\"indefinite\" />\n",
       "      <animate\n",
       "      attributeName=\"x\"\n",
       "      values=\"100;100;500\"\n",
       "      dur=\"5s\"\n",
       "      repeatCount=\"indefinite\" />\n",
       "  </rect>\n",
       "        <rect x=\"0\" y=\"107\" width=\"400\" height=\"43\">\n",
       "    <animate\n",
       "      attributeName=\"width\"\n",
       "      values=\"0;400;0\"\n",
       "      dur=\"3.5s\"\n",
       "      repeatCount=\"indefinite\" />\n",
       "    <animate\n",
       "      attributeName=\"x\"\n",
       "      values=\"0;0;400\"\n",
       "      dur=\"3.5s\"\n",
       "      repeatCount=\"indefinite\" />\n",
       "  </rect>\n",
       "        <rect x=\"100\" y=\"207\" width=\"300\" height=\"43\">\n",
       "    <animate\n",
       "      attributeName=\"width\"\n",
       "      values=\"0;300;0\"\n",
       "      dur=\"3s\"\n",
       "      repeatCount=\"indefinite\" />\n",
       "    <animate\n",
       "      attributeName=\"x\"\n",
       "      values=\"100;100;400\"\n",
       "      dur=\"3s\"\n",
       "      repeatCount=\"indefinite\" />\n",
       "  </rect>\n",
       "        <rect x=\"100\" y=\"307\" width=\"400\" height=\"43\">\n",
       "    <animate\n",
       "      attributeName=\"width\"\n",
       "      values=\"0;400;0\"\n",
       "      dur=\"4s\"\n",
       "      repeatCount=\"indefinite\" />\n",
       "      <animate\n",
       "      attributeName=\"x\"\n",
       "      values=\"100;100;500\"\n",
       "      dur=\"4s\"\n",
       "      repeatCount=\"indefinite\" />\n",
       "  </rect>\n",
       "        <g style=\"fill:transparent;stroke-width:8; stroke-linejoin:round\" rx=\"5\">\n",
       "            <g transform=\"translate(45 50) rotate(-45)\">\n",
       "                <circle r=\"33\" cx=\"0\" cy=\"0\" />\n",
       "                <rect x=\"-8\" y=\"32\" width=\"16\" height=\"30\" />\n",
       "            </g>\n",
       "\n",
       "            <g transform=\"translate(450 152)\">\n",
       "                <polyline points=\"-15,-20 -35,-20 -35,40 25,40 25,20\" />\n",
       "                <rect x=\"-15\" y=\"-40\" width=\"60\" height=\"60\" />\n",
       "            </g>\n",
       "\n",
       "            <g transform=\"translate(50 352)\">\n",
       "                <polygon points=\"-35,-5 0,-40 35,-5\" />\n",
       "                <polygon points=\"-35,10 0,45 35,10\" />\n",
       "            </g>\n",
       "\n",
       "            <g transform=\"translate(75 250)\">\n",
       "                <polyline points=\"-30,30 -60,0 -30,-30\" />\n",
       "                <polyline points=\"0,30 -30,0 0,-30\" />\n",
       "            </g>\n",
       "\n",
       "            <g transform=\"translate(425 250) rotate(180)\">\n",
       "                <polyline points=\"-30,30 -60,0 -30,-30\" />\n",
       "                <polyline points=\"0,30 -30,0 0,-30\" />\n",
       "            </g>\n",
       "        </g>\n",
       "    </g>\n",
       "</svg>\n",
       "</a>\n",
       "</div>\n",
       "<div>\n",
       "Loading ITables v2.1.4 from the internet...\n",
       "(need <a href=https://mwouts.github.io/itables/troubleshooting.html>help</a>?)</td>\n",
       "</div>\n",
       "</tr></tbody>\n",
       "\n",
       "</table>\n",
       "<link href=\"https://www.unpkg.com/dt_for_itables@2.0.11/dt_bundle.css\" rel=\"stylesheet\">\n",
       "<script type=\"module\">\n",
       "    import {DataTable, jQuery as $} from 'https://www.unpkg.com/dt_for_itables@2.0.11/dt_bundle.js';\n",
       "\n",
       "    document.querySelectorAll(\"#itables_2e9fabd1_1217_470f_95ec_4a01626a2551:not(.dataTable)\").forEach(table => {\n",
       "        // Define the table data\n",
       "        const data = [[\"United States\"], [\"Canada\"], [\"Cuba\"], [\"Dominican Republic\"], [\"Mexico\"], [\"Guatemala\"], [\"Honduras\"], [\"El Salvador\"], [\"Nicaragua\"], [\"Panama\"], [\"Colombia\"], [\"Venezuela\"], [\"Ecuador\"], [\"Peru\"], [\"Brazil\"], [\"Bolivia\"], [\"Paraguay\"], [\"Chile\"], [\"Argentina\"], [\"Uruguay\"], [\"United Kingdom\"], [\"Netherlands\"], [\"Belgium\"], [\"Luxembourg\"], [\"France\"], [\"Poland\"], [\"Czechoslovakia\"], [\"Yugoslavia\"], [\"Greece\"], [\"Russia\"], [\"Ukraine\"], [\"Belarus\"], [\"Norway\"], [\"Denmark\"], [\"Liberia\"], [\"Ethiopia\"], [\"South Africa\"], [\"Iran\"], [\"Turkey\"], [\"Iraq\"], [\"Egypt\"], [\"Syria\"], [\"Lebanon\"], [\"Saudi Arabia\"], [\"Taiwan\"], [\"India\"], [\"Philippines\"], [\"Australia\"], [\"New Zealand\"], [\"Costa Rica\"], [\"Haiti\"], [\"Sweden\"], [\"Iceland\"], [\"Afghanistan\"], [\"Yemen Arab Republic\"], [\"Pakistan\"], [\"Thailand\"], [\"Myanmar (Burma)\"], [\"Israel\"], [\"Indonesia\"], [\"Hungary\"], [\"Jordan\"], [\"Sri Lanka\"], [\"Spain\"], [\"Romania\"], [\"Ireland\"], [\"Portugal\"], [\"Austria\"], [\"Italy\"], [\"Albania\"], [\"Bulgaria\"], [\"Finland\"], [\"Morocco\"], [\"Tunisia\"], [\"Libya\"], [\"Sudan\"], [\"Nepal\"], [\"Cambodia\"], [\"Laos\"], [\"Japan\"], [\"Ghana\"], [\"Malaysia\"], [\"Guinea\"], [\"Cyprus\"], [\"Mali\"], [\"Senegal\"], [\"Benin\"], [\"Niger\"], [\"C\\u00f4te d\\u2019Ivoire\"], [\"Burkina Faso\"], [\"Togo\"], [\"Cameroon\"], [\"Nigeria\"], [\"Gabon\"], [\"Central African Republic\"], [\"Chad\"], [\"Congo - Brazzaville\"], [\"Somalia\"], [\"Madagascar\"], [\"Congo - Kinshasa\"], [\"Mauritania\"], [\"Sierra Leone\"], [\"Mongolia\"], [\"Tanzania\"], [\"Jamaica\"], [\"Trinidad & Tobago\"], [\"Uganda\"], [\"Burundi\"], [\"Rwanda\"], [\"Algeria\"], [\"Kuwait\"], [\"Kenya\"], [\"Zanzibar\"], [\"Malta\"], [\"Zambia\"], [\"Maldives\"], [\"Malawi\"], [\"Singapore\"], [\"Guyana\"], [\"Gambia\"], [\"Lesotho\"], [\"Barbados\"], [\"Botswana\"], [\"Yemen People's Republic\"], [\"Mauritius\"], [\"Equatorial Guinea\"], [\"Eswatini\"], [\"Fiji\"], [\"Bahrain\"], [\"Qatar\"], [\"China\"], [\"Oman\"], [\"United Arab Emirates\"], [\"Bhutan\"], [\"Federal Republic of Germany\"], [\"German Democratic Republic\"], [\"Bahamas\"], [\"Bangladesh\"], [\"Grenada\"], [\"Guinea-Bissau\"], [\"Cape Verde\"], [\"S\\u00e3o Tom\\u00e9 & Pr\\u00edncipe\"], [\"Mozambique\"], [\"Comoros\"], [\"Papua New Guinea\"], [\"Suriname\"], [\"Angola\"], [\"Djibouti\"], [\"Vietnam\"], [\"Samoa\"], [\"Seychelles\"], [\"St. Lucia\"], [\"Solomon Islands\"], [\"Zimbabwe\"], [\"Vanuatu\"], [\"Antigua & Barbuda\"], [\"Belize\"], [\"St. Vincent & Grenadines\"], [\"Dominica\"], [\"St. Kitts & Nevis\"], [\"Brunei\"], [\"Liechtenstein\"], [\"Namibia\"], [\"Germany\"], [\"Estonia\"], [\"Latvia\"], [\"Lithuania\"], [\"Yemen\"], [\"North Korea\"], [\"South Korea\"], [\"Marshall Islands\"], [\"Micronesia (Federated States of)\"], [\"Croatia\"], [\"Slovenia\"], [\"Moldova\"], [\"San Marino\"], [\"Armenia\"], [\"Azerbaijan\"], [\"Bosnia & Herzegovina\"], [\"Kazakhstan\"], [\"Tajikistan\"], [\"Turkmenistan\"], [\"Kyrgyzstan\"], [\"Andorra\"], [\"Czechia\"], [\"Slovakia\"], [\"North Macedonia\"], [\"Monaco\"], [\"Georgia\"], [\"Eritrea\"], [\"Uzbekistan\"], [\"Palau\"], [\"Tonga\"], [\"Nauru\"], [\"Tuvalu\"], [\"Kiribati\"], [\"Switzerland\"], [\"Timor-Leste\"], [\"Montenegro\"], [\"South Sudan\"]];\n",
       "\n",
       "        // Define the dt_args\n",
       "        let dt_args = {\"layout\": {\"topStart\": \"pageLength\", \"topEnd\": \"search\", \"bottomStart\": \"info\", \"bottomEnd\": \"paging\"}, \"order\": []};\n",
       "        dt_args[\"data\"] = data;\n",
       "\n",
       "        \n",
       "        new DataTable(table, dt_args);\n",
       "    });\n",
       "</script>\n"
      ],
      "text/plain": [
       "<IPython.core.display.HTML object>"
      ]
     },
     "metadata": {},
     "output_type": "display_data"
    }
   ],
   "source": [
    "# Python can list all the different countries:\n",
    "country_list = list(DF['country'].unique())\n",
    "\n",
    "# Show the data in a nice way\n",
    "show(pd.DataFrame(country_list,columns=['country']))"
   ]
  },
  {
   "cell_type": "markdown",
   "id": "e6869f91-d574-4e4f-8200-7f7ba12ef657",
   "metadata": {},
   "source": [
    "Copy and paste the command that will count up the number of countries:"
   ]
  },
  {
   "cell_type": "code",
   "execution_count": 67,
   "id": "fa93e932-08e9-46b8-ae03-1f6504a8d7b7",
   "metadata": {},
   "outputs": [
    {
     "name": "stdout",
     "output_type": "stream",
     "text": [
      "200\n"
     ]
    }
   ],
   "source": [
    "# Copy and paste the code here:\n",
    "# Python can count up the number of countries.\n",
    "# Find the length of the list\n",
    "print(len(country_list))"
   ]
  },
  {
   "cell_type": "markdown",
   "id": "8fc80b9c-3777-4ed3-903f-610f9a889561",
   "metadata": {},
   "source": [
    "### Problem 2\n",
    "\n",
    "Try writing some code for your self. Above we found a countries list by focusing on the column named 'country'. See if you can redo that same code but change it to focus on the column named 'issue'.\n",
    "\n",
    "What do I expect here:\n",
    "\n",
    "* First copy and past the code from above\n",
    "* Then change that code slightly\n",
    "* Run the cell to see if it worked"
   ]
  },
  {
   "cell_type": "code",
   "execution_count": 114,
   "id": "8322841e-daef-4ff3-a74b-20560af34c52",
   "metadata": {},
   "outputs": [
    {
     "data": {
      "text/plain": [
       "['Human rights',\n",
       " 'Economic development',\n",
       " 'Colonialism',\n",
       " 'Palestinian conflict',\n",
       " 'Arms control and disarmament',\n",
       " 'Nuclear weapons and nuclear material']"
      ]
     },
     "execution_count": 114,
     "metadata": {},
     "output_type": "execute_result"
    }
   ],
   "source": [
    "issues_list = list(DF[\"issue\"].unique())\n",
    "issues_list"
   ]
  },
  {
   "cell_type": "markdown",
   "id": "7ebdffc3-dbc2-4100-83d6-ea94d27f9456",
   "metadata": {},
   "source": [
    "-------------------------------\n",
    "### Data Visualization:\n",
    "-------------------------------\n",
    "\n",
    "Now we will select three countries that we are interested in and see how their votes have changed over time. Below you should see code that selects: Turkey, United States, and United Kingdom.\n",
    "\n",
    "**IMPORTANT** These have to be spelled and capitalized exactly like they are in the data. Python is unforgiving of typos!\n",
    "\n",
    "You can just run the cell below - assuming you have done all the parts above!"
   ]
  },
  {
   "cell_type": "code",
   "execution_count": null,
   "id": "cb0dfbd6-1959-4881-890a-aa184248699d",
   "metadata": {},
   "outputs": [],
   "source": [
    "countries = ['Honduras', 'Mexico', 'Cuba']\n",
    "issues = list(DF['issue'].unique())\n",
    "c_groups = DF.groupby(['country','issue'])\n",
    "print(issues)"
   ]
  },
  {
   "cell_type": "markdown",
   "id": "00a813fa-de2b-4c25-a96c-68234b9b9503",
   "metadata": {},
   "source": [
    "Now that we have our focus countries, we can make pretty pictures.\n",
    "\n",
    "You can just run the cell below - assuming you have done all the parts above!"
   ]
  },
  {
   "cell_type": "code",
   "execution_count": 116,
   "id": "0004cb71-264f-4580-b847-41f8b01fa300",
   "metadata": {},
   "outputs": [
    {
     "data": {
      "application/vnd.plotly.v1+json": {
       "config": {
        "plotlyServerURL": "https://plot.ly"
       },
       "data": [
        {
         "hovertemplate": "Country=Honduras<br>x=%{x}<br>y=%{y}<extra></extra>",
         "legendgroup": "Honduras",
         "marker": {
          "color": "#636efa",
          "symbol": "circle"
         },
         "mode": "markers",
         "name": "Honduras",
         "orientation": "v",
         "showlegend": true,
         "type": "scatter",
         "x": [
          1946,
          1948,
          1949,
          1950,
          1952,
          1953,
          1954,
          1955,
          1956,
          1958,
          1959,
          1961,
          1962,
          1965,
          1966,
          1967,
          1968,
          1969,
          1970,
          1971,
          1972,
          1973,
          1974,
          1975,
          1976,
          1977,
          1978,
          1979,
          1980,
          1981,
          1982,
          1983,
          1984,
          1985,
          1986,
          1987,
          1988,
          1989,
          1990,
          1991,
          1992,
          1993,
          1994,
          1995,
          1996,
          1997,
          1998,
          1999,
          2000,
          2001,
          2002,
          2003,
          2004,
          2006,
          2005,
          2007,
          2008,
          2009,
          2010,
          2011,
          2012,
          2013,
          2014,
          2015,
          2016,
          2017,
          2018,
          2019
         ],
         "xaxis": "x",
         "y": [
          50,
          100,
          100,
          0,
          50,
          33.33333333333333,
          0,
          33.33333333333333,
          83.33333333333334,
          100,
          33.33333333333333,
          0,
          0,
          50,
          100,
          40,
          0,
          75,
          66.66666666666666,
          77.77777777777779,
          76.47058823529412,
          83.33333333333334,
          60,
          58.82352941176471,
          50,
          47.368421052631575,
          40,
          56.25,
          66.66666666666666,
          61.53846153846154,
          64.28571428571429,
          81.25,
          80,
          71.42857142857143,
          85,
          73.68421052631578,
          83.33333333333334,
          77.77777777777779,
          90,
          100,
          90.9090909090909,
          90.9090909090909,
          100,
          100,
          93.75,
          100,
          93.33333333333333,
          100,
          88.23529411764706,
          94.73684210526315,
          95.45454545454545,
          79.16666666666666,
          75,
          82.14285714285714,
          75,
          96.29629629629629,
          88.46153846153845,
          89.47368421052632,
          87.5,
          80,
          69.56521739130434,
          76.19047619047619,
          83.33333333333334,
          75,
          78.94736842105263,
          76.66666666666667,
          77.27272727272727,
          85.71428571428571
         ],
         "yaxis": "y"
        },
        {
         "hovertemplate": "<b>LOWESS trendline</b><br><br>Country=Honduras<br>x=%{x}<br>y=%{y} <b>(trend)</b><extra></extra>",
         "legendgroup": "Honduras",
         "marker": {
          "color": "#636efa",
          "symbol": "circle"
         },
         "mode": "lines",
         "name": "Honduras",
         "showlegend": false,
         "type": "scatter",
         "x": [
          1946,
          1948,
          1949,
          1950,
          1952,
          1953,
          1954,
          1955,
          1956,
          1958,
          1959,
          1961,
          1962,
          1965,
          1966,
          1967,
          1968,
          1969,
          1970,
          1971,
          1972,
          1973,
          1974,
          1975,
          1976,
          1977,
          1978,
          1979,
          1980,
          1981,
          1982,
          1983,
          1984,
          1985,
          1986,
          1987,
          1988,
          1989,
          1990,
          1991,
          1992,
          1993,
          1994,
          1995,
          1996,
          1997,
          1998,
          1999,
          2000,
          2001,
          2002,
          2003,
          2004,
          2005,
          2006,
          2007,
          2008,
          2009,
          2010,
          2011,
          2012,
          2013,
          2014,
          2015,
          2016,
          2017,
          2018,
          2019
         ],
         "xaxis": "x",
         "y": [
          35.21017630880361,
          37.14322869739065,
          38.11231259280525,
          39.08142221810661,
          41.01501228003364,
          41.97762526373102,
          42.93577495711977,
          43.888400434151976,
          44.834912845633355,
          46.708737472361065,
          47.63503721515013,
          49.46518063435556,
          50.370269915145826,
          53.066135395707896,
          53.97071398239426,
          54.89063977668361,
          55.84032652782024,
          56.842611458508166,
          57.92580300883041,
          59.099005418278075,
          60.27058892446185,
          61.47157467549792,
          62.70337422528921,
          63.96830004181965,
          65.23945361165279,
          66.54645938329229,
          67.87471676706505,
          69.21672282410306,
          70.558408025091,
          71.88047008259853,
          73.16702380215128,
          74.40446967444224,
          75.56475736898561,
          76.72346869483715,
          77.82353492685606,
          78.97211428237411,
          80.03557547846619,
          81.06556093322173,
          82.07120530391515,
          83.04853010557805,
          83.97861277867793,
          84.83803531555189,
          85.6030439375281,
          86.25183697618641,
          86.76941176028916,
          87.15256173706791,
          86.93296872685414,
          86.68439389176561,
          86.43438305679047,
          86.1856174709677,
          85.93314989084261,
          85.6716052387068,
          85.39693904707077,
          85.10689608396905,
          84.8006530353449,
          84.47828339361617,
          84.14017427773688,
          83.78657055579662,
          83.4176558870902,
          83.03355475115195,
          82.63439407376052,
          82.2205296384937,
          81.79273574776094,
          81.35200069350896,
          80.8993089235739,
          80.43577363569439,
          79.96256365370479,
          79.48091046684769
         ],
         "yaxis": "y"
        },
        {
         "hovertemplate": "Country=Mexico<br>x=%{x}<br>y=%{y}<extra></extra>",
         "legendgroup": "Mexico",
         "marker": {
          "color": "#EF553B",
          "symbol": "circle"
         },
         "mode": "markers",
         "name": "Mexico",
         "orientation": "v",
         "showlegend": true,
         "type": "scatter",
         "x": [
          1946,
          1948,
          1949,
          1950,
          1952,
          1953,
          1954,
          1955,
          1956,
          1958,
          1959,
          1961,
          1962,
          1965,
          1966,
          1967,
          1968,
          1969,
          1970,
          1971,
          1972,
          1973,
          1974,
          1975,
          1976,
          1977,
          1978,
          1979,
          1980,
          1981,
          1982,
          1983,
          1984,
          1985,
          1986,
          1987,
          1988,
          1989,
          1990,
          1991,
          1992,
          1993,
          1994,
          1995,
          1996,
          1997,
          1998,
          1999,
          2000,
          2001,
          2002,
          2003,
          2004,
          2006,
          2005,
          2007,
          2008,
          2009,
          2010,
          2011,
          2012,
          2013,
          2014,
          2015,
          2016,
          2017,
          2018,
          2019
         ],
         "xaxis": "x",
         "y": [
          100,
          16.666666666666664,
          100,
          100,
          100,
          100,
          0,
          33.33333333333333,
          100,
          100,
          100,
          33.33333333333333,
          0,
          0,
          100,
          40,
          0,
          60,
          64.28571428571429,
          75,
          76.47058823529412,
          95.83333333333334,
          95,
          90.47619047619048,
          82.35294117647058,
          82.35294117647058,
          75,
          93.75,
          88.88888888888889,
          92.3076923076923,
          100,
          100,
          100,
          100,
          100,
          100,
          100,
          100,
          100,
          100,
          90.9090909090909,
          90.9090909090909,
          92.85714285714286,
          92.85714285714286,
          94.11764705882352,
          85,
          88.23529411764706,
          85,
          94.11764705882352,
          95,
          100,
          92,
          95,
          78.57142857142857,
          85.71428571428571,
          85.18518518518519,
          84.61538461538461,
          86.95652173913044,
          76,
          84,
          86.95652173913044,
          80.95238095238095,
          88.88888888888889,
          85,
          63.1578947368421,
          66.66666666666666,
          72.72727272727273,
          71.42857142857143
         ],
         "yaxis": "y"
        },
        {
         "hovertemplate": "<b>LOWESS trendline</b><br><br>Country=Mexico<br>x=%{x}<br>y=%{y} <b>(trend)</b><extra></extra>",
         "legendgroup": "Mexico",
         "marker": {
          "color": "#EF553B",
          "symbol": "circle"
         },
         "mode": "lines",
         "name": "Mexico",
         "showlegend": false,
         "type": "scatter",
         "x": [
          1946,
          1948,
          1949,
          1950,
          1952,
          1953,
          1954,
          1955,
          1956,
          1958,
          1959,
          1961,
          1962,
          1965,
          1966,
          1967,
          1968,
          1969,
          1970,
          1971,
          1972,
          1973,
          1974,
          1975,
          1976,
          1977,
          1978,
          1979,
          1980,
          1981,
          1982,
          1983,
          1984,
          1985,
          1986,
          1987,
          1988,
          1989,
          1990,
          1991,
          1992,
          1993,
          1994,
          1995,
          1996,
          1997,
          1998,
          1999,
          2000,
          2001,
          2002,
          2003,
          2004,
          2005,
          2006,
          2007,
          2008,
          2009,
          2010,
          2011,
          2012,
          2013,
          2014,
          2015,
          2016,
          2017,
          2018,
          2019
         ],
         "xaxis": "x",
         "y": [
          100.46083155203998,
          99.4926661364498,
          99.01660091936813,
          98.54682010192575,
          97.62905388934327,
          97.18253133516836,
          96.74514859774793,
          96.31743783419267,
          95.89987255481428,
          95.09649597677513,
          94.71077339286866,
          93.96852441241091,
          93.60909058496362,
          92.53991446989995,
          92.16554392094034,
          91.76314195853458,
          91.31273631237683,
          90.78806894248649,
          90.16411305065166,
          89.43689050825552,
          89.12759586150382,
          88.89000019632557,
          88.7615202449451,
          88.7562439436674,
          88.52777669699795,
          88.83665819277216,
          89.22920934960942,
          89.6795252029747,
          90.15807841076833,
          90.63366088680148,
          91.08751036016464,
          91.50511434774477,
          92.0589313380323,
          92.41221436813935,
          92.72202175307747,
          93.24311443924738,
          93.46447442950944,
          93.61769043423004,
          93.69455794744533,
          93.69073263055081,
          93.6087795878205,
          93.45309196474615,
          93.22931169031942,
          92.93910802110159,
          92.57407954024556,
          92.1257669834363,
          91.4650223919437,
          90.75031737706313,
          90.00466067890888,
          89.24392404657361,
          88.47584175100009,
          87.70380848837424,
          86.92911841773548,
          86.15217228916897,
          85.37290179122253,
          84.59119294479218,
          83.80705951493128,
          83.02045722856425,
          82.23122927190468,
          81.4391199701501,
          80.64397591599815,
          79.84555158197021,
          79.04340955570702,
          78.23699791110165,
          77.42548406864444,
          76.60792589421955,
          75.7838351316591,
          74.95317329386397
         ],
         "yaxis": "y"
        },
        {
         "hovertemplate": "Country=Cuba<br>x=%{x}<br>y=%{y}<extra></extra>",
         "legendgroup": "Cuba",
         "marker": {
          "color": "#00cc96",
          "symbol": "circle"
         },
         "mode": "markers",
         "name": "Cuba",
         "orientation": "v",
         "showlegend": true,
         "type": "scatter",
         "x": [
          1946,
          1948,
          1949,
          1950,
          1952,
          1953,
          1954,
          1955,
          1956,
          1958,
          1959,
          1961,
          1962,
          1965,
          1966,
          1967,
          1969,
          1970,
          1971,
          1972,
          1973,
          1974,
          1975,
          1976,
          1977,
          1978,
          1979,
          1980,
          1981,
          1982,
          1983,
          1984,
          1985,
          1986,
          1987,
          1988,
          1989,
          1990,
          1991,
          1992,
          1993,
          1994,
          1995,
          1996,
          1997,
          1998,
          1999,
          2000,
          2001,
          2002,
          2003,
          2004,
          2006,
          2005,
          2007,
          2008,
          2009,
          2010,
          2011,
          2012,
          2013,
          2014,
          2015,
          2016,
          2017,
          2018,
          2019
         ],
         "xaxis": "x",
         "y": [
          50,
          16.666666666666664,
          83.33333333333334,
          50,
          62.5,
          50,
          0,
          33.33333333333333,
          66.66666666666666,
          100,
          100,
          50,
          100,
          50,
          77.77777777777779,
          80,
          60,
          58.333333333333336,
          100,
          81.25,
          91.66666666666666,
          100,
          95.23809523809523,
          100,
          94.73684210526315,
          81.25,
          87.5,
          82.35294117647058,
          92.3076923076923,
          95.23809523809523,
          94.73684210526315,
          93.33333333333333,
          87.5,
          87.5,
          89.47368421052632,
          94.11764705882352,
          92.85714285714286,
          100,
          81.81818181818183,
          63.63636363636363,
          63.63636363636363,
          66.66666666666666,
          58.333333333333336,
          62.5,
          60,
          57.14285714285714,
          70,
          76.47058823529412,
          80,
          82.6086956521739,
          84,
          80,
          81.48148148148148,
          70,
          80.76923076923077,
          84.61538461538461,
          86.95652173913044,
          83.33333333333334,
          80,
          86.95652173913044,
          90.47619047619048,
          77.77777777777779,
          80,
          73.68421052631578,
          82.75862068965517,
          76.19047619047619,
          76.92307692307693
         ],
         "yaxis": "y"
        },
        {
         "hovertemplate": "<b>LOWESS trendline</b><br><br>Country=Cuba<br>x=%{x}<br>y=%{y} <b>(trend)</b><extra></extra>",
         "legendgroup": "Cuba",
         "marker": {
          "color": "#00cc96",
          "symbol": "circle"
         },
         "mode": "lines",
         "name": "Cuba",
         "showlegend": false,
         "type": "scatter",
         "x": [
          1946,
          1948,
          1949,
          1950,
          1952,
          1953,
          1954,
          1955,
          1956,
          1958,
          1959,
          1961,
          1962,
          1965,
          1966,
          1967,
          1969,
          1970,
          1971,
          1972,
          1973,
          1974,
          1975,
          1976,
          1977,
          1978,
          1979,
          1980,
          1981,
          1982,
          1983,
          1984,
          1985,
          1986,
          1987,
          1988,
          1989,
          1990,
          1991,
          1992,
          1993,
          1994,
          1995,
          1996,
          1997,
          1998,
          1999,
          2000,
          2001,
          2002,
          2003,
          2004,
          2005,
          2006,
          2007,
          2008,
          2009,
          2010,
          2011,
          2012,
          2013,
          2014,
          2015,
          2016,
          2017,
          2018,
          2019
         ],
         "xaxis": "x",
         "y": [
          47.97627991112929,
          50.580949616191425,
          51.88155537985709,
          53.1808922828809,
          55.77451808603035,
          57.06812390996466,
          58.35887913094211,
          59.646342976308354,
          60.93023058856213,
          63.4878186110521,
          64.76175034329805,
          67.29954341288922,
          68.56298672346065,
          72.33646464553027,
          73.59207355771493,
          74.8507430149246,
          77.393880516626,
          78.68268545871437,
          79.97521974902587,
          81.0572487957123,
          82.0649355976997,
          82.97246053407092,
          83.7477063740104,
          84.67443062368882,
          85.14219788952022,
          85.43801066833348,
          85.56800010771256,
          85.55313545513656,
          85.41980694297355,
          85.19150958607207,
          84.88906936551531,
          84.81203723236052,
          84.36359096939384,
          83.89467918249458,
          83.47696409816399,
          82.91415746512658,
          82.37502388178508,
          81.86662578195899,
          81.3895740171962,
          80.94976573218652,
          80.55030530188743,
          80.18549249767271,
          79.84950868375869,
          79.5322316382377,
          79.22463332814112,
          78.92135306660275,
          78.94427527676724,
          78.93928722855314,
          78.91973731219778,
          78.89906602563907,
          78.88643834045476,
          78.88722766851433,
          78.9042536874561,
          78.93891912731897,
          78.99194817502497,
          79.06337099461093,
          79.15267695186608,
          79.25887997813139,
          79.38060431850943,
          79.51629117444365,
          79.66432139090277,
          79.82285980878775,
          79.98985821385206,
          80.16340880711957,
          80.34182352490751,
          80.52375044066545,
          80.70797821060052
         ],
         "yaxis": "y"
        }
       ],
       "layout": {
        "autosize": true,
        "legend": {
         "title": {
          "text": "Country"
         },
         "tracegroupgap": 0
        },
        "margin": {
         "t": 60
        },
        "template": {
         "data": {
          "bar": [
           {
            "error_x": {
             "color": "#2a3f5f"
            },
            "error_y": {
             "color": "#2a3f5f"
            },
            "marker": {
             "line": {
              "color": "#E5ECF6",
              "width": 0.5
             },
             "pattern": {
              "fillmode": "overlay",
              "size": 10,
              "solidity": 0.2
             }
            },
            "type": "bar"
           }
          ],
          "barpolar": [
           {
            "marker": {
             "line": {
              "color": "#E5ECF6",
              "width": 0.5
             },
             "pattern": {
              "fillmode": "overlay",
              "size": 10,
              "solidity": 0.2
             }
            },
            "type": "barpolar"
           }
          ],
          "carpet": [
           {
            "aaxis": {
             "endlinecolor": "#2a3f5f",
             "gridcolor": "white",
             "linecolor": "white",
             "minorgridcolor": "white",
             "startlinecolor": "#2a3f5f"
            },
            "baxis": {
             "endlinecolor": "#2a3f5f",
             "gridcolor": "white",
             "linecolor": "white",
             "minorgridcolor": "white",
             "startlinecolor": "#2a3f5f"
            },
            "type": "carpet"
           }
          ],
          "choropleth": [
           {
            "colorbar": {
             "outlinewidth": 0,
             "ticks": ""
            },
            "type": "choropleth"
           }
          ],
          "contour": [
           {
            "colorbar": {
             "outlinewidth": 0,
             "ticks": ""
            },
            "colorscale": [
             [
              0,
              "#0d0887"
             ],
             [
              0.1111111111111111,
              "#46039f"
             ],
             [
              0.2222222222222222,
              "#7201a8"
             ],
             [
              0.3333333333333333,
              "#9c179e"
             ],
             [
              0.4444444444444444,
              "#bd3786"
             ],
             [
              0.5555555555555556,
              "#d8576b"
             ],
             [
              0.6666666666666666,
              "#ed7953"
             ],
             [
              0.7777777777777778,
              "#fb9f3a"
             ],
             [
              0.8888888888888888,
              "#fdca26"
             ],
             [
              1,
              "#f0f921"
             ]
            ],
            "type": "contour"
           }
          ],
          "contourcarpet": [
           {
            "colorbar": {
             "outlinewidth": 0,
             "ticks": ""
            },
            "type": "contourcarpet"
           }
          ],
          "heatmap": [
           {
            "colorbar": {
             "outlinewidth": 0,
             "ticks": ""
            },
            "colorscale": [
             [
              0,
              "#0d0887"
             ],
             [
              0.1111111111111111,
              "#46039f"
             ],
             [
              0.2222222222222222,
              "#7201a8"
             ],
             [
              0.3333333333333333,
              "#9c179e"
             ],
             [
              0.4444444444444444,
              "#bd3786"
             ],
             [
              0.5555555555555556,
              "#d8576b"
             ],
             [
              0.6666666666666666,
              "#ed7953"
             ],
             [
              0.7777777777777778,
              "#fb9f3a"
             ],
             [
              0.8888888888888888,
              "#fdca26"
             ],
             [
              1,
              "#f0f921"
             ]
            ],
            "type": "heatmap"
           }
          ],
          "heatmapgl": [
           {
            "colorbar": {
             "outlinewidth": 0,
             "ticks": ""
            },
            "colorscale": [
             [
              0,
              "#0d0887"
             ],
             [
              0.1111111111111111,
              "#46039f"
             ],
             [
              0.2222222222222222,
              "#7201a8"
             ],
             [
              0.3333333333333333,
              "#9c179e"
             ],
             [
              0.4444444444444444,
              "#bd3786"
             ],
             [
              0.5555555555555556,
              "#d8576b"
             ],
             [
              0.6666666666666666,
              "#ed7953"
             ],
             [
              0.7777777777777778,
              "#fb9f3a"
             ],
             [
              0.8888888888888888,
              "#fdca26"
             ],
             [
              1,
              "#f0f921"
             ]
            ],
            "type": "heatmapgl"
           }
          ],
          "histogram": [
           {
            "marker": {
             "pattern": {
              "fillmode": "overlay",
              "size": 10,
              "solidity": 0.2
             }
            },
            "type": "histogram"
           }
          ],
          "histogram2d": [
           {
            "colorbar": {
             "outlinewidth": 0,
             "ticks": ""
            },
            "colorscale": [
             [
              0,
              "#0d0887"
             ],
             [
              0.1111111111111111,
              "#46039f"
             ],
             [
              0.2222222222222222,
              "#7201a8"
             ],
             [
              0.3333333333333333,
              "#9c179e"
             ],
             [
              0.4444444444444444,
              "#bd3786"
             ],
             [
              0.5555555555555556,
              "#d8576b"
             ],
             [
              0.6666666666666666,
              "#ed7953"
             ],
             [
              0.7777777777777778,
              "#fb9f3a"
             ],
             [
              0.8888888888888888,
              "#fdca26"
             ],
             [
              1,
              "#f0f921"
             ]
            ],
            "type": "histogram2d"
           }
          ],
          "histogram2dcontour": [
           {
            "colorbar": {
             "outlinewidth": 0,
             "ticks": ""
            },
            "colorscale": [
             [
              0,
              "#0d0887"
             ],
             [
              0.1111111111111111,
              "#46039f"
             ],
             [
              0.2222222222222222,
              "#7201a8"
             ],
             [
              0.3333333333333333,
              "#9c179e"
             ],
             [
              0.4444444444444444,
              "#bd3786"
             ],
             [
              0.5555555555555556,
              "#d8576b"
             ],
             [
              0.6666666666666666,
              "#ed7953"
             ],
             [
              0.7777777777777778,
              "#fb9f3a"
             ],
             [
              0.8888888888888888,
              "#fdca26"
             ],
             [
              1,
              "#f0f921"
             ]
            ],
            "type": "histogram2dcontour"
           }
          ],
          "mesh3d": [
           {
            "colorbar": {
             "outlinewidth": 0,
             "ticks": ""
            },
            "type": "mesh3d"
           }
          ],
          "parcoords": [
           {
            "line": {
             "colorbar": {
              "outlinewidth": 0,
              "ticks": ""
             }
            },
            "type": "parcoords"
           }
          ],
          "pie": [
           {
            "automargin": true,
            "type": "pie"
           }
          ],
          "scatter": [
           {
            "fillpattern": {
             "fillmode": "overlay",
             "size": 10,
             "solidity": 0.2
            },
            "type": "scatter"
           }
          ],
          "scatter3d": [
           {
            "line": {
             "colorbar": {
              "outlinewidth": 0,
              "ticks": ""
             }
            },
            "marker": {
             "colorbar": {
              "outlinewidth": 0,
              "ticks": ""
             }
            },
            "type": "scatter3d"
           }
          ],
          "scattercarpet": [
           {
            "marker": {
             "colorbar": {
              "outlinewidth": 0,
              "ticks": ""
             }
            },
            "type": "scattercarpet"
           }
          ],
          "scattergeo": [
           {
            "marker": {
             "colorbar": {
              "outlinewidth": 0,
              "ticks": ""
             }
            },
            "type": "scattergeo"
           }
          ],
          "scattergl": [
           {
            "marker": {
             "colorbar": {
              "outlinewidth": 0,
              "ticks": ""
             }
            },
            "type": "scattergl"
           }
          ],
          "scattermapbox": [
           {
            "marker": {
             "colorbar": {
              "outlinewidth": 0,
              "ticks": ""
             }
            },
            "type": "scattermapbox"
           }
          ],
          "scatterpolar": [
           {
            "marker": {
             "colorbar": {
              "outlinewidth": 0,
              "ticks": ""
             }
            },
            "type": "scatterpolar"
           }
          ],
          "scatterpolargl": [
           {
            "marker": {
             "colorbar": {
              "outlinewidth": 0,
              "ticks": ""
             }
            },
            "type": "scatterpolargl"
           }
          ],
          "scatterternary": [
           {
            "marker": {
             "colorbar": {
              "outlinewidth": 0,
              "ticks": ""
             }
            },
            "type": "scatterternary"
           }
          ],
          "surface": [
           {
            "colorbar": {
             "outlinewidth": 0,
             "ticks": ""
            },
            "colorscale": [
             [
              0,
              "#0d0887"
             ],
             [
              0.1111111111111111,
              "#46039f"
             ],
             [
              0.2222222222222222,
              "#7201a8"
             ],
             [
              0.3333333333333333,
              "#9c179e"
             ],
             [
              0.4444444444444444,
              "#bd3786"
             ],
             [
              0.5555555555555556,
              "#d8576b"
             ],
             [
              0.6666666666666666,
              "#ed7953"
             ],
             [
              0.7777777777777778,
              "#fb9f3a"
             ],
             [
              0.8888888888888888,
              "#fdca26"
             ],
             [
              1,
              "#f0f921"
             ]
            ],
            "type": "surface"
           }
          ],
          "table": [
           {
            "cells": {
             "fill": {
              "color": "#EBF0F8"
             },
             "line": {
              "color": "white"
             }
            },
            "header": {
             "fill": {
              "color": "#C8D4E3"
             },
             "line": {
              "color": "white"
             }
            },
            "type": "table"
           }
          ]
         },
         "layout": {
          "annotationdefaults": {
           "arrowcolor": "#2a3f5f",
           "arrowhead": 0,
           "arrowwidth": 1
          },
          "autotypenumbers": "strict",
          "coloraxis": {
           "colorbar": {
            "outlinewidth": 0,
            "ticks": ""
           }
          },
          "colorscale": {
           "diverging": [
            [
             0,
             "#8e0152"
            ],
            [
             0.1,
             "#c51b7d"
            ],
            [
             0.2,
             "#de77ae"
            ],
            [
             0.3,
             "#f1b6da"
            ],
            [
             0.4,
             "#fde0ef"
            ],
            [
             0.5,
             "#f7f7f7"
            ],
            [
             0.6,
             "#e6f5d0"
            ],
            [
             0.7,
             "#b8e186"
            ],
            [
             0.8,
             "#7fbc41"
            ],
            [
             0.9,
             "#4d9221"
            ],
            [
             1,
             "#276419"
            ]
           ],
           "sequential": [
            [
             0,
             "#0d0887"
            ],
            [
             0.1111111111111111,
             "#46039f"
            ],
            [
             0.2222222222222222,
             "#7201a8"
            ],
            [
             0.3333333333333333,
             "#9c179e"
            ],
            [
             0.4444444444444444,
             "#bd3786"
            ],
            [
             0.5555555555555556,
             "#d8576b"
            ],
            [
             0.6666666666666666,
             "#ed7953"
            ],
            [
             0.7777777777777778,
             "#fb9f3a"
            ],
            [
             0.8888888888888888,
             "#fdca26"
            ],
            [
             1,
             "#f0f921"
            ]
           ],
           "sequentialminus": [
            [
             0,
             "#0d0887"
            ],
            [
             0.1111111111111111,
             "#46039f"
            ],
            [
             0.2222222222222222,
             "#7201a8"
            ],
            [
             0.3333333333333333,
             "#9c179e"
            ],
            [
             0.4444444444444444,
             "#bd3786"
            ],
            [
             0.5555555555555556,
             "#d8576b"
            ],
            [
             0.6666666666666666,
             "#ed7953"
            ],
            [
             0.7777777777777778,
             "#fb9f3a"
            ],
            [
             0.8888888888888888,
             "#fdca26"
            ],
            [
             1,
             "#f0f921"
            ]
           ]
          },
          "colorway": [
           "#636efa",
           "#EF553B",
           "#00cc96",
           "#ab63fa",
           "#FFA15A",
           "#19d3f3",
           "#FF6692",
           "#B6E880",
           "#FF97FF",
           "#FECB52"
          ],
          "font": {
           "color": "#2a3f5f"
          },
          "geo": {
           "bgcolor": "white",
           "lakecolor": "white",
           "landcolor": "#E5ECF6",
           "showlakes": true,
           "showland": true,
           "subunitcolor": "white"
          },
          "hoverlabel": {
           "align": "left"
          },
          "hovermode": "closest",
          "mapbox": {
           "style": "light"
          },
          "paper_bgcolor": "white",
          "plot_bgcolor": "#E5ECF6",
          "polar": {
           "angularaxis": {
            "gridcolor": "white",
            "linecolor": "white",
            "ticks": ""
           },
           "bgcolor": "#E5ECF6",
           "radialaxis": {
            "gridcolor": "white",
            "linecolor": "white",
            "ticks": ""
           }
          },
          "scene": {
           "xaxis": {
            "backgroundcolor": "#E5ECF6",
            "gridcolor": "white",
            "gridwidth": 2,
            "linecolor": "white",
            "showbackground": true,
            "ticks": "",
            "zerolinecolor": "white"
           },
           "yaxis": {
            "backgroundcolor": "#E5ECF6",
            "gridcolor": "white",
            "gridwidth": 2,
            "linecolor": "white",
            "showbackground": true,
            "ticks": "",
            "zerolinecolor": "white"
           },
           "zaxis": {
            "backgroundcolor": "#E5ECF6",
            "gridcolor": "white",
            "gridwidth": 2,
            "linecolor": "white",
            "showbackground": true,
            "ticks": "",
            "zerolinecolor": "white"
           }
          },
          "shapedefaults": {
           "line": {
            "color": "#2a3f5f"
           }
          },
          "ternary": {
           "aaxis": {
            "gridcolor": "white",
            "linecolor": "white",
            "ticks": ""
           },
           "baxis": {
            "gridcolor": "white",
            "linecolor": "white",
            "ticks": ""
           },
           "bgcolor": "#E5ECF6",
           "caxis": {
            "gridcolor": "white",
            "linecolor": "white",
            "ticks": ""
           }
          },
          "title": {
           "x": 0.05
          },
          "xaxis": {
           "automargin": true,
           "gridcolor": "white",
           "linecolor": "white",
           "ticks": "",
           "title": {
            "standoff": 15
           },
           "zerolinecolor": "white",
           "zerolinewidth": 2
          },
          "yaxis": {
           "automargin": true,
           "gridcolor": "white",
           "linecolor": "white",
           "ticks": "",
           "title": {
            "standoff": 15
           },
           "zerolinecolor": "white",
           "zerolinewidth": 2
          }
         }
        },
        "title": {
         "text": "Human rights<br>",
         "x": 0.5,
         "xanchor": "center",
         "y": 0.9,
         "yanchor": "top"
        },
        "xaxis": {
         "anchor": "y",
         "autorange": true,
         "domain": [
          0,
          1
         ],
         "range": [
          1941.3373253493014,
          2023.6626746506986
         ],
         "title": {
          "text": "Year"
         },
         "type": "linear"
        },
        "yaxis": {
         "anchor": "x",
         "autorange": true,
         "domain": [
          0,
          1
         ],
         "range": [
          -7.742782152230971,
          107.74278215223097
         ],
         "title": {
          "text": "% Yes"
         },
         "type": "linear"
        }
       }
      },
      "image/png": "[encoded data removed]",
      "text/html": [
       "<div>                            <div id=\"68331f66-9be0-4fdb-b22a-d1d3de42eb23\" class=\"plotly-graph-div\" style=\"height:525px; width:100%;\"></div>            <script type=\"text/javascript\">                require([\"plotly\"], function(Plotly) {                    window.PLOTLYENV=window.PLOTLYENV || {};                                    if (document.getElementById(\"68331f66-9be0-4fdb-b22a-d1d3de42eb23\")) {                    Plotly.newPlot(                        \"68331f66-9be0-4fdb-b22a-d1d3de42eb23\",                        [{\"hovertemplate\":\"Country=Honduras\\u003cbr\\u003ex=%{x}\\u003cbr\\u003ey=%{y}\\u003cextra\\u003e\\u003c\\u002fextra\\u003e\",\"legendgroup\":\"Honduras\",\"marker\":{\"color\":\"#636efa\",\"symbol\":\"circle\"},\"mode\":\"markers\",\"name\":\"Honduras\",\"orientation\":\"v\",\"showlegend\":true,\"x\":[1946,1948,1949,1950,1952,1953,1954,1955,1956,1958,1959,1961,1962,1965,1966,1967,1968,1969,1970,1971,1972,1973,1974,1975,1976,1977,1978,1979,1980,1981,1982,1983,1984,1985,1986,1987,1988,1989,1990,1991,1992,1993,1994,1995,1996,1997,1998,1999,2000,2001,2002,2003,2004,2006,2005,2007,2008,2009,2010,2011,2012,2013,2014,2015,2016,2017,2018,2019],\"xaxis\":\"x\",\"y\":[50.0,100.0,100.0,0.0,50.0,33.33333333333333,0.0,33.33333333333333,83.33333333333334,100.0,33.33333333333333,0.0,0.0,50.0,100.0,40.0,0.0,75.0,66.66666666666666,77.77777777777779,76.47058823529412,83.33333333333334,60.0,58.82352941176471,50.0,47.368421052631575,40.0,56.25,66.66666666666666,61.53846153846154,64.28571428571429,81.25,80.0,71.42857142857143,85.0,73.68421052631578,83.33333333333334,77.77777777777779,90.0,100.0,90.9090909090909,90.9090909090909,100.0,100.0,93.75,100.0,93.33333333333333,100.0,88.23529411764706,94.73684210526315,95.45454545454545,79.16666666666666,75.0,82.14285714285714,75.0,96.29629629629629,88.46153846153845,89.47368421052632,87.5,80.0,69.56521739130434,76.19047619047619,83.33333333333334,75.0,78.94736842105263,76.66666666666667,77.27272727272727,85.71428571428571],\"yaxis\":\"y\",\"type\":\"scatter\"},{\"hovertemplate\":\"\\u003cb\\u003eLOWESS trendline\\u003c\\u002fb\\u003e\\u003cbr\\u003e\\u003cbr\\u003eCountry=Honduras\\u003cbr\\u003ex=%{x}\\u003cbr\\u003ey=%{y} \\u003cb\\u003e(trend)\\u003c\\u002fb\\u003e\\u003cextra\\u003e\\u003c\\u002fextra\\u003e\",\"legendgroup\":\"Honduras\",\"marker\":{\"color\":\"#636efa\",\"symbol\":\"circle\"},\"mode\":\"lines\",\"name\":\"Honduras\",\"showlegend\":false,\"x\":[1946,1948,1949,1950,1952,1953,1954,1955,1956,1958,1959,1961,1962,1965,1966,1967,1968,1969,1970,1971,1972,1973,1974,1975,1976,1977,1978,1979,1980,1981,1982,1983,1984,1985,1986,1987,1988,1989,1990,1991,1992,1993,1994,1995,1996,1997,1998,1999,2000,2001,2002,2003,2004,2005,2006,2007,2008,2009,2010,2011,2012,2013,2014,2015,2016,2017,2018,2019],\"xaxis\":\"x\",\"y\":[35.21017630880361,37.14322869739065,38.11231259280525,39.08142221810661,41.01501228003364,41.97762526373102,42.93577495711977,43.888400434151976,44.834912845633355,46.708737472361065,47.63503721515013,49.46518063435556,50.370269915145826,53.066135395707896,53.97071398239426,54.89063977668361,55.84032652782024,56.842611458508166,57.92580300883041,59.099005418278075,60.27058892446185,61.47157467549792,62.70337422528921,63.96830004181965,65.23945361165279,66.54645938329229,67.87471676706505,69.21672282410306,70.558408025091,71.88047008259853,73.16702380215128,74.40446967444224,75.56475736898561,76.72346869483715,77.82353492685606,78.97211428237411,80.03557547846619,81.06556093322173,82.07120530391515,83.04853010557805,83.97861277867793,84.83803531555189,85.6030439375281,86.25183697618641,86.76941176028916,87.15256173706791,86.93296872685414,86.68439389176561,86.43438305679047,86.1856174709677,85.93314989084261,85.6716052387068,85.39693904707077,85.10689608396905,84.8006530353449,84.47828339361617,84.14017427773688,83.78657055579662,83.4176558870902,83.03355475115195,82.63439407376052,82.2205296384937,81.79273574776094,81.35200069350896,80.8993089235739,80.43577363569439,79.96256365370479,79.48091046684769],\"yaxis\":\"y\",\"type\":\"scatter\"},{\"hovertemplate\":\"Country=Mexico\\u003cbr\\u003ex=%{x}\\u003cbr\\u003ey=%{y}\\u003cextra\\u003e\\u003c\\u002fextra\\u003e\",\"legendgroup\":\"Mexico\",\"marker\":{\"color\":\"#EF553B\",\"symbol\":\"circle\"},\"mode\":\"markers\",\"name\":\"Mexico\",\"orientation\":\"v\",\"showlegend\":true,\"x\":[1946,1948,1949,1950,1952,1953,1954,1955,1956,1958,1959,1961,1962,1965,1966,1967,1968,1969,1970,1971,1972,1973,1974,1975,1976,1977,1978,1979,1980,1981,1982,1983,1984,1985,1986,1987,1988,1989,1990,1991,1992,1993,1994,1995,1996,1997,1998,1999,2000,2001,2002,2003,2004,2006,2005,2007,2008,2009,2010,2011,2012,2013,2014,2015,2016,2017,2018,2019],\"xaxis\":\"x\",\"y\":[100.0,16.666666666666664,100.0,100.0,100.0,100.0,0.0,33.33333333333333,100.0,100.0,100.0,33.33333333333333,0.0,0.0,100.0,40.0,0.0,60.0,64.28571428571429,75.0,76.47058823529412,95.83333333333334,95.0,90.47619047619048,82.35294117647058,82.35294117647058,75.0,93.75,88.88888888888889,92.3076923076923,100.0,100.0,100.0,100.0,100.0,100.0,100.0,100.0,100.0,100.0,90.9090909090909,90.9090909090909,92.85714285714286,92.85714285714286,94.11764705882352,85.0,88.23529411764706,85.0,94.11764705882352,95.0,100.0,92.0,95.0,78.57142857142857,85.71428571428571,85.18518518518519,84.61538461538461,86.95652173913044,76.0,84.0,86.95652173913044,80.95238095238095,88.88888888888889,85.0,63.1578947368421,66.66666666666666,72.72727272727273,71.42857142857143],\"yaxis\":\"y\",\"type\":\"scatter\"},{\"hovertemplate\":\"\\u003cb\\u003eLOWESS trendline\\u003c\\u002fb\\u003e\\u003cbr\\u003e\\u003cbr\\u003eCountry=Mexico\\u003cbr\\u003ex=%{x}\\u003cbr\\u003ey=%{y} \\u003cb\\u003e(trend)\\u003c\\u002fb\\u003e\\u003cextra\\u003e\\u003c\\u002fextra\\u003e\",\"legendgroup\":\"Mexico\",\"marker\":{\"color\":\"#EF553B\",\"symbol\":\"circle\"},\"mode\":\"lines\",\"name\":\"Mexico\",\"showlegend\":false,\"x\":[1946,1948,1949,1950,1952,1953,1954,1955,1956,1958,1959,1961,1962,1965,1966,1967,1968,1969,1970,1971,1972,1973,1974,1975,1976,1977,1978,1979,1980,1981,1982,1983,1984,1985,1986,1987,1988,1989,1990,1991,1992,1993,1994,1995,1996,1997,1998,1999,2000,2001,2002,2003,2004,2005,2006,2007,2008,2009,2010,2011,2012,2013,2014,2015,2016,2017,2018,2019],\"xaxis\":\"x\",\"y\":[100.46083155203998,99.4926661364498,99.01660091936813,98.54682010192575,97.62905388934327,97.18253133516836,96.74514859774793,96.31743783419267,95.89987255481428,95.09649597677513,94.71077339286866,93.96852441241091,93.60909058496362,92.53991446989995,92.16554392094034,91.76314195853458,91.31273631237683,90.78806894248649,90.16411305065166,89.43689050825552,89.12759586150382,88.89000019632557,88.7615202449451,88.7562439436674,88.52777669699795,88.83665819277216,89.22920934960942,89.6795252029747,90.15807841076833,90.63366088680148,91.08751036016464,91.50511434774477,92.0589313380323,92.41221436813935,92.72202175307747,93.24311443924738,93.46447442950944,93.61769043423004,93.69455794744533,93.69073263055081,93.6087795878205,93.45309196474615,93.22931169031942,92.93910802110159,92.57407954024556,92.1257669834363,91.4650223919437,90.75031737706313,90.00466067890888,89.24392404657361,88.47584175100009,87.70380848837424,86.92911841773548,86.15217228916897,85.37290179122253,84.59119294479218,83.80705951493128,83.02045722856425,82.23122927190468,81.4391199701501,80.64397591599815,79.84555158197021,79.04340955570702,78.23699791110165,77.42548406864444,76.60792589421955,75.7838351316591,74.95317329386397],\"yaxis\":\"y\",\"type\":\"scatter\"},{\"hovertemplate\":\"Country=Cuba\\u003cbr\\u003ex=%{x}\\u003cbr\\u003ey=%{y}\\u003cextra\\u003e\\u003c\\u002fextra\\u003e\",\"legendgroup\":\"Cuba\",\"marker\":{\"color\":\"#00cc96\",\"symbol\":\"circle\"},\"mode\":\"markers\",\"name\":\"Cuba\",\"orientation\":\"v\",\"showlegend\":true,\"x\":[1946,1948,1949,1950,1952,1953,1954,1955,1956,1958,1959,1961,1962,1965,1966,1967,1969,1970,1971,1972,1973,1974,1975,1976,1977,1978,1979,1980,1981,1982,1983,1984,1985,1986,1987,1988,1989,1990,1991,1992,1993,1994,1995,1996,1997,1998,1999,2000,2001,2002,2003,2004,2006,2005,2007,2008,2009,2010,2011,2012,2013,2014,2015,2016,2017,2018,2019],\"xaxis\":\"x\",\"y\":[50.0,16.666666666666664,83.33333333333334,50.0,62.5,50.0,0.0,33.33333333333333,66.66666666666666,100.0,100.0,50.0,100.0,50.0,77.77777777777779,80.0,60.0,58.333333333333336,100.0,81.25,91.66666666666666,100.0,95.23809523809523,100.0,94.73684210526315,81.25,87.5,82.35294117647058,92.3076923076923,95.23809523809523,94.73684210526315,93.33333333333333,87.5,87.5,89.47368421052632,94.11764705882352,92.85714285714286,100.0,81.81818181818183,63.63636363636363,63.63636363636363,66.66666666666666,58.333333333333336,62.5,60.0,57.14285714285714,70.0,76.47058823529412,80.0,82.6086956521739,84.0,80.0,81.48148148148148,70.0,80.76923076923077,84.61538461538461,86.95652173913044,83.33333333333334,80.0,86.95652173913044,90.47619047619048,77.77777777777779,80.0,73.68421052631578,82.75862068965517,76.19047619047619,76.92307692307693],\"yaxis\":\"y\",\"type\":\"scatter\"},{\"hovertemplate\":\"\\u003cb\\u003eLOWESS trendline\\u003c\\u002fb\\u003e\\u003cbr\\u003e\\u003cbr\\u003eCountry=Cuba\\u003cbr\\u003ex=%{x}\\u003cbr\\u003ey=%{y} \\u003cb\\u003e(trend)\\u003c\\u002fb\\u003e\\u003cextra\\u003e\\u003c\\u002fextra\\u003e\",\"legendgroup\":\"Cuba\",\"marker\":{\"color\":\"#00cc96\",\"symbol\":\"circle\"},\"mode\":\"lines\",\"name\":\"Cuba\",\"showlegend\":false,\"x\":[1946,1948,1949,1950,1952,1953,1954,1955,1956,1958,1959,1961,1962,1965,1966,1967,1969,1970,1971,1972,1973,1974,1975,1976,1977,1978,1979,1980,1981,1982,1983,1984,1985,1986,1987,1988,1989,1990,1991,1992,1993,1994,1995,1996,1997,1998,1999,2000,2001,2002,2003,2004,2005,2006,2007,2008,2009,2010,2011,2012,2013,2014,2015,2016,2017,2018,2019],\"xaxis\":\"x\",\"y\":[47.97627991112929,50.580949616191425,51.88155537985709,53.1808922828809,55.77451808603035,57.06812390996466,58.35887913094211,59.646342976308354,60.93023058856213,63.4878186110521,64.76175034329805,67.29954341288922,68.56298672346065,72.33646464553027,73.59207355771493,74.8507430149246,77.393880516626,78.68268545871437,79.97521974902587,81.0572487957123,82.0649355976997,82.97246053407092,83.7477063740104,84.67443062368882,85.14219788952022,85.43801066833348,85.56800010771256,85.55313545513656,85.41980694297355,85.19150958607207,84.88906936551531,84.81203723236052,84.36359096939384,83.89467918249458,83.47696409816399,82.91415746512658,82.37502388178508,81.86662578195899,81.3895740171962,80.94976573218652,80.55030530188743,80.18549249767271,79.84950868375869,79.5322316382377,79.22463332814112,78.92135306660275,78.94427527676724,78.93928722855314,78.91973731219778,78.89906602563907,78.88643834045476,78.88722766851433,78.9042536874561,78.93891912731897,78.99194817502497,79.06337099461093,79.15267695186608,79.25887997813139,79.38060431850943,79.51629117444365,79.66432139090277,79.82285980878775,79.98985821385206,80.16340880711957,80.34182352490751,80.52375044066545,80.70797821060052],\"yaxis\":\"y\",\"type\":\"scatter\"}],                        {\"template\":{\"data\":{\"histogram2dcontour\":[{\"type\":\"histogram2dcontour\",\"colorbar\":{\"outlinewidth\":0,\"ticks\":\"\"},\"colorscale\":[[0.0,\"#0d0887\"],[0.1111111111111111,\"#46039f\"],[0.2222222222222222,\"#7201a8\"],[0.3333333333333333,\"#9c179e\"],[0.4444444444444444,\"#bd3786\"],[0.5555555555555556,\"#d8576b\"],[0.6666666666666666,\"#ed7953\"],[0.7777777777777778,\"#fb9f3a\"],[0.8888888888888888,\"#fdca26\"],[1.0,\"#f0f921\"]]}],\"choropleth\":[{\"type\":\"choropleth\",\"colorbar\":{\"outlinewidth\":0,\"ticks\":\"\"}}],\"histogram2d\":[{\"type\":\"histogram2d\",\"colorbar\":{\"outlinewidth\":0,\"ticks\":\"\"},\"colorscale\":[[0.0,\"#0d0887\"],[0.1111111111111111,\"#46039f\"],[0.2222222222222222,\"#7201a8\"],[0.3333333333333333,\"#9c179e\"],[0.4444444444444444,\"#bd3786\"],[0.5555555555555556,\"#d8576b\"],[0.6666666666666666,\"#ed7953\"],[0.7777777777777778,\"#fb9f3a\"],[0.8888888888888888,\"#fdca26\"],[1.0,\"#f0f921\"]]}],\"heatmap\":[{\"type\":\"heatmap\",\"colorbar\":{\"outlinewidth\":0,\"ticks\":\"\"},\"colorscale\":[[0.0,\"#0d0887\"],[0.1111111111111111,\"#46039f\"],[0.2222222222222222,\"#7201a8\"],[0.3333333333333333,\"#9c179e\"],[0.4444444444444444,\"#bd3786\"],[0.5555555555555556,\"#d8576b\"],[0.6666666666666666,\"#ed7953\"],[0.7777777777777778,\"#fb9f3a\"],[0.8888888888888888,\"#fdca26\"],[1.0,\"#f0f921\"]]}],\"heatmapgl\":[{\"type\":\"heatmapgl\",\"colorbar\":{\"outlinewidth\":0,\"ticks\":\"\"},\"colorscale\":[[0.0,\"#0d0887\"],[0.1111111111111111,\"#46039f\"],[0.2222222222222222,\"#7201a8\"],[0.3333333333333333,\"#9c179e\"],[0.4444444444444444,\"#bd3786\"],[0.5555555555555556,\"#d8576b\"],[0.6666666666666666,\"#ed7953\"],[0.7777777777777778,\"#fb9f3a\"],[0.8888888888888888,\"#fdca26\"],[1.0,\"#f0f921\"]]}],\"contourcarpet\":[{\"type\":\"contourcarpet\",\"colorbar\":{\"outlinewidth\":0,\"ticks\":\"\"}}],\"contour\":[{\"type\":\"contour\",\"colorbar\":{\"outlinewidth\":0,\"ticks\":\"\"},\"colorscale\":[[0.0,\"#0d0887\"],[0.1111111111111111,\"#46039f\"],[0.2222222222222222,\"#7201a8\"],[0.3333333333333333,\"#9c179e\"],[0.4444444444444444,\"#bd3786\"],[0.5555555555555556,\"#d8576b\"],[0.6666666666666666,\"#ed7953\"],[0.7777777777777778,\"#fb9f3a\"],[0.8888888888888888,\"#fdca26\"],[1.0,\"#f0f921\"]]}],\"surface\":[{\"type\":\"surface\",\"colorbar\":{\"outlinewidth\":0,\"ticks\":\"\"},\"colorscale\":[[0.0,\"#0d0887\"],[0.1111111111111111,\"#46039f\"],[0.2222222222222222,\"#7201a8\"],[0.3333333333333333,\"#9c179e\"],[0.4444444444444444,\"#bd3786\"],[0.5555555555555556,\"#d8576b\"],[0.6666666666666666,\"#ed7953\"],[0.7777777777777778,\"#fb9f3a\"],[0.8888888888888888,\"#fdca26\"],[1.0,\"#f0f921\"]]}],\"mesh3d\":[{\"type\":\"mesh3d\",\"colorbar\":{\"outlinewidth\":0,\"ticks\":\"\"}}],\"scatter\":[{\"fillpattern\":{\"fillmode\":\"overlay\",\"size\":10,\"solidity\":0.2},\"type\":\"scatter\"}],\"parcoords\":[{\"type\":\"parcoords\",\"line\":{\"colorbar\":{\"outlinewidth\":0,\"ticks\":\"\"}}}],\"scatterpolargl\":[{\"type\":\"scatterpolargl\",\"marker\":{\"colorbar\":{\"outlinewidth\":0,\"ticks\":\"\"}}}],\"bar\":[{\"error_x\":{\"color\":\"#2a3f5f\"},\"error_y\":{\"color\":\"#2a3f5f\"},\"marker\":{\"line\":{\"color\":\"#E5ECF6\",\"width\":0.5},\"pattern\":{\"fillmode\":\"overlay\",\"size\":10,\"solidity\":0.2}},\"type\":\"bar\"}],\"scattergeo\":[{\"type\":\"scattergeo\",\"marker\":{\"colorbar\":{\"outlinewidth\":0,\"ticks\":\"\"}}}],\"scatterpolar\":[{\"type\":\"scatterpolar\",\"marker\":{\"colorbar\":{\"outlinewidth\":0,\"ticks\":\"\"}}}],\"histogram\":[{\"marker\":{\"pattern\":{\"fillmode\":\"overlay\",\"size\":10,\"solidity\":0.2}},\"type\":\"histogram\"}],\"scattergl\":[{\"type\":\"scattergl\",\"marker\":{\"colorbar\":{\"outlinewidth\":0,\"ticks\":\"\"}}}],\"scatter3d\":[{\"type\":\"scatter3d\",\"line\":{\"colorbar\":{\"outlinewidth\":0,\"ticks\":\"\"}},\"marker\":{\"colorbar\":{\"outlinewidth\":0,\"ticks\":\"\"}}}],\"scattermapbox\":[{\"type\":\"scattermapbox\",\"marker\":{\"colorbar\":{\"outlinewidth\":0,\"ticks\":\"\"}}}],\"scatterternary\":[{\"type\":\"scatterternary\",\"marker\":{\"colorbar\":{\"outlinewidth\":0,\"ticks\":\"\"}}}],\"scattercarpet\":[{\"type\":\"scattercarpet\",\"marker\":{\"colorbar\":{\"outlinewidth\":0,\"ticks\":\"\"}}}],\"carpet\":[{\"aaxis\":{\"endlinecolor\":\"#2a3f5f\",\"gridcolor\":\"white\",\"linecolor\":\"white\",\"minorgridcolor\":\"white\",\"startlinecolor\":\"#2a3f5f\"},\"baxis\":{\"endlinecolor\":\"#2a3f5f\",\"gridcolor\":\"white\",\"linecolor\":\"white\",\"minorgridcolor\":\"white\",\"startlinecolor\":\"#2a3f5f\"},\"type\":\"carpet\"}],\"table\":[{\"cells\":{\"fill\":{\"color\":\"#EBF0F8\"},\"line\":{\"color\":\"white\"}},\"header\":{\"fill\":{\"color\":\"#C8D4E3\"},\"line\":{\"color\":\"white\"}},\"type\":\"table\"}],\"barpolar\":[{\"marker\":{\"line\":{\"color\":\"#E5ECF6\",\"width\":0.5},\"pattern\":{\"fillmode\":\"overlay\",\"size\":10,\"solidity\":0.2}},\"type\":\"barpolar\"}],\"pie\":[{\"automargin\":true,\"type\":\"pie\"}]},\"layout\":{\"autotypenumbers\":\"strict\",\"colorway\":[\"#636efa\",\"#EF553B\",\"#00cc96\",\"#ab63fa\",\"#FFA15A\",\"#19d3f3\",\"#FF6692\",\"#B6E880\",\"#FF97FF\",\"#FECB52\"],\"font\":{\"color\":\"#2a3f5f\"},\"hovermode\":\"closest\",\"hoverlabel\":{\"align\":\"left\"},\"paper_bgcolor\":\"white\",\"plot_bgcolor\":\"#E5ECF6\",\"polar\":{\"bgcolor\":\"#E5ECF6\",\"angularaxis\":{\"gridcolor\":\"white\",\"linecolor\":\"white\",\"ticks\":\"\"},\"radialaxis\":{\"gridcolor\":\"white\",\"linecolor\":\"white\",\"ticks\":\"\"}},\"ternary\":{\"bgcolor\":\"#E5ECF6\",\"aaxis\":{\"gridcolor\":\"white\",\"linecolor\":\"white\",\"ticks\":\"\"},\"baxis\":{\"gridcolor\":\"white\",\"linecolor\":\"white\",\"ticks\":\"\"},\"caxis\":{\"gridcolor\":\"white\",\"linecolor\":\"white\",\"ticks\":\"\"}},\"coloraxis\":{\"colorbar\":{\"outlinewidth\":0,\"ticks\":\"\"}},\"colorscale\":{\"sequential\":[[0.0,\"#0d0887\"],[0.1111111111111111,\"#46039f\"],[0.2222222222222222,\"#7201a8\"],[0.3333333333333333,\"#9c179e\"],[0.4444444444444444,\"#bd3786\"],[0.5555555555555556,\"#d8576b\"],[0.6666666666666666,\"#ed7953\"],[0.7777777777777778,\"#fb9f3a\"],[0.8888888888888888,\"#fdca26\"],[1.0,\"#f0f921\"]],\"sequentialminus\":[[0.0,\"#0d0887\"],[0.1111111111111111,\"#46039f\"],[0.2222222222222222,\"#7201a8\"],[0.3333333333333333,\"#9c179e\"],[0.4444444444444444,\"#bd3786\"],[0.5555555555555556,\"#d8576b\"],[0.6666666666666666,\"#ed7953\"],[0.7777777777777778,\"#fb9f3a\"],[0.8888888888888888,\"#fdca26\"],[1.0,\"#f0f921\"]],\"diverging\":[[0,\"#8e0152\"],[0.1,\"#c51b7d\"],[0.2,\"#de77ae\"],[0.3,\"#f1b6da\"],[0.4,\"#fde0ef\"],[0.5,\"#f7f7f7\"],[0.6,\"#e6f5d0\"],[0.7,\"#b8e186\"],[0.8,\"#7fbc41\"],[0.9,\"#4d9221\"],[1,\"#276419\"]]},\"xaxis\":{\"gridcolor\":\"white\",\"linecolor\":\"white\",\"ticks\":\"\",\"title\":{\"standoff\":15},\"zerolinecolor\":\"white\",\"automargin\":true,\"zerolinewidth\":2},\"yaxis\":{\"gridcolor\":\"white\",\"linecolor\":\"white\",\"ticks\":\"\",\"title\":{\"standoff\":15},\"zerolinecolor\":\"white\",\"automargin\":true,\"zerolinewidth\":2},\"scene\":{\"xaxis\":{\"backgroundcolor\":\"#E5ECF6\",\"gridcolor\":\"white\",\"linecolor\":\"white\",\"showbackground\":true,\"ticks\":\"\",\"zerolinecolor\":\"white\",\"gridwidth\":2},\"yaxis\":{\"backgroundcolor\":\"#E5ECF6\",\"gridcolor\":\"white\",\"linecolor\":\"white\",\"showbackground\":true,\"ticks\":\"\",\"zerolinecolor\":\"white\",\"gridwidth\":2},\"zaxis\":{\"backgroundcolor\":\"#E5ECF6\",\"gridcolor\":\"white\",\"linecolor\":\"white\",\"showbackground\":true,\"ticks\":\"\",\"zerolinecolor\":\"white\",\"gridwidth\":2}},\"shapedefaults\":{\"line\":{\"color\":\"#2a3f5f\"}},\"annotationdefaults\":{\"arrowcolor\":\"#2a3f5f\",\"arrowhead\":0,\"arrowwidth\":1},\"geo\":{\"bgcolor\":\"white\",\"landcolor\":\"#E5ECF6\",\"subunitcolor\":\"white\",\"showland\":true,\"showlakes\":true,\"lakecolor\":\"white\"},\"title\":{\"x\":0.05},\"mapbox\":{\"style\":\"light\"}}},\"xaxis\":{\"anchor\":\"y\",\"domain\":[0.0,1.0],\"title\":{\"text\":\"Year\"}},\"yaxis\":{\"anchor\":\"x\",\"domain\":[0.0,1.0],\"title\":{\"text\":\"% Yes\"}},\"legend\":{\"title\":{\"text\":\"Country\"},\"tracegroupgap\":0},\"margin\":{\"t\":60},\"title\":{\"text\":\"Human rights\\u003cbr\\u003e\",\"y\":0.9,\"x\":0.5,\"xanchor\":\"center\",\"yanchor\":\"top\"}},                        {\"responsive\": true}                    ).then(function(){\n",
       "                            \n",
       "var gd = document.getElementById('68331f66-9be0-4fdb-b22a-d1d3de42eb23');\n",
       "var x = new MutationObserver(function (mutations, observer) {{\n",
       "        var display = window.getComputedStyle(gd).display;\n",
       "        if (!display || display === 'none') {{\n",
       "            console.log([gd, 'removed!']);\n",
       "            Plotly.purge(gd);\n",
       "            observer.disconnect();\n",
       "        }}\n",
       "}});\n",
       "\n",
       "// Listen for the removal of the full notebook cells\n",
       "var notebookContainer = gd.closest('#notebook-container');\n",
       "if (notebookContainer) {{\n",
       "    x.observe(notebookContainer, {childList: true});\n",
       "}}\n",
       "\n",
       "// Listen for the clearing of the current output cell\n",
       "var outputEl = gd.closest('.output');\n",
       "if (outputEl) {{\n",
       "    x.observe(outputEl, {childList: true});\n",
       "}}\n",
       "\n",
       "                        })                };                });            </script>        </div>"
      ]
     },
     "metadata": {},
     "output_type": "display_data"
    },
    {
     "data": {
      "application/vnd.plotly.v1+json": {
       "config": {
        "plotlyServerURL": "https://plot.ly"
       },
       "data": [
        {
         "hovertemplate": "Country=Honduras<br>x=%{x}<br>y=%{y}<extra></extra>",
         "legendgroup": "Honduras",
         "marker": {
          "color": "#636efa",
          "symbol": "circle"
         },
         "mode": "markers",
         "name": "Honduras",
         "orientation": "v",
         "showlegend": true,
         "type": "scatter",
         "x": [
          1946,
          1947,
          1948,
          1949,
          1950,
          1952,
          1953,
          1954,
          1955,
          1957,
          1958,
          1959,
          1962,
          1963,
          1966,
          1967,
          1968,
          1969,
          1970,
          1971,
          1972,
          1973,
          1974,
          1975,
          1976,
          1977,
          1979,
          1978,
          1980,
          1981,
          1982,
          1983,
          1984,
          1985,
          1986,
          1987,
          1988,
          1989,
          1990,
          1991,
          1992,
          1993,
          1994,
          1995,
          1996,
          1997,
          1998,
          1999,
          2000,
          2001,
          2002,
          2003,
          2004,
          2005,
          2006,
          2007,
          2008,
          2009,
          2010,
          2011,
          2012,
          2013,
          2014,
          2015,
          2016,
          2017,
          2018,
          2019
         ],
         "xaxis": "x",
         "y": [
          71.42857142857143,
          50,
          75,
          50,
          0,
          100,
          100,
          0,
          100,
          100,
          80,
          83.33333333333334,
          40,
          100,
          66.66666666666666,
          83.33333333333334,
          60,
          100,
          88.88888888888889,
          96.29629629629629,
          88.46153846153845,
          94.44444444444444,
          66.66666666666666,
          81.81818181818183,
          100,
          95.65217391304348,
          92,
          81.81818181818183,
          86.66666666666667,
          94.44444444444444,
          96,
          83.33333333333334,
          94.73684210526315,
          95.65217391304348,
          94.44444444444444,
          90,
          82.35294117647058,
          100,
          83.33333333333334,
          100,
          83.33333333333334,
          100,
          100,
          100,
          100,
          100,
          100,
          100,
          100,
          100,
          100,
          100,
          100,
          100,
          100,
          100,
          92.3076923076923,
          100,
          100,
          100,
          100,
          100,
          100,
          100,
          85.71428571428571,
          95,
          94.44444444444444,
          100
         ],
         "yaxis": "y"
        },
        {
         "hovertemplate": "<b>LOWESS trendline</b><br><br>Country=Honduras<br>x=%{x}<br>y=%{y} <b>(trend)</b><extra></extra>",
         "legendgroup": "Honduras",
         "marker": {
          "color": "#636efa",
          "symbol": "circle"
         },
         "mode": "lines",
         "name": "Honduras",
         "showlegend": false,
         "type": "scatter",
         "x": [
          1946,
          1947,
          1948,
          1949,
          1950,
          1952,
          1953,
          1954,
          1955,
          1957,
          1958,
          1959,
          1962,
          1963,
          1966,
          1967,
          1968,
          1969,
          1970,
          1971,
          1972,
          1973,
          1974,
          1975,
          1976,
          1977,
          1978,
          1979,
          1980,
          1981,
          1982,
          1983,
          1984,
          1985,
          1986,
          1987,
          1988,
          1989,
          1990,
          1991,
          1992,
          1993,
          1994,
          1995,
          1996,
          1997,
          1998,
          1999,
          2000,
          2001,
          2002,
          2003,
          2004,
          2005,
          2006,
          2007,
          2008,
          2009,
          2010,
          2011,
          2012,
          2013,
          2014,
          2015,
          2016,
          2017,
          2018,
          2019
         ],
         "xaxis": "x",
         "y": [
          71.97660823928332,
          72.6478272139108,
          73.31502395048146,
          73.97818849140134,
          74.63733123376241,
          75.94428298515781,
          76.59264049865274,
          77.23805593460322,
          77.88097795769971,
          79.16163936062914,
          79.80085276557152,
          80.44058652924214,
          82.37578335066848,
          83.0320094309433,
          85.07217976978556,
          85.78508379373841,
          86.51077179024458,
          87.22697292390967,
          87.88170908862799,
          88.41702230157739,
          88.81803677290122,
          89.19410114799807,
          89.55889330072942,
          89.91989386398328,
          90.28034375434353,
          90.64248811312719,
          91.00714616705976,
          91.37397153294621,
          91.74251005591879,
          92.09552511307903,
          92.46018315886397,
          92.82858279286398,
          93.19764643556445,
          93.53252792561344,
          93.8935793501145,
          94.2450390458946,
          94.55585983769213,
          94.90151572953117,
          95.24479024827758,
          95.58481459109632,
          95.91921953289489,
          96.24597579491686,
          96.56364640805032,
          96.87195431336772,
          97.1687969043378,
          97.45181867372304,
          97.61460181832436,
          97.74485839022599,
          97.85852358958753,
          97.96374745420607,
          98.06341705236699,
          98.158312326858,
          98.24850578888739,
          98.33385529049903,
          98.41415992708453,
          98.48920503893339,
          98.55877361974807,
          98.62269509009086,
          98.68096535895208,
          98.73357915274391,
          98.7804886276457,
          98.82161012791957,
          98.85682796688072,
          98.8859958772923,
          98.90893649772991,
          98.9255009094472,
          98.93578606603117,
          98.94010221964564
         ],
         "yaxis": "y"
        },
        {
         "hovertemplate": "Country=Mexico<br>x=%{x}<br>y=%{y}<extra></extra>",
         "legendgroup": "Mexico",
         "marker": {
          "color": "#EF553B",
          "symbol": "circle"
         },
         "mode": "markers",
         "name": "Mexico",
         "orientation": "v",
         "showlegend": true,
         "type": "scatter",
         "x": [
          1946,
          1947,
          1948,
          1949,
          1950,
          1952,
          1953,
          1954,
          1955,
          1956,
          1957,
          1958,
          1959,
          1961,
          1962,
          1963,
          1966,
          1967,
          1968,
          1969,
          1970,
          1971,
          1972,
          1973,
          1974,
          1975,
          1976,
          1977,
          1979,
          1978,
          1980,
          1981,
          1982,
          1983,
          1984,
          1985,
          1986,
          1987,
          1988,
          1989,
          1990,
          1991,
          1992,
          1993,
          1994,
          1995,
          1996,
          1997,
          1998,
          1999,
          2000,
          2001,
          2002,
          2003,
          2004,
          2005,
          2006,
          2007,
          2008,
          2009,
          2010,
          2011,
          2012,
          2013,
          2014,
          2015,
          2016,
          2017,
          2018,
          2019
         ],
         "xaxis": "x",
         "y": [
          62.5,
          50,
          37.5,
          42.857142857142854,
          0,
          66.66666666666666,
          100,
          0,
          100,
          0,
          50,
          60,
          50,
          40,
          50,
          100,
          66.66666666666666,
          83.33333333333334,
          66.66666666666666,
          100,
          100,
          96.15384615384616,
          86.20689655172413,
          95,
          100,
          100,
          96.29629629629629,
          100,
          100,
          100,
          93.75,
          100,
          96.42857142857143,
          96,
          100,
          100,
          100,
          100,
          94.44444444444444,
          100,
          100,
          100,
          100,
          83.33333333333334,
          100,
          100,
          100,
          100,
          100,
          100,
          100,
          100,
          100,
          100,
          100,
          100,
          88.88888888888889,
          91.66666666666666,
          92.3076923076923,
          91.66666666666666,
          71.42857142857143,
          77.77777777777779,
          91.66666666666666,
          100,
          100,
          100,
          92.85714285714286,
          95,
          100,
          93.75
         ],
         "yaxis": "y"
        },
        {
         "hovertemplate": "<b>LOWESS trendline</b><br><br>Country=Mexico<br>x=%{x}<br>y=%{y} <b>(trend)</b><extra></extra>",
         "legendgroup": "Mexico",
         "marker": {
          "color": "#EF553B",
          "symbol": "circle"
         },
         "mode": "lines",
         "name": "Mexico",
         "showlegend": false,
         "type": "scatter",
         "x": [
          1946,
          1947,
          1948,
          1949,
          1950,
          1952,
          1953,
          1954,
          1955,
          1956,
          1957,
          1958,
          1959,
          1961,
          1962,
          1963,
          1966,
          1967,
          1968,
          1969,
          1970,
          1971,
          1972,
          1973,
          1974,
          1975,
          1976,
          1977,
          1978,
          1979,
          1980,
          1981,
          1982,
          1983,
          1984,
          1985,
          1986,
          1987,
          1988,
          1989,
          1990,
          1991,
          1992,
          1993,
          1994,
          1995,
          1996,
          1997,
          1998,
          1999,
          2000,
          2001,
          2002,
          2003,
          2004,
          2005,
          2006,
          2007,
          2008,
          2009,
          2010,
          2011,
          2012,
          2013,
          2014,
          2015,
          2016,
          2017,
          2018,
          2019
         ],
         "xaxis": "x",
         "y": [
          38.74154467033093,
          40.54760770877078,
          42.355254157876566,
          44.16381777413031,
          45.97272318633551,
          49.58952607897785,
          51.39624742774576,
          53.20064392971835,
          55.00157356423009,
          56.79780668690595,
          58.588020491961444,
          60.37087689491145,
          62.145311205761566,
          65.66589842857708,
          67.41158072491898,
          69.14789160692865,
          74.32179868735862,
          76.05181778088523,
          77.80244554575823,
          79.59063212294704,
          81.42807215749389,
          83.12762969895815,
          84.7677176404233,
          86.33327310302751,
          87.82508289206055,
          89.2435709305778,
          90.92645111374941,
          92.1751691514413,
          93.29171913214985,
          94.2621610784768,
          95.08300766070624,
          95.76751128405792,
          96.34532663610858,
          96.84333375552171,
          97.27560801895976,
          97.64332168125947,
          97.945374230898,
          98.18194928044083,
          98.46416872306881,
          98.55204917396372,
          98.58803870719427,
          98.58133271586784,
          98.54008586140856,
          98.4689889252779,
          98.37382992448474,
          98.26210562368834,
          98.14226742881502,
          98.02054002014367,
          97.8631776047124,
          97.72677181199278,
          97.60213369199904,
          97.48314778525345,
          97.36615079913467,
          97.24888698289163,
          97.12987513309623,
          97.00808102813377,
          96.8827464665352,
          96.75335985317635,
          96.61981382130574,
          96.48230012542663,
          96.34121353450645,
          96.19709027003198,
          96.05051192263068,
          95.9021893490981,
          95.75289864304291,
          95.60324355284331,
          95.45360448903422,
          95.30419542057066,
          95.15525767110245,
          95.00699729578018
         ],
         "yaxis": "y"
        },
        {
         "hovertemplate": "Country=Cuba<br>x=%{x}<br>y=%{y}<extra></extra>",
         "legendgroup": "Cuba",
         "marker": {
          "color": "#00cc96",
          "symbol": "circle"
         },
         "mode": "markers",
         "name": "Cuba",
         "orientation": "v",
         "showlegend": true,
         "type": "scatter",
         "x": [
          1946,
          1947,
          1948,
          1949,
          1950,
          1952,
          1953,
          1954,
          1955,
          1956,
          1957,
          1958,
          1959,
          1961,
          1962,
          1963,
          1966,
          1967,
          1968,
          1969,
          1970,
          1971,
          1972,
          1973,
          1974,
          1975,
          1976,
          1977,
          1979,
          1978,
          1980,
          1981,
          1982,
          1983,
          1984,
          1985,
          1986,
          1987,
          1988,
          1989,
          1990,
          1991,
          1992,
          1993,
          1994,
          1995,
          1996,
          1997,
          1998,
          1999,
          2000,
          2001,
          2002,
          2003,
          2004,
          2005,
          2006,
          2007,
          2008,
          2009,
          2010,
          2011,
          2012,
          2013,
          2014,
          2015,
          2016,
          2017,
          2018,
          2019
         ],
         "xaxis": "x",
         "y": [
          70,
          50,
          37.5,
          28.57142857142857,
          0,
          100,
          100,
          100,
          100,
          0,
          100,
          80,
          66.66666666666666,
          36.36363636363637,
          16.666666666666664,
          0,
          75,
          66.66666666666666,
          25,
          50,
          44.44444444444444,
          62.96296296296296,
          53.84615384615385,
          61.111111111111114,
          71.42857142857143,
          54.54545454545454,
          91.30434782608695,
          60.86956521739131,
          84,
          65.21739130434783,
          71.42857142857143,
          85.71428571428571,
          84.61538461538461,
          96,
          95,
          84,
          90,
          100,
          94.44444444444444,
          94.73684210526315,
          100,
          100,
          100,
          100,
          100,
          100,
          100,
          100,
          83.33333333333334,
          100,
          100,
          100,
          100,
          100,
          100,
          100,
          100,
          100,
          100,
          83.33333333333334,
          85.71428571428571,
          75,
          75,
          71.42857142857143,
          72.72727272727273,
          75,
          64.28571428571429,
          75,
          77.77777777777779,
          87.5
         ],
         "yaxis": "y"
        },
        {
         "hovertemplate": "<b>LOWESS trendline</b><br><br>Country=Cuba<br>x=%{x}<br>y=%{y} <b>(trend)</b><extra></extra>",
         "legendgroup": "Cuba",
         "marker": {
          "color": "#00cc96",
          "symbol": "circle"
         },
         "mode": "lines",
         "name": "Cuba",
         "showlegend": false,
         "type": "scatter",
         "x": [
          1946,
          1947,
          1948,
          1949,
          1950,
          1952,
          1953,
          1954,
          1955,
          1956,
          1957,
          1958,
          1959,
          1961,
          1962,
          1963,
          1966,
          1967,
          1968,
          1969,
          1970,
          1971,
          1972,
          1973,
          1974,
          1975,
          1976,
          1977,
          1978,
          1979,
          1980,
          1981,
          1982,
          1983,
          1984,
          1985,
          1986,
          1987,
          1988,
          1989,
          1990,
          1991,
          1992,
          1993,
          1994,
          1995,
          1996,
          1997,
          1998,
          1999,
          2000,
          2001,
          2002,
          2003,
          2004,
          2005,
          2006,
          2007,
          2008,
          2009,
          2010,
          2011,
          2012,
          2013,
          2014,
          2015,
          2016,
          2017,
          2018,
          2019
         ],
         "xaxis": "x",
         "y": [
          53.12504931780413,
          53.60736599740309,
          54.09180560413969,
          54.57839524811117,
          55.06805767803615,
          56.064675184478816,
          56.576310374526436,
          57.0997833351234,
          57.636890830546236,
          58.18899427322353,
          58.75701736410465,
          59.34163229853409,
          59.9428193180954,
          61.189047750252875,
          61.82848415905651,
          62.47376804590888,
          64.3765186700008,
          64.95801704138393,
          65.47941894271428,
          65.92185423509352,
          66.29476226527463,
          67.03218859685063,
          67.86404989452821,
          68.80221440651518,
          69.85484321326821,
          71.02143639779105,
          72.00840681990522,
          73.4460284063411,
          74.95569312570149,
          76.51165675028246,
          78.09022945214,
          79.66824367411569,
          81.2194800698169,
          82.72204403646472,
          84.16757524225815,
          85.5587242011939,
          86.89917988230607,
          88.18513082836719,
          89.77014481215424,
          90.93781699002126,
          91.99125737686559,
          92.91000839416631,
          93.67895146525554,
          94.28753258474359,
          94.72880089210899,
          94.99821133475258,
          95.09733502162636,
          95.03353587329603,
          94.32113292533931,
          93.58015246196867,
          92.84809092548767,
          92.13074781709545,
          91.42418559580095,
          90.72293412940252,
          90.02208026193276,
          89.31753431943177,
          88.60588010928069,
          87.88418380947408,
          87.1498391074406,
          86.40045170205101,
          85.63384548773419,
          84.84831890082313,
          84.0426134775417,
          83.21604108703788,
          82.36846039523982,
          81.5002573654741,
          80.61224383147504,
          79.70558552103167,
          78.78190044519492,
          77.84297737355652
         ],
         "yaxis": "y"
        }
       ],
       "layout": {
        "autosize": true,
        "legend": {
         "title": {
          "text": "Country"
         },
         "tracegroupgap": 0
        },
        "margin": {
         "t": 60
        },
        "template": {
         "data": {
          "bar": [
           {
            "error_x": {
             "color": "#2a3f5f"
            },
            "error_y": {
             "color": "#2a3f5f"
            },
            "marker": {
             "line": {
              "color": "#E5ECF6",
              "width": 0.5
             },
             "pattern": {
              "fillmode": "overlay",
              "size": 10,
              "solidity": 0.2
             }
            },
            "type": "bar"
           }
          ],
          "barpolar": [
           {
            "marker": {
             "line": {
              "color": "#E5ECF6",
              "width": 0.5
             },
             "pattern": {
              "fillmode": "overlay",
              "size": 10,
              "solidity": 0.2
             }
            },
            "type": "barpolar"
           }
          ],
          "carpet": [
           {
            "aaxis": {
             "endlinecolor": "#2a3f5f",
             "gridcolor": "white",
             "linecolor": "white",
             "minorgridcolor": "white",
             "startlinecolor": "#2a3f5f"
            },
            "baxis": {
             "endlinecolor": "#2a3f5f",
             "gridcolor": "white",
             "linecolor": "white",
             "minorgridcolor": "white",
             "startlinecolor": "#2a3f5f"
            },
            "type": "carpet"
           }
          ],
          "choropleth": [
           {
            "colorbar": {
             "outlinewidth": 0,
             "ticks": ""
            },
            "type": "choropleth"
           }
          ],
          "contour": [
           {
            "colorbar": {
             "outlinewidth": 0,
             "ticks": ""
            },
            "colorscale": [
             [
              0,
              "#0d0887"
             ],
             [
              0.1111111111111111,
              "#46039f"
             ],
             [
              0.2222222222222222,
              "#7201a8"
             ],
             [
              0.3333333333333333,
              "#9c179e"
             ],
             [
              0.4444444444444444,
              "#bd3786"
             ],
             [
              0.5555555555555556,
              "#d8576b"
             ],
             [
              0.6666666666666666,
              "#ed7953"
             ],
             [
              0.7777777777777778,
              "#fb9f3a"
             ],
             [
              0.8888888888888888,
              "#fdca26"
             ],
             [
              1,
              "#f0f921"
             ]
            ],
            "type": "contour"
           }
          ],
          "contourcarpet": [
           {
            "colorbar": {
             "outlinewidth": 0,
             "ticks": ""
            },
            "type": "contourcarpet"
           }
          ],
          "heatmap": [
           {
            "colorbar": {
             "outlinewidth": 0,
             "ticks": ""
            },
            "colorscale": [
             [
              0,
              "#0d0887"
             ],
             [
              0.1111111111111111,
              "#46039f"
             ],
             [
              0.2222222222222222,
              "#7201a8"
             ],
             [
              0.3333333333333333,
              "#9c179e"
             ],
             [
              0.4444444444444444,
              "#bd3786"
             ],
             [
              0.5555555555555556,
              "#d8576b"
             ],
             [
              0.6666666666666666,
              "#ed7953"
             ],
             [
              0.7777777777777778,
              "#fb9f3a"
             ],
             [
              0.8888888888888888,
              "#fdca26"
             ],
             [
              1,
              "#f0f921"
             ]
            ],
            "type": "heatmap"
           }
          ],
          "heatmapgl": [
           {
            "colorbar": {
             "outlinewidth": 0,
             "ticks": ""
            },
            "colorscale": [
             [
              0,
              "#0d0887"
             ],
             [
              0.1111111111111111,
              "#46039f"
             ],
             [
              0.2222222222222222,
              "#7201a8"
             ],
             [
              0.3333333333333333,
              "#9c179e"
             ],
             [
              0.4444444444444444,
              "#bd3786"
             ],
             [
              0.5555555555555556,
              "#d8576b"
             ],
             [
              0.6666666666666666,
              "#ed7953"
             ],
             [
              0.7777777777777778,
              "#fb9f3a"
             ],
             [
              0.8888888888888888,
              "#fdca26"
             ],
             [
              1,
              "#f0f921"
             ]
            ],
            "type": "heatmapgl"
           }
          ],
          "histogram": [
           {
            "marker": {
             "pattern": {
              "fillmode": "overlay",
              "size": 10,
              "solidity": 0.2
             }
            },
            "type": "histogram"
           }
          ],
          "histogram2d": [
           {
            "colorbar": {
             "outlinewidth": 0,
             "ticks": ""
            },
            "colorscale": [
             [
              0,
              "#0d0887"
             ],
             [
              0.1111111111111111,
              "#46039f"
             ],
             [
              0.2222222222222222,
              "#7201a8"
             ],
             [
              0.3333333333333333,
              "#9c179e"
             ],
             [
              0.4444444444444444,
              "#bd3786"
             ],
             [
              0.5555555555555556,
              "#d8576b"
             ],
             [
              0.6666666666666666,
              "#ed7953"
             ],
             [
              0.7777777777777778,
              "#fb9f3a"
             ],
             [
              0.8888888888888888,
              "#fdca26"
             ],
             [
              1,
              "#f0f921"
             ]
            ],
            "type": "histogram2d"
           }
          ],
          "histogram2dcontour": [
           {
            "colorbar": {
             "outlinewidth": 0,
             "ticks": ""
            },
            "colorscale": [
             [
              0,
              "#0d0887"
             ],
             [
              0.1111111111111111,
              "#46039f"
             ],
             [
              0.2222222222222222,
              "#7201a8"
             ],
             [
              0.3333333333333333,
              "#9c179e"
             ],
             [
              0.4444444444444444,
              "#bd3786"
             ],
             [
              0.5555555555555556,
              "#d8576b"
             ],
             [
              0.6666666666666666,
              "#ed7953"
             ],
             [
              0.7777777777777778,
              "#fb9f3a"
             ],
             [
              0.8888888888888888,
              "#fdca26"
             ],
             [
              1,
              "#f0f921"
             ]
            ],
            "type": "histogram2dcontour"
           }
          ],
          "mesh3d": [
           {
            "colorbar": {
             "outlinewidth": 0,
             "ticks": ""
            },
            "type": "mesh3d"
           }
          ],
          "parcoords": [
           {
            "line": {
             "colorbar": {
              "outlinewidth": 0,
              "ticks": ""
             }
            },
            "type": "parcoords"
           }
          ],
          "pie": [
           {
            "automargin": true,
            "type": "pie"
           }
          ],
          "scatter": [
           {
            "fillpattern": {
             "fillmode": "overlay",
             "size": 10,
             "solidity": 0.2
            },
            "type": "scatter"
           }
          ],
          "scatter3d": [
           {
            "line": {
             "colorbar": {
              "outlinewidth": 0,
              "ticks": ""
             }
            },
            "marker": {
             "colorbar": {
              "outlinewidth": 0,
              "ticks": ""
             }
            },
            "type": "scatter3d"
           }
          ],
          "scattercarpet": [
           {
            "marker": {
             "colorbar": {
              "outlinewidth": 0,
              "ticks": ""
             }
            },
            "type": "scattercarpet"
           }
          ],
          "scattergeo": [
           {
            "marker": {
             "colorbar": {
              "outlinewidth": 0,
              "ticks": ""
             }
            },
            "type": "scattergeo"
           }
          ],
          "scattergl": [
           {
            "marker": {
             "colorbar": {
              "outlinewidth": 0,
              "ticks": ""
             }
            },
            "type": "scattergl"
           }
          ],
          "scattermapbox": [
           {
            "marker": {
             "colorbar": {
              "outlinewidth": 0,
              "ticks": ""
             }
            },
            "type": "scattermapbox"
           }
          ],
          "scatterpolar": [
           {
            "marker": {
             "colorbar": {
              "outlinewidth": 0,
              "ticks": ""
             }
            },
            "type": "scatterpolar"
           }
          ],
          "scatterpolargl": [
           {
            "marker": {
             "colorbar": {
              "outlinewidth": 0,
              "ticks": ""
             }
            },
            "type": "scatterpolargl"
           }
          ],
          "scatterternary": [
           {
            "marker": {
             "colorbar": {
              "outlinewidth": 0,
              "ticks": ""
             }
            },
            "type": "scatterternary"
           }
          ],
          "surface": [
           {
            "colorbar": {
             "outlinewidth": 0,
             "ticks": ""
            },
            "colorscale": [
             [
              0,
              "#0d0887"
             ],
             [
              0.1111111111111111,
              "#46039f"
             ],
             [
              0.2222222222222222,
              "#7201a8"
             ],
             [
              0.3333333333333333,
              "#9c179e"
             ],
             [
              0.4444444444444444,
              "#bd3786"
             ],
             [
              0.5555555555555556,
              "#d8576b"
             ],
             [
              0.6666666666666666,
              "#ed7953"
             ],
             [
              0.7777777777777778,
              "#fb9f3a"
             ],
             [
              0.8888888888888888,
              "#fdca26"
             ],
             [
              1,
              "#f0f921"
             ]
            ],
            "type": "surface"
           }
          ],
          "table": [
           {
            "cells": {
             "fill": {
              "color": "#EBF0F8"
             },
             "line": {
              "color": "white"
             }
            },
            "header": {
             "fill": {
              "color": "#C8D4E3"
             },
             "line": {
              "color": "white"
             }
            },
            "type": "table"
           }
          ]
         },
         "layout": {
          "annotationdefaults": {
           "arrowcolor": "#2a3f5f",
           "arrowhead": 0,
           "arrowwidth": 1
          },
          "autotypenumbers": "strict",
          "coloraxis": {
           "colorbar": {
            "outlinewidth": 0,
            "ticks": ""
           }
          },
          "colorscale": {
           "diverging": [
            [
             0,
             "#8e0152"
            ],
            [
             0.1,
             "#c51b7d"
            ],
            [
             0.2,
             "#de77ae"
            ],
            [
             0.3,
             "#f1b6da"
            ],
            [
             0.4,
             "#fde0ef"
            ],
            [
             0.5,
             "#f7f7f7"
            ],
            [
             0.6,
             "#e6f5d0"
            ],
            [
             0.7,
             "#b8e186"
            ],
            [
             0.8,
             "#7fbc41"
            ],
            [
             0.9,
             "#4d9221"
            ],
            [
             1,
             "#276419"
            ]
           ],
           "sequential": [
            [
             0,
             "#0d0887"
            ],
            [
             0.1111111111111111,
             "#46039f"
            ],
            [
             0.2222222222222222,
             "#7201a8"
            ],
            [
             0.3333333333333333,
             "#9c179e"
            ],
            [
             0.4444444444444444,
             "#bd3786"
            ],
            [
             0.5555555555555556,
             "#d8576b"
            ],
            [
             0.6666666666666666,
             "#ed7953"
            ],
            [
             0.7777777777777778,
             "#fb9f3a"
            ],
            [
             0.8888888888888888,
             "#fdca26"
            ],
            [
             1,
             "#f0f921"
            ]
           ],
           "sequentialminus": [
            [
             0,
             "#0d0887"
            ],
            [
             0.1111111111111111,
             "#46039f"
            ],
            [
             0.2222222222222222,
             "#7201a8"
            ],
            [
             0.3333333333333333,
             "#9c179e"
            ],
            [
             0.4444444444444444,
             "#bd3786"
            ],
            [
             0.5555555555555556,
             "#d8576b"
            ],
            [
             0.6666666666666666,
             "#ed7953"
            ],
            [
             0.7777777777777778,
             "#fb9f3a"
            ],
            [
             0.8888888888888888,
             "#fdca26"
            ],
            [
             1,
             "#f0f921"
            ]
           ]
          },
          "colorway": [
           "#636efa",
           "#EF553B",
           "#00cc96",
           "#ab63fa",
           "#FFA15A",
           "#19d3f3",
           "#FF6692",
           "#B6E880",
           "#FF97FF",
           "#FECB52"
          ],
          "font": {
           "color": "#2a3f5f"
          },
          "geo": {
           "bgcolor": "white",
           "lakecolor": "white",
           "landcolor": "#E5ECF6",
           "showlakes": true,
           "showland": true,
           "subunitcolor": "white"
          },
          "hoverlabel": {
           "align": "left"
          },
          "hovermode": "closest",
          "mapbox": {
           "style": "light"
          },
          "paper_bgcolor": "white",
          "plot_bgcolor": "#E5ECF6",
          "polar": {
           "angularaxis": {
            "gridcolor": "white",
            "linecolor": "white",
            "ticks": ""
           },
           "bgcolor": "#E5ECF6",
           "radialaxis": {
            "gridcolor": "white",
            "linecolor": "white",
            "ticks": ""
           }
          },
          "scene": {
           "xaxis": {
            "backgroundcolor": "#E5ECF6",
            "gridcolor": "white",
            "gridwidth": 2,
            "linecolor": "white",
            "showbackground": true,
            "ticks": "",
            "zerolinecolor": "white"
           },
           "yaxis": {
            "backgroundcolor": "#E5ECF6",
            "gridcolor": "white",
            "gridwidth": 2,
            "linecolor": "white",
            "showbackground": true,
            "ticks": "",
            "zerolinecolor": "white"
           },
           "zaxis": {
            "backgroundcolor": "#E5ECF6",
            "gridcolor": "white",
            "gridwidth": 2,
            "linecolor": "white",
            "showbackground": true,
            "ticks": "",
            "zerolinecolor": "white"
           }
          },
          "shapedefaults": {
           "line": {
            "color": "#2a3f5f"
           }
          },
          "ternary": {
           "aaxis": {
            "gridcolor": "white",
            "linecolor": "white",
            "ticks": ""
           },
           "baxis": {
            "gridcolor": "white",
            "linecolor": "white",
            "ticks": ""
           },
           "bgcolor": "#E5ECF6",
           "caxis": {
            "gridcolor": "white",
            "linecolor": "white",
            "ticks": ""
           }
          },
          "title": {
           "x": 0.05
          },
          "xaxis": {
           "automargin": true,
           "gridcolor": "white",
           "linecolor": "white",
           "ticks": "",
           "title": {
            "standoff": 15
           },
           "zerolinecolor": "white",
           "zerolinewidth": 2
          },
          "yaxis": {
           "automargin": true,
           "gridcolor": "white",
           "linecolor": "white",
           "ticks": "",
           "title": {
            "standoff": 15
           },
           "zerolinecolor": "white",
           "zerolinewidth": 2
          }
         }
        },
        "title": {
         "text": "Economic development<br>",
         "x": 0.5,
         "xanchor": "center",
         "y": 0.9,
         "yanchor": "top"
        },
        "xaxis": {
         "anchor": "y",
         "autorange": true,
         "domain": [
          0,
          1
         ],
         "range": [
          1941.3373253493014,
          2023.6626746506986
         ],
         "title": {
          "text": "Year"
         },
         "type": "linear"
        },
        "yaxis": {
         "anchor": "x",
         "autorange": true,
         "domain": [
          0,
          1
         ],
         "range": [
          -7.742782152230971,
          107.74278215223097
         ],
         "title": {
          "text": "% Yes"
         },
         "type": "linear"
        }
       }
      },
      "image/png": "[encoded data removed]",
      "text/html": [
       "<div>                            <div id=\"5e3dd8fc-21d0-41cc-968d-54679bed965c\" class=\"plotly-graph-div\" style=\"height:525px; width:100%;\"></div>            <script type=\"text/javascript\">                require([\"plotly\"], function(Plotly) {                    window.PLOTLYENV=window.PLOTLYENV || {};                                    if (document.getElementById(\"5e3dd8fc-21d0-41cc-968d-54679bed965c\")) {                    Plotly.newPlot(                        \"5e3dd8fc-21d0-41cc-968d-54679bed965c\",                        [{\"hovertemplate\":\"Country=Honduras\\u003cbr\\u003ex=%{x}\\u003cbr\\u003ey=%{y}\\u003cextra\\u003e\\u003c\\u002fextra\\u003e\",\"legendgroup\":\"Honduras\",\"marker\":{\"color\":\"#636efa\",\"symbol\":\"circle\"},\"mode\":\"markers\",\"name\":\"Honduras\",\"orientation\":\"v\",\"showlegend\":true,\"x\":[1946,1947,1948,1949,1950,1952,1953,1954,1955,1957,1958,1959,1962,1963,1966,1967,1968,1969,1970,1971,1972,1973,1974,1975,1976,1977,1979,1978,1980,1981,1982,1983,1984,1985,1986,1987,1988,1989,1990,1991,1992,1993,1994,1995,1996,1997,1998,1999,2000,2001,2002,2003,2004,2005,2006,2007,2008,2009,2010,2011,2012,2013,2014,2015,2016,2017,2018,2019],\"xaxis\":\"x\",\"y\":[71.42857142857143,50.0,75.0,50.0,0.0,100.0,100.0,0.0,100.0,100.0,80.0,83.33333333333334,40.0,100.0,66.66666666666666,83.33333333333334,60.0,100.0,88.88888888888889,96.29629629629629,88.46153846153845,94.44444444444444,66.66666666666666,81.81818181818183,100.0,95.65217391304348,92.0,81.81818181818183,86.66666666666667,94.44444444444444,96.0,83.33333333333334,94.73684210526315,95.65217391304348,94.44444444444444,90.0,82.35294117647058,100.0,83.33333333333334,100.0,83.33333333333334,100.0,100.0,100.0,100.0,100.0,100.0,100.0,100.0,100.0,100.0,100.0,100.0,100.0,100.0,100.0,92.3076923076923,100.0,100.0,100.0,100.0,100.0,100.0,100.0,85.71428571428571,95.0,94.44444444444444,100.0],\"yaxis\":\"y\",\"type\":\"scatter\"},{\"hovertemplate\":\"\\u003cb\\u003eLOWESS trendline\\u003c\\u002fb\\u003e\\u003cbr\\u003e\\u003cbr\\u003eCountry=Honduras\\u003cbr\\u003ex=%{x}\\u003cbr\\u003ey=%{y} \\u003cb\\u003e(trend)\\u003c\\u002fb\\u003e\\u003cextra\\u003e\\u003c\\u002fextra\\u003e\",\"legendgroup\":\"Honduras\",\"marker\":{\"color\":\"#636efa\",\"symbol\":\"circle\"},\"mode\":\"lines\",\"name\":\"Honduras\",\"showlegend\":false,\"x\":[1946,1947,1948,1949,1950,1952,1953,1954,1955,1957,1958,1959,1962,1963,1966,1967,1968,1969,1970,1971,1972,1973,1974,1975,1976,1977,1978,1979,1980,1981,1982,1983,1984,1985,1986,1987,1988,1989,1990,1991,1992,1993,1994,1995,1996,1997,1998,1999,2000,2001,2002,2003,2004,2005,2006,2007,2008,2009,2010,2011,2012,2013,2014,2015,2016,2017,2018,2019],\"xaxis\":\"x\",\"y\":[71.97660823928332,72.6478272139108,73.31502395048146,73.97818849140134,74.63733123376241,75.94428298515781,76.59264049865274,77.23805593460322,77.88097795769971,79.16163936062914,79.80085276557152,80.44058652924214,82.37578335066848,83.0320094309433,85.07217976978556,85.78508379373841,86.51077179024458,87.22697292390967,87.88170908862799,88.41702230157739,88.81803677290122,89.19410114799807,89.55889330072942,89.91989386398328,90.28034375434353,90.64248811312719,91.00714616705976,91.37397153294621,91.74251005591879,92.09552511307903,92.46018315886397,92.82858279286398,93.19764643556445,93.53252792561344,93.8935793501145,94.2450390458946,94.55585983769213,94.90151572953117,95.24479024827758,95.58481459109632,95.91921953289489,96.24597579491686,96.56364640805032,96.87195431336772,97.1687969043378,97.45181867372304,97.61460181832436,97.74485839022599,97.85852358958753,97.96374745420607,98.06341705236699,98.158312326858,98.24850578888739,98.33385529049903,98.41415992708453,98.48920503893339,98.55877361974807,98.62269509009086,98.68096535895208,98.73357915274391,98.7804886276457,98.82161012791957,98.85682796688072,98.8859958772923,98.90893649772991,98.9255009094472,98.93578606603117,98.94010221964564],\"yaxis\":\"y\",\"type\":\"scatter\"},{\"hovertemplate\":\"Country=Mexico\\u003cbr\\u003ex=%{x}\\u003cbr\\u003ey=%{y}\\u003cextra\\u003e\\u003c\\u002fextra\\u003e\",\"legendgroup\":\"Mexico\",\"marker\":{\"color\":\"#EF553B\",\"symbol\":\"circle\"},\"mode\":\"markers\",\"name\":\"Mexico\",\"orientation\":\"v\",\"showlegend\":true,\"x\":[1946,1947,1948,1949,1950,1952,1953,1954,1955,1956,1957,1958,1959,1961,1962,1963,1966,1967,1968,1969,1970,1971,1972,1973,1974,1975,1976,1977,1979,1978,1980,1981,1982,1983,1984,1985,1986,1987,1988,1989,1990,1991,1992,1993,1994,1995,1996,1997,1998,1999,2000,2001,2002,2003,2004,2005,2006,2007,2008,2009,2010,2011,2012,2013,2014,2015,2016,2017,2018,2019],\"xaxis\":\"x\",\"y\":[62.5,50.0,37.5,42.857142857142854,0.0,66.66666666666666,100.0,0.0,100.0,0.0,50.0,60.0,50.0,40.0,50.0,100.0,66.66666666666666,83.33333333333334,66.66666666666666,100.0,100.0,96.15384615384616,86.20689655172413,95.0,100.0,100.0,96.29629629629629,100.0,100.0,100.0,93.75,100.0,96.42857142857143,96.0,100.0,100.0,100.0,100.0,94.44444444444444,100.0,100.0,100.0,100.0,83.33333333333334,100.0,100.0,100.0,100.0,100.0,100.0,100.0,100.0,100.0,100.0,100.0,100.0,88.88888888888889,91.66666666666666,92.3076923076923,91.66666666666666,71.42857142857143,77.77777777777779,91.66666666666666,100.0,100.0,100.0,92.85714285714286,95.0,100.0,93.75],\"yaxis\":\"y\",\"type\":\"scatter\"},{\"hovertemplate\":\"\\u003cb\\u003eLOWESS trendline\\u003c\\u002fb\\u003e\\u003cbr\\u003e\\u003cbr\\u003eCountry=Mexico\\u003cbr\\u003ex=%{x}\\u003cbr\\u003ey=%{y} \\u003cb\\u003e(trend)\\u003c\\u002fb\\u003e\\u003cextra\\u003e\\u003c\\u002fextra\\u003e\",\"legendgroup\":\"Mexico\",\"marker\":{\"color\":\"#EF553B\",\"symbol\":\"circle\"},\"mode\":\"lines\",\"name\":\"Mexico\",\"showlegend\":false,\"x\":[1946,1947,1948,1949,1950,1952,1953,1954,1955,1956,1957,1958,1959,1961,1962,1963,1966,1967,1968,1969,1970,1971,1972,1973,1974,1975,1976,1977,1978,1979,1980,1981,1982,1983,1984,1985,1986,1987,1988,1989,1990,1991,1992,1993,1994,1995,1996,1997,1998,1999,2000,2001,2002,2003,2004,2005,2006,2007,2008,2009,2010,2011,2012,2013,2014,2015,2016,2017,2018,2019],\"xaxis\":\"x\",\"y\":[38.74154467033093,40.54760770877078,42.355254157876566,44.16381777413031,45.97272318633551,49.58952607897785,51.39624742774576,53.20064392971835,55.00157356423009,56.79780668690595,58.588020491961444,60.37087689491145,62.145311205761566,65.66589842857708,67.41158072491898,69.14789160692865,74.32179868735862,76.05181778088523,77.80244554575823,79.59063212294704,81.42807215749389,83.12762969895815,84.7677176404233,86.33327310302751,87.82508289206055,89.2435709305778,90.92645111374941,92.1751691514413,93.29171913214985,94.2621610784768,95.08300766070624,95.76751128405792,96.34532663610858,96.84333375552171,97.27560801895976,97.64332168125947,97.945374230898,98.18194928044083,98.46416872306881,98.55204917396372,98.58803870719427,98.58133271586784,98.54008586140856,98.4689889252779,98.37382992448474,98.26210562368834,98.14226742881502,98.02054002014367,97.8631776047124,97.72677181199278,97.60213369199904,97.48314778525345,97.36615079913467,97.24888698289163,97.12987513309623,97.00808102813377,96.8827464665352,96.75335985317635,96.61981382130574,96.48230012542663,96.34121353450645,96.19709027003198,96.05051192263068,95.9021893490981,95.75289864304291,95.60324355284331,95.45360448903422,95.30419542057066,95.15525767110245,95.00699729578018],\"yaxis\":\"y\",\"type\":\"scatter\"},{\"hovertemplate\":\"Country=Cuba\\u003cbr\\u003ex=%{x}\\u003cbr\\u003ey=%{y}\\u003cextra\\u003e\\u003c\\u002fextra\\u003e\",\"legendgroup\":\"Cuba\",\"marker\":{\"color\":\"#00cc96\",\"symbol\":\"circle\"},\"mode\":\"markers\",\"name\":\"Cuba\",\"orientation\":\"v\",\"showlegend\":true,\"x\":[1946,1947,1948,1949,1950,1952,1953,1954,1955,1956,1957,1958,1959,1961,1962,1963,1966,1967,1968,1969,1970,1971,1972,1973,1974,1975,1976,1977,1979,1978,1980,1981,1982,1983,1984,1985,1986,1987,1988,1989,1990,1991,1992,1993,1994,1995,1996,1997,1998,1999,2000,2001,2002,2003,2004,2005,2006,2007,2008,2009,2010,2011,2012,2013,2014,2015,2016,2017,2018,2019],\"xaxis\":\"x\",\"y\":[70.0,50.0,37.5,28.57142857142857,0.0,100.0,100.0,100.0,100.0,0.0,100.0,80.0,66.66666666666666,36.36363636363637,16.666666666666664,0.0,75.0,66.66666666666666,25.0,50.0,44.44444444444444,62.96296296296296,53.84615384615385,61.111111111111114,71.42857142857143,54.54545454545454,91.30434782608695,60.86956521739131,84.0,65.21739130434783,71.42857142857143,85.71428571428571,84.61538461538461,96.0,95.0,84.0,90.0,100.0,94.44444444444444,94.73684210526315,100.0,100.0,100.0,100.0,100.0,100.0,100.0,100.0,83.33333333333334,100.0,100.0,100.0,100.0,100.0,100.0,100.0,100.0,100.0,100.0,83.33333333333334,85.71428571428571,75.0,75.0,71.42857142857143,72.72727272727273,75.0,64.28571428571429,75.0,77.77777777777779,87.5],\"yaxis\":\"y\",\"type\":\"scatter\"},{\"hovertemplate\":\"\\u003cb\\u003eLOWESS trendline\\u003c\\u002fb\\u003e\\u003cbr\\u003e\\u003cbr\\u003eCountry=Cuba\\u003cbr\\u003ex=%{x}\\u003cbr\\u003ey=%{y} \\u003cb\\u003e(trend)\\u003c\\u002fb\\u003e\\u003cextra\\u003e\\u003c\\u002fextra\\u003e\",\"legendgroup\":\"Cuba\",\"marker\":{\"color\":\"#00cc96\",\"symbol\":\"circle\"},\"mode\":\"lines\",\"name\":\"Cuba\",\"showlegend\":false,\"x\":[1946,1947,1948,1949,1950,1952,1953,1954,1955,1956,1957,1958,1959,1961,1962,1963,1966,1967,1968,1969,1970,1971,1972,1973,1974,1975,1976,1977,1978,1979,1980,1981,1982,1983,1984,1985,1986,1987,1988,1989,1990,1991,1992,1993,1994,1995,1996,1997,1998,1999,2000,2001,2002,2003,2004,2005,2006,2007,2008,2009,2010,2011,2012,2013,2014,2015,2016,2017,2018,2019],\"xaxis\":\"x\",\"y\":[53.12504931780413,53.60736599740309,54.09180560413969,54.57839524811117,55.06805767803615,56.064675184478816,56.576310374526436,57.0997833351234,57.636890830546236,58.18899427322353,58.75701736410465,59.34163229853409,59.9428193180954,61.189047750252875,61.82848415905651,62.47376804590888,64.3765186700008,64.95801704138393,65.47941894271428,65.92185423509352,66.29476226527463,67.03218859685063,67.86404989452821,68.80221440651518,69.85484321326821,71.02143639779105,72.00840681990522,73.4460284063411,74.95569312570149,76.51165675028246,78.09022945214,79.66824367411569,81.2194800698169,82.72204403646472,84.16757524225815,85.5587242011939,86.89917988230607,88.18513082836719,89.77014481215424,90.93781699002126,91.99125737686559,92.91000839416631,93.67895146525554,94.28753258474359,94.72880089210899,94.99821133475258,95.09733502162636,95.03353587329603,94.32113292533931,93.58015246196867,92.84809092548767,92.13074781709545,91.42418559580095,90.72293412940252,90.02208026193276,89.31753431943177,88.60588010928069,87.88418380947408,87.1498391074406,86.40045170205101,85.63384548773419,84.84831890082313,84.0426134775417,83.21604108703788,82.36846039523982,81.5002573654741,80.61224383147504,79.70558552103167,78.78190044519492,77.84297737355652],\"yaxis\":\"y\",\"type\":\"scatter\"}],                        {\"template\":{\"data\":{\"histogram2dcontour\":[{\"type\":\"histogram2dcontour\",\"colorbar\":{\"outlinewidth\":0,\"ticks\":\"\"},\"colorscale\":[[0.0,\"#0d0887\"],[0.1111111111111111,\"#46039f\"],[0.2222222222222222,\"#7201a8\"],[0.3333333333333333,\"#9c179e\"],[0.4444444444444444,\"#bd3786\"],[0.5555555555555556,\"#d8576b\"],[0.6666666666666666,\"#ed7953\"],[0.7777777777777778,\"#fb9f3a\"],[0.8888888888888888,\"#fdca26\"],[1.0,\"#f0f921\"]]}],\"choropleth\":[{\"type\":\"choropleth\",\"colorbar\":{\"outlinewidth\":0,\"ticks\":\"\"}}],\"histogram2d\":[{\"type\":\"histogram2d\",\"colorbar\":{\"outlinewidth\":0,\"ticks\":\"\"},\"colorscale\":[[0.0,\"#0d0887\"],[0.1111111111111111,\"#46039f\"],[0.2222222222222222,\"#7201a8\"],[0.3333333333333333,\"#9c179e\"],[0.4444444444444444,\"#bd3786\"],[0.5555555555555556,\"#d8576b\"],[0.6666666666666666,\"#ed7953\"],[0.7777777777777778,\"#fb9f3a\"],[0.8888888888888888,\"#fdca26\"],[1.0,\"#f0f921\"]]}],\"heatmap\":[{\"type\":\"heatmap\",\"colorbar\":{\"outlinewidth\":0,\"ticks\":\"\"},\"colorscale\":[[0.0,\"#0d0887\"],[0.1111111111111111,\"#46039f\"],[0.2222222222222222,\"#7201a8\"],[0.3333333333333333,\"#9c179e\"],[0.4444444444444444,\"#bd3786\"],[0.5555555555555556,\"#d8576b\"],[0.6666666666666666,\"#ed7953\"],[0.7777777777777778,\"#fb9f3a\"],[0.8888888888888888,\"#fdca26\"],[1.0,\"#f0f921\"]]}],\"heatmapgl\":[{\"type\":\"heatmapgl\",\"colorbar\":{\"outlinewidth\":0,\"ticks\":\"\"},\"colorscale\":[[0.0,\"#0d0887\"],[0.1111111111111111,\"#46039f\"],[0.2222222222222222,\"#7201a8\"],[0.3333333333333333,\"#9c179e\"],[0.4444444444444444,\"#bd3786\"],[0.5555555555555556,\"#d8576b\"],[0.6666666666666666,\"#ed7953\"],[0.7777777777777778,\"#fb9f3a\"],[0.8888888888888888,\"#fdca26\"],[1.0,\"#f0f921\"]]}],\"contourcarpet\":[{\"type\":\"contourcarpet\",\"colorbar\":{\"outlinewidth\":0,\"ticks\":\"\"}}],\"contour\":[{\"type\":\"contour\",\"colorbar\":{\"outlinewidth\":0,\"ticks\":\"\"},\"colorscale\":[[0.0,\"#0d0887\"],[0.1111111111111111,\"#46039f\"],[0.2222222222222222,\"#7201a8\"],[0.3333333333333333,\"#9c179e\"],[0.4444444444444444,\"#bd3786\"],[0.5555555555555556,\"#d8576b\"],[0.6666666666666666,\"#ed7953\"],[0.7777777777777778,\"#fb9f3a\"],[0.8888888888888888,\"#fdca26\"],[1.0,\"#f0f921\"]]}],\"surface\":[{\"type\":\"surface\",\"colorbar\":{\"outlinewidth\":0,\"ticks\":\"\"},\"colorscale\":[[0.0,\"#0d0887\"],[0.1111111111111111,\"#46039f\"],[0.2222222222222222,\"#7201a8\"],[0.3333333333333333,\"#9c179e\"],[0.4444444444444444,\"#bd3786\"],[0.5555555555555556,\"#d8576b\"],[0.6666666666666666,\"#ed7953\"],[0.7777777777777778,\"#fb9f3a\"],[0.8888888888888888,\"#fdca26\"],[1.0,\"#f0f921\"]]}],\"mesh3d\":[{\"type\":\"mesh3d\",\"colorbar\":{\"outlinewidth\":0,\"ticks\":\"\"}}],\"scatter\":[{\"fillpattern\":{\"fillmode\":\"overlay\",\"size\":10,\"solidity\":0.2},\"type\":\"scatter\"}],\"parcoords\":[{\"type\":\"parcoords\",\"line\":{\"colorbar\":{\"outlinewidth\":0,\"ticks\":\"\"}}}],\"scatterpolargl\":[{\"type\":\"scatterpolargl\",\"marker\":{\"colorbar\":{\"outlinewidth\":0,\"ticks\":\"\"}}}],\"bar\":[{\"error_x\":{\"color\":\"#2a3f5f\"},\"error_y\":{\"color\":\"#2a3f5f\"},\"marker\":{\"line\":{\"color\":\"#E5ECF6\",\"width\":0.5},\"pattern\":{\"fillmode\":\"overlay\",\"size\":10,\"solidity\":0.2}},\"type\":\"bar\"}],\"scattergeo\":[{\"type\":\"scattergeo\",\"marker\":{\"colorbar\":{\"outlinewidth\":0,\"ticks\":\"\"}}}],\"scatterpolar\":[{\"type\":\"scatterpolar\",\"marker\":{\"colorbar\":{\"outlinewidth\":0,\"ticks\":\"\"}}}],\"histogram\":[{\"marker\":{\"pattern\":{\"fillmode\":\"overlay\",\"size\":10,\"solidity\":0.2}},\"type\":\"histogram\"}],\"scattergl\":[{\"type\":\"scattergl\",\"marker\":{\"colorbar\":{\"outlinewidth\":0,\"ticks\":\"\"}}}],\"scatter3d\":[{\"type\":\"scatter3d\",\"line\":{\"colorbar\":{\"outlinewidth\":0,\"ticks\":\"\"}},\"marker\":{\"colorbar\":{\"outlinewidth\":0,\"ticks\":\"\"}}}],\"scattermapbox\":[{\"type\":\"scattermapbox\",\"marker\":{\"colorbar\":{\"outlinewidth\":0,\"ticks\":\"\"}}}],\"scatterternary\":[{\"type\":\"scatterternary\",\"marker\":{\"colorbar\":{\"outlinewidth\":0,\"ticks\":\"\"}}}],\"scattercarpet\":[{\"type\":\"scattercarpet\",\"marker\":{\"colorbar\":{\"outlinewidth\":0,\"ticks\":\"\"}}}],\"carpet\":[{\"aaxis\":{\"endlinecolor\":\"#2a3f5f\",\"gridcolor\":\"white\",\"linecolor\":\"white\",\"minorgridcolor\":\"white\",\"startlinecolor\":\"#2a3f5f\"},\"baxis\":{\"endlinecolor\":\"#2a3f5f\",\"gridcolor\":\"white\",\"linecolor\":\"white\",\"minorgridcolor\":\"white\",\"startlinecolor\":\"#2a3f5f\"},\"type\":\"carpet\"}],\"table\":[{\"cells\":{\"fill\":{\"color\":\"#EBF0F8\"},\"line\":{\"color\":\"white\"}},\"header\":{\"fill\":{\"color\":\"#C8D4E3\"},\"line\":{\"color\":\"white\"}},\"type\":\"table\"}],\"barpolar\":[{\"marker\":{\"line\":{\"color\":\"#E5ECF6\",\"width\":0.5},\"pattern\":{\"fillmode\":\"overlay\",\"size\":10,\"solidity\":0.2}},\"type\":\"barpolar\"}],\"pie\":[{\"automargin\":true,\"type\":\"pie\"}]},\"layout\":{\"autotypenumbers\":\"strict\",\"colorway\":[\"#636efa\",\"#EF553B\",\"#00cc96\",\"#ab63fa\",\"#FFA15A\",\"#19d3f3\",\"#FF6692\",\"#B6E880\",\"#FF97FF\",\"#FECB52\"],\"font\":{\"color\":\"#2a3f5f\"},\"hovermode\":\"closest\",\"hoverlabel\":{\"align\":\"left\"},\"paper_bgcolor\":\"white\",\"plot_bgcolor\":\"#E5ECF6\",\"polar\":{\"bgcolor\":\"#E5ECF6\",\"angularaxis\":{\"gridcolor\":\"white\",\"linecolor\":\"white\",\"ticks\":\"\"},\"radialaxis\":{\"gridcolor\":\"white\",\"linecolor\":\"white\",\"ticks\":\"\"}},\"ternary\":{\"bgcolor\":\"#E5ECF6\",\"aaxis\":{\"gridcolor\":\"white\",\"linecolor\":\"white\",\"ticks\":\"\"},\"baxis\":{\"gridcolor\":\"white\",\"linecolor\":\"white\",\"ticks\":\"\"},\"caxis\":{\"gridcolor\":\"white\",\"linecolor\":\"white\",\"ticks\":\"\"}},\"coloraxis\":{\"colorbar\":{\"outlinewidth\":0,\"ticks\":\"\"}},\"colorscale\":{\"sequential\":[[0.0,\"#0d0887\"],[0.1111111111111111,\"#46039f\"],[0.2222222222222222,\"#7201a8\"],[0.3333333333333333,\"#9c179e\"],[0.4444444444444444,\"#bd3786\"],[0.5555555555555556,\"#d8576b\"],[0.6666666666666666,\"#ed7953\"],[0.7777777777777778,\"#fb9f3a\"],[0.8888888888888888,\"#fdca26\"],[1.0,\"#f0f921\"]],\"sequentialminus\":[[0.0,\"#0d0887\"],[0.1111111111111111,\"#46039f\"],[0.2222222222222222,\"#7201a8\"],[0.3333333333333333,\"#9c179e\"],[0.4444444444444444,\"#bd3786\"],[0.5555555555555556,\"#d8576b\"],[0.6666666666666666,\"#ed7953\"],[0.7777777777777778,\"#fb9f3a\"],[0.8888888888888888,\"#fdca26\"],[1.0,\"#f0f921\"]],\"diverging\":[[0,\"#8e0152\"],[0.1,\"#c51b7d\"],[0.2,\"#de77ae\"],[0.3,\"#f1b6da\"],[0.4,\"#fde0ef\"],[0.5,\"#f7f7f7\"],[0.6,\"#e6f5d0\"],[0.7,\"#b8e186\"],[0.8,\"#7fbc41\"],[0.9,\"#4d9221\"],[1,\"#276419\"]]},\"xaxis\":{\"gridcolor\":\"white\",\"linecolor\":\"white\",\"ticks\":\"\",\"title\":{\"standoff\":15},\"zerolinecolor\":\"white\",\"automargin\":true,\"zerolinewidth\":2},\"yaxis\":{\"gridcolor\":\"white\",\"linecolor\":\"white\",\"ticks\":\"\",\"title\":{\"standoff\":15},\"zerolinecolor\":\"white\",\"automargin\":true,\"zerolinewidth\":2},\"scene\":{\"xaxis\":{\"backgroundcolor\":\"#E5ECF6\",\"gridcolor\":\"white\",\"linecolor\":\"white\",\"showbackground\":true,\"ticks\":\"\",\"zerolinecolor\":\"white\",\"gridwidth\":2},\"yaxis\":{\"backgroundcolor\":\"#E5ECF6\",\"gridcolor\":\"white\",\"linecolor\":\"white\",\"showbackground\":true,\"ticks\":\"\",\"zerolinecolor\":\"white\",\"gridwidth\":2},\"zaxis\":{\"backgroundcolor\":\"#E5ECF6\",\"gridcolor\":\"white\",\"linecolor\":\"white\",\"showbackground\":true,\"ticks\":\"\",\"zerolinecolor\":\"white\",\"gridwidth\":2}},\"shapedefaults\":{\"line\":{\"color\":\"#2a3f5f\"}},\"annotationdefaults\":{\"arrowcolor\":\"#2a3f5f\",\"arrowhead\":0,\"arrowwidth\":1},\"geo\":{\"bgcolor\":\"white\",\"landcolor\":\"#E5ECF6\",\"subunitcolor\":\"white\",\"showland\":true,\"showlakes\":true,\"lakecolor\":\"white\"},\"title\":{\"x\":0.05},\"mapbox\":{\"style\":\"light\"}}},\"xaxis\":{\"anchor\":\"y\",\"domain\":[0.0,1.0],\"title\":{\"text\":\"Year\"}},\"yaxis\":{\"anchor\":\"x\",\"domain\":[0.0,1.0],\"title\":{\"text\":\"% Yes\"}},\"legend\":{\"title\":{\"text\":\"Country\"},\"tracegroupgap\":0},\"margin\":{\"t\":60},\"title\":{\"text\":\"Economic development\\u003cbr\\u003e\",\"y\":0.9,\"x\":0.5,\"xanchor\":\"center\",\"yanchor\":\"top\"}},                        {\"responsive\": true}                    ).then(function(){\n",
       "                            \n",
       "var gd = document.getElementById('5e3dd8fc-21d0-41cc-968d-54679bed965c');\n",
       "var x = new MutationObserver(function (mutations, observer) {{\n",
       "        var display = window.getComputedStyle(gd).display;\n",
       "        if (!display || display === 'none') {{\n",
       "            console.log([gd, 'removed!']);\n",
       "            Plotly.purge(gd);\n",
       "            observer.disconnect();\n",
       "        }}\n",
       "}});\n",
       "\n",
       "// Listen for the removal of the full notebook cells\n",
       "var notebookContainer = gd.closest('#notebook-container');\n",
       "if (notebookContainer) {{\n",
       "    x.observe(notebookContainer, {childList: true});\n",
       "}}\n",
       "\n",
       "// Listen for the clearing of the current output cell\n",
       "var outputEl = gd.closest('.output');\n",
       "if (outputEl) {{\n",
       "    x.observe(outputEl, {childList: true});\n",
       "}}\n",
       "\n",
       "                        })                };                });            </script>        </div>"
      ]
     },
     "metadata": {},
     "output_type": "display_data"
    },
    {
     "data": {
      "application/vnd.plotly.v1+json": {
       "config": {
        "plotlyServerURL": "https://plot.ly"
       },
       "data": [
        {
         "hovertemplate": "Country=Honduras<br>x=%{x}<br>y=%{y}<extra></extra>",
         "legendgroup": "Honduras",
         "marker": {
          "color": "#636efa",
          "symbol": "circle"
         },
         "mode": "markers",
         "name": "Honduras",
         "orientation": "v",
         "showlegend": true,
         "type": "scatter",
         "x": [
          1946,
          1947,
          1948,
          1949,
          1950,
          1951,
          1952,
          1953,
          1954,
          1955,
          1957,
          1956,
          1959,
          1960,
          1961,
          1962,
          1963,
          1965,
          1966,
          1967,
          1968,
          1969,
          1970,
          1971,
          1972,
          1973,
          1974,
          1975,
          1976,
          1977,
          1978,
          1979,
          1980,
          1981,
          1982,
          1983,
          1984,
          1985,
          1986,
          1987,
          1988,
          1989,
          1990,
          1991,
          1992,
          1993,
          1994,
          1995,
          1996,
          1997,
          1998,
          1999,
          2000,
          2001,
          2002,
          2003,
          2004,
          2005,
          2006,
          2007,
          2008,
          2009,
          2010,
          2011,
          2012,
          2013,
          2014,
          2015,
          2016,
          2017,
          2018,
          2019
         ],
         "xaxis": "x",
         "y": [
          86.66666666666667,
          0,
          83.33333333333334,
          9.090909090909092,
          33.33333333333333,
          100,
          81.81818181818183,
          22.22222222222222,
          75,
          80,
          44.44444444444444,
          100,
          37.5,
          54.54545454545454,
          66.66666666666666,
          47.61904761904761,
          100,
          40,
          75,
          91.66666666666666,
          44.44444444444444,
          50,
          71.42857142857143,
          71.42857142857143,
          75,
          73.91304347826086,
          55.55555555555556,
          73.33333333333333,
          42.857142857142854,
          55.55555555555556,
          57.14285714285714,
          65,
          81.25,
          68.75,
          77.77777777777779,
          100,
          84.21052631578947,
          77.77777777777779,
          71.42857142857143,
          83.33333333333334,
          84.61538461538461,
          92.3076923076923,
          93.33333333333333,
          100,
          100,
          90.9090909090909,
          100,
          92.85714285714286,
          91.66666666666666,
          91.66666666666666,
          80,
          100,
          92.3076923076923,
          100,
          90.9090909090909,
          80,
          88.88888888888889,
          90,
          82.35294117647058,
          90.9090909090909,
          80,
          92.3076923076923,
          92.3076923076923,
          91.66666666666666,
          53.84615384615385,
          61.53846153846154,
          88.88888888888889,
          80,
          81.81818181818183,
          56.25,
          66.66666666666666,
          100
         ],
         "yaxis": "y"
        },
        {
         "hovertemplate": "<b>LOWESS trendline</b><br><br>Country=Honduras<br>x=%{x}<br>y=%{y} <b>(trend)</b><extra></extra>",
         "legendgroup": "Honduras",
         "marker": {
          "color": "#636efa",
          "symbol": "circle"
         },
         "mode": "lines",
         "name": "Honduras",
         "showlegend": false,
         "type": "scatter",
         "x": [
          1946,
          1947,
          1948,
          1949,
          1950,
          1951,
          1952,
          1953,
          1954,
          1955,
          1956,
          1957,
          1959,
          1960,
          1961,
          1962,
          1963,
          1965,
          1966,
          1967,
          1968,
          1969,
          1970,
          1971,
          1972,
          1973,
          1974,
          1975,
          1976,
          1977,
          1978,
          1979,
          1980,
          1981,
          1982,
          1983,
          1984,
          1985,
          1986,
          1987,
          1988,
          1989,
          1990,
          1991,
          1992,
          1993,
          1994,
          1995,
          1996,
          1997,
          1998,
          1999,
          2000,
          2001,
          2002,
          2003,
          2004,
          2005,
          2006,
          2007,
          2008,
          2009,
          2010,
          2011,
          2012,
          2013,
          2014,
          2015,
          2016,
          2017,
          2018,
          2019
         ],
         "xaxis": "x",
         "y": [
          71.70411332836866,
          71.35929490379566,
          71.02990807795595,
          70.71609565424825,
          70.41754636276575,
          70.13395571174107,
          69.86550026368849,
          69.61192093739413,
          69.37243419739066,
          69.146250873317,
          68.93225313655901,
          68.72865465653756,
          68.3432247454436,
          68.15701140011308,
          67.97267662926075,
          67.78897677469372,
          67.6049729338723,
          67.23568037134069,
          67.05245821285986,
          66.87772166189558,
          66.72750230715859,
          66.63316864699304,
          66.63727311366274,
          67.09459140775508,
          67.66329515942593,
          68.3405599961445,
          69.12724343194625,
          70.01720266697191,
          70.98873326793553,
          72.0177868749783,
          73.08505889123144,
          74.16687626499784,
          75.24298335134496,
          76.30191654720997,
          77.34099031295861,
          78.35962566084834,
          79.35529429519589,
          80.32170703327348,
          81.25155613581067,
          82.1435421722391,
          83.22808840606999,
          84.08568964252501,
          84.90166192359,
          85.66790514676694,
          86.37704971181714,
          87.01813128956833,
          87.57369705439739,
          88.02693213883417,
          88.36195570751337,
          88.1672815092885,
          87.9081578840546,
          87.6266894333158,
          87.33868770758434,
          87.04707315527531,
          86.75065920087329,
          86.44729946625317,
          86.13511941726148,
          85.81289499627513,
          85.47972757275971,
          85.13491960823048,
          84.77802532981123,
          84.40868162330999,
          84.02669581389898,
          83.63177362859466,
          83.22344282986309,
          82.8012082984296,
          82.3651222523341,
          81.91573997216426,
          81.4535540530512,
          80.97905362262053,
          80.49282824841065,
          79.99600847404812
         ],
         "yaxis": "y"
        },
        {
         "hovertemplate": "Country=Mexico<br>x=%{x}<br>y=%{y}<extra></extra>",
         "legendgroup": "Mexico",
         "marker": {
          "color": "#EF553B",
          "symbol": "circle"
         },
         "mode": "markers",
         "name": "Mexico",
         "orientation": "v",
         "showlegend": true,
         "type": "scatter",
         "x": [
          1946,
          1947,
          1948,
          1949,
          1950,
          1951,
          1952,
          1953,
          1954,
          1955,
          1957,
          1956,
          1959,
          1960,
          1961,
          1962,
          1963,
          1965,
          1966,
          1967,
          1968,
          1969,
          1970,
          1971,
          1972,
          1973,
          1974,
          1975,
          1976,
          1977,
          1978,
          1979,
          1980,
          1981,
          1982,
          1983,
          1984,
          1985,
          1986,
          1987,
          1988,
          1989,
          1990,
          1991,
          1992,
          1993,
          1994,
          1995,
          1996,
          1997,
          1998,
          1999,
          2000,
          2001,
          2002,
          2003,
          2004,
          2005,
          2006,
          2007,
          2008,
          2009,
          2010,
          2011,
          2012,
          2013,
          2014,
          2015,
          2016,
          2017,
          2018,
          2019
         ],
         "xaxis": "x",
         "y": [
          85.71428571428571,
          33.33333333333333,
          91.66666666666666,
          46.666666666666664,
          83.33333333333334,
          100,
          80,
          88.88888888888889,
          80,
          80,
          77.77777777777779,
          100,
          87.5,
          72.72727272727273,
          50,
          47.61904761904761,
          100,
          58.333333333333336,
          52.94117647058824,
          71.42857142857143,
          36.36363636363637,
          50,
          64.70588235294117,
          71.42857142857143,
          87.5,
          87.5,
          100,
          86.36363636363636,
          94.73684210526315,
          92.85714285714286,
          81.25,
          95.23809523809523,
          93.75,
          100,
          100,
          100,
          100,
          100,
          100,
          100,
          100,
          100,
          100,
          100,
          92.85714285714286,
          100,
          84.61538461538461,
          92.85714285714286,
          91.66666666666666,
          91.66666666666666,
          100,
          92.3076923076923,
          92.3076923076923,
          91.66666666666666,
          90.9090909090909,
          90,
          88.88888888888889,
          90,
          93.75,
          90.9090909090909,
          86.66666666666667,
          92.85714285714286,
          84.61538461538461,
          83.33333333333334,
          84.61538461538461,
          84.61538461538461,
          77.77777777777779,
          80,
          81.81818181818183,
          68.75,
          33.33333333333333,
          93.75
         ],
         "yaxis": "y"
        },
        {
         "hovertemplate": "<b>LOWESS trendline</b><br><br>Country=Mexico<br>x=%{x}<br>y=%{y} <b>(trend)</b><extra></extra>",
         "legendgroup": "Mexico",
         "marker": {
          "color": "#EF553B",
          "symbol": "circle"
         },
         "mode": "lines",
         "name": "Mexico",
         "showlegend": false,
         "type": "scatter",
         "x": [
          1946,
          1947,
          1948,
          1949,
          1950,
          1951,
          1952,
          1953,
          1954,
          1955,
          1956,
          1957,
          1959,
          1960,
          1961,
          1962,
          1963,
          1965,
          1966,
          1967,
          1968,
          1969,
          1970,
          1971,
          1972,
          1973,
          1974,
          1975,
          1976,
          1977,
          1978,
          1979,
          1980,
          1981,
          1982,
          1983,
          1984,
          1985,
          1986,
          1987,
          1988,
          1989,
          1990,
          1991,
          1992,
          1993,
          1994,
          1995,
          1996,
          1997,
          1998,
          1999,
          2000,
          2001,
          2002,
          2003,
          2004,
          2005,
          2006,
          2007,
          2008,
          2009,
          2010,
          2011,
          2012,
          2013,
          2014,
          2015,
          2016,
          2017,
          2018,
          2019
         ],
         "xaxis": "x",
         "y": [
          83.12964667611796,
          83.2847364199222,
          83.44707056809177,
          83.61693499463499,
          83.794384792941,
          83.9794115922831,
          84.17194453914801,
          84.37165858877015,
          84.57820825976535,
          84.7911092558046,
          85.00993725088462,
          85.23430928799998,
          85.69706593756791,
          85.93401351834666,
          86.17339366085936,
          86.4142071453339,
          86.65515289116547,
          87.1282951267318,
          87.352555801311,
          87.56100921424849,
          87.74750583833247,
          87.91070072078817,
          88.05809602688967,
          88.43433877657156,
          88.81757341524366,
          89.21643690135454,
          89.64833050861412,
          90.125006365382,
          90.64732022110186,
          91.20545330973523,
          91.77660105595463,
          92.33598498828198,
          92.86013158911739,
          93.33000120947351,
          93.73807927993293,
          94.08164848832779,
          94.36372868787666,
          94.5916107448074,
          94.76845313565465,
          94.89601552843918,
          95.17758108360022,
          95.20412373206688,
          95.1828953970153,
          95.11428433602761,
          94.99367668666748,
          94.8147874513719,
          94.5748364648392,
          94.27364935685797,
          93.91100323417479,
          93.36002632106968,
          92.79295033648646,
          92.22351448108122,
          91.65553711371045,
          91.0895745974768,
          90.52529573042656,
          89.96217979304116,
          89.39971400013349,
          88.83744809590294,
          88.27499793311505,
          87.71197366694892,
          87.14789484180578,
          86.58226006798965,
          86.01460837758864,
          85.44442399264449,
          84.87128482975216,
          84.29489839665568,
          83.71503892357123,
          83.13155342711316,
          82.54450033453905,
          81.95408837857461,
          81.36064588772572,
          80.76479243340694
         ],
         "yaxis": "y"
        },
        {
         "hovertemplate": "Country=Cuba<br>x=%{x}<br>y=%{y}<extra></extra>",
         "legendgroup": "Cuba",
         "marker": {
          "color": "#00cc96",
          "symbol": "circle"
         },
         "mode": "markers",
         "name": "Cuba",
         "orientation": "v",
         "showlegend": true,
         "type": "scatter",
         "x": [
          1946,
          1947,
          1948,
          1949,
          1950,
          1951,
          1952,
          1953,
          1954,
          1955,
          1957,
          1956,
          1959,
          1960,
          1961,
          1962,
          1963,
          1965,
          1966,
          1967,
          1968,
          1969,
          1970,
          1971,
          1972,
          1973,
          1974,
          1975,
          1976,
          1977,
          1978,
          1979,
          1980,
          1981,
          1982,
          1983,
          1984,
          1985,
          1986,
          1987,
          1988,
          1989,
          1990,
          1991,
          1992,
          1993,
          1994,
          1995,
          1996,
          1997,
          1998,
          1999,
          2000,
          2001,
          2002,
          2003,
          2004,
          2005,
          2006,
          2007,
          2008,
          2009,
          2010,
          2011,
          2012,
          2013,
          2014,
          2015,
          2016,
          2017,
          2018,
          2019
         ],
         "xaxis": "x",
         "y": [
          86.66666666666667,
          22.22222222222222,
          91.66666666666666,
          60,
          91.66666666666666,
          100,
          80,
          44.44444444444444,
          80,
          100,
          50,
          100,
          87.5,
          100,
          53.333333333333336,
          80,
          100,
          66.66666666666666,
          81.25,
          85.71428571428571,
          33.33333333333333,
          85.71428571428571,
          93.33333333333333,
          90.9090909090909,
          100,
          100,
          100,
          90.9090909090909,
          100,
          100,
          87.5,
          95.23809523809523,
          86.66666666666667,
          94.11764705882352,
          100,
          100,
          100,
          100,
          100,
          100,
          100,
          100,
          100,
          86.66666666666667,
          100,
          100,
          91.66666666666666,
          92.85714285714286,
          91.66666666666666,
          91.66666666666666,
          100,
          100,
          100,
          100,
          100,
          100,
          100,
          90,
          94.11764705882352,
          100,
          92.85714285714286,
          92.85714285714286,
          100,
          100,
          100,
          100,
          100,
          90,
          90.9090909090909,
          93.75,
          66.66666666666666,
          87.5
         ],
         "yaxis": "y"
        },
        {
         "hovertemplate": "<b>LOWESS trendline</b><br><br>Country=Cuba<br>x=%{x}<br>y=%{y} <b>(trend)</b><extra></extra>",
         "legendgroup": "Cuba",
         "marker": {
          "color": "#00cc96",
          "symbol": "circle"
         },
         "mode": "lines",
         "name": "Cuba",
         "showlegend": false,
         "type": "scatter",
         "x": [
          1946,
          1947,
          1948,
          1949,
          1950,
          1951,
          1952,
          1953,
          1954,
          1955,
          1956,
          1957,
          1959,
          1960,
          1961,
          1962,
          1963,
          1965,
          1966,
          1967,
          1968,
          1969,
          1970,
          1971,
          1972,
          1973,
          1974,
          1975,
          1976,
          1977,
          1978,
          1979,
          1980,
          1981,
          1982,
          1983,
          1984,
          1985,
          1986,
          1987,
          1988,
          1989,
          1990,
          1991,
          1992,
          1993,
          1994,
          1995,
          1996,
          1997,
          1998,
          1999,
          2000,
          2001,
          2002,
          2003,
          2004,
          2005,
          2006,
          2007,
          2008,
          2009,
          2010,
          2011,
          2012,
          2013,
          2014,
          2015,
          2016,
          2017,
          2018,
          2019
         ],
         "xaxis": "x",
         "y": [
          87.89647846949019,
          88.08463171388988,
          88.27507553774925,
          88.4680635052481,
          88.66374363294199,
          88.86223567367432,
          89.06349578906291,
          89.26726227567633,
          89.47347924625639,
          89.68222151244329,
          89.89380531689987,
          90.10834232781691,
          90.5452838922437,
          90.76690816227928,
          90.98999159885092,
          91.21363218844216,
          91.43664729436342,
          91.87515052562806,
          92.08615721406971,
          92.28781888341534,
          92.47807743251562,
          92.65871404075287,
          92.83950806315237,
          93.09804237554056,
          93.36871194639507,
          93.64945981448392,
          93.93694101503735,
          94.22431442341271,
          94.50651580567694,
          94.78368756213445,
          95.05451794963645,
          95.31620661964119,
          95.56372659879789,
          95.79471387222743,
          96.01012530470658,
          96.20976437067903,
          96.39241380729375,
          96.55625664329307,
          96.7002092682977,
          96.82356544468767,
          96.97463213232737,
          97.04681611962397,
          97.10329582011977,
          97.1491899779343,
          97.18807920360103,
          97.22405351142373,
          97.25631296836727,
          97.28029997345793,
          97.28973184703904,
          97.24766047405971,
          97.17824530544412,
          97.08937007887047,
          96.98874621986242,
          96.8812253203539,
          96.7696309642017,
          96.65559868515544,
          96.54006291301944,
          96.42351542787664,
          96.30620520346582,
          96.18840082316551,
          96.0703122156254,
          95.95199049147577,
          95.833489429136,
          95.71486505178467,
          95.59601301763598,
          95.47664775925062,
          95.35631857816503,
          95.23441926088466,
          95.11026121648035,
          94.9833371036375,
          94.85333533946857,
          94.72003222844228
         ],
         "yaxis": "y"
        }
       ],
       "layout": {
        "autosize": true,
        "legend": {
         "title": {
          "text": "Country"
         },
         "tracegroupgap": 0
        },
        "margin": {
         "t": 60
        },
        "template": {
         "data": {
          "bar": [
           {
            "error_x": {
             "color": "#2a3f5f"
            },
            "error_y": {
             "color": "#2a3f5f"
            },
            "marker": {
             "line": {
              "color": "#E5ECF6",
              "width": 0.5
             },
             "pattern": {
              "fillmode": "overlay",
              "size": 10,
              "solidity": 0.2
             }
            },
            "type": "bar"
           }
          ],
          "barpolar": [
           {
            "marker": {
             "line": {
              "color": "#E5ECF6",
              "width": 0.5
             },
             "pattern": {
              "fillmode": "overlay",
              "size": 10,
              "solidity": 0.2
             }
            },
            "type": "barpolar"
           }
          ],
          "carpet": [
           {
            "aaxis": {
             "endlinecolor": "#2a3f5f",
             "gridcolor": "white",
             "linecolor": "white",
             "minorgridcolor": "white",
             "startlinecolor": "#2a3f5f"
            },
            "baxis": {
             "endlinecolor": "#2a3f5f",
             "gridcolor": "white",
             "linecolor": "white",
             "minorgridcolor": "white",
             "startlinecolor": "#2a3f5f"
            },
            "type": "carpet"
           }
          ],
          "choropleth": [
           {
            "colorbar": {
             "outlinewidth": 0,
             "ticks": ""
            },
            "type": "choropleth"
           }
          ],
          "contour": [
           {
            "colorbar": {
             "outlinewidth": 0,
             "ticks": ""
            },
            "colorscale": [
             [
              0,
              "#0d0887"
             ],
             [
              0.1111111111111111,
              "#46039f"
             ],
             [
              0.2222222222222222,
              "#7201a8"
             ],
             [
              0.3333333333333333,
              "#9c179e"
             ],
             [
              0.4444444444444444,
              "#bd3786"
             ],
             [
              0.5555555555555556,
              "#d8576b"
             ],
             [
              0.6666666666666666,
              "#ed7953"
             ],
             [
              0.7777777777777778,
              "#fb9f3a"
             ],
             [
              0.8888888888888888,
              "#fdca26"
             ],
             [
              1,
              "#f0f921"
             ]
            ],
            "type": "contour"
           }
          ],
          "contourcarpet": [
           {
            "colorbar": {
             "outlinewidth": 0,
             "ticks": ""
            },
            "type": "contourcarpet"
           }
          ],
          "heatmap": [
           {
            "colorbar": {
             "outlinewidth": 0,
             "ticks": ""
            },
            "colorscale": [
             [
              0,
              "#0d0887"
             ],
             [
              0.1111111111111111,
              "#46039f"
             ],
             [
              0.2222222222222222,
              "#7201a8"
             ],
             [
              0.3333333333333333,
              "#9c179e"
             ],
             [
              0.4444444444444444,
              "#bd3786"
             ],
             [
              0.5555555555555556,
              "#d8576b"
             ],
             [
              0.6666666666666666,
              "#ed7953"
             ],
             [
              0.7777777777777778,
              "#fb9f3a"
             ],
             [
              0.8888888888888888,
              "#fdca26"
             ],
             [
              1,
              "#f0f921"
             ]
            ],
            "type": "heatmap"
           }
          ],
          "heatmapgl": [
           {
            "colorbar": {
             "outlinewidth": 0,
             "ticks": ""
            },
            "colorscale": [
             [
              0,
              "#0d0887"
             ],
             [
              0.1111111111111111,
              "#46039f"
             ],
             [
              0.2222222222222222,
              "#7201a8"
             ],
             [
              0.3333333333333333,
              "#9c179e"
             ],
             [
              0.4444444444444444,
              "#bd3786"
             ],
             [
              0.5555555555555556,
              "#d8576b"
             ],
             [
              0.6666666666666666,
              "#ed7953"
             ],
             [
              0.7777777777777778,
              "#fb9f3a"
             ],
             [
              0.8888888888888888,
              "#fdca26"
             ],
             [
              1,
              "#f0f921"
             ]
            ],
            "type": "heatmapgl"
           }
          ],
          "histogram": [
           {
            "marker": {
             "pattern": {
              "fillmode": "overlay",
              "size": 10,
              "solidity": 0.2
             }
            },
            "type": "histogram"
           }
          ],
          "histogram2d": [
           {
            "colorbar": {
             "outlinewidth": 0,
             "ticks": ""
            },
            "colorscale": [
             [
              0,
              "#0d0887"
             ],
             [
              0.1111111111111111,
              "#46039f"
             ],
             [
              0.2222222222222222,
              "#7201a8"
             ],
             [
              0.3333333333333333,
              "#9c179e"
             ],
             [
              0.4444444444444444,
              "#bd3786"
             ],
             [
              0.5555555555555556,
              "#d8576b"
             ],
             [
              0.6666666666666666,
              "#ed7953"
             ],
             [
              0.7777777777777778,
              "#fb9f3a"
             ],
             [
              0.8888888888888888,
              "#fdca26"
             ],
             [
              1,
              "#f0f921"
             ]
            ],
            "type": "histogram2d"
           }
          ],
          "histogram2dcontour": [
           {
            "colorbar": {
             "outlinewidth": 0,
             "ticks": ""
            },
            "colorscale": [
             [
              0,
              "#0d0887"
             ],
             [
              0.1111111111111111,
              "#46039f"
             ],
             [
              0.2222222222222222,
              "#7201a8"
             ],
             [
              0.3333333333333333,
              "#9c179e"
             ],
             [
              0.4444444444444444,
              "#bd3786"
             ],
             [
              0.5555555555555556,
              "#d8576b"
             ],
             [
              0.6666666666666666,
              "#ed7953"
             ],
             [
              0.7777777777777778,
              "#fb9f3a"
             ],
             [
              0.8888888888888888,
              "#fdca26"
             ],
             [
              1,
              "#f0f921"
             ]
            ],
            "type": "histogram2dcontour"
           }
          ],
          "mesh3d": [
           {
            "colorbar": {
             "outlinewidth": 0,
             "ticks": ""
            },
            "type": "mesh3d"
           }
          ],
          "parcoords": [
           {
            "line": {
             "colorbar": {
              "outlinewidth": 0,
              "ticks": ""
             }
            },
            "type": "parcoords"
           }
          ],
          "pie": [
           {
            "automargin": true,
            "type": "pie"
           }
          ],
          "scatter": [
           {
            "fillpattern": {
             "fillmode": "overlay",
             "size": 10,
             "solidity": 0.2
            },
            "type": "scatter"
           }
          ],
          "scatter3d": [
           {
            "line": {
             "colorbar": {
              "outlinewidth": 0,
              "ticks": ""
             }
            },
            "marker": {
             "colorbar": {
              "outlinewidth": 0,
              "ticks": ""
             }
            },
            "type": "scatter3d"
           }
          ],
          "scattercarpet": [
           {
            "marker": {
             "colorbar": {
              "outlinewidth": 0,
              "ticks": ""
             }
            },
            "type": "scattercarpet"
           }
          ],
          "scattergeo": [
           {
            "marker": {
             "colorbar": {
              "outlinewidth": 0,
              "ticks": ""
             }
            },
            "type": "scattergeo"
           }
          ],
          "scattergl": [
           {
            "marker": {
             "colorbar": {
              "outlinewidth": 0,
              "ticks": ""
             }
            },
            "type": "scattergl"
           }
          ],
          "scattermapbox": [
           {
            "marker": {
             "colorbar": {
              "outlinewidth": 0,
              "ticks": ""
             }
            },
            "type": "scattermapbox"
           }
          ],
          "scatterpolar": [
           {
            "marker": {
             "colorbar": {
              "outlinewidth": 0,
              "ticks": ""
             }
            },
            "type": "scatterpolar"
           }
          ],
          "scatterpolargl": [
           {
            "marker": {
             "colorbar": {
              "outlinewidth": 0,
              "ticks": ""
             }
            },
            "type": "scatterpolargl"
           }
          ],
          "scatterternary": [
           {
            "marker": {
             "colorbar": {
              "outlinewidth": 0,
              "ticks": ""
             }
            },
            "type": "scatterternary"
           }
          ],
          "surface": [
           {
            "colorbar": {
             "outlinewidth": 0,
             "ticks": ""
            },
            "colorscale": [
             [
              0,
              "#0d0887"
             ],
             [
              0.1111111111111111,
              "#46039f"
             ],
             [
              0.2222222222222222,
              "#7201a8"
             ],
             [
              0.3333333333333333,
              "#9c179e"
             ],
             [
              0.4444444444444444,
              "#bd3786"
             ],
             [
              0.5555555555555556,
              "#d8576b"
             ],
             [
              0.6666666666666666,
              "#ed7953"
             ],
             [
              0.7777777777777778,
              "#fb9f3a"
             ],
             [
              0.8888888888888888,
              "#fdca26"
             ],
             [
              1,
              "#f0f921"
             ]
            ],
            "type": "surface"
           }
          ],
          "table": [
           {
            "cells": {
             "fill": {
              "color": "#EBF0F8"
             },
             "line": {
              "color": "white"
             }
            },
            "header": {
             "fill": {
              "color": "#C8D4E3"
             },
             "line": {
              "color": "white"
             }
            },
            "type": "table"
           }
          ]
         },
         "layout": {
          "annotationdefaults": {
           "arrowcolor": "#2a3f5f",
           "arrowhead": 0,
           "arrowwidth": 1
          },
          "autotypenumbers": "strict",
          "coloraxis": {
           "colorbar": {
            "outlinewidth": 0,
            "ticks": ""
           }
          },
          "colorscale": {
           "diverging": [
            [
             0,
             "#8e0152"
            ],
            [
             0.1,
             "#c51b7d"
            ],
            [
             0.2,
             "#de77ae"
            ],
            [
             0.3,
             "#f1b6da"
            ],
            [
             0.4,
             "#fde0ef"
            ],
            [
             0.5,
             "#f7f7f7"
            ],
            [
             0.6,
             "#e6f5d0"
            ],
            [
             0.7,
             "#b8e186"
            ],
            [
             0.8,
             "#7fbc41"
            ],
            [
             0.9,
             "#4d9221"
            ],
            [
             1,
             "#276419"
            ]
           ],
           "sequential": [
            [
             0,
             "#0d0887"
            ],
            [
             0.1111111111111111,
             "#46039f"
            ],
            [
             0.2222222222222222,
             "#7201a8"
            ],
            [
             0.3333333333333333,
             "#9c179e"
            ],
            [
             0.4444444444444444,
             "#bd3786"
            ],
            [
             0.5555555555555556,
             "#d8576b"
            ],
            [
             0.6666666666666666,
             "#ed7953"
            ],
            [
             0.7777777777777778,
             "#fb9f3a"
            ],
            [
             0.8888888888888888,
             "#fdca26"
            ],
            [
             1,
             "#f0f921"
            ]
           ],
           "sequentialminus": [
            [
             0,
             "#0d0887"
            ],
            [
             0.1111111111111111,
             "#46039f"
            ],
            [
             0.2222222222222222,
             "#7201a8"
            ],
            [
             0.3333333333333333,
             "#9c179e"
            ],
            [
             0.4444444444444444,
             "#bd3786"
            ],
            [
             0.5555555555555556,
             "#d8576b"
            ],
            [
             0.6666666666666666,
             "#ed7953"
            ],
            [
             0.7777777777777778,
             "#fb9f3a"
            ],
            [
             0.8888888888888888,
             "#fdca26"
            ],
            [
             1,
             "#f0f921"
            ]
           ]
          },
          "colorway": [
           "#636efa",
           "#EF553B",
           "#00cc96",
           "#ab63fa",
           "#FFA15A",
           "#19d3f3",
           "#FF6692",
           "#B6E880",
           "#FF97FF",
           "#FECB52"
          ],
          "font": {
           "color": "#2a3f5f"
          },
          "geo": {
           "bgcolor": "white",
           "lakecolor": "white",
           "landcolor": "#E5ECF6",
           "showlakes": true,
           "showland": true,
           "subunitcolor": "white"
          },
          "hoverlabel": {
           "align": "left"
          },
          "hovermode": "closest",
          "mapbox": {
           "style": "light"
          },
          "paper_bgcolor": "white",
          "plot_bgcolor": "#E5ECF6",
          "polar": {
           "angularaxis": {
            "gridcolor": "white",
            "linecolor": "white",
            "ticks": ""
           },
           "bgcolor": "#E5ECF6",
           "radialaxis": {
            "gridcolor": "white",
            "linecolor": "white",
            "ticks": ""
           }
          },
          "scene": {
           "xaxis": {
            "backgroundcolor": "#E5ECF6",
            "gridcolor": "white",
            "gridwidth": 2,
            "linecolor": "white",
            "showbackground": true,
            "ticks": "",
            "zerolinecolor": "white"
           },
           "yaxis": {
            "backgroundcolor": "#E5ECF6",
            "gridcolor": "white",
            "gridwidth": 2,
            "linecolor": "white",
            "showbackground": true,
            "ticks": "",
            "zerolinecolor": "white"
           },
           "zaxis": {
            "backgroundcolor": "#E5ECF6",
            "gridcolor": "white",
            "gridwidth": 2,
            "linecolor": "white",
            "showbackground": true,
            "ticks": "",
            "zerolinecolor": "white"
           }
          },
          "shapedefaults": {
           "line": {
            "color": "#2a3f5f"
           }
          },
          "ternary": {
           "aaxis": {
            "gridcolor": "white",
            "linecolor": "white",
            "ticks": ""
           },
           "baxis": {
            "gridcolor": "white",
            "linecolor": "white",
            "ticks": ""
           },
           "bgcolor": "#E5ECF6",
           "caxis": {
            "gridcolor": "white",
            "linecolor": "white",
            "ticks": ""
           }
          },
          "title": {
           "x": 0.05
          },
          "xaxis": {
           "automargin": true,
           "gridcolor": "white",
           "linecolor": "white",
           "ticks": "",
           "title": {
            "standoff": 15
           },
           "zerolinecolor": "white",
           "zerolinewidth": 2
          },
          "yaxis": {
           "automargin": true,
           "gridcolor": "white",
           "linecolor": "white",
           "ticks": "",
           "title": {
            "standoff": 15
           },
           "zerolinecolor": "white",
           "zerolinewidth": 2
          }
         }
        },
        "title": {
         "text": "Colonialism<br>",
         "x": 0.5,
         "xanchor": "center",
         "y": 0.9,
         "yanchor": "top"
        },
        "xaxis": {
         "anchor": "y",
         "autorange": true,
         "domain": [
          0,
          1
         ],
         "range": [
          1941.3373253493014,
          2023.6626746506986
         ],
         "title": {
          "text": "Year"
         },
         "type": "linear"
        },
        "yaxis": {
         "anchor": "x",
         "autorange": true,
         "domain": [
          0,
          1
         ],
         "range": [
          -7.742782152230971,
          107.74278215223097
         ],
         "title": {
          "text": "% Yes"
         },
         "type": "linear"
        }
       }
      },
      "image/png": "[encoded data removed]",
      "text/html": [
       "<div>                            <div id=\"6deca984-0fab-44f1-80c4-7ff7a83e97d1\" class=\"plotly-graph-div\" style=\"height:525px; width:100%;\"></div>            <script type=\"text/javascript\">                require([\"plotly\"], function(Plotly) {                    window.PLOTLYENV=window.PLOTLYENV || {};                                    if (document.getElementById(\"6deca984-0fab-44f1-80c4-7ff7a83e97d1\")) {                    Plotly.newPlot(                        \"6deca984-0fab-44f1-80c4-7ff7a83e97d1\",                        [{\"hovertemplate\":\"Country=Honduras\\u003cbr\\u003ex=%{x}\\u003cbr\\u003ey=%{y}\\u003cextra\\u003e\\u003c\\u002fextra\\u003e\",\"legendgroup\":\"Honduras\",\"marker\":{\"color\":\"#636efa\",\"symbol\":\"circle\"},\"mode\":\"markers\",\"name\":\"Honduras\",\"orientation\":\"v\",\"showlegend\":true,\"x\":[1946,1947,1948,1949,1950,1951,1952,1953,1954,1955,1957,1956,1959,1960,1961,1962,1963,1965,1966,1967,1968,1969,1970,1971,1972,1973,1974,1975,1976,1977,1978,1979,1980,1981,1982,1983,1984,1985,1986,1987,1988,1989,1990,1991,1992,1993,1994,1995,1996,1997,1998,1999,2000,2001,2002,2003,2004,2005,2006,2007,2008,2009,2010,2011,2012,2013,2014,2015,2016,2017,2018,2019],\"xaxis\":\"x\",\"y\":[86.66666666666667,0.0,83.33333333333334,9.090909090909092,33.33333333333333,100.0,81.81818181818183,22.22222222222222,75.0,80.0,44.44444444444444,100.0,37.5,54.54545454545454,66.66666666666666,47.61904761904761,100.0,40.0,75.0,91.66666666666666,44.44444444444444,50.0,71.42857142857143,71.42857142857143,75.0,73.91304347826086,55.55555555555556,73.33333333333333,42.857142857142854,55.55555555555556,57.14285714285714,65.0,81.25,68.75,77.77777777777779,100.0,84.21052631578947,77.77777777777779,71.42857142857143,83.33333333333334,84.61538461538461,92.3076923076923,93.33333333333333,100.0,100.0,90.9090909090909,100.0,92.85714285714286,91.66666666666666,91.66666666666666,80.0,100.0,92.3076923076923,100.0,90.9090909090909,80.0,88.88888888888889,90.0,82.35294117647058,90.9090909090909,80.0,92.3076923076923,92.3076923076923,91.66666666666666,53.84615384615385,61.53846153846154,88.88888888888889,80.0,81.81818181818183,56.25,66.66666666666666,100.0],\"yaxis\":\"y\",\"type\":\"scatter\"},{\"hovertemplate\":\"\\u003cb\\u003eLOWESS trendline\\u003c\\u002fb\\u003e\\u003cbr\\u003e\\u003cbr\\u003eCountry=Honduras\\u003cbr\\u003ex=%{x}\\u003cbr\\u003ey=%{y} \\u003cb\\u003e(trend)\\u003c\\u002fb\\u003e\\u003cextra\\u003e\\u003c\\u002fextra\\u003e\",\"legendgroup\":\"Honduras\",\"marker\":{\"color\":\"#636efa\",\"symbol\":\"circle\"},\"mode\":\"lines\",\"name\":\"Honduras\",\"showlegend\":false,\"x\":[1946,1947,1948,1949,1950,1951,1952,1953,1954,1955,1956,1957,1959,1960,1961,1962,1963,1965,1966,1967,1968,1969,1970,1971,1972,1973,1974,1975,1976,1977,1978,1979,1980,1981,1982,1983,1984,1985,1986,1987,1988,1989,1990,1991,1992,1993,1994,1995,1996,1997,1998,1999,2000,2001,2002,2003,2004,2005,2006,2007,2008,2009,2010,2011,2012,2013,2014,2015,2016,2017,2018,2019],\"xaxis\":\"x\",\"y\":[71.70411332836866,71.35929490379566,71.02990807795595,70.71609565424825,70.41754636276575,70.13395571174107,69.86550026368849,69.61192093739413,69.37243419739066,69.146250873317,68.93225313655901,68.72865465653756,68.3432247454436,68.15701140011308,67.97267662926075,67.78897677469372,67.6049729338723,67.23568037134069,67.05245821285986,66.87772166189558,66.72750230715859,66.63316864699304,66.63727311366274,67.09459140775508,67.66329515942593,68.3405599961445,69.12724343194625,70.01720266697191,70.98873326793553,72.0177868749783,73.08505889123144,74.16687626499784,75.24298335134496,76.30191654720997,77.34099031295861,78.35962566084834,79.35529429519589,80.32170703327348,81.25155613581067,82.1435421722391,83.22808840606999,84.08568964252501,84.90166192359,85.66790514676694,86.37704971181714,87.01813128956833,87.57369705439739,88.02693213883417,88.36195570751337,88.1672815092885,87.9081578840546,87.6266894333158,87.33868770758434,87.04707315527531,86.75065920087329,86.44729946625317,86.13511941726148,85.81289499627513,85.47972757275971,85.13491960823048,84.77802532981123,84.40868162330999,84.02669581389898,83.63177362859466,83.22344282986309,82.8012082984296,82.3651222523341,81.91573997216426,81.4535540530512,80.97905362262053,80.49282824841065,79.99600847404812],\"yaxis\":\"y\",\"type\":\"scatter\"},{\"hovertemplate\":\"Country=Mexico\\u003cbr\\u003ex=%{x}\\u003cbr\\u003ey=%{y}\\u003cextra\\u003e\\u003c\\u002fextra\\u003e\",\"legendgroup\":\"Mexico\",\"marker\":{\"color\":\"#EF553B\",\"symbol\":\"circle\"},\"mode\":\"markers\",\"name\":\"Mexico\",\"orientation\":\"v\",\"showlegend\":true,\"x\":[1946,1947,1948,1949,1950,1951,1952,1953,1954,1955,1957,1956,1959,1960,1961,1962,1963,1965,1966,1967,1968,1969,1970,1971,1972,1973,1974,1975,1976,1977,1978,1979,1980,1981,1982,1983,1984,1985,1986,1987,1988,1989,1990,1991,1992,1993,1994,1995,1996,1997,1998,1999,2000,2001,2002,2003,2004,2005,2006,2007,2008,2009,2010,2011,2012,2013,2014,2015,2016,2017,2018,2019],\"xaxis\":\"x\",\"y\":[85.71428571428571,33.33333333333333,91.66666666666666,46.666666666666664,83.33333333333334,100.0,80.0,88.88888888888889,80.0,80.0,77.77777777777779,100.0,87.5,72.72727272727273,50.0,47.61904761904761,100.0,58.333333333333336,52.94117647058824,71.42857142857143,36.36363636363637,50.0,64.70588235294117,71.42857142857143,87.5,87.5,100.0,86.36363636363636,94.73684210526315,92.85714285714286,81.25,95.23809523809523,93.75,100.0,100.0,100.0,100.0,100.0,100.0,100.0,100.0,100.0,100.0,100.0,92.85714285714286,100.0,84.61538461538461,92.85714285714286,91.66666666666666,91.66666666666666,100.0,92.3076923076923,92.3076923076923,91.66666666666666,90.9090909090909,90.0,88.88888888888889,90.0,93.75,90.9090909090909,86.66666666666667,92.85714285714286,84.61538461538461,83.33333333333334,84.61538461538461,84.61538461538461,77.77777777777779,80.0,81.81818181818183,68.75,33.33333333333333,93.75],\"yaxis\":\"y\",\"type\":\"scatter\"},{\"hovertemplate\":\"\\u003cb\\u003eLOWESS trendline\\u003c\\u002fb\\u003e\\u003cbr\\u003e\\u003cbr\\u003eCountry=Mexico\\u003cbr\\u003ex=%{x}\\u003cbr\\u003ey=%{y} \\u003cb\\u003e(trend)\\u003c\\u002fb\\u003e\\u003cextra\\u003e\\u003c\\u002fextra\\u003e\",\"legendgroup\":\"Mexico\",\"marker\":{\"color\":\"#EF553B\",\"symbol\":\"circle\"},\"mode\":\"lines\",\"name\":\"Mexico\",\"showlegend\":false,\"x\":[1946,1947,1948,1949,1950,1951,1952,1953,1954,1955,1956,1957,1959,1960,1961,1962,1963,1965,1966,1967,1968,1969,1970,1971,1972,1973,1974,1975,1976,1977,1978,1979,1980,1981,1982,1983,1984,1985,1986,1987,1988,1989,1990,1991,1992,1993,1994,1995,1996,1997,1998,1999,2000,2001,2002,2003,2004,2005,2006,2007,2008,2009,2010,2011,2012,2013,2014,2015,2016,2017,2018,2019],\"xaxis\":\"x\",\"y\":[83.12964667611796,83.2847364199222,83.44707056809177,83.61693499463499,83.794384792941,83.9794115922831,84.17194453914801,84.37165858877015,84.57820825976535,84.7911092558046,85.00993725088462,85.23430928799998,85.69706593756791,85.93401351834666,86.17339366085936,86.4142071453339,86.65515289116547,87.1282951267318,87.352555801311,87.56100921424849,87.74750583833247,87.91070072078817,88.05809602688967,88.43433877657156,88.81757341524366,89.21643690135454,89.64833050861412,90.125006365382,90.64732022110186,91.20545330973523,91.77660105595463,92.33598498828198,92.86013158911739,93.33000120947351,93.73807927993293,94.08164848832779,94.36372868787666,94.5916107448074,94.76845313565465,94.89601552843918,95.17758108360022,95.20412373206688,95.1828953970153,95.11428433602761,94.99367668666748,94.8147874513719,94.5748364648392,94.27364935685797,93.91100323417479,93.36002632106968,92.79295033648646,92.22351448108122,91.65553711371045,91.0895745974768,90.52529573042656,89.96217979304116,89.39971400013349,88.83744809590294,88.27499793311505,87.71197366694892,87.14789484180578,86.58226006798965,86.01460837758864,85.44442399264449,84.87128482975216,84.29489839665568,83.71503892357123,83.13155342711316,82.54450033453905,81.95408837857461,81.36064588772572,80.76479243340694],\"yaxis\":\"y\",\"type\":\"scatter\"},{\"hovertemplate\":\"Country=Cuba\\u003cbr\\u003ex=%{x}\\u003cbr\\u003ey=%{y}\\u003cextra\\u003e\\u003c\\u002fextra\\u003e\",\"legendgroup\":\"Cuba\",\"marker\":{\"color\":\"#00cc96\",\"symbol\":\"circle\"},\"mode\":\"markers\",\"name\":\"Cuba\",\"orientation\":\"v\",\"showlegend\":true,\"x\":[1946,1947,1948,1949,1950,1951,1952,1953,1954,1955,1957,1956,1959,1960,1961,1962,1963,1965,1966,1967,1968,1969,1970,1971,1972,1973,1974,1975,1976,1977,1978,1979,1980,1981,1982,1983,1984,1985,1986,1987,1988,1989,1990,1991,1992,1993,1994,1995,1996,1997,1998,1999,2000,2001,2002,2003,2004,2005,2006,2007,2008,2009,2010,2011,2012,2013,2014,2015,2016,2017,2018,2019],\"xaxis\":\"x\",\"y\":[86.66666666666667,22.22222222222222,91.66666666666666,60.0,91.66666666666666,100.0,80.0,44.44444444444444,80.0,100.0,50.0,100.0,87.5,100.0,53.333333333333336,80.0,100.0,66.66666666666666,81.25,85.71428571428571,33.33333333333333,85.71428571428571,93.33333333333333,90.9090909090909,100.0,100.0,100.0,90.9090909090909,100.0,100.0,87.5,95.23809523809523,86.66666666666667,94.11764705882352,100.0,100.0,100.0,100.0,100.0,100.0,100.0,100.0,100.0,86.66666666666667,100.0,100.0,91.66666666666666,92.85714285714286,91.66666666666666,91.66666666666666,100.0,100.0,100.0,100.0,100.0,100.0,100.0,90.0,94.11764705882352,100.0,92.85714285714286,92.85714285714286,100.0,100.0,100.0,100.0,100.0,90.0,90.9090909090909,93.75,66.66666666666666,87.5],\"yaxis\":\"y\",\"type\":\"scatter\"},{\"hovertemplate\":\"\\u003cb\\u003eLOWESS trendline\\u003c\\u002fb\\u003e\\u003cbr\\u003e\\u003cbr\\u003eCountry=Cuba\\u003cbr\\u003ex=%{x}\\u003cbr\\u003ey=%{y} \\u003cb\\u003e(trend)\\u003c\\u002fb\\u003e\\u003cextra\\u003e\\u003c\\u002fextra\\u003e\",\"legendgroup\":\"Cuba\",\"marker\":{\"color\":\"#00cc96\",\"symbol\":\"circle\"},\"mode\":\"lines\",\"name\":\"Cuba\",\"showlegend\":false,\"x\":[1946,1947,1948,1949,1950,1951,1952,1953,1954,1955,1956,1957,1959,1960,1961,1962,1963,1965,1966,1967,1968,1969,1970,1971,1972,1973,1974,1975,1976,1977,1978,1979,1980,1981,1982,1983,1984,1985,1986,1987,1988,1989,1990,1991,1992,1993,1994,1995,1996,1997,1998,1999,2000,2001,2002,2003,2004,2005,2006,2007,2008,2009,2010,2011,2012,2013,2014,2015,2016,2017,2018,2019],\"xaxis\":\"x\",\"y\":[87.89647846949019,88.08463171388988,88.27507553774925,88.4680635052481,88.66374363294199,88.86223567367432,89.06349578906291,89.26726227567633,89.47347924625639,89.68222151244329,89.89380531689987,90.10834232781691,90.5452838922437,90.76690816227928,90.98999159885092,91.21363218844216,91.43664729436342,91.87515052562806,92.08615721406971,92.28781888341534,92.47807743251562,92.65871404075287,92.83950806315237,93.09804237554056,93.36871194639507,93.64945981448392,93.93694101503735,94.22431442341271,94.50651580567694,94.78368756213445,95.05451794963645,95.31620661964119,95.56372659879789,95.79471387222743,96.01012530470658,96.20976437067903,96.39241380729375,96.55625664329307,96.7002092682977,96.82356544468767,96.97463213232737,97.04681611962397,97.10329582011977,97.1491899779343,97.18807920360103,97.22405351142373,97.25631296836727,97.28029997345793,97.28973184703904,97.24766047405971,97.17824530544412,97.08937007887047,96.98874621986242,96.8812253203539,96.7696309642017,96.65559868515544,96.54006291301944,96.42351542787664,96.30620520346582,96.18840082316551,96.0703122156254,95.95199049147577,95.833489429136,95.71486505178467,95.59601301763598,95.47664775925062,95.35631857816503,95.23441926088466,95.11026121648035,94.9833371036375,94.85333533946857,94.72003222844228],\"yaxis\":\"y\",\"type\":\"scatter\"}],                        {\"template\":{\"data\":{\"histogram2dcontour\":[{\"type\":\"histogram2dcontour\",\"colorbar\":{\"outlinewidth\":0,\"ticks\":\"\"},\"colorscale\":[[0.0,\"#0d0887\"],[0.1111111111111111,\"#46039f\"],[0.2222222222222222,\"#7201a8\"],[0.3333333333333333,\"#9c179e\"],[0.4444444444444444,\"#bd3786\"],[0.5555555555555556,\"#d8576b\"],[0.6666666666666666,\"#ed7953\"],[0.7777777777777778,\"#fb9f3a\"],[0.8888888888888888,\"#fdca26\"],[1.0,\"#f0f921\"]]}],\"choropleth\":[{\"type\":\"choropleth\",\"colorbar\":{\"outlinewidth\":0,\"ticks\":\"\"}}],\"histogram2d\":[{\"type\":\"histogram2d\",\"colorbar\":{\"outlinewidth\":0,\"ticks\":\"\"},\"colorscale\":[[0.0,\"#0d0887\"],[0.1111111111111111,\"#46039f\"],[0.2222222222222222,\"#7201a8\"],[0.3333333333333333,\"#9c179e\"],[0.4444444444444444,\"#bd3786\"],[0.5555555555555556,\"#d8576b\"],[0.6666666666666666,\"#ed7953\"],[0.7777777777777778,\"#fb9f3a\"],[0.8888888888888888,\"#fdca26\"],[1.0,\"#f0f921\"]]}],\"heatmap\":[{\"type\":\"heatmap\",\"colorbar\":{\"outlinewidth\":0,\"ticks\":\"\"},\"colorscale\":[[0.0,\"#0d0887\"],[0.1111111111111111,\"#46039f\"],[0.2222222222222222,\"#7201a8\"],[0.3333333333333333,\"#9c179e\"],[0.4444444444444444,\"#bd3786\"],[0.5555555555555556,\"#d8576b\"],[0.6666666666666666,\"#ed7953\"],[0.7777777777777778,\"#fb9f3a\"],[0.8888888888888888,\"#fdca26\"],[1.0,\"#f0f921\"]]}],\"heatmapgl\":[{\"type\":\"heatmapgl\",\"colorbar\":{\"outlinewidth\":0,\"ticks\":\"\"},\"colorscale\":[[0.0,\"#0d0887\"],[0.1111111111111111,\"#46039f\"],[0.2222222222222222,\"#7201a8\"],[0.3333333333333333,\"#9c179e\"],[0.4444444444444444,\"#bd3786\"],[0.5555555555555556,\"#d8576b\"],[0.6666666666666666,\"#ed7953\"],[0.7777777777777778,\"#fb9f3a\"],[0.8888888888888888,\"#fdca26\"],[1.0,\"#f0f921\"]]}],\"contourcarpet\":[{\"type\":\"contourcarpet\",\"colorbar\":{\"outlinewidth\":0,\"ticks\":\"\"}}],\"contour\":[{\"type\":\"contour\",\"colorbar\":{\"outlinewidth\":0,\"ticks\":\"\"},\"colorscale\":[[0.0,\"#0d0887\"],[0.1111111111111111,\"#46039f\"],[0.2222222222222222,\"#7201a8\"],[0.3333333333333333,\"#9c179e\"],[0.4444444444444444,\"#bd3786\"],[0.5555555555555556,\"#d8576b\"],[0.6666666666666666,\"#ed7953\"],[0.7777777777777778,\"#fb9f3a\"],[0.8888888888888888,\"#fdca26\"],[1.0,\"#f0f921\"]]}],\"surface\":[{\"type\":\"surface\",\"colorbar\":{\"outlinewidth\":0,\"ticks\":\"\"},\"colorscale\":[[0.0,\"#0d0887\"],[0.1111111111111111,\"#46039f\"],[0.2222222222222222,\"#7201a8\"],[0.3333333333333333,\"#9c179e\"],[0.4444444444444444,\"#bd3786\"],[0.5555555555555556,\"#d8576b\"],[0.6666666666666666,\"#ed7953\"],[0.7777777777777778,\"#fb9f3a\"],[0.8888888888888888,\"#fdca26\"],[1.0,\"#f0f921\"]]}],\"mesh3d\":[{\"type\":\"mesh3d\",\"colorbar\":{\"outlinewidth\":0,\"ticks\":\"\"}}],\"scatter\":[{\"fillpattern\":{\"fillmode\":\"overlay\",\"size\":10,\"solidity\":0.2},\"type\":\"scatter\"}],\"parcoords\":[{\"type\":\"parcoords\",\"line\":{\"colorbar\":{\"outlinewidth\":0,\"ticks\":\"\"}}}],\"scatterpolargl\":[{\"type\":\"scatterpolargl\",\"marker\":{\"colorbar\":{\"outlinewidth\":0,\"ticks\":\"\"}}}],\"bar\":[{\"error_x\":{\"color\":\"#2a3f5f\"},\"error_y\":{\"color\":\"#2a3f5f\"},\"marker\":{\"line\":{\"color\":\"#E5ECF6\",\"width\":0.5},\"pattern\":{\"fillmode\":\"overlay\",\"size\":10,\"solidity\":0.2}},\"type\":\"bar\"}],\"scattergeo\":[{\"type\":\"scattergeo\",\"marker\":{\"colorbar\":{\"outlinewidth\":0,\"ticks\":\"\"}}}],\"scatterpolar\":[{\"type\":\"scatterpolar\",\"marker\":{\"colorbar\":{\"outlinewidth\":0,\"ticks\":\"\"}}}],\"histogram\":[{\"marker\":{\"pattern\":{\"fillmode\":\"overlay\",\"size\":10,\"solidity\":0.2}},\"type\":\"histogram\"}],\"scattergl\":[{\"type\":\"scattergl\",\"marker\":{\"colorbar\":{\"outlinewidth\":0,\"ticks\":\"\"}}}],\"scatter3d\":[{\"type\":\"scatter3d\",\"line\":{\"colorbar\":{\"outlinewidth\":0,\"ticks\":\"\"}},\"marker\":{\"colorbar\":{\"outlinewidth\":0,\"ticks\":\"\"}}}],\"scattermapbox\":[{\"type\":\"scattermapbox\",\"marker\":{\"colorbar\":{\"outlinewidth\":0,\"ticks\":\"\"}}}],\"scatterternary\":[{\"type\":\"scatterternary\",\"marker\":{\"colorbar\":{\"outlinewidth\":0,\"ticks\":\"\"}}}],\"scattercarpet\":[{\"type\":\"scattercarpet\",\"marker\":{\"colorbar\":{\"outlinewidth\":0,\"ticks\":\"\"}}}],\"carpet\":[{\"aaxis\":{\"endlinecolor\":\"#2a3f5f\",\"gridcolor\":\"white\",\"linecolor\":\"white\",\"minorgridcolor\":\"white\",\"startlinecolor\":\"#2a3f5f\"},\"baxis\":{\"endlinecolor\":\"#2a3f5f\",\"gridcolor\":\"white\",\"linecolor\":\"white\",\"minorgridcolor\":\"white\",\"startlinecolor\":\"#2a3f5f\"},\"type\":\"carpet\"}],\"table\":[{\"cells\":{\"fill\":{\"color\":\"#EBF0F8\"},\"line\":{\"color\":\"white\"}},\"header\":{\"fill\":{\"color\":\"#C8D4E3\"},\"line\":{\"color\":\"white\"}},\"type\":\"table\"}],\"barpolar\":[{\"marker\":{\"line\":{\"color\":\"#E5ECF6\",\"width\":0.5},\"pattern\":{\"fillmode\":\"overlay\",\"size\":10,\"solidity\":0.2}},\"type\":\"barpolar\"}],\"pie\":[{\"automargin\":true,\"type\":\"pie\"}]},\"layout\":{\"autotypenumbers\":\"strict\",\"colorway\":[\"#636efa\",\"#EF553B\",\"#00cc96\",\"#ab63fa\",\"#FFA15A\",\"#19d3f3\",\"#FF6692\",\"#B6E880\",\"#FF97FF\",\"#FECB52\"],\"font\":{\"color\":\"#2a3f5f\"},\"hovermode\":\"closest\",\"hoverlabel\":{\"align\":\"left\"},\"paper_bgcolor\":\"white\",\"plot_bgcolor\":\"#E5ECF6\",\"polar\":{\"bgcolor\":\"#E5ECF6\",\"angularaxis\":{\"gridcolor\":\"white\",\"linecolor\":\"white\",\"ticks\":\"\"},\"radialaxis\":{\"gridcolor\":\"white\",\"linecolor\":\"white\",\"ticks\":\"\"}},\"ternary\":{\"bgcolor\":\"#E5ECF6\",\"aaxis\":{\"gridcolor\":\"white\",\"linecolor\":\"white\",\"ticks\":\"\"},\"baxis\":{\"gridcolor\":\"white\",\"linecolor\":\"white\",\"ticks\":\"\"},\"caxis\":{\"gridcolor\":\"white\",\"linecolor\":\"white\",\"ticks\":\"\"}},\"coloraxis\":{\"colorbar\":{\"outlinewidth\":0,\"ticks\":\"\"}},\"colorscale\":{\"sequential\":[[0.0,\"#0d0887\"],[0.1111111111111111,\"#46039f\"],[0.2222222222222222,\"#7201a8\"],[0.3333333333333333,\"#9c179e\"],[0.4444444444444444,\"#bd3786\"],[0.5555555555555556,\"#d8576b\"],[0.6666666666666666,\"#ed7953\"],[0.7777777777777778,\"#fb9f3a\"],[0.8888888888888888,\"#fdca26\"],[1.0,\"#f0f921\"]],\"sequentialminus\":[[0.0,\"#0d0887\"],[0.1111111111111111,\"#46039f\"],[0.2222222222222222,\"#7201a8\"],[0.3333333333333333,\"#9c179e\"],[0.4444444444444444,\"#bd3786\"],[0.5555555555555556,\"#d8576b\"],[0.6666666666666666,\"#ed7953\"],[0.7777777777777778,\"#fb9f3a\"],[0.8888888888888888,\"#fdca26\"],[1.0,\"#f0f921\"]],\"diverging\":[[0,\"#8e0152\"],[0.1,\"#c51b7d\"],[0.2,\"#de77ae\"],[0.3,\"#f1b6da\"],[0.4,\"#fde0ef\"],[0.5,\"#f7f7f7\"],[0.6,\"#e6f5d0\"],[0.7,\"#b8e186\"],[0.8,\"#7fbc41\"],[0.9,\"#4d9221\"],[1,\"#276419\"]]},\"xaxis\":{\"gridcolor\":\"white\",\"linecolor\":\"white\",\"ticks\":\"\",\"title\":{\"standoff\":15},\"zerolinecolor\":\"white\",\"automargin\":true,\"zerolinewidth\":2},\"yaxis\":{\"gridcolor\":\"white\",\"linecolor\":\"white\",\"ticks\":\"\",\"title\":{\"standoff\":15},\"zerolinecolor\":\"white\",\"automargin\":true,\"zerolinewidth\":2},\"scene\":{\"xaxis\":{\"backgroundcolor\":\"#E5ECF6\",\"gridcolor\":\"white\",\"linecolor\":\"white\",\"showbackground\":true,\"ticks\":\"\",\"zerolinecolor\":\"white\",\"gridwidth\":2},\"yaxis\":{\"backgroundcolor\":\"#E5ECF6\",\"gridcolor\":\"white\",\"linecolor\":\"white\",\"showbackground\":true,\"ticks\":\"\",\"zerolinecolor\":\"white\",\"gridwidth\":2},\"zaxis\":{\"backgroundcolor\":\"#E5ECF6\",\"gridcolor\":\"white\",\"linecolor\":\"white\",\"showbackground\":true,\"ticks\":\"\",\"zerolinecolor\":\"white\",\"gridwidth\":2}},\"shapedefaults\":{\"line\":{\"color\":\"#2a3f5f\"}},\"annotationdefaults\":{\"arrowcolor\":\"#2a3f5f\",\"arrowhead\":0,\"arrowwidth\":1},\"geo\":{\"bgcolor\":\"white\",\"landcolor\":\"#E5ECF6\",\"subunitcolor\":\"white\",\"showland\":true,\"showlakes\":true,\"lakecolor\":\"white\"},\"title\":{\"x\":0.05},\"mapbox\":{\"style\":\"light\"}}},\"xaxis\":{\"anchor\":\"y\",\"domain\":[0.0,1.0],\"title\":{\"text\":\"Year\"}},\"yaxis\":{\"anchor\":\"x\",\"domain\":[0.0,1.0],\"title\":{\"text\":\"% Yes\"}},\"legend\":{\"title\":{\"text\":\"Country\"},\"tracegroupgap\":0},\"margin\":{\"t\":60},\"title\":{\"text\":\"Colonialism\\u003cbr\\u003e\",\"y\":0.9,\"x\":0.5,\"xanchor\":\"center\",\"yanchor\":\"top\"}},                        {\"responsive\": true}                    ).then(function(){\n",
       "                            \n",
       "var gd = document.getElementById('6deca984-0fab-44f1-80c4-7ff7a83e97d1');\n",
       "var x = new MutationObserver(function (mutations, observer) {{\n",
       "        var display = window.getComputedStyle(gd).display;\n",
       "        if (!display || display === 'none') {{\n",
       "            console.log([gd, 'removed!']);\n",
       "            Plotly.purge(gd);\n",
       "            observer.disconnect();\n",
       "        }}\n",
       "}});\n",
       "\n",
       "// Listen for the removal of the full notebook cells\n",
       "var notebookContainer = gd.closest('#notebook-container');\n",
       "if (notebookContainer) {{\n",
       "    x.observe(notebookContainer, {childList: true});\n",
       "}}\n",
       "\n",
       "// Listen for the clearing of the current output cell\n",
       "var outputEl = gd.closest('.output');\n",
       "if (outputEl) {{\n",
       "    x.observe(outputEl, {childList: true});\n",
       "}}\n",
       "\n",
       "                        })                };                });            </script>        </div>"
      ]
     },
     "metadata": {},
     "output_type": "display_data"
    },
    {
     "data": {
      "application/vnd.plotly.v1+json": {
       "config": {
        "plotlyServerURL": "https://plot.ly"
       },
       "data": [
        {
         "hovertemplate": "Country=Honduras<br>x=%{x}<br>y=%{y}<extra></extra>",
         "legendgroup": "Honduras",
         "marker": {
          "color": "#636efa",
          "symbol": "circle"
         },
         "mode": "markers",
         "name": "Honduras",
         "orientation": "v",
         "showlegend": true,
         "type": "scatter",
         "x": [
          1947,
          1948,
          1949,
          1950,
          1952,
          1957,
          1956,
          1961,
          1962,
          1963,
          1967,
          1969,
          1970,
          1971,
          1972,
          1973,
          1974,
          1975,
          1976,
          1977,
          1978,
          1979,
          1980,
          1981,
          1982,
          1983,
          1984,
          1985,
          1986,
          1987,
          1988,
          1989,
          1990,
          1991,
          1992,
          1993,
          1994,
          1995,
          1996,
          1997,
          1998,
          1999,
          2000,
          2001,
          2002,
          2004,
          2003,
          2005,
          2006,
          2007,
          2008,
          2009,
          2010,
          2011,
          2012,
          2013,
          2014,
          2015,
          2016,
          2017,
          2018,
          2019
         ],
         "xaxis": "x",
         "y": [
          57.14285714285714,
          90.9090909090909,
          14.285714285714285,
          0,
          0,
          100,
          100,
          25,
          100,
          0,
          30.76923076923077,
          0,
          25,
          0,
          80,
          80,
          16.666666666666664,
          50,
          0,
          46.15384615384615,
          46.666666666666664,
          56.52173913043478,
          80.95238095238095,
          61.29032258064516,
          100,
          82.6086956521739,
          82.6086956521739,
          82.6086956521739,
          72,
          63.33333333333333,
          72.72727272727273,
          78.26086956521739,
          85.18518518518519,
          96.42857142857143,
          92.3076923076923,
          100,
          93.33333333333333,
          89.47368421052632,
          90.47619047619048,
          95.45454545454545,
          90.9090909090909,
          100,
          95.23809523809523,
          100,
          85.71428571428571,
          35.294117647058826,
          12.5,
          66.66666666666666,
          83.33333333333334,
          94.44444444444444,
          82.35294117647058,
          88.88888888888889,
          87.5,
          75,
          41.17647058823529,
          56.25,
          53.333333333333336,
          40,
          23.076923076923077,
          25,
          18.75,
          14.285714285714285
         ],
         "yaxis": "y"
        },
        {
         "hovertemplate": "<b>LOWESS trendline</b><br><br>Country=Honduras<br>x=%{x}<br>y=%{y} <b>(trend)</b><extra></extra>",
         "legendgroup": "Honduras",
         "marker": {
          "color": "#636efa",
          "symbol": "circle"
         },
         "mode": "lines",
         "name": "Honduras",
         "showlegend": false,
         "type": "scatter",
         "x": [
          1947,
          1948,
          1949,
          1950,
          1952,
          1956,
          1957,
          1961,
          1962,
          1963,
          1967,
          1969,
          1970,
          1971,
          1972,
          1973,
          1974,
          1975,
          1976,
          1977,
          1978,
          1979,
          1980,
          1981,
          1982,
          1983,
          1984,
          1985,
          1986,
          1987,
          1988,
          1989,
          1990,
          1991,
          1992,
          1993,
          1994,
          1995,
          1996,
          1997,
          1998,
          1999,
          2000,
          2001,
          2002,
          2003,
          2004,
          2005,
          2006,
          2007,
          2008,
          2009,
          2010,
          2011,
          2012,
          2013,
          2014,
          2015,
          2016,
          2017,
          2018,
          2019
         ],
         "xaxis": "x",
         "y": [
          22.722058931640355,
          23.54946671875089,
          24.392652168665236,
          25.249984699216835,
          27.00234701041125,
          30.656809475068947,
          31.604793232171467,
          35.511341530240465,
          36.502203896587204,
          37.49035701400332,
          41.2569073441502,
          42.87902922292546,
          43.6168234875614,
          44.38824662395862,
          45.35344605421221,
          46.964402027923995,
          48.69813001588983,
          50.52595200583313,
          52.4341919004349,
          54.164180441832215,
          56.281776546721396,
          58.38786934110717,
          60.70571973833326,
          63.02741307623663,
          65.48093226482078,
          68.04333577939185,
          70.32485430066416,
          72.45545465203563,
          74.40850189701546,
          76.71752084116652,
          78.31819873048718,
          80.32382506748468,
          81.50259966180987,
          82.47059930910595,
          83.24630976117575,
          83.82416938657158,
          84.19037974070996,
          84.34659444606255,
          84.29480851169856,
          84.03367677660401,
          83.55652714205571,
          82.85468111794121,
          81.1137733147016,
          79.06538826275575,
          76.89087294355711,
          74.66637786866553,
          72.41350430912762,
          70.1388092633333,
          67.84598043554259,
          65.53726399653647,
          63.213174367451195,
          60.872580439159066,
          58.51321007912301,
          56.13169580320097,
          53.72374916530439,
          51.284833045451556,
          48.81122609297687,
          46.29950230237008,
          43.74645492111389,
          41.14968476067217,
          38.508181054172624,
          35.82223889339272
         ],
         "yaxis": "y"
        },
        {
         "hovertemplate": "Country=Mexico<br>x=%{x}<br>y=%{y}<extra></extra>",
         "legendgroup": "Mexico",
         "marker": {
          "color": "#EF553B",
          "symbol": "circle"
         },
         "mode": "markers",
         "name": "Mexico",
         "orientation": "v",
         "showlegend": true,
         "type": "scatter",
         "x": [
          1947,
          1948,
          1949,
          1950,
          1952,
          1957,
          1956,
          1961,
          1962,
          1963,
          1965,
          1967,
          1969,
          1970,
          1971,
          1972,
          1973,
          1974,
          1975,
          1976,
          1977,
          1978,
          1979,
          1980,
          1981,
          1982,
          1983,
          1984,
          1985,
          1986,
          1987,
          1988,
          1989,
          1990,
          1991,
          1992,
          1993,
          1994,
          1995,
          1996,
          1997,
          1998,
          1999,
          2000,
          2001,
          2002,
          2003,
          2004,
          2005,
          2006,
          2007,
          2008,
          2009,
          2010,
          2011,
          2012,
          2013,
          2014,
          2015,
          2016,
          2017,
          2018,
          2019
         ],
         "xaxis": "x",
         "y": [
          57.14285714285714,
          27.27272727272727,
          64.28571428571429,
          0,
          0,
          100,
          100,
          62.5,
          100,
          100,
          100,
          30.76923076923077,
          0,
          20,
          33.33333333333333,
          60,
          80,
          88.88888888888889,
          88.88888888888889,
          75,
          77.77777777777779,
          66.66666666666666,
          87.5,
          95.45454545454545,
          96.96969696969697,
          100,
          97.22222222222221,
          100,
          96.7741935483871,
          96.55172413793103,
          100,
          100,
          100,
          100,
          100,
          92.3076923076923,
          90.47619047619048,
          94.73684210526315,
          94.73684210526315,
          90.47619047619048,
          100,
          100,
          100,
          100,
          100,
          100,
          94.73684210526315,
          89.47368421052632,
          92.85714285714286,
          90,
          94.73684210526315,
          94.11764705882352,
          94.11764705882352,
          93.75,
          94.11764705882352,
          94.11764705882352,
          93.75,
          93.33333333333333,
          93.33333333333333,
          76.92307692307693,
          50,
          50,
          64.28571428571429
         ],
         "yaxis": "y"
        },
        {
         "hovertemplate": "<b>LOWESS trendline</b><br><br>Country=Mexico<br>x=%{x}<br>y=%{y} <b>(trend)</b><extra></extra>",
         "legendgroup": "Mexico",
         "marker": {
          "color": "#EF553B",
          "symbol": "circle"
         },
         "mode": "lines",
         "name": "Mexico",
         "showlegend": false,
         "type": "scatter",
         "x": [
          1947,
          1948,
          1949,
          1950,
          1952,
          1956,
          1957,
          1961,
          1962,
          1963,
          1965,
          1967,
          1969,
          1970,
          1971,
          1972,
          1973,
          1974,
          1975,
          1976,
          1977,
          1978,
          1979,
          1980,
          1981,
          1982,
          1983,
          1984,
          1985,
          1986,
          1987,
          1988,
          1989,
          1990,
          1991,
          1992,
          1993,
          1994,
          1995,
          1996,
          1997,
          1998,
          1999,
          2000,
          2001,
          2002,
          2003,
          2004,
          2005,
          2006,
          2007,
          2008,
          2009,
          2010,
          2011,
          2012,
          2013,
          2014,
          2015,
          2016,
          2017,
          2018,
          2019
         ],
         "xaxis": "x",
         "y": [
          54.038698971388555,
          55.06254297908335,
          56.088432227173364,
          57.116817759250075,
          59.18113569198743,
          63.335216921080246,
          64.37734267400431,
          68.5423301628502,
          69.57705871985759,
          70.6060762210974,
          72.6359975560375,
          74.59469652162085,
          76.42083838582212,
          77.29148484305537,
          78.21336702447373,
          79.29678930110607,
          80.68152208511583,
          82.06043017021433,
          83.38542053931984,
          84.63589358099344,
          85.80263726829173,
          86.88178787839058,
          87.92684304607782,
          88.88995114016754,
          89.76882683845963,
          90.64629707971025,
          91.40576786665336,
          92.11856951953624,
          92.7856660820992,
          93.58179102646503,
          94.16928928700294,
          94.69867173366816,
          95.42158764654512,
          95.83172398504976,
          96.15717378987296,
          96.390699530917,
          96.532274236047,
          96.5847613450185,
          96.55348776731759,
          96.45136290700148,
          96.29801927340083,
          96.1086835190261,
          95.89639614052227,
          95.62783532899049,
          95.3073577174903,
          94.94400020474902,
          94.54987334096138,
          94.13360818200611,
          93.70123899066526,
          93.25725992503143,
          92.80496091874501,
          92.34675233110913,
          91.88417548698688,
          91.41806595883529,
          90.94870396311379,
          90.47592299591179,
          89.9991598473158,
          89.51749428212503,
          89.0296897650216,
          88.5342159021536,
          88.02946977965134,
          87.51450966933791,
          86.98859572659319
         ],
         "yaxis": "y"
        },
        {
         "hovertemplate": "Country=Cuba<br>x=%{x}<br>y=%{y}<extra></extra>",
         "legendgroup": "Cuba",
         "marker": {
          "color": "#00cc96",
          "symbol": "circle"
         },
         "mode": "markers",
         "name": "Cuba",
         "orientation": "v",
         "showlegend": true,
         "type": "scatter",
         "x": [
          1947,
          1948,
          1949,
          1950,
          1952,
          1957,
          1956,
          1961,
          1962,
          1963,
          1965,
          1967,
          1969,
          1970,
          1971,
          1972,
          1973,
          1974,
          1975,
          1976,
          1977,
          1978,
          1979,
          1980,
          1981,
          1982,
          1983,
          1984,
          1985,
          1986,
          1987,
          1988,
          1989,
          1990,
          1991,
          1992,
          1993,
          1994,
          1995,
          1996,
          1997,
          1998,
          1999,
          2000,
          2001,
          2002,
          2003,
          2004,
          2005,
          2006,
          2007,
          2008,
          2009,
          2010,
          2011,
          2012,
          2013,
          2014,
          2015,
          2016,
          2017,
          2018,
          2019
         ],
         "xaxis": "x",
         "y": [
          71.42857142857143,
          18.181818181818183,
          85.71428571428571,
          100,
          66.66666666666666,
          50,
          100,
          50,
          0,
          100,
          100,
          84.61538461538461,
          100,
          100,
          100,
          100,
          100,
          100,
          100,
          100,
          100,
          93.33333333333333,
          83.33333333333334,
          100,
          96.96969696969697,
          97.14285714285714,
          97.22222222222221,
          93.93939393939394,
          93.54838709677419,
          93.10344827586206,
          96.66666666666667,
          93.10344827586206,
          100,
          100,
          100,
          100,
          100,
          100,
          100,
          100,
          100,
          100,
          100,
          100,
          100,
          100,
          94.73684210526315,
          100,
          100,
          100,
          100,
          100,
          100,
          100,
          100,
          100,
          100,
          100,
          100,
          92.3076923076923,
          95,
          100,
          100
         ],
         "yaxis": "y"
        },
        {
         "hovertemplate": "<b>LOWESS trendline</b><br><br>Country=Cuba<br>x=%{x}<br>y=%{y} <b>(trend)</b><extra></extra>",
         "legendgroup": "Cuba",
         "marker": {
          "color": "#00cc96",
          "symbol": "circle"
         },
         "mode": "lines",
         "name": "Cuba",
         "showlegend": false,
         "type": "scatter",
         "x": [
          1947,
          1948,
          1949,
          1950,
          1952,
          1956,
          1957,
          1961,
          1962,
          1963,
          1965,
          1967,
          1969,
          1970,
          1971,
          1972,
          1973,
          1974,
          1975,
          1976,
          1977,
          1978,
          1979,
          1980,
          1981,
          1982,
          1983,
          1984,
          1985,
          1986,
          1987,
          1988,
          1989,
          1990,
          1991,
          1992,
          1993,
          1994,
          1995,
          1996,
          1997,
          1998,
          1999,
          2000,
          2001,
          2002,
          2003,
          2004,
          2005,
          2006,
          2007,
          2008,
          2009,
          2010,
          2011,
          2012,
          2013,
          2014,
          2015,
          2016,
          2017,
          2018,
          2019
         ],
         "xaxis": "x",
         "y": [
          69.72912434357805,
          70.5910567430921,
          71.45137902956623,
          72.30946053315324,
          74.01615167290856,
          77.37972649273058,
          78.21087020198196,
          81.51574897819958,
          82.34466350058585,
          83.18027595190051,
          84.89478500959301,
          86.73861852283252,
          88.86866166229859,
          90.08370728770976,
          91.32792234999974,
          92.4354435857802,
          93.15616313492436,
          93.74350248665846,
          94.22074505928214,
          94.62063199860924,
          94.98003520319085,
          95.3666565525434,
          95.7629345128196,
          96.10133374665418,
          96.42642581511983,
          96.79101477376979,
          97.06947729614703,
          97.31825048997183,
          97.53420034736735,
          97.72126505260901,
          97.86150076975947,
          97.98607797737023,
          98.09083089146382,
          98.21756369570255,
          98.34731236505637,
          98.48145070392037,
          98.62023944422828,
          98.76273007997887,
          98.9069189721221,
          99.05006753910705,
          99.18911244017534,
          99.32074432807153,
          99.44108363420023,
          99.48313335337349,
          99.51014297137391,
          99.52907269401244,
          99.54325925022013,
          99.55407607380594,
          99.56230736208106,
          99.56842099659424,
          99.57270483295025,
          99.57534402406078,
          99.57645509302986,
          99.57610382953861,
          99.5743160954133,
          99.57108486647917,
          99.56637490521175,
          99.56012573563783,
          99.55225327102507,
          99.54265026840103,
          99.53121386831559,
          99.51797004646716,
          99.50311041337217
         ],
         "yaxis": "y"
        }
       ],
       "layout": {
        "autosize": true,
        "legend": {
         "title": {
          "text": "Country"
         },
         "tracegroupgap": 0
        },
        "margin": {
         "t": 60
        },
        "template": {
         "data": {
          "bar": [
           {
            "error_x": {
             "color": "#2a3f5f"
            },
            "error_y": {
             "color": "#2a3f5f"
            },
            "marker": {
             "line": {
              "color": "#E5ECF6",
              "width": 0.5
             },
             "pattern": {
              "fillmode": "overlay",
              "size": 10,
              "solidity": 0.2
             }
            },
            "type": "bar"
           }
          ],
          "barpolar": [
           {
            "marker": {
             "line": {
              "color": "#E5ECF6",
              "width": 0.5
             },
             "pattern": {
              "fillmode": "overlay",
              "size": 10,
              "solidity": 0.2
             }
            },
            "type": "barpolar"
           }
          ],
          "carpet": [
           {
            "aaxis": {
             "endlinecolor": "#2a3f5f",
             "gridcolor": "white",
             "linecolor": "white",
             "minorgridcolor": "white",
             "startlinecolor": "#2a3f5f"
            },
            "baxis": {
             "endlinecolor": "#2a3f5f",
             "gridcolor": "white",
             "linecolor": "white",
             "minorgridcolor": "white",
             "startlinecolor": "#2a3f5f"
            },
            "type": "carpet"
           }
          ],
          "choropleth": [
           {
            "colorbar": {
             "outlinewidth": 0,
             "ticks": ""
            },
            "type": "choropleth"
           }
          ],
          "contour": [
           {
            "colorbar": {
             "outlinewidth": 0,
             "ticks": ""
            },
            "colorscale": [
             [
              0,
              "#0d0887"
             ],
             [
              0.1111111111111111,
              "#46039f"
             ],
             [
              0.2222222222222222,
              "#7201a8"
             ],
             [
              0.3333333333333333,
              "#9c179e"
             ],
             [
              0.4444444444444444,
              "#bd3786"
             ],
             [
              0.5555555555555556,
              "#d8576b"
             ],
             [
              0.6666666666666666,
              "#ed7953"
             ],
             [
              0.7777777777777778,
              "#fb9f3a"
             ],
             [
              0.8888888888888888,
              "#fdca26"
             ],
             [
              1,
              "#f0f921"
             ]
            ],
            "type": "contour"
           }
          ],
          "contourcarpet": [
           {
            "colorbar": {
             "outlinewidth": 0,
             "ticks": ""
            },
            "type": "contourcarpet"
           }
          ],
          "heatmap": [
           {
            "colorbar": {
             "outlinewidth": 0,
             "ticks": ""
            },
            "colorscale": [
             [
              0,
              "#0d0887"
             ],
             [
              0.1111111111111111,
              "#46039f"
             ],
             [
              0.2222222222222222,
              "#7201a8"
             ],
             [
              0.3333333333333333,
              "#9c179e"
             ],
             [
              0.4444444444444444,
              "#bd3786"
             ],
             [
              0.5555555555555556,
              "#d8576b"
             ],
             [
              0.6666666666666666,
              "#ed7953"
             ],
             [
              0.7777777777777778,
              "#fb9f3a"
             ],
             [
              0.8888888888888888,
              "#fdca26"
             ],
             [
              1,
              "#f0f921"
             ]
            ],
            "type": "heatmap"
           }
          ],
          "heatmapgl": [
           {
            "colorbar": {
             "outlinewidth": 0,
             "ticks": ""
            },
            "colorscale": [
             [
              0,
              "#0d0887"
             ],
             [
              0.1111111111111111,
              "#46039f"
             ],
             [
              0.2222222222222222,
              "#7201a8"
             ],
             [
              0.3333333333333333,
              "#9c179e"
             ],
             [
              0.4444444444444444,
              "#bd3786"
             ],
             [
              0.5555555555555556,
              "#d8576b"
             ],
             [
              0.6666666666666666,
              "#ed7953"
             ],
             [
              0.7777777777777778,
              "#fb9f3a"
             ],
             [
              0.8888888888888888,
              "#fdca26"
             ],
             [
              1,
              "#f0f921"
             ]
            ],
            "type": "heatmapgl"
           }
          ],
          "histogram": [
           {
            "marker": {
             "pattern": {
              "fillmode": "overlay",
              "size": 10,
              "solidity": 0.2
             }
            },
            "type": "histogram"
           }
          ],
          "histogram2d": [
           {
            "colorbar": {
             "outlinewidth": 0,
             "ticks": ""
            },
            "colorscale": [
             [
              0,
              "#0d0887"
             ],
             [
              0.1111111111111111,
              "#46039f"
             ],
             [
              0.2222222222222222,
              "#7201a8"
             ],
             [
              0.3333333333333333,
              "#9c179e"
             ],
             [
              0.4444444444444444,
              "#bd3786"
             ],
             [
              0.5555555555555556,
              "#d8576b"
             ],
             [
              0.6666666666666666,
              "#ed7953"
             ],
             [
              0.7777777777777778,
              "#fb9f3a"
             ],
             [
              0.8888888888888888,
              "#fdca26"
             ],
             [
              1,
              "#f0f921"
             ]
            ],
            "type": "histogram2d"
           }
          ],
          "histogram2dcontour": [
           {
            "colorbar": {
             "outlinewidth": 0,
             "ticks": ""
            },
            "colorscale": [
             [
              0,
              "#0d0887"
             ],
             [
              0.1111111111111111,
              "#46039f"
             ],
             [
              0.2222222222222222,
              "#7201a8"
             ],
             [
              0.3333333333333333,
              "#9c179e"
             ],
             [
              0.4444444444444444,
              "#bd3786"
             ],
             [
              0.5555555555555556,
              "#d8576b"
             ],
             [
              0.6666666666666666,
              "#ed7953"
             ],
             [
              0.7777777777777778,
              "#fb9f3a"
             ],
             [
              0.8888888888888888,
              "#fdca26"
             ],
             [
              1,
              "#f0f921"
             ]
            ],
            "type": "histogram2dcontour"
           }
          ],
          "mesh3d": [
           {
            "colorbar": {
             "outlinewidth": 0,
             "ticks": ""
            },
            "type": "mesh3d"
           }
          ],
          "parcoords": [
           {
            "line": {
             "colorbar": {
              "outlinewidth": 0,
              "ticks": ""
             }
            },
            "type": "parcoords"
           }
          ],
          "pie": [
           {
            "automargin": true,
            "type": "pie"
           }
          ],
          "scatter": [
           {
            "fillpattern": {
             "fillmode": "overlay",
             "size": 10,
             "solidity": 0.2
            },
            "type": "scatter"
           }
          ],
          "scatter3d": [
           {
            "line": {
             "colorbar": {
              "outlinewidth": 0,
              "ticks": ""
             }
            },
            "marker": {
             "colorbar": {
              "outlinewidth": 0,
              "ticks": ""
             }
            },
            "type": "scatter3d"
           }
          ],
          "scattercarpet": [
           {
            "marker": {
             "colorbar": {
              "outlinewidth": 0,
              "ticks": ""
             }
            },
            "type": "scattercarpet"
           }
          ],
          "scattergeo": [
           {
            "marker": {
             "colorbar": {
              "outlinewidth": 0,
              "ticks": ""
             }
            },
            "type": "scattergeo"
           }
          ],
          "scattergl": [
           {
            "marker": {
             "colorbar": {
              "outlinewidth": 0,
              "ticks": ""
             }
            },
            "type": "scattergl"
           }
          ],
          "scattermapbox": [
           {
            "marker": {
             "colorbar": {
              "outlinewidth": 0,
              "ticks": ""
             }
            },
            "type": "scattermapbox"
           }
          ],
          "scatterpolar": [
           {
            "marker": {
             "colorbar": {
              "outlinewidth": 0,
              "ticks": ""
             }
            },
            "type": "scatterpolar"
           }
          ],
          "scatterpolargl": [
           {
            "marker": {
             "colorbar": {
              "outlinewidth": 0,
              "ticks": ""
             }
            },
            "type": "scatterpolargl"
           }
          ],
          "scatterternary": [
           {
            "marker": {
             "colorbar": {
              "outlinewidth": 0,
              "ticks": ""
             }
            },
            "type": "scatterternary"
           }
          ],
          "surface": [
           {
            "colorbar": {
             "outlinewidth": 0,
             "ticks": ""
            },
            "colorscale": [
             [
              0,
              "#0d0887"
             ],
             [
              0.1111111111111111,
              "#46039f"
             ],
             [
              0.2222222222222222,
              "#7201a8"
             ],
             [
              0.3333333333333333,
              "#9c179e"
             ],
             [
              0.4444444444444444,
              "#bd3786"
             ],
             [
              0.5555555555555556,
              "#d8576b"
             ],
             [
              0.6666666666666666,
              "#ed7953"
             ],
             [
              0.7777777777777778,
              "#fb9f3a"
             ],
             [
              0.8888888888888888,
              "#fdca26"
             ],
             [
              1,
              "#f0f921"
             ]
            ],
            "type": "surface"
           }
          ],
          "table": [
           {
            "cells": {
             "fill": {
              "color": "#EBF0F8"
             },
             "line": {
              "color": "white"
             }
            },
            "header": {
             "fill": {
              "color": "#C8D4E3"
             },
             "line": {
              "color": "white"
             }
            },
            "type": "table"
           }
          ]
         },
         "layout": {
          "annotationdefaults": {
           "arrowcolor": "#2a3f5f",
           "arrowhead": 0,
           "arrowwidth": 1
          },
          "autotypenumbers": "strict",
          "coloraxis": {
           "colorbar": {
            "outlinewidth": 0,
            "ticks": ""
           }
          },
          "colorscale": {
           "diverging": [
            [
             0,
             "#8e0152"
            ],
            [
             0.1,
             "#c51b7d"
            ],
            [
             0.2,
             "#de77ae"
            ],
            [
             0.3,
             "#f1b6da"
            ],
            [
             0.4,
             "#fde0ef"
            ],
            [
             0.5,
             "#f7f7f7"
            ],
            [
             0.6,
             "#e6f5d0"
            ],
            [
             0.7,
             "#b8e186"
            ],
            [
             0.8,
             "#7fbc41"
            ],
            [
             0.9,
             "#4d9221"
            ],
            [
             1,
             "#276419"
            ]
           ],
           "sequential": [
            [
             0,
             "#0d0887"
            ],
            [
             0.1111111111111111,
             "#46039f"
            ],
            [
             0.2222222222222222,
             "#7201a8"
            ],
            [
             0.3333333333333333,
             "#9c179e"
            ],
            [
             0.4444444444444444,
             "#bd3786"
            ],
            [
             0.5555555555555556,
             "#d8576b"
            ],
            [
             0.6666666666666666,
             "#ed7953"
            ],
            [
             0.7777777777777778,
             "#fb9f3a"
            ],
            [
             0.8888888888888888,
             "#fdca26"
            ],
            [
             1,
             "#f0f921"
            ]
           ],
           "sequentialminus": [
            [
             0,
             "#0d0887"
            ],
            [
             0.1111111111111111,
             "#46039f"
            ],
            [
             0.2222222222222222,
             "#7201a8"
            ],
            [
             0.3333333333333333,
             "#9c179e"
            ],
            [
             0.4444444444444444,
             "#bd3786"
            ],
            [
             0.5555555555555556,
             "#d8576b"
            ],
            [
             0.6666666666666666,
             "#ed7953"
            ],
            [
             0.7777777777777778,
             "#fb9f3a"
            ],
            [
             0.8888888888888888,
             "#fdca26"
            ],
            [
             1,
             "#f0f921"
            ]
           ]
          },
          "colorway": [
           "#636efa",
           "#EF553B",
           "#00cc96",
           "#ab63fa",
           "#FFA15A",
           "#19d3f3",
           "#FF6692",
           "#B6E880",
           "#FF97FF",
           "#FECB52"
          ],
          "font": {
           "color": "#2a3f5f"
          },
          "geo": {
           "bgcolor": "white",
           "lakecolor": "white",
           "landcolor": "#E5ECF6",
           "showlakes": true,
           "showland": true,
           "subunitcolor": "white"
          },
          "hoverlabel": {
           "align": "left"
          },
          "hovermode": "closest",
          "mapbox": {
           "style": "light"
          },
          "paper_bgcolor": "white",
          "plot_bgcolor": "#E5ECF6",
          "polar": {
           "angularaxis": {
            "gridcolor": "white",
            "linecolor": "white",
            "ticks": ""
           },
           "bgcolor": "#E5ECF6",
           "radialaxis": {
            "gridcolor": "white",
            "linecolor": "white",
            "ticks": ""
           }
          },
          "scene": {
           "xaxis": {
            "backgroundcolor": "#E5ECF6",
            "gridcolor": "white",
            "gridwidth": 2,
            "linecolor": "white",
            "showbackground": true,
            "ticks": "",
            "zerolinecolor": "white"
           },
           "yaxis": {
            "backgroundcolor": "#E5ECF6",
            "gridcolor": "white",
            "gridwidth": 2,
            "linecolor": "white",
            "showbackground": true,
            "ticks": "",
            "zerolinecolor": "white"
           },
           "zaxis": {
            "backgroundcolor": "#E5ECF6",
            "gridcolor": "white",
            "gridwidth": 2,
            "linecolor": "white",
            "showbackground": true,
            "ticks": "",
            "zerolinecolor": "white"
           }
          },
          "shapedefaults": {
           "line": {
            "color": "#2a3f5f"
           }
          },
          "ternary": {
           "aaxis": {
            "gridcolor": "white",
            "linecolor": "white",
            "ticks": ""
           },
           "baxis": {
            "gridcolor": "white",
            "linecolor": "white",
            "ticks": ""
           },
           "bgcolor": "#E5ECF6",
           "caxis": {
            "gridcolor": "white",
            "linecolor": "white",
            "ticks": ""
           }
          },
          "title": {
           "x": 0.05
          },
          "xaxis": {
           "automargin": true,
           "gridcolor": "white",
           "linecolor": "white",
           "ticks": "",
           "title": {
            "standoff": 15
           },
           "zerolinecolor": "white",
           "zerolinewidth": 2
          },
          "yaxis": {
           "automargin": true,
           "gridcolor": "white",
           "linecolor": "white",
           "ticks": "",
           "title": {
            "standoff": 15
           },
           "zerolinecolor": "white",
           "zerolinewidth": 2
          }
         }
        },
        "title": {
         "text": "Palestinian conflict<br>",
         "x": 0.5,
         "xanchor": "center",
         "y": 0.9,
         "yanchor": "top"
        },
        "xaxis": {
         "anchor": "y",
         "autorange": true,
         "domain": [
          0,
          1
         ],
         "range": [
          1942.3150684931506,
          2023.6849315068494
         ],
         "title": {
          "text": "Year"
         },
         "type": "linear"
        },
        "yaxis": {
         "anchor": "x",
         "autorange": true,
         "domain": [
          0,
          1
         ],
         "range": [
          -7.742782152230971,
          107.74278215223097
         ],
         "title": {
          "text": "% Yes"
         },
         "type": "linear"
        }
       }
      },
      "image/png": "[encoded data removed]",
      "text/html": [
       "<div>                            <div id=\"315da1a1-abb0-4938-88d8-a4cc20395b34\" class=\"plotly-graph-div\" style=\"height:525px; width:100%;\"></div>            <script type=\"text/javascript\">                require([\"plotly\"], function(Plotly) {                    window.PLOTLYENV=window.PLOTLYENV || {};                                    if (document.getElementById(\"315da1a1-abb0-4938-88d8-a4cc20395b34\")) {                    Plotly.newPlot(                        \"315da1a1-abb0-4938-88d8-a4cc20395b34\",                        [{\"hovertemplate\":\"Country=Honduras\\u003cbr\\u003ex=%{x}\\u003cbr\\u003ey=%{y}\\u003cextra\\u003e\\u003c\\u002fextra\\u003e\",\"legendgroup\":\"Honduras\",\"marker\":{\"color\":\"#636efa\",\"symbol\":\"circle\"},\"mode\":\"markers\",\"name\":\"Honduras\",\"orientation\":\"v\",\"showlegend\":true,\"x\":[1947,1948,1949,1950,1952,1957,1956,1961,1962,1963,1967,1969,1970,1971,1972,1973,1974,1975,1976,1977,1978,1979,1980,1981,1982,1983,1984,1985,1986,1987,1988,1989,1990,1991,1992,1993,1994,1995,1996,1997,1998,1999,2000,2001,2002,2004,2003,2005,2006,2007,2008,2009,2010,2011,2012,2013,2014,2015,2016,2017,2018,2019],\"xaxis\":\"x\",\"y\":[57.14285714285714,90.9090909090909,14.285714285714285,0.0,0.0,100.0,100.0,25.0,100.0,0.0,30.76923076923077,0.0,25.0,0.0,80.0,80.0,16.666666666666664,50.0,0.0,46.15384615384615,46.666666666666664,56.52173913043478,80.95238095238095,61.29032258064516,100.0,82.6086956521739,82.6086956521739,82.6086956521739,72.0,63.33333333333333,72.72727272727273,78.26086956521739,85.18518518518519,96.42857142857143,92.3076923076923,100.0,93.33333333333333,89.47368421052632,90.47619047619048,95.45454545454545,90.9090909090909,100.0,95.23809523809523,100.0,85.71428571428571,35.294117647058826,12.5,66.66666666666666,83.33333333333334,94.44444444444444,82.35294117647058,88.88888888888889,87.5,75.0,41.17647058823529,56.25,53.333333333333336,40.0,23.076923076923077,25.0,18.75,14.285714285714285],\"yaxis\":\"y\",\"type\":\"scatter\"},{\"hovertemplate\":\"\\u003cb\\u003eLOWESS trendline\\u003c\\u002fb\\u003e\\u003cbr\\u003e\\u003cbr\\u003eCountry=Honduras\\u003cbr\\u003ex=%{x}\\u003cbr\\u003ey=%{y} \\u003cb\\u003e(trend)\\u003c\\u002fb\\u003e\\u003cextra\\u003e\\u003c\\u002fextra\\u003e\",\"legendgroup\":\"Honduras\",\"marker\":{\"color\":\"#636efa\",\"symbol\":\"circle\"},\"mode\":\"lines\",\"name\":\"Honduras\",\"showlegend\":false,\"x\":[1947,1948,1949,1950,1952,1956,1957,1961,1962,1963,1967,1969,1970,1971,1972,1973,1974,1975,1976,1977,1978,1979,1980,1981,1982,1983,1984,1985,1986,1987,1988,1989,1990,1991,1992,1993,1994,1995,1996,1997,1998,1999,2000,2001,2002,2003,2004,2005,2006,2007,2008,2009,2010,2011,2012,2013,2014,2015,2016,2017,2018,2019],\"xaxis\":\"x\",\"y\":[22.722058931640355,23.54946671875089,24.392652168665236,25.249984699216835,27.00234701041125,30.656809475068947,31.604793232171467,35.511341530240465,36.502203896587204,37.49035701400332,41.2569073441502,42.87902922292546,43.6168234875614,44.38824662395862,45.35344605421221,46.964402027923995,48.69813001588983,50.52595200583313,52.4341919004349,54.164180441832215,56.281776546721396,58.38786934110717,60.70571973833326,63.02741307623663,65.48093226482078,68.04333577939185,70.32485430066416,72.45545465203563,74.40850189701546,76.71752084116652,78.31819873048718,80.32382506748468,81.50259966180987,82.47059930910595,83.24630976117575,83.82416938657158,84.19037974070996,84.34659444606255,84.29480851169856,84.03367677660401,83.55652714205571,82.85468111794121,81.1137733147016,79.06538826275575,76.89087294355711,74.66637786866553,72.41350430912762,70.1388092633333,67.84598043554259,65.53726399653647,63.213174367451195,60.872580439159066,58.51321007912301,56.13169580320097,53.72374916530439,51.284833045451556,48.81122609297687,46.29950230237008,43.74645492111389,41.14968476067217,38.508181054172624,35.82223889339272],\"yaxis\":\"y\",\"type\":\"scatter\"},{\"hovertemplate\":\"Country=Mexico\\u003cbr\\u003ex=%{x}\\u003cbr\\u003ey=%{y}\\u003cextra\\u003e\\u003c\\u002fextra\\u003e\",\"legendgroup\":\"Mexico\",\"marker\":{\"color\":\"#EF553B\",\"symbol\":\"circle\"},\"mode\":\"markers\",\"name\":\"Mexico\",\"orientation\":\"v\",\"showlegend\":true,\"x\":[1947,1948,1949,1950,1952,1957,1956,1961,1962,1963,1965,1967,1969,1970,1971,1972,1973,1974,1975,1976,1977,1978,1979,1980,1981,1982,1983,1984,1985,1986,1987,1988,1989,1990,1991,1992,1993,1994,1995,1996,1997,1998,1999,2000,2001,2002,2003,2004,2005,2006,2007,2008,2009,2010,2011,2012,2013,2014,2015,2016,2017,2018,2019],\"xaxis\":\"x\",\"y\":[57.14285714285714,27.27272727272727,64.28571428571429,0.0,0.0,100.0,100.0,62.5,100.0,100.0,100.0,30.76923076923077,0.0,20.0,33.33333333333333,60.0,80.0,88.88888888888889,88.88888888888889,75.0,77.77777777777779,66.66666666666666,87.5,95.45454545454545,96.96969696969697,100.0,97.22222222222221,100.0,96.7741935483871,96.55172413793103,100.0,100.0,100.0,100.0,100.0,92.3076923076923,90.47619047619048,94.73684210526315,94.73684210526315,90.47619047619048,100.0,100.0,100.0,100.0,100.0,100.0,94.73684210526315,89.47368421052632,92.85714285714286,90.0,94.73684210526315,94.11764705882352,94.11764705882352,93.75,94.11764705882352,94.11764705882352,93.75,93.33333333333333,93.33333333333333,76.92307692307693,50.0,50.0,64.28571428571429],\"yaxis\":\"y\",\"type\":\"scatter\"},{\"hovertemplate\":\"\\u003cb\\u003eLOWESS trendline\\u003c\\u002fb\\u003e\\u003cbr\\u003e\\u003cbr\\u003eCountry=Mexico\\u003cbr\\u003ex=%{x}\\u003cbr\\u003ey=%{y} \\u003cb\\u003e(trend)\\u003c\\u002fb\\u003e\\u003cextra\\u003e\\u003c\\u002fextra\\u003e\",\"legendgroup\":\"Mexico\",\"marker\":{\"color\":\"#EF553B\",\"symbol\":\"circle\"},\"mode\":\"lines\",\"name\":\"Mexico\",\"showlegend\":false,\"x\":[1947,1948,1949,1950,1952,1956,1957,1961,1962,1963,1965,1967,1969,1970,1971,1972,1973,1974,1975,1976,1977,1978,1979,1980,1981,1982,1983,1984,1985,1986,1987,1988,1989,1990,1991,1992,1993,1994,1995,1996,1997,1998,1999,2000,2001,2002,2003,2004,2005,2006,2007,2008,2009,2010,2011,2012,2013,2014,2015,2016,2017,2018,2019],\"xaxis\":\"x\",\"y\":[54.038698971388555,55.06254297908335,56.088432227173364,57.116817759250075,59.18113569198743,63.335216921080246,64.37734267400431,68.5423301628502,69.57705871985759,70.6060762210974,72.6359975560375,74.59469652162085,76.42083838582212,77.29148484305537,78.21336702447373,79.29678930110607,80.68152208511583,82.06043017021433,83.38542053931984,84.63589358099344,85.80263726829173,86.88178787839058,87.92684304607782,88.88995114016754,89.76882683845963,90.64629707971025,91.40576786665336,92.11856951953624,92.7856660820992,93.58179102646503,94.16928928700294,94.69867173366816,95.42158764654512,95.83172398504976,96.15717378987296,96.390699530917,96.532274236047,96.5847613450185,96.55348776731759,96.45136290700148,96.29801927340083,96.1086835190261,95.89639614052227,95.62783532899049,95.3073577174903,94.94400020474902,94.54987334096138,94.13360818200611,93.70123899066526,93.25725992503143,92.80496091874501,92.34675233110913,91.88417548698688,91.41806595883529,90.94870396311379,90.47592299591179,89.9991598473158,89.51749428212503,89.0296897650216,88.5342159021536,88.02946977965134,87.51450966933791,86.98859572659319],\"yaxis\":\"y\",\"type\":\"scatter\"},{\"hovertemplate\":\"Country=Cuba\\u003cbr\\u003ex=%{x}\\u003cbr\\u003ey=%{y}\\u003cextra\\u003e\\u003c\\u002fextra\\u003e\",\"legendgroup\":\"Cuba\",\"marker\":{\"color\":\"#00cc96\",\"symbol\":\"circle\"},\"mode\":\"markers\",\"name\":\"Cuba\",\"orientation\":\"v\",\"showlegend\":true,\"x\":[1947,1948,1949,1950,1952,1957,1956,1961,1962,1963,1965,1967,1969,1970,1971,1972,1973,1974,1975,1976,1977,1978,1979,1980,1981,1982,1983,1984,1985,1986,1987,1988,1989,1990,1991,1992,1993,1994,1995,1996,1997,1998,1999,2000,2001,2002,2003,2004,2005,2006,2007,2008,2009,2010,2011,2012,2013,2014,2015,2016,2017,2018,2019],\"xaxis\":\"x\",\"y\":[71.42857142857143,18.181818181818183,85.71428571428571,100.0,66.66666666666666,50.0,100.0,50.0,0.0,100.0,100.0,84.61538461538461,100.0,100.0,100.0,100.0,100.0,100.0,100.0,100.0,100.0,93.33333333333333,83.33333333333334,100.0,96.96969696969697,97.14285714285714,97.22222222222221,93.93939393939394,93.54838709677419,93.10344827586206,96.66666666666667,93.10344827586206,100.0,100.0,100.0,100.0,100.0,100.0,100.0,100.0,100.0,100.0,100.0,100.0,100.0,100.0,94.73684210526315,100.0,100.0,100.0,100.0,100.0,100.0,100.0,100.0,100.0,100.0,100.0,100.0,92.3076923076923,95.0,100.0,100.0],\"yaxis\":\"y\",\"type\":\"scatter\"},{\"hovertemplate\":\"\\u003cb\\u003eLOWESS trendline\\u003c\\u002fb\\u003e\\u003cbr\\u003e\\u003cbr\\u003eCountry=Cuba\\u003cbr\\u003ex=%{x}\\u003cbr\\u003ey=%{y} \\u003cb\\u003e(trend)\\u003c\\u002fb\\u003e\\u003cextra\\u003e\\u003c\\u002fextra\\u003e\",\"legendgroup\":\"Cuba\",\"marker\":{\"color\":\"#00cc96\",\"symbol\":\"circle\"},\"mode\":\"lines\",\"name\":\"Cuba\",\"showlegend\":false,\"x\":[1947,1948,1949,1950,1952,1956,1957,1961,1962,1963,1965,1967,1969,1970,1971,1972,1973,1974,1975,1976,1977,1978,1979,1980,1981,1982,1983,1984,1985,1986,1987,1988,1989,1990,1991,1992,1993,1994,1995,1996,1997,1998,1999,2000,2001,2002,2003,2004,2005,2006,2007,2008,2009,2010,2011,2012,2013,2014,2015,2016,2017,2018,2019],\"xaxis\":\"x\",\"y\":[69.72912434357805,70.5910567430921,71.45137902956623,72.30946053315324,74.01615167290856,77.37972649273058,78.21087020198196,81.51574897819958,82.34466350058585,83.18027595190051,84.89478500959301,86.73861852283252,88.86866166229859,90.08370728770976,91.32792234999974,92.4354435857802,93.15616313492436,93.74350248665846,94.22074505928214,94.62063199860924,94.98003520319085,95.3666565525434,95.7629345128196,96.10133374665418,96.42642581511983,96.79101477376979,97.06947729614703,97.31825048997183,97.53420034736735,97.72126505260901,97.86150076975947,97.98607797737023,98.09083089146382,98.21756369570255,98.34731236505637,98.48145070392037,98.62023944422828,98.76273007997887,98.9069189721221,99.05006753910705,99.18911244017534,99.32074432807153,99.44108363420023,99.48313335337349,99.51014297137391,99.52907269401244,99.54325925022013,99.55407607380594,99.56230736208106,99.56842099659424,99.57270483295025,99.57534402406078,99.57645509302986,99.57610382953861,99.5743160954133,99.57108486647917,99.56637490521175,99.56012573563783,99.55225327102507,99.54265026840103,99.53121386831559,99.51797004646716,99.50311041337217],\"yaxis\":\"y\",\"type\":\"scatter\"}],                        {\"template\":{\"data\":{\"histogram2dcontour\":[{\"type\":\"histogram2dcontour\",\"colorbar\":{\"outlinewidth\":0,\"ticks\":\"\"},\"colorscale\":[[0.0,\"#0d0887\"],[0.1111111111111111,\"#46039f\"],[0.2222222222222222,\"#7201a8\"],[0.3333333333333333,\"#9c179e\"],[0.4444444444444444,\"#bd3786\"],[0.5555555555555556,\"#d8576b\"],[0.6666666666666666,\"#ed7953\"],[0.7777777777777778,\"#fb9f3a\"],[0.8888888888888888,\"#fdca26\"],[1.0,\"#f0f921\"]]}],\"choropleth\":[{\"type\":\"choropleth\",\"colorbar\":{\"outlinewidth\":0,\"ticks\":\"\"}}],\"histogram2d\":[{\"type\":\"histogram2d\",\"colorbar\":{\"outlinewidth\":0,\"ticks\":\"\"},\"colorscale\":[[0.0,\"#0d0887\"],[0.1111111111111111,\"#46039f\"],[0.2222222222222222,\"#7201a8\"],[0.3333333333333333,\"#9c179e\"],[0.4444444444444444,\"#bd3786\"],[0.5555555555555556,\"#d8576b\"],[0.6666666666666666,\"#ed7953\"],[0.7777777777777778,\"#fb9f3a\"],[0.8888888888888888,\"#fdca26\"],[1.0,\"#f0f921\"]]}],\"heatmap\":[{\"type\":\"heatmap\",\"colorbar\":{\"outlinewidth\":0,\"ticks\":\"\"},\"colorscale\":[[0.0,\"#0d0887\"],[0.1111111111111111,\"#46039f\"],[0.2222222222222222,\"#7201a8\"],[0.3333333333333333,\"#9c179e\"],[0.4444444444444444,\"#bd3786\"],[0.5555555555555556,\"#d8576b\"],[0.6666666666666666,\"#ed7953\"],[0.7777777777777778,\"#fb9f3a\"],[0.8888888888888888,\"#fdca26\"],[1.0,\"#f0f921\"]]}],\"heatmapgl\":[{\"type\":\"heatmapgl\",\"colorbar\":{\"outlinewidth\":0,\"ticks\":\"\"},\"colorscale\":[[0.0,\"#0d0887\"],[0.1111111111111111,\"#46039f\"],[0.2222222222222222,\"#7201a8\"],[0.3333333333333333,\"#9c179e\"],[0.4444444444444444,\"#bd3786\"],[0.5555555555555556,\"#d8576b\"],[0.6666666666666666,\"#ed7953\"],[0.7777777777777778,\"#fb9f3a\"],[0.8888888888888888,\"#fdca26\"],[1.0,\"#f0f921\"]]}],\"contourcarpet\":[{\"type\":\"contourcarpet\",\"colorbar\":{\"outlinewidth\":0,\"ticks\":\"\"}}],\"contour\":[{\"type\":\"contour\",\"colorbar\":{\"outlinewidth\":0,\"ticks\":\"\"},\"colorscale\":[[0.0,\"#0d0887\"],[0.1111111111111111,\"#46039f\"],[0.2222222222222222,\"#7201a8\"],[0.3333333333333333,\"#9c179e\"],[0.4444444444444444,\"#bd3786\"],[0.5555555555555556,\"#d8576b\"],[0.6666666666666666,\"#ed7953\"],[0.7777777777777778,\"#fb9f3a\"],[0.8888888888888888,\"#fdca26\"],[1.0,\"#f0f921\"]]}],\"surface\":[{\"type\":\"surface\",\"colorbar\":{\"outlinewidth\":0,\"ticks\":\"\"},\"colorscale\":[[0.0,\"#0d0887\"],[0.1111111111111111,\"#46039f\"],[0.2222222222222222,\"#7201a8\"],[0.3333333333333333,\"#9c179e\"],[0.4444444444444444,\"#bd3786\"],[0.5555555555555556,\"#d8576b\"],[0.6666666666666666,\"#ed7953\"],[0.7777777777777778,\"#fb9f3a\"],[0.8888888888888888,\"#fdca26\"],[1.0,\"#f0f921\"]]}],\"mesh3d\":[{\"type\":\"mesh3d\",\"colorbar\":{\"outlinewidth\":0,\"ticks\":\"\"}}],\"scatter\":[{\"fillpattern\":{\"fillmode\":\"overlay\",\"size\":10,\"solidity\":0.2},\"type\":\"scatter\"}],\"parcoords\":[{\"type\":\"parcoords\",\"line\":{\"colorbar\":{\"outlinewidth\":0,\"ticks\":\"\"}}}],\"scatterpolargl\":[{\"type\":\"scatterpolargl\",\"marker\":{\"colorbar\":{\"outlinewidth\":0,\"ticks\":\"\"}}}],\"bar\":[{\"error_x\":{\"color\":\"#2a3f5f\"},\"error_y\":{\"color\":\"#2a3f5f\"},\"marker\":{\"line\":{\"color\":\"#E5ECF6\",\"width\":0.5},\"pattern\":{\"fillmode\":\"overlay\",\"size\":10,\"solidity\":0.2}},\"type\":\"bar\"}],\"scattergeo\":[{\"type\":\"scattergeo\",\"marker\":{\"colorbar\":{\"outlinewidth\":0,\"ticks\":\"\"}}}],\"scatterpolar\":[{\"type\":\"scatterpolar\",\"marker\":{\"colorbar\":{\"outlinewidth\":0,\"ticks\":\"\"}}}],\"histogram\":[{\"marker\":{\"pattern\":{\"fillmode\":\"overlay\",\"size\":10,\"solidity\":0.2}},\"type\":\"histogram\"}],\"scattergl\":[{\"type\":\"scattergl\",\"marker\":{\"colorbar\":{\"outlinewidth\":0,\"ticks\":\"\"}}}],\"scatter3d\":[{\"type\":\"scatter3d\",\"line\":{\"colorbar\":{\"outlinewidth\":0,\"ticks\":\"\"}},\"marker\":{\"colorbar\":{\"outlinewidth\":0,\"ticks\":\"\"}}}],\"scattermapbox\":[{\"type\":\"scattermapbox\",\"marker\":{\"colorbar\":{\"outlinewidth\":0,\"ticks\":\"\"}}}],\"scatterternary\":[{\"type\":\"scatterternary\",\"marker\":{\"colorbar\":{\"outlinewidth\":0,\"ticks\":\"\"}}}],\"scattercarpet\":[{\"type\":\"scattercarpet\",\"marker\":{\"colorbar\":{\"outlinewidth\":0,\"ticks\":\"\"}}}],\"carpet\":[{\"aaxis\":{\"endlinecolor\":\"#2a3f5f\",\"gridcolor\":\"white\",\"linecolor\":\"white\",\"minorgridcolor\":\"white\",\"startlinecolor\":\"#2a3f5f\"},\"baxis\":{\"endlinecolor\":\"#2a3f5f\",\"gridcolor\":\"white\",\"linecolor\":\"white\",\"minorgridcolor\":\"white\",\"startlinecolor\":\"#2a3f5f\"},\"type\":\"carpet\"}],\"table\":[{\"cells\":{\"fill\":{\"color\":\"#EBF0F8\"},\"line\":{\"color\":\"white\"}},\"header\":{\"fill\":{\"color\":\"#C8D4E3\"},\"line\":{\"color\":\"white\"}},\"type\":\"table\"}],\"barpolar\":[{\"marker\":{\"line\":{\"color\":\"#E5ECF6\",\"width\":0.5},\"pattern\":{\"fillmode\":\"overlay\",\"size\":10,\"solidity\":0.2}},\"type\":\"barpolar\"}],\"pie\":[{\"automargin\":true,\"type\":\"pie\"}]},\"layout\":{\"autotypenumbers\":\"strict\",\"colorway\":[\"#636efa\",\"#EF553B\",\"#00cc96\",\"#ab63fa\",\"#FFA15A\",\"#19d3f3\",\"#FF6692\",\"#B6E880\",\"#FF97FF\",\"#FECB52\"],\"font\":{\"color\":\"#2a3f5f\"},\"hovermode\":\"closest\",\"hoverlabel\":{\"align\":\"left\"},\"paper_bgcolor\":\"white\",\"plot_bgcolor\":\"#E5ECF6\",\"polar\":{\"bgcolor\":\"#E5ECF6\",\"angularaxis\":{\"gridcolor\":\"white\",\"linecolor\":\"white\",\"ticks\":\"\"},\"radialaxis\":{\"gridcolor\":\"white\",\"linecolor\":\"white\",\"ticks\":\"\"}},\"ternary\":{\"bgcolor\":\"#E5ECF6\",\"aaxis\":{\"gridcolor\":\"white\",\"linecolor\":\"white\",\"ticks\":\"\"},\"baxis\":{\"gridcolor\":\"white\",\"linecolor\":\"white\",\"ticks\":\"\"},\"caxis\":{\"gridcolor\":\"white\",\"linecolor\":\"white\",\"ticks\":\"\"}},\"coloraxis\":{\"colorbar\":{\"outlinewidth\":0,\"ticks\":\"\"}},\"colorscale\":{\"sequential\":[[0.0,\"#0d0887\"],[0.1111111111111111,\"#46039f\"],[0.2222222222222222,\"#7201a8\"],[0.3333333333333333,\"#9c179e\"],[0.4444444444444444,\"#bd3786\"],[0.5555555555555556,\"#d8576b\"],[0.6666666666666666,\"#ed7953\"],[0.7777777777777778,\"#fb9f3a\"],[0.8888888888888888,\"#fdca26\"],[1.0,\"#f0f921\"]],\"sequentialminus\":[[0.0,\"#0d0887\"],[0.1111111111111111,\"#46039f\"],[0.2222222222222222,\"#7201a8\"],[0.3333333333333333,\"#9c179e\"],[0.4444444444444444,\"#bd3786\"],[0.5555555555555556,\"#d8576b\"],[0.6666666666666666,\"#ed7953\"],[0.7777777777777778,\"#fb9f3a\"],[0.8888888888888888,\"#fdca26\"],[1.0,\"#f0f921\"]],\"diverging\":[[0,\"#8e0152\"],[0.1,\"#c51b7d\"],[0.2,\"#de77ae\"],[0.3,\"#f1b6da\"],[0.4,\"#fde0ef\"],[0.5,\"#f7f7f7\"],[0.6,\"#e6f5d0\"],[0.7,\"#b8e186\"],[0.8,\"#7fbc41\"],[0.9,\"#4d9221\"],[1,\"#276419\"]]},\"xaxis\":{\"gridcolor\":\"white\",\"linecolor\":\"white\",\"ticks\":\"\",\"title\":{\"standoff\":15},\"zerolinecolor\":\"white\",\"automargin\":true,\"zerolinewidth\":2},\"yaxis\":{\"gridcolor\":\"white\",\"linecolor\":\"white\",\"ticks\":\"\",\"title\":{\"standoff\":15},\"zerolinecolor\":\"white\",\"automargin\":true,\"zerolinewidth\":2},\"scene\":{\"xaxis\":{\"backgroundcolor\":\"#E5ECF6\",\"gridcolor\":\"white\",\"linecolor\":\"white\",\"showbackground\":true,\"ticks\":\"\",\"zerolinecolor\":\"white\",\"gridwidth\":2},\"yaxis\":{\"backgroundcolor\":\"#E5ECF6\",\"gridcolor\":\"white\",\"linecolor\":\"white\",\"showbackground\":true,\"ticks\":\"\",\"zerolinecolor\":\"white\",\"gridwidth\":2},\"zaxis\":{\"backgroundcolor\":\"#E5ECF6\",\"gridcolor\":\"white\",\"linecolor\":\"white\",\"showbackground\":true,\"ticks\":\"\",\"zerolinecolor\":\"white\",\"gridwidth\":2}},\"shapedefaults\":{\"line\":{\"color\":\"#2a3f5f\"}},\"annotationdefaults\":{\"arrowcolor\":\"#2a3f5f\",\"arrowhead\":0,\"arrowwidth\":1},\"geo\":{\"bgcolor\":\"white\",\"landcolor\":\"#E5ECF6\",\"subunitcolor\":\"white\",\"showland\":true,\"showlakes\":true,\"lakecolor\":\"white\"},\"title\":{\"x\":0.05},\"mapbox\":{\"style\":\"light\"}}},\"xaxis\":{\"anchor\":\"y\",\"domain\":[0.0,1.0],\"title\":{\"text\":\"Year\"}},\"yaxis\":{\"anchor\":\"x\",\"domain\":[0.0,1.0],\"title\":{\"text\":\"% Yes\"}},\"legend\":{\"title\":{\"text\":\"Country\"},\"tracegroupgap\":0},\"margin\":{\"t\":60},\"title\":{\"text\":\"Palestinian conflict\\u003cbr\\u003e\",\"y\":0.9,\"x\":0.5,\"xanchor\":\"center\",\"yanchor\":\"top\"}},                        {\"responsive\": true}                    ).then(function(){\n",
       "                            \n",
       "var gd = document.getElementById('315da1a1-abb0-4938-88d8-a4cc20395b34');\n",
       "var x = new MutationObserver(function (mutations, observer) {{\n",
       "        var display = window.getComputedStyle(gd).display;\n",
       "        if (!display || display === 'none') {{\n",
       "            console.log([gd, 'removed!']);\n",
       "            Plotly.purge(gd);\n",
       "            observer.disconnect();\n",
       "        }}\n",
       "}});\n",
       "\n",
       "// Listen for the removal of the full notebook cells\n",
       "var notebookContainer = gd.closest('#notebook-container');\n",
       "if (notebookContainer) {{\n",
       "    x.observe(notebookContainer, {childList: true});\n",
       "}}\n",
       "\n",
       "// Listen for the clearing of the current output cell\n",
       "var outputEl = gd.closest('.output');\n",
       "if (outputEl) {{\n",
       "    x.observe(outputEl, {childList: true});\n",
       "}}\n",
       "\n",
       "                        })                };                });            </script>        </div>"
      ]
     },
     "metadata": {},
     "output_type": "display_data"
    },
    {
     "data": {
      "application/vnd.plotly.v1+json": {
       "config": {
        "plotlyServerURL": "https://plot.ly"
       },
       "data": [
        {
         "hovertemplate": "Country=Honduras<br>x=%{x}<br>y=%{y}<extra></extra>",
         "legendgroup": "Honduras",
         "marker": {
          "color": "#636efa",
          "symbol": "circle"
         },
         "mode": "markers",
         "name": "Honduras",
         "orientation": "v",
         "showlegend": true,
         "type": "scatter",
         "x": [
          1948,
          1949,
          1954,
          1956,
          1957,
          1958,
          1959,
          1960,
          1961,
          1962,
          1965,
          1966,
          1967,
          1968,
          1969,
          1971,
          1972,
          1973,
          1974,
          1975,
          1976,
          1977,
          1979,
          1978,
          1980,
          1981,
          1982,
          1983,
          1984,
          1985,
          1986,
          1987,
          1988,
          1989,
          1990,
          1991,
          1992,
          1993,
          1994,
          1995,
          1996,
          1997,
          1998,
          1999,
          2000,
          2001,
          2002,
          2003,
          2004,
          2005,
          2006,
          2007,
          2008,
          2009,
          2010,
          2011,
          2012,
          2013,
          2014,
          2015,
          2016,
          2017,
          2018,
          2019
         ],
         "xaxis": "x",
         "y": [
          0,
          0,
          100,
          100,
          75,
          50,
          25,
          83.33333333333334,
          42.857142857142854,
          100,
          80,
          0,
          100,
          100,
          100,
          75,
          66.66666666666666,
          100,
          100,
          92.3076923076923,
          50,
          100,
          86.66666666666667,
          92.85714285714286,
          100,
          82.14285714285714,
          96.15384615384616,
          70.27027027027027,
          78.78787878787878,
          86.8421052631579,
          91.17647058823529,
          92.85714285714286,
          86.66666666666667,
          89.65517241379311,
          93.33333333333333,
          92.85714285714286,
          91.66666666666666,
          88.88888888888889,
          93.33333333333333,
          94.44444444444444,
          100,
          100,
          80,
          100,
          100,
          100,
          100,
          93.75,
          95,
          91.30434782608695,
          96.29629629629629,
          95,
          100,
          100,
          100,
          100,
          100,
          100,
          100,
          95.23809523809523,
          100,
          100,
          100,
          100
         ],
         "yaxis": "y"
        },
        {
         "hovertemplate": "<b>LOWESS trendline</b><br><br>Country=Honduras<br>x=%{x}<br>y=%{y} <b>(trend)</b><extra></extra>",
         "legendgroup": "Honduras",
         "marker": {
          "color": "#636efa",
          "symbol": "circle"
         },
         "mode": "lines",
         "name": "Honduras",
         "showlegend": false,
         "type": "scatter",
         "x": [
          1948,
          1949,
          1954,
          1956,
          1957,
          1958,
          1959,
          1960,
          1961,
          1962,
          1965,
          1966,
          1967,
          1968,
          1969,
          1971,
          1972,
          1973,
          1974,
          1975,
          1976,
          1977,
          1978,
          1979,
          1980,
          1981,
          1982,
          1983,
          1984,
          1985,
          1986,
          1987,
          1988,
          1989,
          1990,
          1991,
          1992,
          1993,
          1994,
          1995,
          1996,
          1997,
          1998,
          1999,
          2000,
          2001,
          2002,
          2003,
          2004,
          2005,
          2006,
          2007,
          2008,
          2009,
          2010,
          2011,
          2012,
          2013,
          2014,
          2015,
          2016,
          2017,
          2018,
          2019
         ],
         "xaxis": "x",
         "y": [
          76.23448866724684,
          76.78627065994506,
          79.45974363718886,
          80.47946448748026,
          80.97601390465948,
          81.46276881244954,
          81.93990369708617,
          82.40804052509793,
          82.86791320983372,
          83.32027156038804,
          84.64022916184327,
          85.07086223238841,
          85.49949387109032,
          85.92855428285037,
          86.36040216400173,
          87.24002685679527,
          87.69040347396276,
          88.03532060819546,
          88.36128184828574,
          88.7881357793603,
          89.1960779375036,
          89.44511419384433,
          89.727589893039,
          89.89528653483914,
          90.06270594294585,
          90.23831252560132,
          90.4261685432277,
          90.6292770650714,
          90.84507095840692,
          91.06913117646036,
          91.23247120314333,
          91.47196191721197,
          91.71671077612254,
          91.95972865048257,
          92.19923965149705,
          92.43986917347716,
          92.6924869499887,
          92.96938035976409,
          93.27643561712537,
          93.61103621173748,
          93.96711126173487,
          94.3393748561805,
          94.72209520102166,
          95.10637178367016,
          95.42643875190485,
          95.73770345995253,
          96.04445037217477,
          96.34751511136605,
          96.6466340355959,
          96.9416460299194,
          97.23265264927073,
          97.52002621574823,
          97.80419686519247,
          98.08559952262469,
          98.3645267666896,
          98.64113493992454,
          98.91548237434331,
          99.18755614215956,
          99.45729240666962,
          99.72459327579965,
          99.98938568727033,
          100.25176039293406,
          100.51184284068981,
          100.7697625176866
         ],
         "yaxis": "y"
        },
        {
         "hovertemplate": "Country=Mexico<br>x=%{x}<br>y=%{y}<extra></extra>",
         "legendgroup": "Mexico",
         "marker": {
          "color": "#EF553B",
          "symbol": "circle"
         },
         "mode": "markers",
         "name": "Mexico",
         "orientation": "v",
         "showlegend": true,
         "type": "scatter",
         "x": [
          1948,
          1949,
          1950,
          1954,
          1956,
          1957,
          1958,
          1959,
          1960,
          1961,
          1962,
          1963,
          1965,
          1966,
          1967,
          1968,
          1969,
          1970,
          1971,
          1972,
          1973,
          1974,
          1975,
          1976,
          1977,
          1979,
          1978,
          1980,
          1981,
          1982,
          1983,
          1984,
          1985,
          1986,
          1987,
          1988,
          1989,
          1990,
          1991,
          1992,
          1993,
          1994,
          1995,
          1996,
          1997,
          1998,
          1999,
          2000,
          2001,
          2002,
          2003,
          2004,
          2005,
          2006,
          2007,
          2008,
          2009,
          2010,
          2011,
          2012,
          2013,
          2014,
          2015,
          2016,
          2017,
          2018,
          2019
         ],
         "xaxis": "x",
         "y": [
          11.11111111111111,
          0,
          100,
          100,
          100,
          80,
          50,
          75,
          83.33333333333334,
          85.71428571428571,
          100,
          100,
          80,
          0,
          100,
          100,
          100,
          100,
          81.81818181818183,
          90,
          100,
          100,
          100,
          90,
          100,
          93.33333333333333,
          86.66666666666667,
          94.44444444444444,
          92.85714285714286,
          85.18518518518519,
          94.5945945945946,
          91.17647058823529,
          87.5,
          88.88888888888889,
          96.42857142857143,
          93.33333333333333,
          93.10344827586206,
          93.75,
          100,
          91.66666666666666,
          72.72727272727273,
          86.66666666666667,
          89.47368421052632,
          95.23809523809523,
          90.9090909090909,
          95.83333333333334,
          94.73684210526315,
          93.75,
          88.23529411764706,
          86.95652173913044,
          93.75,
          90,
          91.30434782608695,
          100,
          100,
          96,
          100,
          91.30434782608695,
          95.83333333333334,
          95.65217391304348,
          100,
          100,
          100,
          100,
          96.55172413793103,
          94.11764705882352,
          93.75
         ],
         "yaxis": "y"
        },
        {
         "hovertemplate": "<b>LOWESS trendline</b><br><br>Country=Mexico<br>x=%{x}<br>y=%{y} <b>(trend)</b><extra></extra>",
         "legendgroup": "Mexico",
         "marker": {
          "color": "#EF553B",
          "symbol": "circle"
         },
         "mode": "lines",
         "name": "Mexico",
         "showlegend": false,
         "type": "scatter",
         "x": [
          1948,
          1949,
          1950,
          1954,
          1956,
          1957,
          1958,
          1959,
          1960,
          1961,
          1962,
          1963,
          1965,
          1966,
          1967,
          1968,
          1969,
          1970,
          1971,
          1972,
          1973,
          1974,
          1975,
          1976,
          1977,
          1978,
          1979,
          1980,
          1981,
          1982,
          1983,
          1984,
          1985,
          1986,
          1987,
          1988,
          1989,
          1990,
          1991,
          1992,
          1993,
          1994,
          1995,
          1996,
          1997,
          1998,
          1999,
          2000,
          2001,
          2002,
          2003,
          2004,
          2005,
          2006,
          2007,
          2008,
          2009,
          2010,
          2011,
          2012,
          2013,
          2014,
          2015,
          2016,
          2017,
          2018,
          2019
         ],
         "xaxis": "x",
         "y": [
          89.82886476760848,
          89.97403691555036,
          90.12054423423908,
          90.71134646072822,
          90.99864502405015,
          91.13608068153918,
          91.26707439849592,
          91.39027262634197,
          91.50458887031812,
          91.60965129415248,
          91.70589750397005,
          91.79440676522937,
          91.95296307035804,
          92.02605941112321,
          92.09876972471322,
          92.17551088054331,
          92.26194657363041,
          92.3652721719174,
          92.49432111611071,
          92.65865247284103,
          92.7772470152389,
          92.89142087584555,
          92.99605901122877,
          93.19670255198777,
          93.26235989090601,
          93.37618171020436,
          93.33919277107941,
          93.26822588259907,
          93.17213951381945,
          93.06182155327399,
          92.94659299993893,
          92.83052744226237,
          92.7135489643605,
          92.59985243940643,
          92.49917400746223,
          92.42233794109278,
          92.3747793085497,
          92.35601841072666,
          92.36413519033334,
          92.39771774569192,
          92.45797297301982,
          92.54891771458585,
          92.67123748408252,
          92.8213293601268,
          92.99328662822477,
          93.18011770776177,
          93.43015767279245,
          93.66392548812058,
          93.88406915485645,
          94.09506892833805,
          94.30068657144955,
          94.5038011130605,
          94.70648013967019,
          94.9103157614969,
          95.11649852087747,
          95.32569345165035,
          95.5381698690303,
          95.75398677019132,
          95.97303039697218,
          96.19523061291183,
          96.42050623835513,
          96.64872741796658,
          96.87961242371355,
          97.11272291539618,
          97.34748693855633,
          97.58324864787296,
          97.81942687699477
         ],
         "yaxis": "y"
        },
        {
         "hovertemplate": "Country=Cuba<br>x=%{x}<br>y=%{y}<extra></extra>",
         "legendgroup": "Cuba",
         "marker": {
          "color": "#00cc96",
          "symbol": "circle"
         },
         "mode": "markers",
         "name": "Cuba",
         "orientation": "v",
         "showlegend": true,
         "type": "scatter",
         "x": [
          1948,
          1949,
          1950,
          1954,
          1956,
          1957,
          1958,
          1959,
          1960,
          1961,
          1963,
          1965,
          1967,
          1968,
          1969,
          1970,
          1971,
          1972,
          1973,
          1974,
          1975,
          1976,
          1977,
          1979,
          1978,
          1980,
          1981,
          1982,
          1983,
          1984,
          1985,
          1986,
          1987,
          1988,
          1989,
          1990,
          1991,
          1992,
          1993,
          1994,
          1995,
          1996,
          1997,
          1998,
          1999,
          2000,
          2001,
          2002,
          2003,
          2004,
          2005,
          2006,
          2007,
          2008,
          2009,
          2010,
          2011,
          2012,
          2013,
          2014,
          2015,
          2016,
          2017,
          2018,
          2019
         ],
         "xaxis": "x",
         "y": [
          0,
          0,
          100,
          100,
          100,
          40,
          50,
          100,
          83.33333333333334,
          57.14285714285714,
          100,
          60,
          0,
          0,
          50,
          80,
          66.66666666666666,
          60,
          28.57142857142857,
          35.714285714285715,
          46.15384615384615,
          71.42857142857143,
          45.45454545454545,
          73.33333333333333,
          53.333333333333336,
          77.77777777777779,
          85.71428571428571,
          74.07407407407408,
          81.08108108108108,
          88.23529411764706,
          80.48780487804879,
          80.55555555555556,
          89.28571428571429,
          80,
          82.75862068965517,
          81.25,
          85.71428571428571,
          100,
          90.9090909090909,
          73.33333333333333,
          68.42105263157895,
          76.19047619047619,
          68.18181818181817,
          73.91304347826086,
          88.88888888888889,
          73.33333333333333,
          73.33333333333333,
          86.36363636363636,
          86.66666666666667,
          84.21052631578947,
          81.81818181818183,
          92.3076923076923,
          94.73684210526315,
          83.33333333333334,
          78.94736842105263,
          85.71428571428571,
          77.27272727272727,
          78.26086956521739,
          82.35294117647058,
          77.27272727272727,
          85.71428571428571,
          65.71428571428571,
          79.3103448275862,
          82.35294117647058,
          87.5
         ],
         "yaxis": "y"
        },
        {
         "hovertemplate": "<b>LOWESS trendline</b><br><br>Country=Cuba<br>x=%{x}<br>y=%{y} <b>(trend)</b><extra></extra>",
         "legendgroup": "Cuba",
         "marker": {
          "color": "#00cc96",
          "symbol": "circle"
         },
         "mode": "lines",
         "name": "Cuba",
         "showlegend": false,
         "type": "scatter",
         "x": [
          1948,
          1949,
          1950,
          1954,
          1956,
          1957,
          1958,
          1959,
          1960,
          1961,
          1963,
          1965,
          1967,
          1968,
          1969,
          1970,
          1971,
          1972,
          1973,
          1974,
          1975,
          1976,
          1977,
          1978,
          1979,
          1980,
          1981,
          1982,
          1983,
          1984,
          1985,
          1986,
          1987,
          1988,
          1989,
          1990,
          1991,
          1992,
          1993,
          1994,
          1995,
          1996,
          1997,
          1998,
          1999,
          2000,
          2001,
          2002,
          2003,
          2004,
          2005,
          2006,
          2007,
          2008,
          2009,
          2010,
          2011,
          2012,
          2013,
          2014,
          2015,
          2016,
          2017,
          2018,
          2019
         ],
         "xaxis": "x",
         "y": [
          38.382031274951274,
          39.3824706238889,
          40.38259884685611,
          44.38792329436089,
          46.400550488692474,
          47.4115885663529,
          48.427014259466496,
          49.44857752154592,
          50.47816362046167,
          51.51754481568175,
          53.629037355864924,
          55.78454867433722,
          57.97964366163098,
          59.08778220700874,
          60.19898584036625,
          61.308971361781616,
          62.41252875295587,
          63.501679181086736,
          64.6271365345584,
          65.7363603946789,
          66.81781507207073,
          67.82122071028343,
          68.78320567890324,
          69.7873478259971,
          70.7547983510942,
          71.68136655761148,
          72.56452050931445,
          73.40208143331085,
          74.1936929293814,
          74.94127760280959,
          75.86649593036428,
          76.56046510904083,
          77.23089309769645,
          78.1285494180332,
          78.74264574605596,
          79.31978021869534,
          79.85324247678783,
          80.32959888638801,
          80.7397618178972,
          81.07795697882439,
          81.33656275702398,
          81.51513050048058,
          81.61656049443887,
          81.64775360253427,
          81.61209747031482,
          81.56063742937921,
          81.51167606761405,
          81.47103246689922,
          81.44056199173208,
          81.42036083006808,
          81.40970540093547,
          81.40758354120258,
          81.41285972662519,
          81.42405435192879,
          81.43944134324799,
          81.45743606927803,
          81.47671637968212,
          81.49606995925762,
          81.51457993073042,
          81.53158728763336,
          81.54656734090632,
          81.55918119971204,
          81.56915895824882,
          81.57672433200901,
          81.58231453020025
         ],
         "yaxis": "y"
        }
       ],
       "layout": {
        "autosize": true,
        "legend": {
         "title": {
          "text": "Country"
         },
         "tracegroupgap": 0
        },
        "margin": {
         "t": 60
        },
        "template": {
         "data": {
          "bar": [
           {
            "error_x": {
             "color": "#2a3f5f"
            },
            "error_y": {
             "color": "#2a3f5f"
            },
            "marker": {
             "line": {
              "color": "#E5ECF6",
              "width": 0.5
             },
             "pattern": {
              "fillmode": "overlay",
              "size": 10,
              "solidity": 0.2
             }
            },
            "type": "bar"
           }
          ],
          "barpolar": [
           {
            "marker": {
             "line": {
              "color": "#E5ECF6",
              "width": 0.5
             },
             "pattern": {
              "fillmode": "overlay",
              "size": 10,
              "solidity": 0.2
             }
            },
            "type": "barpolar"
           }
          ],
          "carpet": [
           {
            "aaxis": {
             "endlinecolor": "#2a3f5f",
             "gridcolor": "white",
             "linecolor": "white",
             "minorgridcolor": "white",
             "startlinecolor": "#2a3f5f"
            },
            "baxis": {
             "endlinecolor": "#2a3f5f",
             "gridcolor": "white",
             "linecolor": "white",
             "minorgridcolor": "white",
             "startlinecolor": "#2a3f5f"
            },
            "type": "carpet"
           }
          ],
          "choropleth": [
           {
            "colorbar": {
             "outlinewidth": 0,
             "ticks": ""
            },
            "type": "choropleth"
           }
          ],
          "contour": [
           {
            "colorbar": {
             "outlinewidth": 0,
             "ticks": ""
            },
            "colorscale": [
             [
              0,
              "#0d0887"
             ],
             [
              0.1111111111111111,
              "#46039f"
             ],
             [
              0.2222222222222222,
              "#7201a8"
             ],
             [
              0.3333333333333333,
              "#9c179e"
             ],
             [
              0.4444444444444444,
              "#bd3786"
             ],
             [
              0.5555555555555556,
              "#d8576b"
             ],
             [
              0.6666666666666666,
              "#ed7953"
             ],
             [
              0.7777777777777778,
              "#fb9f3a"
             ],
             [
              0.8888888888888888,
              "#fdca26"
             ],
             [
              1,
              "#f0f921"
             ]
            ],
            "type": "contour"
           }
          ],
          "contourcarpet": [
           {
            "colorbar": {
             "outlinewidth": 0,
             "ticks": ""
            },
            "type": "contourcarpet"
           }
          ],
          "heatmap": [
           {
            "colorbar": {
             "outlinewidth": 0,
             "ticks": ""
            },
            "colorscale": [
             [
              0,
              "#0d0887"
             ],
             [
              0.1111111111111111,
              "#46039f"
             ],
             [
              0.2222222222222222,
              "#7201a8"
             ],
             [
              0.3333333333333333,
              "#9c179e"
             ],
             [
              0.4444444444444444,
              "#bd3786"
             ],
             [
              0.5555555555555556,
              "#d8576b"
             ],
             [
              0.6666666666666666,
              "#ed7953"
             ],
             [
              0.7777777777777778,
              "#fb9f3a"
             ],
             [
              0.8888888888888888,
              "#fdca26"
             ],
             [
              1,
              "#f0f921"
             ]
            ],
            "type": "heatmap"
           }
          ],
          "heatmapgl": [
           {
            "colorbar": {
             "outlinewidth": 0,
             "ticks": ""
            },
            "colorscale": [
             [
              0,
              "#0d0887"
             ],
             [
              0.1111111111111111,
              "#46039f"
             ],
             [
              0.2222222222222222,
              "#7201a8"
             ],
             [
              0.3333333333333333,
              "#9c179e"
             ],
             [
              0.4444444444444444,
              "#bd3786"
             ],
             [
              0.5555555555555556,
              "#d8576b"
             ],
             [
              0.6666666666666666,
              "#ed7953"
             ],
             [
              0.7777777777777778,
              "#fb9f3a"
             ],
             [
              0.8888888888888888,
              "#fdca26"
             ],
             [
              1,
              "#f0f921"
             ]
            ],
            "type": "heatmapgl"
           }
          ],
          "histogram": [
           {
            "marker": {
             "pattern": {
              "fillmode": "overlay",
              "size": 10,
              "solidity": 0.2
             }
            },
            "type": "histogram"
           }
          ],
          "histogram2d": [
           {
            "colorbar": {
             "outlinewidth": 0,
             "ticks": ""
            },
            "colorscale": [
             [
              0,
              "#0d0887"
             ],
             [
              0.1111111111111111,
              "#46039f"
             ],
             [
              0.2222222222222222,
              "#7201a8"
             ],
             [
              0.3333333333333333,
              "#9c179e"
             ],
             [
              0.4444444444444444,
              "#bd3786"
             ],
             [
              0.5555555555555556,
              "#d8576b"
             ],
             [
              0.6666666666666666,
              "#ed7953"
             ],
             [
              0.7777777777777778,
              "#fb9f3a"
             ],
             [
              0.8888888888888888,
              "#fdca26"
             ],
             [
              1,
              "#f0f921"
             ]
            ],
            "type": "histogram2d"
           }
          ],
          "histogram2dcontour": [
           {
            "colorbar": {
             "outlinewidth": 0,
             "ticks": ""
            },
            "colorscale": [
             [
              0,
              "#0d0887"
             ],
             [
              0.1111111111111111,
              "#46039f"
             ],
             [
              0.2222222222222222,
              "#7201a8"
             ],
             [
              0.3333333333333333,
              "#9c179e"
             ],
             [
              0.4444444444444444,
              "#bd3786"
             ],
             [
              0.5555555555555556,
              "#d8576b"
             ],
             [
              0.6666666666666666,
              "#ed7953"
             ],
             [
              0.7777777777777778,
              "#fb9f3a"
             ],
             [
              0.8888888888888888,
              "#fdca26"
             ],
             [
              1,
              "#f0f921"
             ]
            ],
            "type": "histogram2dcontour"
           }
          ],
          "mesh3d": [
           {
            "colorbar": {
             "outlinewidth": 0,
             "ticks": ""
            },
            "type": "mesh3d"
           }
          ],
          "parcoords": [
           {
            "line": {
             "colorbar": {
              "outlinewidth": 0,
              "ticks": ""
             }
            },
            "type": "parcoords"
           }
          ],
          "pie": [
           {
            "automargin": true,
            "type": "pie"
           }
          ],
          "scatter": [
           {
            "fillpattern": {
             "fillmode": "overlay",
             "size": 10,
             "solidity": 0.2
            },
            "type": "scatter"
           }
          ],
          "scatter3d": [
           {
            "line": {
             "colorbar": {
              "outlinewidth": 0,
              "ticks": ""
             }
            },
            "marker": {
             "colorbar": {
              "outlinewidth": 0,
              "ticks": ""
             }
            },
            "type": "scatter3d"
           }
          ],
          "scattercarpet": [
           {
            "marker": {
             "colorbar": {
              "outlinewidth": 0,
              "ticks": ""
             }
            },
            "type": "scattercarpet"
           }
          ],
          "scattergeo": [
           {
            "marker": {
             "colorbar": {
              "outlinewidth": 0,
              "ticks": ""
             }
            },
            "type": "scattergeo"
           }
          ],
          "scattergl": [
           {
            "marker": {
             "colorbar": {
              "outlinewidth": 0,
              "ticks": ""
             }
            },
            "type": "scattergl"
           }
          ],
          "scattermapbox": [
           {
            "marker": {
             "colorbar": {
              "outlinewidth": 0,
              "ticks": ""
             }
            },
            "type": "scattermapbox"
           }
          ],
          "scatterpolar": [
           {
            "marker": {
             "colorbar": {
              "outlinewidth": 0,
              "ticks": ""
             }
            },
            "type": "scatterpolar"
           }
          ],
          "scatterpolargl": [
           {
            "marker": {
             "colorbar": {
              "outlinewidth": 0,
              "ticks": ""
             }
            },
            "type": "scatterpolargl"
           }
          ],
          "scatterternary": [
           {
            "marker": {
             "colorbar": {
              "outlinewidth": 0,
              "ticks": ""
             }
            },
            "type": "scatterternary"
           }
          ],
          "surface": [
           {
            "colorbar": {
             "outlinewidth": 0,
             "ticks": ""
            },
            "colorscale": [
             [
              0,
              "#0d0887"
             ],
             [
              0.1111111111111111,
              "#46039f"
             ],
             [
              0.2222222222222222,
              "#7201a8"
             ],
             [
              0.3333333333333333,
              "#9c179e"
             ],
             [
              0.4444444444444444,
              "#bd3786"
             ],
             [
              0.5555555555555556,
              "#d8576b"
             ],
             [
              0.6666666666666666,
              "#ed7953"
             ],
             [
              0.7777777777777778,
              "#fb9f3a"
             ],
             [
              0.8888888888888888,
              "#fdca26"
             ],
             [
              1,
              "#f0f921"
             ]
            ],
            "type": "surface"
           }
          ],
          "table": [
           {
            "cells": {
             "fill": {
              "color": "#EBF0F8"
             },
             "line": {
              "color": "white"
             }
            },
            "header": {
             "fill": {
              "color": "#C8D4E3"
             },
             "line": {
              "color": "white"
             }
            },
            "type": "table"
           }
          ]
         },
         "layout": {
          "annotationdefaults": {
           "arrowcolor": "#2a3f5f",
           "arrowhead": 0,
           "arrowwidth": 1
          },
          "autotypenumbers": "strict",
          "coloraxis": {
           "colorbar": {
            "outlinewidth": 0,
            "ticks": ""
           }
          },
          "colorscale": {
           "diverging": [
            [
             0,
             "#8e0152"
            ],
            [
             0.1,
             "#c51b7d"
            ],
            [
             0.2,
             "#de77ae"
            ],
            [
             0.3,
             "#f1b6da"
            ],
            [
             0.4,
             "#fde0ef"
            ],
            [
             0.5,
             "#f7f7f7"
            ],
            [
             0.6,
             "#e6f5d0"
            ],
            [
             0.7,
             "#b8e186"
            ],
            [
             0.8,
             "#7fbc41"
            ],
            [
             0.9,
             "#4d9221"
            ],
            [
             1,
             "#276419"
            ]
           ],
           "sequential": [
            [
             0,
             "#0d0887"
            ],
            [
             0.1111111111111111,
             "#46039f"
            ],
            [
             0.2222222222222222,
             "#7201a8"
            ],
            [
             0.3333333333333333,
             "#9c179e"
            ],
            [
             0.4444444444444444,
             "#bd3786"
            ],
            [
             0.5555555555555556,
             "#d8576b"
            ],
            [
             0.6666666666666666,
             "#ed7953"
            ],
            [
             0.7777777777777778,
             "#fb9f3a"
            ],
            [
             0.8888888888888888,
             "#fdca26"
            ],
            [
             1,
             "#f0f921"
            ]
           ],
           "sequentialminus": [
            [
             0,
             "#0d0887"
            ],
            [
             0.1111111111111111,
             "#46039f"
            ],
            [
             0.2222222222222222,
             "#7201a8"
            ],
            [
             0.3333333333333333,
             "#9c179e"
            ],
            [
             0.4444444444444444,
             "#bd3786"
            ],
            [
             0.5555555555555556,
             "#d8576b"
            ],
            [
             0.6666666666666666,
             "#ed7953"
            ],
            [
             0.7777777777777778,
             "#fb9f3a"
            ],
            [
             0.8888888888888888,
             "#fdca26"
            ],
            [
             1,
             "#f0f921"
            ]
           ]
          },
          "colorway": [
           "#636efa",
           "#EF553B",
           "#00cc96",
           "#ab63fa",
           "#FFA15A",
           "#19d3f3",
           "#FF6692",
           "#B6E880",
           "#FF97FF",
           "#FECB52"
          ],
          "font": {
           "color": "#2a3f5f"
          },
          "geo": {
           "bgcolor": "white",
           "lakecolor": "white",
           "landcolor": "#E5ECF6",
           "showlakes": true,
           "showland": true,
           "subunitcolor": "white"
          },
          "hoverlabel": {
           "align": "left"
          },
          "hovermode": "closest",
          "mapbox": {
           "style": "light"
          },
          "paper_bgcolor": "white",
          "plot_bgcolor": "#E5ECF6",
          "polar": {
           "angularaxis": {
            "gridcolor": "white",
            "linecolor": "white",
            "ticks": ""
           },
           "bgcolor": "#E5ECF6",
           "radialaxis": {
            "gridcolor": "white",
            "linecolor": "white",
            "ticks": ""
           }
          },
          "scene": {
           "xaxis": {
            "backgroundcolor": "#E5ECF6",
            "gridcolor": "white",
            "gridwidth": 2,
            "linecolor": "white",
            "showbackground": true,
            "ticks": "",
            "zerolinecolor": "white"
           },
           "yaxis": {
            "backgroundcolor": "#E5ECF6",
            "gridcolor": "white",
            "gridwidth": 2,
            "linecolor": "white",
            "showbackground": true,
            "ticks": "",
            "zerolinecolor": "white"
           },
           "zaxis": {
            "backgroundcolor": "#E5ECF6",
            "gridcolor": "white",
            "gridwidth": 2,
            "linecolor": "white",
            "showbackground": true,
            "ticks": "",
            "zerolinecolor": "white"
           }
          },
          "shapedefaults": {
           "line": {
            "color": "#2a3f5f"
           }
          },
          "ternary": {
           "aaxis": {
            "gridcolor": "white",
            "linecolor": "white",
            "ticks": ""
           },
           "baxis": {
            "gridcolor": "white",
            "linecolor": "white",
            "ticks": ""
           },
           "bgcolor": "#E5ECF6",
           "caxis": {
            "gridcolor": "white",
            "linecolor": "white",
            "ticks": ""
           }
          },
          "title": {
           "x": 0.05
          },
          "xaxis": {
           "automargin": true,
           "gridcolor": "white",
           "linecolor": "white",
           "ticks": "",
           "title": {
            "standoff": 15
           },
           "zerolinecolor": "white",
           "zerolinewidth": 2
          },
          "yaxis": {
           "automargin": true,
           "gridcolor": "white",
           "linecolor": "white",
           "ticks": "",
           "title": {
            "standoff": 15
           },
           "zerolinecolor": "white",
           "zerolinewidth": 2
          }
         }
        },
        "title": {
         "text": "Arms control and disarmament<br>",
         "x": 0.5,
         "xanchor": "center",
         "y": 0.9,
         "yanchor": "top"
        },
        "xaxis": {
         "anchor": "y",
         "autorange": true,
         "domain": [
          0,
          1
         ],
         "range": [
          1943.3801369863013,
          2023.6198630136987
         ],
         "title": {
          "text": "Year"
         },
         "type": "linear"
        },
        "yaxis": {
         "anchor": "x",
         "autorange": true,
         "domain": [
          0,
          1
         ],
         "range": [
          -7.742782152230971,
          107.74278215223097
         ],
         "title": {
          "text": "% Yes"
         },
         "type": "linear"
        }
       }
      },
      "image/png": "[encoded data removed]",
      "text/html": [
       "<div>                            <div id=\"e4fb02bd-bad7-4389-9334-c256de5606db\" class=\"plotly-graph-div\" style=\"height:525px; width:100%;\"></div>            <script type=\"text/javascript\">                require([\"plotly\"], function(Plotly) {                    window.PLOTLYENV=window.PLOTLYENV || {};                                    if (document.getElementById(\"e4fb02bd-bad7-4389-9334-c256de5606db\")) {                    Plotly.newPlot(                        \"e4fb02bd-bad7-4389-9334-c256de5606db\",                        [{\"hovertemplate\":\"Country=Honduras\\u003cbr\\u003ex=%{x}\\u003cbr\\u003ey=%{y}\\u003cextra\\u003e\\u003c\\u002fextra\\u003e\",\"legendgroup\":\"Honduras\",\"marker\":{\"color\":\"#636efa\",\"symbol\":\"circle\"},\"mode\":\"markers\",\"name\":\"Honduras\",\"orientation\":\"v\",\"showlegend\":true,\"x\":[1948,1949,1954,1956,1957,1958,1959,1960,1961,1962,1965,1966,1967,1968,1969,1971,1972,1973,1974,1975,1976,1977,1979,1978,1980,1981,1982,1983,1984,1985,1986,1987,1988,1989,1990,1991,1992,1993,1994,1995,1996,1997,1998,1999,2000,2001,2002,2003,2004,2005,2006,2007,2008,2009,2010,2011,2012,2013,2014,2015,2016,2017,2018,2019],\"xaxis\":\"x\",\"y\":[0.0,0.0,100.0,100.0,75.0,50.0,25.0,83.33333333333334,42.857142857142854,100.0,80.0,0.0,100.0,100.0,100.0,75.0,66.66666666666666,100.0,100.0,92.3076923076923,50.0,100.0,86.66666666666667,92.85714285714286,100.0,82.14285714285714,96.15384615384616,70.27027027027027,78.78787878787878,86.8421052631579,91.17647058823529,92.85714285714286,86.66666666666667,89.65517241379311,93.33333333333333,92.85714285714286,91.66666666666666,88.88888888888889,93.33333333333333,94.44444444444444,100.0,100.0,80.0,100.0,100.0,100.0,100.0,93.75,95.0,91.30434782608695,96.29629629629629,95.0,100.0,100.0,100.0,100.0,100.0,100.0,100.0,95.23809523809523,100.0,100.0,100.0,100.0],\"yaxis\":\"y\",\"type\":\"scatter\"},{\"hovertemplate\":\"\\u003cb\\u003eLOWESS trendline\\u003c\\u002fb\\u003e\\u003cbr\\u003e\\u003cbr\\u003eCountry=Honduras\\u003cbr\\u003ex=%{x}\\u003cbr\\u003ey=%{y} \\u003cb\\u003e(trend)\\u003c\\u002fb\\u003e\\u003cextra\\u003e\\u003c\\u002fextra\\u003e\",\"legendgroup\":\"Honduras\",\"marker\":{\"color\":\"#636efa\",\"symbol\":\"circle\"},\"mode\":\"lines\",\"name\":\"Honduras\",\"showlegend\":false,\"x\":[1948,1949,1954,1956,1957,1958,1959,1960,1961,1962,1965,1966,1967,1968,1969,1971,1972,1973,1974,1975,1976,1977,1978,1979,1980,1981,1982,1983,1984,1985,1986,1987,1988,1989,1990,1991,1992,1993,1994,1995,1996,1997,1998,1999,2000,2001,2002,2003,2004,2005,2006,2007,2008,2009,2010,2011,2012,2013,2014,2015,2016,2017,2018,2019],\"xaxis\":\"x\",\"y\":[76.23448866724684,76.78627065994506,79.45974363718886,80.47946448748026,80.97601390465948,81.46276881244954,81.93990369708617,82.40804052509793,82.86791320983372,83.32027156038804,84.64022916184327,85.07086223238841,85.49949387109032,85.92855428285037,86.36040216400173,87.24002685679527,87.69040347396276,88.03532060819546,88.36128184828574,88.7881357793603,89.1960779375036,89.44511419384433,89.727589893039,89.89528653483914,90.06270594294585,90.23831252560132,90.4261685432277,90.6292770650714,90.84507095840692,91.06913117646036,91.23247120314333,91.47196191721197,91.71671077612254,91.95972865048257,92.19923965149705,92.43986917347716,92.6924869499887,92.96938035976409,93.27643561712537,93.61103621173748,93.96711126173487,94.3393748561805,94.72209520102166,95.10637178367016,95.42643875190485,95.73770345995253,96.04445037217477,96.34751511136605,96.6466340355959,96.9416460299194,97.23265264927073,97.52002621574823,97.80419686519247,98.08559952262469,98.3645267666896,98.64113493992454,98.91548237434331,99.18755614215956,99.45729240666962,99.72459327579965,99.98938568727033,100.25176039293406,100.51184284068981,100.7697625176866],\"yaxis\":\"y\",\"type\":\"scatter\"},{\"hovertemplate\":\"Country=Mexico\\u003cbr\\u003ex=%{x}\\u003cbr\\u003ey=%{y}\\u003cextra\\u003e\\u003c\\u002fextra\\u003e\",\"legendgroup\":\"Mexico\",\"marker\":{\"color\":\"#EF553B\",\"symbol\":\"circle\"},\"mode\":\"markers\",\"name\":\"Mexico\",\"orientation\":\"v\",\"showlegend\":true,\"x\":[1948,1949,1950,1954,1956,1957,1958,1959,1960,1961,1962,1963,1965,1966,1967,1968,1969,1970,1971,1972,1973,1974,1975,1976,1977,1979,1978,1980,1981,1982,1983,1984,1985,1986,1987,1988,1989,1990,1991,1992,1993,1994,1995,1996,1997,1998,1999,2000,2001,2002,2003,2004,2005,2006,2007,2008,2009,2010,2011,2012,2013,2014,2015,2016,2017,2018,2019],\"xaxis\":\"x\",\"y\":[11.11111111111111,0.0,100.0,100.0,100.0,80.0,50.0,75.0,83.33333333333334,85.71428571428571,100.0,100.0,80.0,0.0,100.0,100.0,100.0,100.0,81.81818181818183,90.0,100.0,100.0,100.0,90.0,100.0,93.33333333333333,86.66666666666667,94.44444444444444,92.85714285714286,85.18518518518519,94.5945945945946,91.17647058823529,87.5,88.88888888888889,96.42857142857143,93.33333333333333,93.10344827586206,93.75,100.0,91.66666666666666,72.72727272727273,86.66666666666667,89.47368421052632,95.23809523809523,90.9090909090909,95.83333333333334,94.73684210526315,93.75,88.23529411764706,86.95652173913044,93.75,90.0,91.30434782608695,100.0,100.0,96.0,100.0,91.30434782608695,95.83333333333334,95.65217391304348,100.0,100.0,100.0,100.0,96.55172413793103,94.11764705882352,93.75],\"yaxis\":\"y\",\"type\":\"scatter\"},{\"hovertemplate\":\"\\u003cb\\u003eLOWESS trendline\\u003c\\u002fb\\u003e\\u003cbr\\u003e\\u003cbr\\u003eCountry=Mexico\\u003cbr\\u003ex=%{x}\\u003cbr\\u003ey=%{y} \\u003cb\\u003e(trend)\\u003c\\u002fb\\u003e\\u003cextra\\u003e\\u003c\\u002fextra\\u003e\",\"legendgroup\":\"Mexico\",\"marker\":{\"color\":\"#EF553B\",\"symbol\":\"circle\"},\"mode\":\"lines\",\"name\":\"Mexico\",\"showlegend\":false,\"x\":[1948,1949,1950,1954,1956,1957,1958,1959,1960,1961,1962,1963,1965,1966,1967,1968,1969,1970,1971,1972,1973,1974,1975,1976,1977,1978,1979,1980,1981,1982,1983,1984,1985,1986,1987,1988,1989,1990,1991,1992,1993,1994,1995,1996,1997,1998,1999,2000,2001,2002,2003,2004,2005,2006,2007,2008,2009,2010,2011,2012,2013,2014,2015,2016,2017,2018,2019],\"xaxis\":\"x\",\"y\":[89.82886476760848,89.97403691555036,90.12054423423908,90.71134646072822,90.99864502405015,91.13608068153918,91.26707439849592,91.39027262634197,91.50458887031812,91.60965129415248,91.70589750397005,91.79440676522937,91.95296307035804,92.02605941112321,92.09876972471322,92.17551088054331,92.26194657363041,92.3652721719174,92.49432111611071,92.65865247284103,92.7772470152389,92.89142087584555,92.99605901122877,93.19670255198777,93.26235989090601,93.37618171020436,93.33919277107941,93.26822588259907,93.17213951381945,93.06182155327399,92.94659299993893,92.83052744226237,92.7135489643605,92.59985243940643,92.49917400746223,92.42233794109278,92.3747793085497,92.35601841072666,92.36413519033334,92.39771774569192,92.45797297301982,92.54891771458585,92.67123748408252,92.8213293601268,92.99328662822477,93.18011770776177,93.43015767279245,93.66392548812058,93.88406915485645,94.09506892833805,94.30068657144955,94.5038011130605,94.70648013967019,94.9103157614969,95.11649852087747,95.32569345165035,95.5381698690303,95.75398677019132,95.97303039697218,96.19523061291183,96.42050623835513,96.64872741796658,96.87961242371355,97.11272291539618,97.34748693855633,97.58324864787296,97.81942687699477],\"yaxis\":\"y\",\"type\":\"scatter\"},{\"hovertemplate\":\"Country=Cuba\\u003cbr\\u003ex=%{x}\\u003cbr\\u003ey=%{y}\\u003cextra\\u003e\\u003c\\u002fextra\\u003e\",\"legendgroup\":\"Cuba\",\"marker\":{\"color\":\"#00cc96\",\"symbol\":\"circle\"},\"mode\":\"markers\",\"name\":\"Cuba\",\"orientation\":\"v\",\"showlegend\":true,\"x\":[1948,1949,1950,1954,1956,1957,1958,1959,1960,1961,1963,1965,1967,1968,1969,1970,1971,1972,1973,1974,1975,1976,1977,1979,1978,1980,1981,1982,1983,1984,1985,1986,1987,1988,1989,1990,1991,1992,1993,1994,1995,1996,1997,1998,1999,2000,2001,2002,2003,2004,2005,2006,2007,2008,2009,2010,2011,2012,2013,2014,2015,2016,2017,2018,2019],\"xaxis\":\"x\",\"y\":[0.0,0.0,100.0,100.0,100.0,40.0,50.0,100.0,83.33333333333334,57.14285714285714,100.0,60.0,0.0,0.0,50.0,80.0,66.66666666666666,60.0,28.57142857142857,35.714285714285715,46.15384615384615,71.42857142857143,45.45454545454545,73.33333333333333,53.333333333333336,77.77777777777779,85.71428571428571,74.07407407407408,81.08108108108108,88.23529411764706,80.48780487804879,80.55555555555556,89.28571428571429,80.0,82.75862068965517,81.25,85.71428571428571,100.0,90.9090909090909,73.33333333333333,68.42105263157895,76.19047619047619,68.18181818181817,73.91304347826086,88.88888888888889,73.33333333333333,73.33333333333333,86.36363636363636,86.66666666666667,84.21052631578947,81.81818181818183,92.3076923076923,94.73684210526315,83.33333333333334,78.94736842105263,85.71428571428571,77.27272727272727,78.26086956521739,82.35294117647058,77.27272727272727,85.71428571428571,65.71428571428571,79.3103448275862,82.35294117647058,87.5],\"yaxis\":\"y\",\"type\":\"scatter\"},{\"hovertemplate\":\"\\u003cb\\u003eLOWESS trendline\\u003c\\u002fb\\u003e\\u003cbr\\u003e\\u003cbr\\u003eCountry=Cuba\\u003cbr\\u003ex=%{x}\\u003cbr\\u003ey=%{y} \\u003cb\\u003e(trend)\\u003c\\u002fb\\u003e\\u003cextra\\u003e\\u003c\\u002fextra\\u003e\",\"legendgroup\":\"Cuba\",\"marker\":{\"color\":\"#00cc96\",\"symbol\":\"circle\"},\"mode\":\"lines\",\"name\":\"Cuba\",\"showlegend\":false,\"x\":[1948,1949,1950,1954,1956,1957,1958,1959,1960,1961,1963,1965,1967,1968,1969,1970,1971,1972,1973,1974,1975,1976,1977,1978,1979,1980,1981,1982,1983,1984,1985,1986,1987,1988,1989,1990,1991,1992,1993,1994,1995,1996,1997,1998,1999,2000,2001,2002,2003,2004,2005,2006,2007,2008,2009,2010,2011,2012,2013,2014,2015,2016,2017,2018,2019],\"xaxis\":\"x\",\"y\":[38.382031274951274,39.3824706238889,40.38259884685611,44.38792329436089,46.400550488692474,47.4115885663529,48.427014259466496,49.44857752154592,50.47816362046167,51.51754481568175,53.629037355864924,55.78454867433722,57.97964366163098,59.08778220700874,60.19898584036625,61.308971361781616,62.41252875295587,63.501679181086736,64.6271365345584,65.7363603946789,66.81781507207073,67.82122071028343,68.78320567890324,69.7873478259971,70.7547983510942,71.68136655761148,72.56452050931445,73.40208143331085,74.1936929293814,74.94127760280959,75.86649593036428,76.56046510904083,77.23089309769645,78.1285494180332,78.74264574605596,79.31978021869534,79.85324247678783,80.32959888638801,80.7397618178972,81.07795697882439,81.33656275702398,81.51513050048058,81.61656049443887,81.64775360253427,81.61209747031482,81.56063742937921,81.51167606761405,81.47103246689922,81.44056199173208,81.42036083006808,81.40970540093547,81.40758354120258,81.41285972662519,81.42405435192879,81.43944134324799,81.45743606927803,81.47671637968212,81.49606995925762,81.51457993073042,81.53158728763336,81.54656734090632,81.55918119971204,81.56915895824882,81.57672433200901,81.58231453020025],\"yaxis\":\"y\",\"type\":\"scatter\"}],                        {\"template\":{\"data\":{\"histogram2dcontour\":[{\"type\":\"histogram2dcontour\",\"colorbar\":{\"outlinewidth\":0,\"ticks\":\"\"},\"colorscale\":[[0.0,\"#0d0887\"],[0.1111111111111111,\"#46039f\"],[0.2222222222222222,\"#7201a8\"],[0.3333333333333333,\"#9c179e\"],[0.4444444444444444,\"#bd3786\"],[0.5555555555555556,\"#d8576b\"],[0.6666666666666666,\"#ed7953\"],[0.7777777777777778,\"#fb9f3a\"],[0.8888888888888888,\"#fdca26\"],[1.0,\"#f0f921\"]]}],\"choropleth\":[{\"type\":\"choropleth\",\"colorbar\":{\"outlinewidth\":0,\"ticks\":\"\"}}],\"histogram2d\":[{\"type\":\"histogram2d\",\"colorbar\":{\"outlinewidth\":0,\"ticks\":\"\"},\"colorscale\":[[0.0,\"#0d0887\"],[0.1111111111111111,\"#46039f\"],[0.2222222222222222,\"#7201a8\"],[0.3333333333333333,\"#9c179e\"],[0.4444444444444444,\"#bd3786\"],[0.5555555555555556,\"#d8576b\"],[0.6666666666666666,\"#ed7953\"],[0.7777777777777778,\"#fb9f3a\"],[0.8888888888888888,\"#fdca26\"],[1.0,\"#f0f921\"]]}],\"heatmap\":[{\"type\":\"heatmap\",\"colorbar\":{\"outlinewidth\":0,\"ticks\":\"\"},\"colorscale\":[[0.0,\"#0d0887\"],[0.1111111111111111,\"#46039f\"],[0.2222222222222222,\"#7201a8\"],[0.3333333333333333,\"#9c179e\"],[0.4444444444444444,\"#bd3786\"],[0.5555555555555556,\"#d8576b\"],[0.6666666666666666,\"#ed7953\"],[0.7777777777777778,\"#fb9f3a\"],[0.8888888888888888,\"#fdca26\"],[1.0,\"#f0f921\"]]}],\"heatmapgl\":[{\"type\":\"heatmapgl\",\"colorbar\":{\"outlinewidth\":0,\"ticks\":\"\"},\"colorscale\":[[0.0,\"#0d0887\"],[0.1111111111111111,\"#46039f\"],[0.2222222222222222,\"#7201a8\"],[0.3333333333333333,\"#9c179e\"],[0.4444444444444444,\"#bd3786\"],[0.5555555555555556,\"#d8576b\"],[0.6666666666666666,\"#ed7953\"],[0.7777777777777778,\"#fb9f3a\"],[0.8888888888888888,\"#fdca26\"],[1.0,\"#f0f921\"]]}],\"contourcarpet\":[{\"type\":\"contourcarpet\",\"colorbar\":{\"outlinewidth\":0,\"ticks\":\"\"}}],\"contour\":[{\"type\":\"contour\",\"colorbar\":{\"outlinewidth\":0,\"ticks\":\"\"},\"colorscale\":[[0.0,\"#0d0887\"],[0.1111111111111111,\"#46039f\"],[0.2222222222222222,\"#7201a8\"],[0.3333333333333333,\"#9c179e\"],[0.4444444444444444,\"#bd3786\"],[0.5555555555555556,\"#d8576b\"],[0.6666666666666666,\"#ed7953\"],[0.7777777777777778,\"#fb9f3a\"],[0.8888888888888888,\"#fdca26\"],[1.0,\"#f0f921\"]]}],\"surface\":[{\"type\":\"surface\",\"colorbar\":{\"outlinewidth\":0,\"ticks\":\"\"},\"colorscale\":[[0.0,\"#0d0887\"],[0.1111111111111111,\"#46039f\"],[0.2222222222222222,\"#7201a8\"],[0.3333333333333333,\"#9c179e\"],[0.4444444444444444,\"#bd3786\"],[0.5555555555555556,\"#d8576b\"],[0.6666666666666666,\"#ed7953\"],[0.7777777777777778,\"#fb9f3a\"],[0.8888888888888888,\"#fdca26\"],[1.0,\"#f0f921\"]]}],\"mesh3d\":[{\"type\":\"mesh3d\",\"colorbar\":{\"outlinewidth\":0,\"ticks\":\"\"}}],\"scatter\":[{\"fillpattern\":{\"fillmode\":\"overlay\",\"size\":10,\"solidity\":0.2},\"type\":\"scatter\"}],\"parcoords\":[{\"type\":\"parcoords\",\"line\":{\"colorbar\":{\"outlinewidth\":0,\"ticks\":\"\"}}}],\"scatterpolargl\":[{\"type\":\"scatterpolargl\",\"marker\":{\"colorbar\":{\"outlinewidth\":0,\"ticks\":\"\"}}}],\"bar\":[{\"error_x\":{\"color\":\"#2a3f5f\"},\"error_y\":{\"color\":\"#2a3f5f\"},\"marker\":{\"line\":{\"color\":\"#E5ECF6\",\"width\":0.5},\"pattern\":{\"fillmode\":\"overlay\",\"size\":10,\"solidity\":0.2}},\"type\":\"bar\"}],\"scattergeo\":[{\"type\":\"scattergeo\",\"marker\":{\"colorbar\":{\"outlinewidth\":0,\"ticks\":\"\"}}}],\"scatterpolar\":[{\"type\":\"scatterpolar\",\"marker\":{\"colorbar\":{\"outlinewidth\":0,\"ticks\":\"\"}}}],\"histogram\":[{\"marker\":{\"pattern\":{\"fillmode\":\"overlay\",\"size\":10,\"solidity\":0.2}},\"type\":\"histogram\"}],\"scattergl\":[{\"type\":\"scattergl\",\"marker\":{\"colorbar\":{\"outlinewidth\":0,\"ticks\":\"\"}}}],\"scatter3d\":[{\"type\":\"scatter3d\",\"line\":{\"colorbar\":{\"outlinewidth\":0,\"ticks\":\"\"}},\"marker\":{\"colorbar\":{\"outlinewidth\":0,\"ticks\":\"\"}}}],\"scattermapbox\":[{\"type\":\"scattermapbox\",\"marker\":{\"colorbar\":{\"outlinewidth\":0,\"ticks\":\"\"}}}],\"scatterternary\":[{\"type\":\"scatterternary\",\"marker\":{\"colorbar\":{\"outlinewidth\":0,\"ticks\":\"\"}}}],\"scattercarpet\":[{\"type\":\"scattercarpet\",\"marker\":{\"colorbar\":{\"outlinewidth\":0,\"ticks\":\"\"}}}],\"carpet\":[{\"aaxis\":{\"endlinecolor\":\"#2a3f5f\",\"gridcolor\":\"white\",\"linecolor\":\"white\",\"minorgridcolor\":\"white\",\"startlinecolor\":\"#2a3f5f\"},\"baxis\":{\"endlinecolor\":\"#2a3f5f\",\"gridcolor\":\"white\",\"linecolor\":\"white\",\"minorgridcolor\":\"white\",\"startlinecolor\":\"#2a3f5f\"},\"type\":\"carpet\"}],\"table\":[{\"cells\":{\"fill\":{\"color\":\"#EBF0F8\"},\"line\":{\"color\":\"white\"}},\"header\":{\"fill\":{\"color\":\"#C8D4E3\"},\"line\":{\"color\":\"white\"}},\"type\":\"table\"}],\"barpolar\":[{\"marker\":{\"line\":{\"color\":\"#E5ECF6\",\"width\":0.5},\"pattern\":{\"fillmode\":\"overlay\",\"size\":10,\"solidity\":0.2}},\"type\":\"barpolar\"}],\"pie\":[{\"automargin\":true,\"type\":\"pie\"}]},\"layout\":{\"autotypenumbers\":\"strict\",\"colorway\":[\"#636efa\",\"#EF553B\",\"#00cc96\",\"#ab63fa\",\"#FFA15A\",\"#19d3f3\",\"#FF6692\",\"#B6E880\",\"#FF97FF\",\"#FECB52\"],\"font\":{\"color\":\"#2a3f5f\"},\"hovermode\":\"closest\",\"hoverlabel\":{\"align\":\"left\"},\"paper_bgcolor\":\"white\",\"plot_bgcolor\":\"#E5ECF6\",\"polar\":{\"bgcolor\":\"#E5ECF6\",\"angularaxis\":{\"gridcolor\":\"white\",\"linecolor\":\"white\",\"ticks\":\"\"},\"radialaxis\":{\"gridcolor\":\"white\",\"linecolor\":\"white\",\"ticks\":\"\"}},\"ternary\":{\"bgcolor\":\"#E5ECF6\",\"aaxis\":{\"gridcolor\":\"white\",\"linecolor\":\"white\",\"ticks\":\"\"},\"baxis\":{\"gridcolor\":\"white\",\"linecolor\":\"white\",\"ticks\":\"\"},\"caxis\":{\"gridcolor\":\"white\",\"linecolor\":\"white\",\"ticks\":\"\"}},\"coloraxis\":{\"colorbar\":{\"outlinewidth\":0,\"ticks\":\"\"}},\"colorscale\":{\"sequential\":[[0.0,\"#0d0887\"],[0.1111111111111111,\"#46039f\"],[0.2222222222222222,\"#7201a8\"],[0.3333333333333333,\"#9c179e\"],[0.4444444444444444,\"#bd3786\"],[0.5555555555555556,\"#d8576b\"],[0.6666666666666666,\"#ed7953\"],[0.7777777777777778,\"#fb9f3a\"],[0.8888888888888888,\"#fdca26\"],[1.0,\"#f0f921\"]],\"sequentialminus\":[[0.0,\"#0d0887\"],[0.1111111111111111,\"#46039f\"],[0.2222222222222222,\"#7201a8\"],[0.3333333333333333,\"#9c179e\"],[0.4444444444444444,\"#bd3786\"],[0.5555555555555556,\"#d8576b\"],[0.6666666666666666,\"#ed7953\"],[0.7777777777777778,\"#fb9f3a\"],[0.8888888888888888,\"#fdca26\"],[1.0,\"#f0f921\"]],\"diverging\":[[0,\"#8e0152\"],[0.1,\"#c51b7d\"],[0.2,\"#de77ae\"],[0.3,\"#f1b6da\"],[0.4,\"#fde0ef\"],[0.5,\"#f7f7f7\"],[0.6,\"#e6f5d0\"],[0.7,\"#b8e186\"],[0.8,\"#7fbc41\"],[0.9,\"#4d9221\"],[1,\"#276419\"]]},\"xaxis\":{\"gridcolor\":\"white\",\"linecolor\":\"white\",\"ticks\":\"\",\"title\":{\"standoff\":15},\"zerolinecolor\":\"white\",\"automargin\":true,\"zerolinewidth\":2},\"yaxis\":{\"gridcolor\":\"white\",\"linecolor\":\"white\",\"ticks\":\"\",\"title\":{\"standoff\":15},\"zerolinecolor\":\"white\",\"automargin\":true,\"zerolinewidth\":2},\"scene\":{\"xaxis\":{\"backgroundcolor\":\"#E5ECF6\",\"gridcolor\":\"white\",\"linecolor\":\"white\",\"showbackground\":true,\"ticks\":\"\",\"zerolinecolor\":\"white\",\"gridwidth\":2},\"yaxis\":{\"backgroundcolor\":\"#E5ECF6\",\"gridcolor\":\"white\",\"linecolor\":\"white\",\"showbackground\":true,\"ticks\":\"\",\"zerolinecolor\":\"white\",\"gridwidth\":2},\"zaxis\":{\"backgroundcolor\":\"#E5ECF6\",\"gridcolor\":\"white\",\"linecolor\":\"white\",\"showbackground\":true,\"ticks\":\"\",\"zerolinecolor\":\"white\",\"gridwidth\":2}},\"shapedefaults\":{\"line\":{\"color\":\"#2a3f5f\"}},\"annotationdefaults\":{\"arrowcolor\":\"#2a3f5f\",\"arrowhead\":0,\"arrowwidth\":1},\"geo\":{\"bgcolor\":\"white\",\"landcolor\":\"#E5ECF6\",\"subunitcolor\":\"white\",\"showland\":true,\"showlakes\":true,\"lakecolor\":\"white\"},\"title\":{\"x\":0.05},\"mapbox\":{\"style\":\"light\"}}},\"xaxis\":{\"anchor\":\"y\",\"domain\":[0.0,1.0],\"title\":{\"text\":\"Year\"}},\"yaxis\":{\"anchor\":\"x\",\"domain\":[0.0,1.0],\"title\":{\"text\":\"% Yes\"}},\"legend\":{\"title\":{\"text\":\"Country\"},\"tracegroupgap\":0},\"margin\":{\"t\":60},\"title\":{\"text\":\"Arms control and disarmament\\u003cbr\\u003e\",\"y\":0.9,\"x\":0.5,\"xanchor\":\"center\",\"yanchor\":\"top\"}},                        {\"responsive\": true}                    ).then(function(){\n",
       "                            \n",
       "var gd = document.getElementById('e4fb02bd-bad7-4389-9334-c256de5606db');\n",
       "var x = new MutationObserver(function (mutations, observer) {{\n",
       "        var display = window.getComputedStyle(gd).display;\n",
       "        if (!display || display === 'none') {{\n",
       "            console.log([gd, 'removed!']);\n",
       "            Plotly.purge(gd);\n",
       "            observer.disconnect();\n",
       "        }}\n",
       "}});\n",
       "\n",
       "// Listen for the removal of the full notebook cells\n",
       "var notebookContainer = gd.closest('#notebook-container');\n",
       "if (notebookContainer) {{\n",
       "    x.observe(notebookContainer, {childList: true});\n",
       "}}\n",
       "\n",
       "// Listen for the clearing of the current output cell\n",
       "var outputEl = gd.closest('.output');\n",
       "if (outputEl) {{\n",
       "    x.observe(outputEl, {childList: true});\n",
       "}}\n",
       "\n",
       "                        })                };                });            </script>        </div>"
      ]
     },
     "metadata": {},
     "output_type": "display_data"
    },
    {
     "data": {
      "application/vnd.plotly.v1+json": {
       "config": {
        "plotlyServerURL": "https://plot.ly"
       },
       "data": [
        {
         "hovertemplate": "Country=Honduras<br>x=%{x}<br>y=%{y}<extra></extra>",
         "legendgroup": "Honduras",
         "marker": {
          "color": "#636efa",
          "symbol": "circle"
         },
         "mode": "markers",
         "name": "Honduras",
         "orientation": "v",
         "showlegend": true,
         "type": "scatter",
         "x": [
          1948,
          1949,
          1957,
          1958,
          1959,
          1960,
          1961,
          1962,
          1965,
          1966,
          1967,
          1968,
          1969,
          1971,
          1972,
          1973,
          1974,
          1975,
          1976,
          1977,
          1979,
          1978,
          1980,
          1981,
          1982,
          1983,
          1984,
          1985,
          1986,
          1987,
          1988,
          1989,
          1990,
          1991,
          1992,
          1993,
          1994,
          1995,
          1996,
          1997,
          1998,
          1999,
          2000,
          2001,
          2002,
          2003,
          2004,
          2005,
          2006,
          2007,
          2008,
          2009,
          2010,
          2011,
          2012,
          2013,
          2014,
          2015,
          2016,
          2017,
          2018,
          2019
         ],
         "xaxis": "x",
         "y": [
          0,
          0,
          66.66666666666666,
          50,
          11.11111111111111,
          100,
          37.5,
          100,
          100,
          0,
          100,
          100,
          100,
          40,
          66.66666666666666,
          100,
          100,
          100,
          100,
          100,
          88.88888888888889,
          100,
          88.23529411764706,
          73.68421052631578,
          100,
          75.86206896551724,
          75,
          82.6086956521739,
          87.5,
          90,
          80.95238095238095,
          89.47368421052632,
          88.23529411764706,
          90.9090909090909,
          90,
          80,
          90,
          90,
          100,
          100,
          66.66666666666666,
          100,
          100,
          100,
          100,
          93.33333333333333,
          100,
          87.5,
          100,
          93.33333333333333,
          100,
          100,
          100,
          100,
          100,
          100,
          100,
          94.73684210526315,
          100,
          100,
          100,
          100
         ],
         "yaxis": "y"
        },
        {
         "hovertemplate": "<b>LOWESS trendline</b><br><br>Country=Honduras<br>x=%{x}<br>y=%{y} <b>(trend)</b><extra></extra>",
         "legendgroup": "Honduras",
         "marker": {
          "color": "#636efa",
          "symbol": "circle"
         },
         "mode": "lines",
         "name": "Honduras",
         "showlegend": false,
         "type": "scatter",
         "x": [
          1948,
          1949,
          1957,
          1958,
          1959,
          1960,
          1961,
          1962,
          1965,
          1966,
          1967,
          1968,
          1969,
          1971,
          1972,
          1973,
          1974,
          1975,
          1976,
          1977,
          1978,
          1979,
          1980,
          1981,
          1982,
          1983,
          1984,
          1985,
          1986,
          1987,
          1988,
          1989,
          1990,
          1991,
          1992,
          1993,
          1994,
          1995,
          1996,
          1997,
          1998,
          1999,
          2000,
          2001,
          2002,
          2003,
          2004,
          2005,
          2006,
          2007,
          2008,
          2009,
          2010,
          2011,
          2012,
          2013,
          2014,
          2015,
          2016,
          2017,
          2018,
          2019
         ],
         "xaxis": "x",
         "y": [
          64.67472857123711,
          65.84322652046451,
          74.49602721511715,
          75.46078437839351,
          76.3928528159702,
          77.29386713714364,
          78.16644755171855,
          79.01368810000771,
          81.4485149558191,
          82.24308960606477,
          83.04040114140142,
          83.84876423958998,
          84.67746031544607,
          86.43801477244392,
          87.39367807173043,
          88.41380438450935,
          89.03128232003837,
          89.56310126954071,
          90.45512545003551,
          91.13576162022001,
          91.34229330620693,
          91.04445537121087,
          90.71867189292327,
          90.4328312369823,
          90.20670589626845,
          90.04898859314726,
          89.96329725552565,
          89.75629933190287,
          89.78427598040508,
          89.86557451857267,
          89.98920427963627,
          90.14515955773527,
          90.32788832010088,
          90.3236348315979,
          90.59607005300204,
          90.93363080483209,
          91.3361953826816,
          91.79773140277744,
          92.3075239364438,
          92.84895080726717,
          93.40326596771392,
          93.953957521356,
          94.39023398346153,
          94.80565485567246,
          95.21378768898549,
          95.61865272370483,
          96.02009473173483,
          96.41731551182627,
          96.80961037716635,
          97.19681625113364,
          97.57886923226744,
          97.95586693780378,
          98.32784782209451,
          98.69476276062252,
          99.05650782937207,
          99.41294763586707,
          99.76393377696384,
          100.10932084503051,
          100.44903494630208,
          100.78324053003331,
          101.11217951527529,
          101.43613174626392
         ],
         "yaxis": "y"
        },
        {
         "hovertemplate": "Country=Mexico<br>x=%{x}<br>y=%{y}<extra></extra>",
         "legendgroup": "Mexico",
         "marker": {
          "color": "#EF553B",
          "symbol": "circle"
         },
         "mode": "markers",
         "name": "Mexico",
         "orientation": "v",
         "showlegend": true,
         "type": "scatter",
         "x": [
          1948,
          1949,
          1957,
          1958,
          1959,
          1960,
          1961,
          1962,
          1963,
          1965,
          1966,
          1967,
          1968,
          1969,
          1970,
          1971,
          1972,
          1973,
          1974,
          1975,
          1976,
          1977,
          1979,
          1978,
          1980,
          1981,
          1982,
          1983,
          1984,
          1985,
          1986,
          1987,
          1988,
          1989,
          1990,
          1991,
          1992,
          1993,
          1994,
          1995,
          1996,
          1997,
          1998,
          1999,
          2000,
          2001,
          2002,
          2003,
          2004,
          2005,
          2006,
          2007,
          2008,
          2009,
          2010,
          2011,
          2012,
          2013,
          2014,
          2015,
          2016,
          2017,
          2018,
          2019
         ],
         "xaxis": "x",
         "y": [
          0,
          0,
          100,
          50,
          55.55555555555556,
          100,
          75,
          100,
          100,
          100,
          0,
          100,
          100,
          100,
          100,
          60,
          87.5,
          100,
          100,
          100,
          90,
          100,
          94.44444444444444,
          100,
          100,
          100,
          92.3076923076923,
          96.875,
          92,
          88,
          87.5,
          95,
          95.23809523809523,
          100,
          94.11764705882352,
          100,
          90,
          80,
          100,
          100,
          100,
          100,
          100,
          100,
          100,
          92.85714285714286,
          90,
          93.33333333333333,
          93.75,
          93.75,
          100,
          100,
          100,
          100,
          100,
          100,
          100,
          100,
          100,
          100,
          100,
          100,
          93.75,
          94.11764705882352
         ],
         "yaxis": "y"
        },
        {
         "hovertemplate": "<b>LOWESS trendline</b><br><br>Country=Mexico<br>x=%{x}<br>y=%{y} <b>(trend)</b><extra></extra>",
         "legendgroup": "Mexico",
         "marker": {
          "color": "#EF553B",
          "symbol": "circle"
         },
         "mode": "lines",
         "name": "Mexico",
         "showlegend": false,
         "type": "scatter",
         "x": [
          1948,
          1949,
          1957,
          1958,
          1959,
          1960,
          1961,
          1962,
          1963,
          1965,
          1966,
          1967,
          1968,
          1969,
          1970,
          1971,
          1972,
          1973,
          1974,
          1975,
          1976,
          1977,
          1978,
          1979,
          1980,
          1981,
          1982,
          1983,
          1984,
          1985,
          1986,
          1987,
          1988,
          1989,
          1990,
          1991,
          1992,
          1993,
          1994,
          1995,
          1996,
          1997,
          1998,
          1999,
          2000,
          2001,
          2002,
          2003,
          2004,
          2005,
          2006,
          2007,
          2008,
          2009,
          2010,
          2011,
          2012,
          2013,
          2014,
          2015,
          2016,
          2017,
          2018,
          2019
         ],
         "xaxis": "x",
         "y": [
          92.93215324319699,
          93.14299654065191,
          94.62686324239449,
          94.77995132184004,
          94.92373557347364,
          95.05733962425634,
          95.17978444527434,
          95.29039629651245,
          95.39060084140498,
          95.56713241682395,
          95.64705417496178,
          95.72378808287391,
          95.79914674895818,
          95.87474561560963,
          95.95184445104785,
          96.03118919503672,
          96.11280577270182,
          96.14152757266446,
          96.15526923833112,
          96.21621941812059,
          96.27054823904571,
          96.30545049952576,
          96.29703993736221,
          96.21864537025466,
          96.1414341732376,
          96.07687893657626,
          96.0345321807872,
          96.01841642965127,
          96.01966485462881,
          96.02689299524559,
          96.03189688767108,
          96.0318562756546,
          96.0287671996632,
          96.02611822928611,
          96.0280515876845,
          96.03885004503906,
          96.06367911656552,
          96.1091348991513,
          96.18163050506632,
          96.28290674192513,
          96.41239488308382,
          96.56912393141106,
          96.75102532894766,
          96.94885141953188,
          97.12971017594069,
          97.28155473033164,
          97.41236040425086,
          97.5285064812822,
          97.63441779714542,
          97.7333015850704,
          97.82763766187344,
          97.9193738003547,
          98.00986619401965,
          98.10000063834751,
          98.19031678338006,
          98.28109095167575,
          98.37239421005167,
          98.46413476489181,
          98.55608996809454,
          98.64793114165025,
          98.73924318216592,
          98.82954011379675,
          98.91827723787847,
          99.0049260026437
         ],
         "yaxis": "y"
        },
        {
         "hovertemplate": "Country=Cuba<br>x=%{x}<br>y=%{y}<extra></extra>",
         "legendgroup": "Cuba",
         "marker": {
          "color": "#00cc96",
          "symbol": "circle"
         },
         "mode": "markers",
         "name": "Cuba",
         "orientation": "v",
         "showlegend": true,
         "type": "scatter",
         "x": [
          1948,
          1949,
          1957,
          1958,
          1959,
          1960,
          1961,
          1963,
          1965,
          1967,
          1968,
          1969,
          1970,
          1971,
          1972,
          1973,
          1974,
          1975,
          1976,
          1977,
          1979,
          1978,
          1980,
          1981,
          1982,
          1983,
          1984,
          1985,
          1986,
          1987,
          1988,
          1989,
          1990,
          1991,
          1992,
          1993,
          1994,
          1995,
          1996,
          1997,
          1998,
          1999,
          2000,
          2001,
          2002,
          2003,
          2004,
          2005,
          2006,
          2007,
          2008,
          2009,
          2010,
          2011,
          2012,
          2013,
          2014,
          2015,
          2016,
          2017,
          2018,
          2019
         ],
         "xaxis": "x",
         "y": [
          0,
          0,
          66.66666666666666,
          50,
          100,
          100,
          62.5,
          50,
          33.33333333333333,
          0,
          0,
          0,
          66.66666666666666,
          20,
          12.5,
          20,
          45.45454545454545,
          41.66666666666667,
          42.857142857142854,
          44.44444444444444,
          77.77777777777779,
          60,
          76.47058823529412,
          94.73684210526315,
          84.61538461538461,
          78.125,
          84,
          80,
          83.33333333333334,
          85,
          85.71428571428571,
          90,
          76.47058823529412,
          90.9090909090909,
          90,
          80,
          70,
          72.72727272727273,
          66.66666666666666,
          61.53846153846154,
          72.22222222222221,
          78.57142857142857,
          64.28571428571429,
          64.28571428571429,
          85,
          93.33333333333333,
          93.75,
          93.75,
          93.75,
          100,
          93.75,
          89.47368421052632,
          95.23809523809523,
          89.47368421052632,
          90.47619047619048,
          100,
          92.85714285714286,
          94.73684210526315,
          87.5,
          88.46153846153845,
          93.75,
          94.11764705882352
         ],
         "yaxis": "y"
        },
        {
         "hovertemplate": "<b>LOWESS trendline</b><br><br>Country=Cuba<br>x=%{x}<br>y=%{y} <b>(trend)</b><extra></extra>",
         "legendgroup": "Cuba",
         "marker": {
          "color": "#00cc96",
          "symbol": "circle"
         },
         "mode": "lines",
         "name": "Cuba",
         "showlegend": false,
         "type": "scatter",
         "x": [
          1948,
          1949,
          1957,
          1958,
          1959,
          1960,
          1961,
          1963,
          1965,
          1967,
          1968,
          1969,
          1970,
          1971,
          1972,
          1973,
          1974,
          1975,
          1976,
          1977,
          1978,
          1979,
          1980,
          1981,
          1982,
          1983,
          1984,
          1985,
          1986,
          1987,
          1988,
          1989,
          1990,
          1991,
          1992,
          1993,
          1994,
          1995,
          1996,
          1997,
          1998,
          1999,
          2000,
          2001,
          2002,
          2003,
          2004,
          2005,
          2006,
          2007,
          2008,
          2009,
          2010,
          2011,
          2012,
          2013,
          2014,
          2015,
          2016,
          2017,
          2018,
          2019
         ],
         "xaxis": "x",
         "y": [
          8.338981445943332,
          9.979368161974923,
          23.25837665650917,
          24.979222482617637,
          26.723169873117108,
          28.491435531714064,
          30.28484815133748,
          33.94710449225903,
          37.69510485682434,
          41.47950569899169,
          43.35331898622462,
          45.18385330514864,
          46.93463112531646,
          48.560379737416454,
          50.02711920702033,
          51.35900376616803,
          52.99442285767059,
          54.628098997466324,
          55.97045498676172,
          57.40930022093272,
          59.07923770568797,
          61.03174959889531,
          62.96079611307484,
          64.82607751763621,
          66.60591537250195,
          68.28095387507008,
          70.4265144486645,
          71.86442111459799,
          73.1672767754224,
          74.95769829920407,
          76.01100327387269,
          76.98637908665782,
          77.88643493160207,
          78.7046575904473,
          79.44177005414943,
          80.09475149341965,
          80.66481612253504,
          81.16495103271227,
          81.61656742411883,
          82.0439597776967,
          82.46580672224897,
          82.89084968993747,
          83.54904164060598,
          84.15403861211183,
          84.73677904221218,
          85.31943659571246,
          85.91406581948999,
          86.52617311793875,
          87.15763522900446,
          87.80833854408581,
          88.47699398230449,
          89.16149031023596,
          89.8594284133517,
          90.56842140120936,
          91.28605046059255,
          92.01008697559273,
          92.7384510755513,
          93.46895856005159,
          94.1995508512365,
          94.92840420167772,
          95.65424471793646,
          96.37634727507285
         ],
         "yaxis": "y"
        }
       ],
       "layout": {
        "autosize": true,
        "legend": {
         "title": {
          "text": "Country"
         },
         "tracegroupgap": 0
        },
        "margin": {
         "t": 60
        },
        "template": {
         "data": {
          "bar": [
           {
            "error_x": {
             "color": "#2a3f5f"
            },
            "error_y": {
             "color": "#2a3f5f"
            },
            "marker": {
             "line": {
              "color": "#E5ECF6",
              "width": 0.5
             },
             "pattern": {
              "fillmode": "overlay",
              "size": 10,
              "solidity": 0.2
             }
            },
            "type": "bar"
           }
          ],
          "barpolar": [
           {
            "marker": {
             "line": {
              "color": "#E5ECF6",
              "width": 0.5
             },
             "pattern": {
              "fillmode": "overlay",
              "size": 10,
              "solidity": 0.2
             }
            },
            "type": "barpolar"
           }
          ],
          "carpet": [
           {
            "aaxis": {
             "endlinecolor": "#2a3f5f",
             "gridcolor": "white",
             "linecolor": "white",
             "minorgridcolor": "white",
             "startlinecolor": "#2a3f5f"
            },
            "baxis": {
             "endlinecolor": "#2a3f5f",
             "gridcolor": "white",
             "linecolor": "white",
             "minorgridcolor": "white",
             "startlinecolor": "#2a3f5f"
            },
            "type": "carpet"
           }
          ],
          "choropleth": [
           {
            "colorbar": {
             "outlinewidth": 0,
             "ticks": ""
            },
            "type": "choropleth"
           }
          ],
          "contour": [
           {
            "colorbar": {
             "outlinewidth": 0,
             "ticks": ""
            },
            "colorscale": [
             [
              0,
              "#0d0887"
             ],
             [
              0.1111111111111111,
              "#46039f"
             ],
             [
              0.2222222222222222,
              "#7201a8"
             ],
             [
              0.3333333333333333,
              "#9c179e"
             ],
             [
              0.4444444444444444,
              "#bd3786"
             ],
             [
              0.5555555555555556,
              "#d8576b"
             ],
             [
              0.6666666666666666,
              "#ed7953"
             ],
             [
              0.7777777777777778,
              "#fb9f3a"
             ],
             [
              0.8888888888888888,
              "#fdca26"
             ],
             [
              1,
              "#f0f921"
             ]
            ],
            "type": "contour"
           }
          ],
          "contourcarpet": [
           {
            "colorbar": {
             "outlinewidth": 0,
             "ticks": ""
            },
            "type": "contourcarpet"
           }
          ],
          "heatmap": [
           {
            "colorbar": {
             "outlinewidth": 0,
             "ticks": ""
            },
            "colorscale": [
             [
              0,
              "#0d0887"
             ],
             [
              0.1111111111111111,
              "#46039f"
             ],
             [
              0.2222222222222222,
              "#7201a8"
             ],
             [
              0.3333333333333333,
              "#9c179e"
             ],
             [
              0.4444444444444444,
              "#bd3786"
             ],
             [
              0.5555555555555556,
              "#d8576b"
             ],
             [
              0.6666666666666666,
              "#ed7953"
             ],
             [
              0.7777777777777778,
              "#fb9f3a"
             ],
             [
              0.8888888888888888,
              "#fdca26"
             ],
             [
              1,
              "#f0f921"
             ]
            ],
            "type": "heatmap"
           }
          ],
          "heatmapgl": [
           {
            "colorbar": {
             "outlinewidth": 0,
             "ticks": ""
            },
            "colorscale": [
             [
              0,
              "#0d0887"
             ],
             [
              0.1111111111111111,
              "#46039f"
             ],
             [
              0.2222222222222222,
              "#7201a8"
             ],
             [
              0.3333333333333333,
              "#9c179e"
             ],
             [
              0.4444444444444444,
              "#bd3786"
             ],
             [
              0.5555555555555556,
              "#d8576b"
             ],
             [
              0.6666666666666666,
              "#ed7953"
             ],
             [
              0.7777777777777778,
              "#fb9f3a"
             ],
             [
              0.8888888888888888,
              "#fdca26"
             ],
             [
              1,
              "#f0f921"
             ]
            ],
            "type": "heatmapgl"
           }
          ],
          "histogram": [
           {
            "marker": {
             "pattern": {
              "fillmode": "overlay",
              "size": 10,
              "solidity": 0.2
             }
            },
            "type": "histogram"
           }
          ],
          "histogram2d": [
           {
            "colorbar": {
             "outlinewidth": 0,
             "ticks": ""
            },
            "colorscale": [
             [
              0,
              "#0d0887"
             ],
             [
              0.1111111111111111,
              "#46039f"
             ],
             [
              0.2222222222222222,
              "#7201a8"
             ],
             [
              0.3333333333333333,
              "#9c179e"
             ],
             [
              0.4444444444444444,
              "#bd3786"
             ],
             [
              0.5555555555555556,
              "#d8576b"
             ],
             [
              0.6666666666666666,
              "#ed7953"
             ],
             [
              0.7777777777777778,
              "#fb9f3a"
             ],
             [
              0.8888888888888888,
              "#fdca26"
             ],
             [
              1,
              "#f0f921"
             ]
            ],
            "type": "histogram2d"
           }
          ],
          "histogram2dcontour": [
           {
            "colorbar": {
             "outlinewidth": 0,
             "ticks": ""
            },
            "colorscale": [
             [
              0,
              "#0d0887"
             ],
             [
              0.1111111111111111,
              "#46039f"
             ],
             [
              0.2222222222222222,
              "#7201a8"
             ],
             [
              0.3333333333333333,
              "#9c179e"
             ],
             [
              0.4444444444444444,
              "#bd3786"
             ],
             [
              0.5555555555555556,
              "#d8576b"
             ],
             [
              0.6666666666666666,
              "#ed7953"
             ],
             [
              0.7777777777777778,
              "#fb9f3a"
             ],
             [
              0.8888888888888888,
              "#fdca26"
             ],
             [
              1,
              "#f0f921"
             ]
            ],
            "type": "histogram2dcontour"
           }
          ],
          "mesh3d": [
           {
            "colorbar": {
             "outlinewidth": 0,
             "ticks": ""
            },
            "type": "mesh3d"
           }
          ],
          "parcoords": [
           {
            "line": {
             "colorbar": {
              "outlinewidth": 0,
              "ticks": ""
             }
            },
            "type": "parcoords"
           }
          ],
          "pie": [
           {
            "automargin": true,
            "type": "pie"
           }
          ],
          "scatter": [
           {
            "fillpattern": {
             "fillmode": "overlay",
             "size": 10,
             "solidity": 0.2
            },
            "type": "scatter"
           }
          ],
          "scatter3d": [
           {
            "line": {
             "colorbar": {
              "outlinewidth": 0,
              "ticks": ""
             }
            },
            "marker": {
             "colorbar": {
              "outlinewidth": 0,
              "ticks": ""
             }
            },
            "type": "scatter3d"
           }
          ],
          "scattercarpet": [
           {
            "marker": {
             "colorbar": {
              "outlinewidth": 0,
              "ticks": ""
             }
            },
            "type": "scattercarpet"
           }
          ],
          "scattergeo": [
           {
            "marker": {
             "colorbar": {
              "outlinewidth": 0,
              "ticks": ""
             }
            },
            "type": "scattergeo"
           }
          ],
          "scattergl": [
           {
            "marker": {
             "colorbar": {
              "outlinewidth": 0,
              "ticks": ""
             }
            },
            "type": "scattergl"
           }
          ],
          "scattermapbox": [
           {
            "marker": {
             "colorbar": {
              "outlinewidth": 0,
              "ticks": ""
             }
            },
            "type": "scattermapbox"
           }
          ],
          "scatterpolar": [
           {
            "marker": {
             "colorbar": {
              "outlinewidth": 0,
              "ticks": ""
             }
            },
            "type": "scatterpolar"
           }
          ],
          "scatterpolargl": [
           {
            "marker": {
             "colorbar": {
              "outlinewidth": 0,
              "ticks": ""
             }
            },
            "type": "scatterpolargl"
           }
          ],
          "scatterternary": [
           {
            "marker": {
             "colorbar": {
              "outlinewidth": 0,
              "ticks": ""
             }
            },
            "type": "scatterternary"
           }
          ],
          "surface": [
           {
            "colorbar": {
             "outlinewidth": 0,
             "ticks": ""
            },
            "colorscale": [
             [
              0,
              "#0d0887"
             ],
             [
              0.1111111111111111,
              "#46039f"
             ],
             [
              0.2222222222222222,
              "#7201a8"
             ],
             [
              0.3333333333333333,
              "#9c179e"
             ],
             [
              0.4444444444444444,
              "#bd3786"
             ],
             [
              0.5555555555555556,
              "#d8576b"
             ],
             [
              0.6666666666666666,
              "#ed7953"
             ],
             [
              0.7777777777777778,
              "#fb9f3a"
             ],
             [
              0.8888888888888888,
              "#fdca26"
             ],
             [
              1,
              "#f0f921"
             ]
            ],
            "type": "surface"
           }
          ],
          "table": [
           {
            "cells": {
             "fill": {
              "color": "#EBF0F8"
             },
             "line": {
              "color": "white"
             }
            },
            "header": {
             "fill": {
              "color": "#C8D4E3"
             },
             "line": {
              "color": "white"
             }
            },
            "type": "table"
           }
          ]
         },
         "layout": {
          "annotationdefaults": {
           "arrowcolor": "#2a3f5f",
           "arrowhead": 0,
           "arrowwidth": 1
          },
          "autotypenumbers": "strict",
          "coloraxis": {
           "colorbar": {
            "outlinewidth": 0,
            "ticks": ""
           }
          },
          "colorscale": {
           "diverging": [
            [
             0,
             "#8e0152"
            ],
            [
             0.1,
             "#c51b7d"
            ],
            [
             0.2,
             "#de77ae"
            ],
            [
             0.3,
             "#f1b6da"
            ],
            [
             0.4,
             "#fde0ef"
            ],
            [
             0.5,
             "#f7f7f7"
            ],
            [
             0.6,
             "#e6f5d0"
            ],
            [
             0.7,
             "#b8e186"
            ],
            [
             0.8,
             "#7fbc41"
            ],
            [
             0.9,
             "#4d9221"
            ],
            [
             1,
             "#276419"
            ]
           ],
           "sequential": [
            [
             0,
             "#0d0887"
            ],
            [
             0.1111111111111111,
             "#46039f"
            ],
            [
             0.2222222222222222,
             "#7201a8"
            ],
            [
             0.3333333333333333,
             "#9c179e"
            ],
            [
             0.4444444444444444,
             "#bd3786"
            ],
            [
             0.5555555555555556,
             "#d8576b"
            ],
            [
             0.6666666666666666,
             "#ed7953"
            ],
            [
             0.7777777777777778,
             "#fb9f3a"
            ],
            [
             0.8888888888888888,
             "#fdca26"
            ],
            [
             1,
             "#f0f921"
            ]
           ],
           "sequentialminus": [
            [
             0,
             "#0d0887"
            ],
            [
             0.1111111111111111,
             "#46039f"
            ],
            [
             0.2222222222222222,
             "#7201a8"
            ],
            [
             0.3333333333333333,
             "#9c179e"
            ],
            [
             0.4444444444444444,
             "#bd3786"
            ],
            [
             0.5555555555555556,
             "#d8576b"
            ],
            [
             0.6666666666666666,
             "#ed7953"
            ],
            [
             0.7777777777777778,
             "#fb9f3a"
            ],
            [
             0.8888888888888888,
             "#fdca26"
            ],
            [
             1,
             "#f0f921"
            ]
           ]
          },
          "colorway": [
           "#636efa",
           "#EF553B",
           "#00cc96",
           "#ab63fa",
           "#FFA15A",
           "#19d3f3",
           "#FF6692",
           "#B6E880",
           "#FF97FF",
           "#FECB52"
          ],
          "font": {
           "color": "#2a3f5f"
          },
          "geo": {
           "bgcolor": "white",
           "lakecolor": "white",
           "landcolor": "#E5ECF6",
           "showlakes": true,
           "showland": true,
           "subunitcolor": "white"
          },
          "hoverlabel": {
           "align": "left"
          },
          "hovermode": "closest",
          "mapbox": {
           "style": "light"
          },
          "paper_bgcolor": "white",
          "plot_bgcolor": "#E5ECF6",
          "polar": {
           "angularaxis": {
            "gridcolor": "white",
            "linecolor": "white",
            "ticks": ""
           },
           "bgcolor": "#E5ECF6",
           "radialaxis": {
            "gridcolor": "white",
            "linecolor": "white",
            "ticks": ""
           }
          },
          "scene": {
           "xaxis": {
            "backgroundcolor": "#E5ECF6",
            "gridcolor": "white",
            "gridwidth": 2,
            "linecolor": "white",
            "showbackground": true,
            "ticks": "",
            "zerolinecolor": "white"
           },
           "yaxis": {
            "backgroundcolor": "#E5ECF6",
            "gridcolor": "white",
            "gridwidth": 2,
            "linecolor": "white",
            "showbackground": true,
            "ticks": "",
            "zerolinecolor": "white"
           },
           "zaxis": {
            "backgroundcolor": "#E5ECF6",
            "gridcolor": "white",
            "gridwidth": 2,
            "linecolor": "white",
            "showbackground": true,
            "ticks": "",
            "zerolinecolor": "white"
           }
          },
          "shapedefaults": {
           "line": {
            "color": "#2a3f5f"
           }
          },
          "ternary": {
           "aaxis": {
            "gridcolor": "white",
            "linecolor": "white",
            "ticks": ""
           },
           "baxis": {
            "gridcolor": "white",
            "linecolor": "white",
            "ticks": ""
           },
           "bgcolor": "#E5ECF6",
           "caxis": {
            "gridcolor": "white",
            "linecolor": "white",
            "ticks": ""
           }
          },
          "title": {
           "x": 0.05
          },
          "xaxis": {
           "automargin": true,
           "gridcolor": "white",
           "linecolor": "white",
           "ticks": "",
           "title": {
            "standoff": 15
           },
           "zerolinecolor": "white",
           "zerolinewidth": 2
          },
          "yaxis": {
           "automargin": true,
           "gridcolor": "white",
           "linecolor": "white",
           "ticks": "",
           "title": {
            "standoff": 15
           },
           "zerolinecolor": "white",
           "zerolinewidth": 2
          }
         }
        },
        "title": {
         "text": "Nuclear weapons and nuclear material<br>",
         "x": 0.5,
         "xanchor": "center",
         "y": 0.9,
         "yanchor": "top"
        },
        "xaxis": {
         "anchor": "y",
         "autorange": true,
         "domain": [
          0,
          1
         ],
         "range": [
          1943.4650698602795,
          2023.5349301397205
         ],
         "title": {
          "text": "Year"
         },
         "type": "linear"
        },
        "yaxis": {
         "anchor": "x",
         "autorange": true,
         "domain": [
          0,
          1
         ],
         "range": [
          -7.742782152230971,
          107.74278215223097
         ],
         "title": {
          "text": "% Yes"
         },
         "type": "linear"
        }
       }
      },
      "image/png": "[encoded data removed]",
      "text/html": [
       "<div>                            <div id=\"22063b50-0065-4bce-8944-5a568ef73162\" class=\"plotly-graph-div\" style=\"height:525px; width:100%;\"></div>            <script type=\"text/javascript\">                require([\"plotly\"], function(Plotly) {                    window.PLOTLYENV=window.PLOTLYENV || {};                                    if (document.getElementById(\"22063b50-0065-4bce-8944-5a568ef73162\")) {                    Plotly.newPlot(                        \"22063b50-0065-4bce-8944-5a568ef73162\",                        [{\"hovertemplate\":\"Country=Honduras\\u003cbr\\u003ex=%{x}\\u003cbr\\u003ey=%{y}\\u003cextra\\u003e\\u003c\\u002fextra\\u003e\",\"legendgroup\":\"Honduras\",\"marker\":{\"color\":\"#636efa\",\"symbol\":\"circle\"},\"mode\":\"markers\",\"name\":\"Honduras\",\"orientation\":\"v\",\"showlegend\":true,\"x\":[1948,1949,1957,1958,1959,1960,1961,1962,1965,1966,1967,1968,1969,1971,1972,1973,1974,1975,1976,1977,1979,1978,1980,1981,1982,1983,1984,1985,1986,1987,1988,1989,1990,1991,1992,1993,1994,1995,1996,1997,1998,1999,2000,2001,2002,2003,2004,2005,2006,2007,2008,2009,2010,2011,2012,2013,2014,2015,2016,2017,2018,2019],\"xaxis\":\"x\",\"y\":[0.0,0.0,66.66666666666666,50.0,11.11111111111111,100.0,37.5,100.0,100.0,0.0,100.0,100.0,100.0,40.0,66.66666666666666,100.0,100.0,100.0,100.0,100.0,88.88888888888889,100.0,88.23529411764706,73.68421052631578,100.0,75.86206896551724,75.0,82.6086956521739,87.5,90.0,80.95238095238095,89.47368421052632,88.23529411764706,90.9090909090909,90.0,80.0,90.0,90.0,100.0,100.0,66.66666666666666,100.0,100.0,100.0,100.0,93.33333333333333,100.0,87.5,100.0,93.33333333333333,100.0,100.0,100.0,100.0,100.0,100.0,100.0,94.73684210526315,100.0,100.0,100.0,100.0],\"yaxis\":\"y\",\"type\":\"scatter\"},{\"hovertemplate\":\"\\u003cb\\u003eLOWESS trendline\\u003c\\u002fb\\u003e\\u003cbr\\u003e\\u003cbr\\u003eCountry=Honduras\\u003cbr\\u003ex=%{x}\\u003cbr\\u003ey=%{y} \\u003cb\\u003e(trend)\\u003c\\u002fb\\u003e\\u003cextra\\u003e\\u003c\\u002fextra\\u003e\",\"legendgroup\":\"Honduras\",\"marker\":{\"color\":\"#636efa\",\"symbol\":\"circle\"},\"mode\":\"lines\",\"name\":\"Honduras\",\"showlegend\":false,\"x\":[1948,1949,1957,1958,1959,1960,1961,1962,1965,1966,1967,1968,1969,1971,1972,1973,1974,1975,1976,1977,1978,1979,1980,1981,1982,1983,1984,1985,1986,1987,1988,1989,1990,1991,1992,1993,1994,1995,1996,1997,1998,1999,2000,2001,2002,2003,2004,2005,2006,2007,2008,2009,2010,2011,2012,2013,2014,2015,2016,2017,2018,2019],\"xaxis\":\"x\",\"y\":[64.67472857123711,65.84322652046451,74.49602721511715,75.46078437839351,76.3928528159702,77.29386713714364,78.16644755171855,79.01368810000771,81.4485149558191,82.24308960606477,83.04040114140142,83.84876423958998,84.67746031544607,86.43801477244392,87.39367807173043,88.41380438450935,89.03128232003837,89.56310126954071,90.45512545003551,91.13576162022001,91.34229330620693,91.04445537121087,90.71867189292327,90.4328312369823,90.20670589626845,90.04898859314726,89.96329725552565,89.75629933190287,89.78427598040508,89.86557451857267,89.98920427963627,90.14515955773527,90.32788832010088,90.3236348315979,90.59607005300204,90.93363080483209,91.3361953826816,91.79773140277744,92.3075239364438,92.84895080726717,93.40326596771392,93.953957521356,94.39023398346153,94.80565485567246,95.21378768898549,95.61865272370483,96.02009473173483,96.41731551182627,96.80961037716635,97.19681625113364,97.57886923226744,97.95586693780378,98.32784782209451,98.69476276062252,99.05650782937207,99.41294763586707,99.76393377696384,100.10932084503051,100.44903494630208,100.78324053003331,101.11217951527529,101.43613174626392],\"yaxis\":\"y\",\"type\":\"scatter\"},{\"hovertemplate\":\"Country=Mexico\\u003cbr\\u003ex=%{x}\\u003cbr\\u003ey=%{y}\\u003cextra\\u003e\\u003c\\u002fextra\\u003e\",\"legendgroup\":\"Mexico\",\"marker\":{\"color\":\"#EF553B\",\"symbol\":\"circle\"},\"mode\":\"markers\",\"name\":\"Mexico\",\"orientation\":\"v\",\"showlegend\":true,\"x\":[1948,1949,1957,1958,1959,1960,1961,1962,1963,1965,1966,1967,1968,1969,1970,1971,1972,1973,1974,1975,1976,1977,1979,1978,1980,1981,1982,1983,1984,1985,1986,1987,1988,1989,1990,1991,1992,1993,1994,1995,1996,1997,1998,1999,2000,2001,2002,2003,2004,2005,2006,2007,2008,2009,2010,2011,2012,2013,2014,2015,2016,2017,2018,2019],\"xaxis\":\"x\",\"y\":[0.0,0.0,100.0,50.0,55.55555555555556,100.0,75.0,100.0,100.0,100.0,0.0,100.0,100.0,100.0,100.0,60.0,87.5,100.0,100.0,100.0,90.0,100.0,94.44444444444444,100.0,100.0,100.0,92.3076923076923,96.875,92.0,88.0,87.5,95.0,95.23809523809523,100.0,94.11764705882352,100.0,90.0,80.0,100.0,100.0,100.0,100.0,100.0,100.0,100.0,92.85714285714286,90.0,93.33333333333333,93.75,93.75,100.0,100.0,100.0,100.0,100.0,100.0,100.0,100.0,100.0,100.0,100.0,100.0,93.75,94.11764705882352],\"yaxis\":\"y\",\"type\":\"scatter\"},{\"hovertemplate\":\"\\u003cb\\u003eLOWESS trendline\\u003c\\u002fb\\u003e\\u003cbr\\u003e\\u003cbr\\u003eCountry=Mexico\\u003cbr\\u003ex=%{x}\\u003cbr\\u003ey=%{y} \\u003cb\\u003e(trend)\\u003c\\u002fb\\u003e\\u003cextra\\u003e\\u003c\\u002fextra\\u003e\",\"legendgroup\":\"Mexico\",\"marker\":{\"color\":\"#EF553B\",\"symbol\":\"circle\"},\"mode\":\"lines\",\"name\":\"Mexico\",\"showlegend\":false,\"x\":[1948,1949,1957,1958,1959,1960,1961,1962,1963,1965,1966,1967,1968,1969,1970,1971,1972,1973,1974,1975,1976,1977,1978,1979,1980,1981,1982,1983,1984,1985,1986,1987,1988,1989,1990,1991,1992,1993,1994,1995,1996,1997,1998,1999,2000,2001,2002,2003,2004,2005,2006,2007,2008,2009,2010,2011,2012,2013,2014,2015,2016,2017,2018,2019],\"xaxis\":\"x\",\"y\":[92.93215324319699,93.14299654065191,94.62686324239449,94.77995132184004,94.92373557347364,95.05733962425634,95.17978444527434,95.29039629651245,95.39060084140498,95.56713241682395,95.64705417496178,95.72378808287391,95.79914674895818,95.87474561560963,95.95184445104785,96.03118919503672,96.11280577270182,96.14152757266446,96.15526923833112,96.21621941812059,96.27054823904571,96.30545049952576,96.29703993736221,96.21864537025466,96.1414341732376,96.07687893657626,96.0345321807872,96.01841642965127,96.01966485462881,96.02689299524559,96.03189688767108,96.0318562756546,96.0287671996632,96.02611822928611,96.0280515876845,96.03885004503906,96.06367911656552,96.1091348991513,96.18163050506632,96.28290674192513,96.41239488308382,96.56912393141106,96.75102532894766,96.94885141953188,97.12971017594069,97.28155473033164,97.41236040425086,97.5285064812822,97.63441779714542,97.7333015850704,97.82763766187344,97.9193738003547,98.00986619401965,98.10000063834751,98.19031678338006,98.28109095167575,98.37239421005167,98.46413476489181,98.55608996809454,98.64793114165025,98.73924318216592,98.82954011379675,98.91827723787847,99.0049260026437],\"yaxis\":\"y\",\"type\":\"scatter\"},{\"hovertemplate\":\"Country=Cuba\\u003cbr\\u003ex=%{x}\\u003cbr\\u003ey=%{y}\\u003cextra\\u003e\\u003c\\u002fextra\\u003e\",\"legendgroup\":\"Cuba\",\"marker\":{\"color\":\"#00cc96\",\"symbol\":\"circle\"},\"mode\":\"markers\",\"name\":\"Cuba\",\"orientation\":\"v\",\"showlegend\":true,\"x\":[1948,1949,1957,1958,1959,1960,1961,1963,1965,1967,1968,1969,1970,1971,1972,1973,1974,1975,1976,1977,1979,1978,1980,1981,1982,1983,1984,1985,1986,1987,1988,1989,1990,1991,1992,1993,1994,1995,1996,1997,1998,1999,2000,2001,2002,2003,2004,2005,2006,2007,2008,2009,2010,2011,2012,2013,2014,2015,2016,2017,2018,2019],\"xaxis\":\"x\",\"y\":[0.0,0.0,66.66666666666666,50.0,100.0,100.0,62.5,50.0,33.33333333333333,0.0,0.0,0.0,66.66666666666666,20.0,12.5,20.0,45.45454545454545,41.66666666666667,42.857142857142854,44.44444444444444,77.77777777777779,60.0,76.47058823529412,94.73684210526315,84.61538461538461,78.125,84.0,80.0,83.33333333333334,85.0,85.71428571428571,90.0,76.47058823529412,90.9090909090909,90.0,80.0,70.0,72.72727272727273,66.66666666666666,61.53846153846154,72.22222222222221,78.57142857142857,64.28571428571429,64.28571428571429,85.0,93.33333333333333,93.75,93.75,93.75,100.0,93.75,89.47368421052632,95.23809523809523,89.47368421052632,90.47619047619048,100.0,92.85714285714286,94.73684210526315,87.5,88.46153846153845,93.75,94.11764705882352],\"yaxis\":\"y\",\"type\":\"scatter\"},{\"hovertemplate\":\"\\u003cb\\u003eLOWESS trendline\\u003c\\u002fb\\u003e\\u003cbr\\u003e\\u003cbr\\u003eCountry=Cuba\\u003cbr\\u003ex=%{x}\\u003cbr\\u003ey=%{y} \\u003cb\\u003e(trend)\\u003c\\u002fb\\u003e\\u003cextra\\u003e\\u003c\\u002fextra\\u003e\",\"legendgroup\":\"Cuba\",\"marker\":{\"color\":\"#00cc96\",\"symbol\":\"circle\"},\"mode\":\"lines\",\"name\":\"Cuba\",\"showlegend\":false,\"x\":[1948,1949,1957,1958,1959,1960,1961,1963,1965,1967,1968,1969,1970,1971,1972,1973,1974,1975,1976,1977,1978,1979,1980,1981,1982,1983,1984,1985,1986,1987,1988,1989,1990,1991,1992,1993,1994,1995,1996,1997,1998,1999,2000,2001,2002,2003,2004,2005,2006,2007,2008,2009,2010,2011,2012,2013,2014,2015,2016,2017,2018,2019],\"xaxis\":\"x\",\"y\":[8.338981445943332,9.979368161974923,23.25837665650917,24.979222482617637,26.723169873117108,28.491435531714064,30.28484815133748,33.94710449225903,37.69510485682434,41.47950569899169,43.35331898622462,45.18385330514864,46.93463112531646,48.560379737416454,50.02711920702033,51.35900376616803,52.99442285767059,54.628098997466324,55.97045498676172,57.40930022093272,59.07923770568797,61.03174959889531,62.96079611307484,64.82607751763621,66.60591537250195,68.28095387507008,70.4265144486645,71.86442111459799,73.1672767754224,74.95769829920407,76.01100327387269,76.98637908665782,77.88643493160207,78.7046575904473,79.44177005414943,80.09475149341965,80.66481612253504,81.16495103271227,81.61656742411883,82.0439597776967,82.46580672224897,82.89084968993747,83.54904164060598,84.15403861211183,84.73677904221218,85.31943659571246,85.91406581948999,86.52617311793875,87.15763522900446,87.80833854408581,88.47699398230449,89.16149031023596,89.8594284133517,90.56842140120936,91.28605046059255,92.01008697559273,92.7384510755513,93.46895856005159,94.1995508512365,94.92840420167772,95.65424471793646,96.37634727507285],\"yaxis\":\"y\",\"type\":\"scatter\"}],                        {\"template\":{\"data\":{\"histogram2dcontour\":[{\"type\":\"histogram2dcontour\",\"colorbar\":{\"outlinewidth\":0,\"ticks\":\"\"},\"colorscale\":[[0.0,\"#0d0887\"],[0.1111111111111111,\"#46039f\"],[0.2222222222222222,\"#7201a8\"],[0.3333333333333333,\"#9c179e\"],[0.4444444444444444,\"#bd3786\"],[0.5555555555555556,\"#d8576b\"],[0.6666666666666666,\"#ed7953\"],[0.7777777777777778,\"#fb9f3a\"],[0.8888888888888888,\"#fdca26\"],[1.0,\"#f0f921\"]]}],\"choropleth\":[{\"type\":\"choropleth\",\"colorbar\":{\"outlinewidth\":0,\"ticks\":\"\"}}],\"histogram2d\":[{\"type\":\"histogram2d\",\"colorbar\":{\"outlinewidth\":0,\"ticks\":\"\"},\"colorscale\":[[0.0,\"#0d0887\"],[0.1111111111111111,\"#46039f\"],[0.2222222222222222,\"#7201a8\"],[0.3333333333333333,\"#9c179e\"],[0.4444444444444444,\"#bd3786\"],[0.5555555555555556,\"#d8576b\"],[0.6666666666666666,\"#ed7953\"],[0.7777777777777778,\"#fb9f3a\"],[0.8888888888888888,\"#fdca26\"],[1.0,\"#f0f921\"]]}],\"heatmap\":[{\"type\":\"heatmap\",\"colorbar\":{\"outlinewidth\":0,\"ticks\":\"\"},\"colorscale\":[[0.0,\"#0d0887\"],[0.1111111111111111,\"#46039f\"],[0.2222222222222222,\"#7201a8\"],[0.3333333333333333,\"#9c179e\"],[0.4444444444444444,\"#bd3786\"],[0.5555555555555556,\"#d8576b\"],[0.6666666666666666,\"#ed7953\"],[0.7777777777777778,\"#fb9f3a\"],[0.8888888888888888,\"#fdca26\"],[1.0,\"#f0f921\"]]}],\"heatmapgl\":[{\"type\":\"heatmapgl\",\"colorbar\":{\"outlinewidth\":0,\"ticks\":\"\"},\"colorscale\":[[0.0,\"#0d0887\"],[0.1111111111111111,\"#46039f\"],[0.2222222222222222,\"#7201a8\"],[0.3333333333333333,\"#9c179e\"],[0.4444444444444444,\"#bd3786\"],[0.5555555555555556,\"#d8576b\"],[0.6666666666666666,\"#ed7953\"],[0.7777777777777778,\"#fb9f3a\"],[0.8888888888888888,\"#fdca26\"],[1.0,\"#f0f921\"]]}],\"contourcarpet\":[{\"type\":\"contourcarpet\",\"colorbar\":{\"outlinewidth\":0,\"ticks\":\"\"}}],\"contour\":[{\"type\":\"contour\",\"colorbar\":{\"outlinewidth\":0,\"ticks\":\"\"},\"colorscale\":[[0.0,\"#0d0887\"],[0.1111111111111111,\"#46039f\"],[0.2222222222222222,\"#7201a8\"],[0.3333333333333333,\"#9c179e\"],[0.4444444444444444,\"#bd3786\"],[0.5555555555555556,\"#d8576b\"],[0.6666666666666666,\"#ed7953\"],[0.7777777777777778,\"#fb9f3a\"],[0.8888888888888888,\"#fdca26\"],[1.0,\"#f0f921\"]]}],\"surface\":[{\"type\":\"surface\",\"colorbar\":{\"outlinewidth\":0,\"ticks\":\"\"},\"colorscale\":[[0.0,\"#0d0887\"],[0.1111111111111111,\"#46039f\"],[0.2222222222222222,\"#7201a8\"],[0.3333333333333333,\"#9c179e\"],[0.4444444444444444,\"#bd3786\"],[0.5555555555555556,\"#d8576b\"],[0.6666666666666666,\"#ed7953\"],[0.7777777777777778,\"#fb9f3a\"],[0.8888888888888888,\"#fdca26\"],[1.0,\"#f0f921\"]]}],\"mesh3d\":[{\"type\":\"mesh3d\",\"colorbar\":{\"outlinewidth\":0,\"ticks\":\"\"}}],\"scatter\":[{\"fillpattern\":{\"fillmode\":\"overlay\",\"size\":10,\"solidity\":0.2},\"type\":\"scatter\"}],\"parcoords\":[{\"type\":\"parcoords\",\"line\":{\"colorbar\":{\"outlinewidth\":0,\"ticks\":\"\"}}}],\"scatterpolargl\":[{\"type\":\"scatterpolargl\",\"marker\":{\"colorbar\":{\"outlinewidth\":0,\"ticks\":\"\"}}}],\"bar\":[{\"error_x\":{\"color\":\"#2a3f5f\"},\"error_y\":{\"color\":\"#2a3f5f\"},\"marker\":{\"line\":{\"color\":\"#E5ECF6\",\"width\":0.5},\"pattern\":{\"fillmode\":\"overlay\",\"size\":10,\"solidity\":0.2}},\"type\":\"bar\"}],\"scattergeo\":[{\"type\":\"scattergeo\",\"marker\":{\"colorbar\":{\"outlinewidth\":0,\"ticks\":\"\"}}}],\"scatterpolar\":[{\"type\":\"scatterpolar\",\"marker\":{\"colorbar\":{\"outlinewidth\":0,\"ticks\":\"\"}}}],\"histogram\":[{\"marker\":{\"pattern\":{\"fillmode\":\"overlay\",\"size\":10,\"solidity\":0.2}},\"type\":\"histogram\"}],\"scattergl\":[{\"type\":\"scattergl\",\"marker\":{\"colorbar\":{\"outlinewidth\":0,\"ticks\":\"\"}}}],\"scatter3d\":[{\"type\":\"scatter3d\",\"line\":{\"colorbar\":{\"outlinewidth\":0,\"ticks\":\"\"}},\"marker\":{\"colorbar\":{\"outlinewidth\":0,\"ticks\":\"\"}}}],\"scattermapbox\":[{\"type\":\"scattermapbox\",\"marker\":{\"colorbar\":{\"outlinewidth\":0,\"ticks\":\"\"}}}],\"scatterternary\":[{\"type\":\"scatterternary\",\"marker\":{\"colorbar\":{\"outlinewidth\":0,\"ticks\":\"\"}}}],\"scattercarpet\":[{\"type\":\"scattercarpet\",\"marker\":{\"colorbar\":{\"outlinewidth\":0,\"ticks\":\"\"}}}],\"carpet\":[{\"aaxis\":{\"endlinecolor\":\"#2a3f5f\",\"gridcolor\":\"white\",\"linecolor\":\"white\",\"minorgridcolor\":\"white\",\"startlinecolor\":\"#2a3f5f\"},\"baxis\":{\"endlinecolor\":\"#2a3f5f\",\"gridcolor\":\"white\",\"linecolor\":\"white\",\"minorgridcolor\":\"white\",\"startlinecolor\":\"#2a3f5f\"},\"type\":\"carpet\"}],\"table\":[{\"cells\":{\"fill\":{\"color\":\"#EBF0F8\"},\"line\":{\"color\":\"white\"}},\"header\":{\"fill\":{\"color\":\"#C8D4E3\"},\"line\":{\"color\":\"white\"}},\"type\":\"table\"}],\"barpolar\":[{\"marker\":{\"line\":{\"color\":\"#E5ECF6\",\"width\":0.5},\"pattern\":{\"fillmode\":\"overlay\",\"size\":10,\"solidity\":0.2}},\"type\":\"barpolar\"}],\"pie\":[{\"automargin\":true,\"type\":\"pie\"}]},\"layout\":{\"autotypenumbers\":\"strict\",\"colorway\":[\"#636efa\",\"#EF553B\",\"#00cc96\",\"#ab63fa\",\"#FFA15A\",\"#19d3f3\",\"#FF6692\",\"#B6E880\",\"#FF97FF\",\"#FECB52\"],\"font\":{\"color\":\"#2a3f5f\"},\"hovermode\":\"closest\",\"hoverlabel\":{\"align\":\"left\"},\"paper_bgcolor\":\"white\",\"plot_bgcolor\":\"#E5ECF6\",\"polar\":{\"bgcolor\":\"#E5ECF6\",\"angularaxis\":{\"gridcolor\":\"white\",\"linecolor\":\"white\",\"ticks\":\"\"},\"radialaxis\":{\"gridcolor\":\"white\",\"linecolor\":\"white\",\"ticks\":\"\"}},\"ternary\":{\"bgcolor\":\"#E5ECF6\",\"aaxis\":{\"gridcolor\":\"white\",\"linecolor\":\"white\",\"ticks\":\"\"},\"baxis\":{\"gridcolor\":\"white\",\"linecolor\":\"white\",\"ticks\":\"\"},\"caxis\":{\"gridcolor\":\"white\",\"linecolor\":\"white\",\"ticks\":\"\"}},\"coloraxis\":{\"colorbar\":{\"outlinewidth\":0,\"ticks\":\"\"}},\"colorscale\":{\"sequential\":[[0.0,\"#0d0887\"],[0.1111111111111111,\"#46039f\"],[0.2222222222222222,\"#7201a8\"],[0.3333333333333333,\"#9c179e\"],[0.4444444444444444,\"#bd3786\"],[0.5555555555555556,\"#d8576b\"],[0.6666666666666666,\"#ed7953\"],[0.7777777777777778,\"#fb9f3a\"],[0.8888888888888888,\"#fdca26\"],[1.0,\"#f0f921\"]],\"sequentialminus\":[[0.0,\"#0d0887\"],[0.1111111111111111,\"#46039f\"],[0.2222222222222222,\"#7201a8\"],[0.3333333333333333,\"#9c179e\"],[0.4444444444444444,\"#bd3786\"],[0.5555555555555556,\"#d8576b\"],[0.6666666666666666,\"#ed7953\"],[0.7777777777777778,\"#fb9f3a\"],[0.8888888888888888,\"#fdca26\"],[1.0,\"#f0f921\"]],\"diverging\":[[0,\"#8e0152\"],[0.1,\"#c51b7d\"],[0.2,\"#de77ae\"],[0.3,\"#f1b6da\"],[0.4,\"#fde0ef\"],[0.5,\"#f7f7f7\"],[0.6,\"#e6f5d0\"],[0.7,\"#b8e186\"],[0.8,\"#7fbc41\"],[0.9,\"#4d9221\"],[1,\"#276419\"]]},\"xaxis\":{\"gridcolor\":\"white\",\"linecolor\":\"white\",\"ticks\":\"\",\"title\":{\"standoff\":15},\"zerolinecolor\":\"white\",\"automargin\":true,\"zerolinewidth\":2},\"yaxis\":{\"gridcolor\":\"white\",\"linecolor\":\"white\",\"ticks\":\"\",\"title\":{\"standoff\":15},\"zerolinecolor\":\"white\",\"automargin\":true,\"zerolinewidth\":2},\"scene\":{\"xaxis\":{\"backgroundcolor\":\"#E5ECF6\",\"gridcolor\":\"white\",\"linecolor\":\"white\",\"showbackground\":true,\"ticks\":\"\",\"zerolinecolor\":\"white\",\"gridwidth\":2},\"yaxis\":{\"backgroundcolor\":\"#E5ECF6\",\"gridcolor\":\"white\",\"linecolor\":\"white\",\"showbackground\":true,\"ticks\":\"\",\"zerolinecolor\":\"white\",\"gridwidth\":2},\"zaxis\":{\"backgroundcolor\":\"#E5ECF6\",\"gridcolor\":\"white\",\"linecolor\":\"white\",\"showbackground\":true,\"ticks\":\"\",\"zerolinecolor\":\"white\",\"gridwidth\":2}},\"shapedefaults\":{\"line\":{\"color\":\"#2a3f5f\"}},\"annotationdefaults\":{\"arrowcolor\":\"#2a3f5f\",\"arrowhead\":0,\"arrowwidth\":1},\"geo\":{\"bgcolor\":\"white\",\"landcolor\":\"#E5ECF6\",\"subunitcolor\":\"white\",\"showland\":true,\"showlakes\":true,\"lakecolor\":\"white\"},\"title\":{\"x\":0.05},\"mapbox\":{\"style\":\"light\"}}},\"xaxis\":{\"anchor\":\"y\",\"domain\":[0.0,1.0],\"title\":{\"text\":\"Year\"}},\"yaxis\":{\"anchor\":\"x\",\"domain\":[0.0,1.0],\"title\":{\"text\":\"% Yes\"}},\"legend\":{\"title\":{\"text\":\"Country\"},\"tracegroupgap\":0},\"margin\":{\"t\":60},\"title\":{\"text\":\"Nuclear weapons and nuclear material\\u003cbr\\u003e\",\"y\":0.9,\"x\":0.5,\"xanchor\":\"center\",\"yanchor\":\"top\"}},                        {\"responsive\": true}                    ).then(function(){\n",
       "                            \n",
       "var gd = document.getElementById('22063b50-0065-4bce-8944-5a568ef73162');\n",
       "var x = new MutationObserver(function (mutations, observer) {{\n",
       "        var display = window.getComputedStyle(gd).display;\n",
       "        if (!display || display === 'none') {{\n",
       "            console.log([gd, 'removed!']);\n",
       "            Plotly.purge(gd);\n",
       "            observer.disconnect();\n",
       "        }}\n",
       "}});\n",
       "\n",
       "// Listen for the removal of the full notebook cells\n",
       "var notebookContainer = gd.closest('#notebook-container');\n",
       "if (notebookContainer) {{\n",
       "    x.observe(notebookContainer, {childList: true});\n",
       "}}\n",
       "\n",
       "// Listen for the clearing of the current output cell\n",
       "var outputEl = gd.closest('.output');\n",
       "if (outputEl) {{\n",
       "    x.observe(outputEl, {childList: true});\n",
       "}}\n",
       "\n",
       "                        })                };                });            </script>        </div>"
      ]
     },
     "metadata": {},
     "output_type": "display_data"
    }
   ],
   "source": [
    "def make_plot(countries,issue):\n",
    "    '''\n",
    "    A Python function that takes in the list of countries and issues and makes\n",
    "    a scatter plot of each issue with a trendline for each country.\n",
    "    '''\n",
    "    x_data = []\n",
    "    y_data = []\n",
    "    c_data = []\n",
    "    for cntry in countries:\n",
    "        my_group = c_groups.get_group((cntry,issue))\n",
    "        for y in my_group['year'].unique():\n",
    "            x_data.append(y)\n",
    "            tot_yes = sum(my_group[my_group['year']==y]['vote']=='yes')\n",
    "            percent_yes = tot_yes/len(my_group[my_group['year']==y])*100\n",
    "            y_data.append(percent_yes)\n",
    "            c_data.append(cntry)\n",
    "\n",
    "    fig = px.scatter(x=x_data, y=y_data,color=c_data,trendline=\"lowess\",labels={\"color\": \"Country\"})\n",
    "\n",
    "    fig.update_layout(\n",
    "        title={\n",
    "            'text': issue + '<br>',\n",
    "            'y':0.9,\n",
    "            'x':0.5,\n",
    "            'xanchor': 'center',\n",
    "            'yanchor': 'top'})\n",
    "    fig.update_yaxes(title_text=\"% Yes\")\n",
    "    fig.update_xaxes(title_text=\"Year\")\n",
    "    fig.show()\n",
    "    \n",
    "for iss in issues:\n",
    "    make_plot(countries,iss)"
   ]
  },
  {
   "cell_type": "markdown",
   "id": "130de118-e079-455c-9eb2-0eff64efca6a",
   "metadata": {},
   "source": [
    "### Problem 3\n",
    "\n",
    "Choose one of the graphs produced above (should match the lecture notes) and discuss what you see there:\n",
    "\n",
    "1. Which issue are you focusing on.\n",
    "2. I am focusing on nuclear weapons and nuclear material\n",
    "3. What do the graph axis represent?\n",
    "4. The x-axis represents years. The y-axis represents the times the country has voted yes on the issue.\n",
    "5. Say in words how the United States votes have changed over time.\n",
    "6. There have been more yes responses since the 2000s than the time between 1960-2000 but the yes %'s have decreased.\n",
    "7. How do the United States votes compare to the other countries?\n",
    "8. The percentages of yes are a lot lower than Turkey and the UK. \n",
    "9. See if you can come up with one or two questions that interest you about the data in the graph.\n",
    "\n",
    "10. I would like to know more about what exactly was the vote on since it is just showing the topic of nuclear weapons and material."
   ]
  },
  {
   "cell_type": "markdown",
   "id": "de5b34d4-b795-43ac-a6e0-9c66680beb68",
   "metadata": {},
   "source": [
    "**(double click here)**"
   ]
  },
  {
   "cell_type": "markdown",
   "id": "4874978e-edb6-488a-a11e-6dd290b351cc",
   "metadata": {},
   "source": [
    "### Problem 4\n",
    "\n",
    "Now go back up to where we picked our three focus countries and choose some different ones. Rerun the analysis. If you want you could choose more than three countries. \n",
    "\n",
    "Discuss the graph for the same issue but with the new countries."
   ]
  },
  {
   "cell_type": "markdown",
   "id": "ed39a439-8ef9-4d66-9a84-4d1615f971b5",
   "metadata": {},
   "source": [
    "I am focusing on nuclear weapons and material\n",
    "The graph's x and y axis still represent the same thing.\n",
    "Cuba had a large increase in the percentage of people voting yes about nuclear weapons.\n",
    "Cuba's votes in the past were lower but are now up to par with the two other countries. \n",
    "I am interested about why these percentages are a lot higher than the first three countries I analyzed. "
   ]
  },
  {
   "cell_type": "markdown",
   "id": "9fcce607-bfda-42a1-a556-a05c424dd6c9",
   "metadata": {},
   "source": [
    "--------------------------------\n",
    "### You are done with the homework... now what?\n",
    "--------------------------------\n",
    "\n",
    "1. Save your changes.\n",
    "2. In the Git tab, **Stage** your changed files - use the (+) button next to the file.\n",
    "3. **Commit** your changes by entering a summary and pushing commit.\n",
    "4. **Push** your changes using the cloud button.\n",
    "5. Check that your changes are on your GitHub repo (online)\n",
    "6. **TAKE THE DAILY QUIZ ON CANVAS** the quiz will ask you to copy and past the HTTPS link to your repo for the day.\n",
    "7. Come to class and get your questions answered.\n",
    "\n",
    "At the end of the week  you will submit your final versions of the homework on Canvas for grading. For this you can just drag and drop the HW.ipynb files into canvas. \n",
    "\n",
    "**IMPORTANT** If this is confusing this first week, don't worry, I can help you and I will be really flexible about these first few deadlines.\n"
   ]
  },
  {
   "cell_type": "code",
   "execution_count": null,
   "id": "f00c8fd3-9713-4a3c-906e-7db71731da15",
   "metadata": {},
   "outputs": [],
   "source": []
  }
 ],
 "metadata": {
  "kernelspec": {
   "display_name": "Python 3 (ipykernel)",
   "language": "python",
   "name": "python3"
  },
  "language_info": {
   "codemirror_mode": {
    "name": "ipython",
    "version": 3
   },
   "file_extension": ".py",
   "mimetype": "text/x-python",
   "name": "python",
   "nbconvert_exporter": "python",
   "pygments_lexer": "ipython3",
   "version": "3.12.2"
  }
 },
 "nbformat": 4,
 "nbformat_minor": 5
}
